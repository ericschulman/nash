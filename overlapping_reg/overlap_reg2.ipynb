{
 "cells": [
  {
   "cell_type": "code",
   "execution_count": 9,
   "metadata": {},
   "outputs": [
    {
     "name": "stdout",
     "output_type": "stream",
     "text": [
      "The autoreload extension is already loaded. To reload it, use:\n",
      "  %reload_ext autoreload\n"
     ]
    }
   ],
   "source": [
    "%load_ext autoreload\n",
    "%autoreload 2\n",
    "\n",
    "import numpy as np\n",
    "import matplotlib.pyplot as plt\n",
    "import statsmodels.api as sm\n",
    "import scipy.stats as stats\n",
    "import sys\n",
    "\n",
    "sys.path.append(\"../\")\n",
    "import vuong_tests2"
   ]
  },
  {
   "cell_type": "code",
   "execution_count": 10,
   "metadata": {},
   "outputs": [],
   "source": [
    "#generate the sample\n",
    "def gen_data(beta=3):\n",
    "    nobs = 1000\n",
    "    x = np.random.uniform(low=-3., high=3., size=(nobs,3))\n",
    "    e = np.random.normal(loc=0.0, scale=1.0, size=nobs)\n",
    "    y = 1 + beta * x[:,1] + e\n",
    "    return y,x,nobs\n",
    "\n",
    "yn,xn,nobs = gen_data()"
   ]
  },
  {
   "cell_type": "code",
   "execution_count": 11,
   "metadata": {},
   "outputs": [],
   "source": [
    "def compute_loglike(resid):\n",
    "    sigma = np.sqrt(np.sum(resid**2)/resid.shape[0])\n",
    "    ll = np.log(stats.norm.pdf(resid,loc=0,scale=sigma))\n",
    "    return ll"
   ]
  },
  {
   "cell_type": "code",
   "execution_count": 12,
   "metadata": {},
   "outputs": [],
   "source": [
    "def compute_score(yn,xn,params):\n",
    "    \n",
    "    xn = sm.add_constant(xn)\n",
    "    resid = yn - np.matmul(xn,params)\n",
    "    \n",
    "    k = len(params)\n",
    "    scale = (resid**2).mean()\n",
    "    \n",
    "    tile_resid = np.tile( resid, k)\n",
    "    tile_resid = np.reshape(tile_resid, (k,xn.shape[0]) ).transpose()\n",
    "    grad = tile_resid*xn/scale     \n",
    "    return grad\n",
    "    \n",
    "def compute_hess(yn,xn,params):\n",
    "    pass\n",
    "\n",
    "\n",
    "def setup_shi(yn,xn):\n",
    "    x1n,x2n = xn[:,0:2],xn[:,1:3]\n",
    "    \n",
    "    # model 1 grad, etc.\n",
    "    model1 = sm.OLS(yn,sm.add_constant(x1n))\n",
    "    model1_fit = model1.fit(disp=False)\n",
    "    k1 = len(model1_fit.params)\n",
    "    \n",
    "    ll1 = compute_loglike(model1_fit.resid)\n",
    "    grad1 =  compute_score(yn,x1n,model1_fit.params)\n",
    "    hess1 = model1.hessian(model1_fit.params)\n",
    "    \n",
    "    #model 2 grad, etc.\n",
    "    model2 = sm.OLS(yn,sm.add_constant(x2n))\n",
    "    model2_fit = model2.fit(disp=False)\n",
    "    k2 = len(model1_fit.params)\n",
    "    \n",
    "    ll2 = compute_loglike(model2_fit.resid)\n",
    "    grad2 =  compute_score(yn,x2n,model2_fit.params)\n",
    "    hess2 = model2.hessian(model2_fit.params)\n",
    "    \n",
    "    return ll1,grad1,hess1,ll2,k1, grad2,hess2,k2\n",
    "\n",
    "yn,xn,nobs = gen_data()\n",
    "ll1,grad1,hess1,ll2,k1, grad2,hess2,k2 = setup_shi(yn,xn)"
   ]
  },
  {
   "cell_type": "code",
   "execution_count": 21,
   "metadata": {},
   "outputs": [
    {
     "name": "stdout",
     "output_type": "stream",
     "text": [
      "reg: [1. 0. 0.], boot: [1. 0. 0.], boot_nml: [1. 0. 0.], llr:-0.11405977231818155, std: 0.7581146091446301, omega:0.039418208092958394\n"
     ]
    }
   ],
   "source": [
    "reg,boot1,boot2, llr, std, omega = vuong_tests2.monte_carlo(100,gen_data,setup_shi,trials=200,use_boot2=False)\n",
    "print(\"reg: %s, boot: %s, boot_nml: %s, llr:%s, std: %s, omega:%s\"%(reg,boot1,boot2, llr, std, omega ))"
   ]
  },
  {
   "cell_type": "code",
   "execution_count": 15,
   "metadata": {},
   "outputs": [
    {
     "name": "stdout",
     "output_type": "stream",
     "text": [
      "[1. 0. 0.]\n"
     ]
    }
   ],
   "source": [
    "shi_result = vuong_tests2.monte_carlo_shi(100,setup_shi,gen_data)\n",
    "print(shi_result)"
   ]
  },
  {
   "cell_type": "code",
   "execution_count": 16,
   "metadata": {},
   "outputs": [
    {
     "name": "stdout",
     "output_type": "stream",
     "text": [
      "reg: [0.93 0.02 0.05], boot1: [0.93 0.02 0.05], boot2: [0.93 0.02 0.05], llr:-7.977745931875669, std: 32.37427852548365, omega:0.9924989642713996\n",
      "[0.96 0.04 0.  ]\n"
     ]
    }
   ],
   "source": [
    "sys.path.append(\"../\")\n",
    "import vuong_tests\n",
    "\n",
    "#generate the sample\n",
    "def gen_data(beta=3):\n",
    "    nobs = 1000\n",
    "    #x = np.random.normal(low=-3., high=3., size=(nobs,3))\n",
    "    x = np.random.normal(scale=3., size=(nobs,3))\n",
    "    e = np.random.normal(loc=0.0, scale=1.0, size=nobs)\n",
    "    y = 1 + 1*x[:,2] + 1*x[:,0] + beta * x[:,1] + e\n",
    "    return y,x,nobs\n",
    "\n",
    "reg,boot1,boot2, llr, std, omega = vuong_tests2.monte_carlo(100,gen_data,setup_shi,trials=200)\n",
    "print(\"reg: %s, boot1: %s, boot2: %s, llr:%s, std: %s, omega:%s\"%(reg,boot1,boot2,llr,std, omega))\n",
    "shi_result = vuong_tests.monte_carlo_shi(100,setup_shi,gen_data)\n",
    "print(shi_result)"
   ]
  },
  {
   "cell_type": "code",
   "execution_count": 17,
   "metadata": {},
   "outputs": [
    {
     "name": "stdout",
     "output_type": "stream",
     "text": [
      "reg: [0.946 0.025 0.029], boot1: [0.939 0.023 0.038], boot2: [0.939 0.023 0.038], llr:-0.8578926453547956, std: 31.278492869631307, omega:0.9979682083126672\n",
      "[0.96 0.01 0.03]\n"
     ]
    }
   ],
   "source": [
    "#generate the sample\n",
    "def gen_data(beta=1):\n",
    "    nobs = 1000\n",
    "    #x = np.random.normal(low=-3., high=3., size=(nobs,3))\n",
    "    x = np.random.normal(scale=3., size=(nobs,3))\n",
    "    e = np.random.normal(loc=0.0, scale=1.0, size=nobs)\n",
    "    y = 1 + 2*x[:,2] + 2*x[:,0] + beta * x[:,1] + e\n",
    "    return y,x,nobs\n",
    "\n",
    "\n",
    "reg,boot1,boot2, llr, std, omega = vuong_tests2.monte_carlo(1000,gen_data,setup_shi,trials=200)\n",
    "print(\"reg: %s, boot1: %s, boot2: %s, llr:%s, std: %s, omega:%s\"%(reg,boot1,boot2,llr,std, omega))\n",
    "shi_result = vuong_tests.monte_carlo_shi(100,setup_shi,gen_data)\n",
    "print(shi_result)"
   ]
  },
  {
   "cell_type": "code",
   "execution_count": 22,
   "metadata": {},
   "outputs": [
    {
     "name": "stdout",
     "output_type": "stream",
     "text": [
      "reg: [1. 0. 0.], boot1: [1. 0. 0.], boot2: [0.999 0.001 0.   ], llr:-0.04135650681726836, std: 0.9872527748331357, omega:0.03868795907877991\n",
      "[1. 0. 0.]\n"
     ]
    }
   ],
   "source": [
    "#generate the sample\n",
    "def gen_data(beta=1):\n",
    "    nobs = 1000\n",
    "    #x = np.random.normal(low=-3., high=3., size=(nobs,3))\n",
    "    x = np.random.normal(scale=3., size=(nobs,3))\n",
    "    e = np.random.normal(loc=0.0, scale=1.0, size=nobs)\n",
    "    y = 1 + beta * x[:,1] + e\n",
    "    return y,x,nobs\n",
    "\n",
    "\n",
    "reg,boot1,boot2, llr, std, omega = vuong_tests2.monte_carlo(1000,gen_data,setup_shi,trials=200)\n",
    "print(\"reg: %s, boot1: %s, boot2: %s, llr:%s, std: %s, omega:%s\"%(reg,boot1,boot2,llr,std, omega))\n",
    "shi_result = vuong_tests.monte_carlo_shi(100,setup_shi,gen_data)\n",
    "print(shi_result)"
   ]
  },
  {
   "cell_type": "code",
   "execution_count": 23,
   "metadata": {},
   "outputs": [
    {
     "name": "stdout",
     "output_type": "stream",
     "text": [
      "reg: [0. 1. 0.], boot1: [0. 1. 0.], boot2: [0. 1. 0.], llr:42.68433726681501, std: 8.529128834554964, omega:0.28937214550097784\n",
      "[0. 1. 0.]\n"
     ]
    }
   ],
   "source": [
    "#generate the sample\n",
    "def gen_data(beta=3):\n",
    "    nobs = 1000\n",
    "    #x = np.random.normal(low=-3., high=3., size=(nobs,3))\n",
    "    x = np.random.normal(scale=3., size=(nobs,3))\n",
    "    e = np.random.normal(loc=0.0, scale=1.0, size=nobs)\n",
    "    y = 1 + .1*x[:,0] + beta * x[:,1] + e\n",
    "    return y,x,nobs\n",
    "\n",
    "\n",
    "reg,boot1,boot2, llr, std, omega = vuong_tests2.monte_carlo(100,gen_data,setup_shi,trials=200)\n",
    "print(\"reg: %s, boot1: %s, boot2: %s, llr:%s, std: %s, omega:%s\"%(reg,boot1,boot2,llr,std, omega))\n",
    "shi_result = vuong_tests.monte_carlo_shi(100,setup_shi,gen_data)\n",
    "print(shi_result)"
   ]
  },
  {
   "cell_type": "code",
   "execution_count": 24,
   "metadata": {},
   "outputs": [
    {
     "name": "stdout",
     "output_type": "stream",
     "text": [
      "reg: [1. 0. 0.], boot1: [0.99 0.   0.01], boot2: [0.99 0.   0.01], llr:0.2045795309368879, std: 1.1905161521409517, omega:0.04613293577023034\n",
      "[1. 0. 0.]\n"
     ]
    }
   ],
   "source": [
    "#generate the sample\n",
    "def gen_data(beta=3):\n",
    "    nobs = 1000\n",
    "    #x = np.random.normal(low=-3., high=3., size=(nobs,3))\n",
    "    x = np.random.normal(scale=3., size=(nobs,3))\n",
    "    e = np.random.normal(loc=0.0, scale=1.0, size=nobs)\n",
    "    y = 1 + .01*x[:,0] + beta * x[:,1] + e\n",
    "    return y,x,nobs\n",
    "\n",
    "\n",
    "reg,boot1,boot2, llr, std, omega = vuong_tests2.monte_carlo(100,gen_data,setup_shi,trials=200)\n",
    "print(\"reg: %s, boot1: %s, boot2: %s, llr:%s, std: %s, omega:%s\"%(reg,boot1,boot2,llr,std, omega))\n",
    "shi_result = vuong_tests.monte_carlo_shi(100,setup_shi,gen_data)\n",
    "print(shi_result)"
   ]
  },
  {
   "cell_type": "code",
   "execution_count": 25,
   "metadata": {},
   "outputs": [
    {
     "name": "stdout",
     "output_type": "stream",
     "text": [
      "reg: [1. 0. 0.], boot1: [0.99 0.01 0.  ], boot2: [0.99 0.01 0.  ], llr:0.45328590614936987, std: 1.2447358700446813, omega:0.04724574367677426\n",
      "[1. 0. 0.]\n"
     ]
    }
   ],
   "source": [
    "#generate the sample\n",
    "def gen_data(beta=2):\n",
    "    nobs = 1000\n",
    "    #x = np.random.normal(low=-3., high=3., size=(nobs,3))\n",
    "    x = np.random.normal(scale=3., size=(nobs,3))\n",
    "    e = np.random.normal(loc=0.0, scale=1.0, size=nobs)\n",
    "    y = 1 + .01*x[:,0] + beta * x[:,1] + e\n",
    "    return y,x,nobs\n",
    "\n",
    "\n",
    "reg,boot1,boot2, llr, std, omega = vuong_tests2.monte_carlo(100,gen_data,setup_shi,trials=200)\n",
    "print(\"reg: %s, boot1: %s, boot2: %s, llr:%s, std: %s, omega:%s\"%(reg,boot1,boot2,llr,std, omega))\n",
    "shi_result = vuong_tests.monte_carlo_shi(100,setup_shi,gen_data)\n",
    "print(shi_result)"
   ]
  },
  {
   "cell_type": "code",
   "execution_count": null,
   "metadata": {},
   "outputs": [],
   "source": []
  },
  {
   "cell_type": "code",
   "execution_count": null,
   "metadata": {},
   "outputs": [],
   "source": []
  },
  {
   "cell_type": "code",
   "execution_count": null,
   "metadata": {},
   "outputs": [],
   "source": []
  }
 ],
 "metadata": {
  "kernelspec": {
   "display_name": "Python 3",
   "language": "python",
   "name": "python3"
  },
  "language_info": {
   "codemirror_mode": {
    "name": "ipython",
    "version": 3
   },
   "file_extension": ".py",
   "mimetype": "text/x-python",
   "name": "python",
   "nbconvert_exporter": "python",
   "pygments_lexer": "ipython3",
   "version": "3.7.4"
  }
 },
 "nbformat": 4,
 "nbformat_minor": 2
}
