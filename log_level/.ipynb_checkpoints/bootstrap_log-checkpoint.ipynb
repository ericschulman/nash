{
 "cells": [
  {
   "cell_type": "code",
   "execution_count": 2,
   "metadata": {},
   "outputs": [],
   "source": [
    "import numpy as np\n",
    "import matplotlib.pyplot as plt\n",
    "import statsmodels.api as sm\n",
    "import scipy.stats as stats\n",
    "import sys\n",
    "\n",
    "sys.path.append(\"../\")\n",
    "from vuong_tests import *"
   ]
  },
  {
   "cell_type": "code",
   "execution_count": 3,
   "metadata": {},
   "outputs": [],
   "source": [
    "#generate the sample\n",
    "def gen_data():\n",
    "    nobs = 1000\n",
    "    beta1 = 5\n",
    "    beta2 = 3\n",
    "    alpha = 6\n",
    "    x = np.random.uniform(low=0, high=1., size=nobs)\n",
    "    e = np.random.normal(loc=0.0, scale=1.0, size=nobs)# np.random.uniform(low=-1., high=1., size=nobs) # \n",
    "    y = alpha + beta1 * x + beta2*x**2  + e\n",
    "    y = .001 + y*(y>=.0001) # ensure that we don't get negative ys...\n",
    "    return y,x,nobs"
   ]
  },
  {
   "cell_type": "code",
   "execution_count": 4,
   "metadata": {
    "scrolled": false
   },
   "outputs": [],
   "source": [
    "def compute_loglike(resid):\n",
    "    sigma = np.sqrt(np.sum(resid**2)/resid.shape[0])\n",
    "    ll = np.log(stats.norm.pdf(resid,loc=0,scale=sigma))\n",
    "    return ll"
   ]
  },
  {
   "cell_type": "code",
   "execution_count": 5,
   "metadata": {},
   "outputs": [
    {
     "name": "stdout",
     "output_type": "stream",
     "text": [
      "(11.33035606637418, 0.701976106203012)\n"
     ]
    }
   ],
   "source": [
    "def compute_llr(yn,xn):\n",
    "    \n",
    "    model1 = sm.OLS(np.log(yn),sm.add_constant(xn))\n",
    "    model1_fit = model1.fit(disp=False)\n",
    "    ll1 = compute_loglike(np.exp(model1_fit.resid))\n",
    "    \n",
    "    model2 = sm.OLS(yn,sm.add_constant(xn))\n",
    "    model2_fit = model2.fit(disp=False)\n",
    "    ll2 = compute_loglike(model2_fit.resid)\n",
    "    \n",
    "    llr = ll1.sum() - ll2.sum()\n",
    "    omega2 = (ll1- ll2).var()\n",
    "    return llr,np.sqrt(omega2)\n",
    "\n",
    "yn,xn,nobs = gen_data()\n",
    "print(compute_llr(yn,xn))"
   ]
  },
  {
   "cell_type": "code",
   "execution_count": 6,
   "metadata": {},
   "outputs": [
    {
     "name": "stdout",
     "output_type": "stream",
     "text": [
      "0\n",
      "0\n"
     ]
    },
    {
     "data": {
      "image/png": "[encoded data removed]",
      "text/plain": [
       "<Figure size 432x288 with 1 Axes>"
      ]
     },
     "metadata": {
      "needs_background": "light"
     },
     "output_type": "display_data"
    }
   ],
   "source": [
    "yn,xn,nobs = gen_data()\n",
    "print(bootstrap_test(yn,xn,nobs,compute_llr,hist=True))\n",
    "print(regular_test(yn,xn,nobs,compute_llr,hist=True))\n",
    "\n",
    "plt.title(\"Comparison with bootstrap\")\n",
    "plt.xlabel(\"Test Statistic\")\n",
    "plt.ylabel(\"Density\")\n",
    "plt.legend()\n",
    "plt.savefig('../figs/bootstrap_compare10')\n",
    "plt.show()"
   ]
  },
  {
   "cell_type": "code",
   "execution_count": 7,
   "metadata": {},
   "outputs": [
    {
     "name": "stdout",
     "output_type": "stream",
     "text": [
      "reg: [0.9 0.1 0. ], boot: [0.8 0.2 0. ], llr:17.52079895672739, omega:0.7020632480217899\n"
     ]
    }
   ],
   "source": [
    "reg,boot,llr, omega = monte_carlo(10,gen_data,compute_llr)\n",
    "print(\"reg: %s, boot: %s, llr:%s, omega:%s\"%(reg,boot,llr, omega))"
   ]
  },
  {
   "cell_type": "code",
   "execution_count": 38,
   "metadata": {},
   "outputs": [
    {
     "name": "stdout",
     "output_type": "stream",
     "text": [
      "[1.04314726 0.49620169] [0.17874857 0.08502667]\n"
     ]
    }
   ],
   "source": [
    "def setup_shi(yn,xn):\n",
    "    model1 = sm.OLS(np.log(yn),sm.add_constant(xn))\n",
    "    model1_fit = model1.fit(disp=False)\n",
    "    k1 = len(model1_fit.params)\n",
    "    \n",
    "    ll1 = compute_loglike(model1_fit.resid)\n",
    "    scale1 = (np.exp(model1_fit.resid)**2).mean()\n",
    "    \n",
    "    tile_resid1 = np.tile( np.exp(model1_fit.resid), k1)\n",
    "    tile_resid1 = np.reshape(tile_resid1, (k1,xn.shape[0]) ).transpose()\n",
    "    grad1 = tile_resid1*sm.add_constant(xn)/scale1    \n",
    "    hess1 = model1.hessian(model1_fit.params,scale=2*scale1)\n",
    "    \n",
    "    \n",
    "    model2 = sm.OLS(yn,sm.add_constant(xn))\n",
    "    model2_fit = model2.fit(disp=False)\n",
    "    k2 = len(model1_fit.params)\n",
    "    scale2 = (np.exp(model2_fit.resid)**2).mean()\n",
    "    \n",
    "    ll2 = compute_loglike(model2_fit.resid)\n",
    "    \n",
    "    tile_resid2 = np.tile( np.exp(model2_fit.resid), k2)\n",
    "    tile_resid2 = np.reshape(tile_resid2, (k2,xn.shape[0]) ).transpose()\n",
    "    grad2 = tile_resid2*sm.add_constant(xn)/scale2  \n",
    "    #grad2 = model2.score(model2_fit.params)\n",
    "    hess2 = model2.hessian(model2_fit.params)\n",
    "    \n",
    "    return ll1,grad1,hess1,ll2,k1, grad2,hess2,k2\n",
    "\n",
    "yn,xn,nobs = gen_data()\n",
    "ll1,grad1,hess1,ll2,k1, grad2,hess2,k2 = setup_shi(yn,xn)"
   ]
  },
  {
   "cell_type": "code",
   "execution_count": 9,
   "metadata": {},
   "outputs": [
    {
     "ename": "AxisError",
     "evalue": "axis 1 is out of bounds for array of dimension 1",
     "output_type": "error",
     "traceback": [
      "\u001b[0;31m---------------------------------------------------------------------------\u001b[0m",
      "\u001b[0;31mAxisError\u001b[0m                                 Traceback (most recent call last)",
      "\u001b[0;32m<ipython-input-9-184205d242a9>\u001b[0m in \u001b[0;36m<module>\u001b[0;34m\u001b[0m\n\u001b[1;32m      2\u001b[0m \u001b[0;32mfrom\u001b[0m \u001b[0mvuong_tests\u001b[0m \u001b[0;32mimport\u001b[0m \u001b[0;34m*\u001b[0m\u001b[0;34m\u001b[0m\u001b[0;34m\u001b[0m\u001b[0m\n\u001b[1;32m      3\u001b[0m \u001b[0;34m\u001b[0m\u001b[0m\n\u001b[0;32m----> 4\u001b[0;31m \u001b[0mshi_result\u001b[0m \u001b[0;34m=\u001b[0m \u001b[0mmonte_carlo_shi\u001b[0m\u001b[0;34m(\u001b[0m\u001b[0;36m10\u001b[0m\u001b[0;34m,\u001b[0m\u001b[0msetup_shi\u001b[0m\u001b[0;34m,\u001b[0m\u001b[0mgen_data\u001b[0m\u001b[0;34m)\u001b[0m\u001b[0;34m\u001b[0m\u001b[0;34m\u001b[0m\u001b[0m\n\u001b[0m\u001b[1;32m      5\u001b[0m \u001b[0mprint\u001b[0m\u001b[0;34m(\u001b[0m\u001b[0mshi_result\u001b[0m\u001b[0;34m)\u001b[0m\u001b[0;34m\u001b[0m\u001b[0;34m\u001b[0m\u001b[0m\n",
      "\u001b[0;32m~/Documents/testing/vuong_tests.py\u001b[0m in \u001b[0;36mmonte_carlo_shi\u001b[0;34m(total, setup_shi, gen_data)\u001b[0m\n\u001b[1;32m    146\u001b[0m         \u001b[0mnp\u001b[0m\u001b[0;34m.\u001b[0m\u001b[0mrandom\u001b[0m\u001b[0;34m.\u001b[0m\u001b[0mseed\u001b[0m\u001b[0;34m(\u001b[0m\u001b[0;34m)\u001b[0m\u001b[0;34m\u001b[0m\u001b[0;34m\u001b[0m\u001b[0m\n\u001b[1;32m    147\u001b[0m         \u001b[0myn\u001b[0m\u001b[0;34m,\u001b[0m\u001b[0mxn\u001b[0m\u001b[0;34m,\u001b[0m\u001b[0mnobs\u001b[0m \u001b[0;34m=\u001b[0m \u001b[0mgen_data\u001b[0m\u001b[0;34m(\u001b[0m\u001b[0;34m)\u001b[0m\u001b[0;34m\u001b[0m\u001b[0;34m\u001b[0m\u001b[0m\n\u001b[0;32m--> 148\u001b[0;31m         \u001b[0mshi_index\u001b[0m \u001b[0;34m=\u001b[0m \u001b[0mndVuong\u001b[0m\u001b[0;34m(\u001b[0m\u001b[0myn\u001b[0m\u001b[0;34m,\u001b[0m\u001b[0mxn\u001b[0m\u001b[0;34m,\u001b[0m\u001b[0msetup_shi\u001b[0m\u001b[0;34m,\u001b[0m\u001b[0;36m.05\u001b[0m\u001b[0;34m,\u001b[0m\u001b[0;36m1000\u001b[0m\u001b[0;34m)\u001b[0m\u001b[0;34m\u001b[0m\u001b[0;34m\u001b[0m\u001b[0m\n\u001b[0m\u001b[1;32m    149\u001b[0m         \u001b[0mshi\u001b[0m\u001b[0;34m[\u001b[0m\u001b[0mshi_index\u001b[0m\u001b[0;34m]\u001b[0m \u001b[0;34m=\u001b[0m \u001b[0mshi\u001b[0m\u001b[0;34m[\u001b[0m\u001b[0mshi_index\u001b[0m\u001b[0;34m]\u001b[0m \u001b[0;34m+\u001b[0m \u001b[0;36m1\u001b[0m\u001b[0;34m\u001b[0m\u001b[0;34m\u001b[0m\u001b[0m\n\u001b[1;32m    150\u001b[0m     \u001b[0;32mreturn\u001b[0m \u001b[0mshi\u001b[0m\u001b[0;34m/\u001b[0m\u001b[0mtotal\u001b[0m\u001b[0;34m\u001b[0m\u001b[0;34m\u001b[0m\u001b[0m\n",
      "\u001b[0;32m~/Documents/testing/vuong_tests.py\u001b[0m in \u001b[0;36mndVuong\u001b[0;34m(yn, xn, setup_shi, alpha, nsims)\u001b[0m\n\u001b[1;32m     78\u001b[0m \u001b[0;34m\u001b[0m\u001b[0m\n\u001b[1;32m     79\u001b[0m     \u001b[0;31m#B_hat, covariance of the score...\u001b[0m\u001b[0;34m\u001b[0m\u001b[0;34m\u001b[0m\u001b[0;34m\u001b[0m\u001b[0m\n\u001b[0;32m---> 80\u001b[0;31m     \u001b[0mB_hat\u001b[0m \u001b[0;34m=\u001b[0m  \u001b[0mnp\u001b[0m\u001b[0;34m.\u001b[0m\u001b[0mconcatenate\u001b[0m\u001b[0;34m(\u001b[0m\u001b[0;34m[\u001b[0m\u001b[0mgrad1\u001b[0m\u001b[0;34m,\u001b[0m\u001b[0;34m-\u001b[0m\u001b[0mgrad2\u001b[0m\u001b[0;34m]\u001b[0m\u001b[0;34m,\u001b[0m\u001b[0maxis\u001b[0m\u001b[0;34m=\u001b[0m\u001b[0;36m1\u001b[0m\u001b[0;34m)\u001b[0m \u001b[0;31m#might be a mistake here..\u001b[0m\u001b[0;34m\u001b[0m\u001b[0;34m\u001b[0m\u001b[0m\n\u001b[0m\u001b[1;32m     81\u001b[0m     \u001b[0mB_hat\u001b[0m \u001b[0;34m=\u001b[0m \u001b[0mnp\u001b[0m\u001b[0;34m.\u001b[0m\u001b[0mcov\u001b[0m\u001b[0;34m(\u001b[0m\u001b[0mB_hat\u001b[0m\u001b[0;34m.\u001b[0m\u001b[0mtranspose\u001b[0m\u001b[0;34m(\u001b[0m\u001b[0;34m)\u001b[0m\u001b[0;34m)\u001b[0m\u001b[0;34m\u001b[0m\u001b[0;34m\u001b[0m\u001b[0m\n\u001b[1;32m     82\u001b[0m \u001b[0;34m\u001b[0m\u001b[0m\n",
      "\u001b[0;32m<__array_function__ internals>\u001b[0m in \u001b[0;36mconcatenate\u001b[0;34m(*args, **kwargs)\u001b[0m\n",
      "\u001b[0;31mAxisError\u001b[0m: axis 1 is out of bounds for array of dimension 1"
     ]
    }
   ],
   "source": [
    "sys.path.append(\"../\")\n",
    "from vuong_tests import *\n",
    "\n",
    "shi_result = monte_carlo_shi(10,setup_shi,gen_data)\n",
    "print(shi_result)"
   ]
  },
  {
   "cell_type": "code",
   "execution_count": null,
   "metadata": {},
   "outputs": [],
   "source": [
    "#generate the sample, but this time i\n",
    "def gen_data():\n",
    "    nobs = 1000\n",
    "    beta1 = 1\n",
    "    beta2 = 1\n",
    "    alpha = 1.5\n",
    "    \n",
    "    x = np.random.uniform(low=0, high=1., size=nobs)\n",
    "    e = np.random.normal(loc=0.0, scale=1.0, size=nobs)# np.random.uniform(low=-1., high=1., size=nobs) # \n",
    "    y = alpha + beta1 * x + beta2*x**2  + e\n",
    "    y = .001 + y*(y>=.0001) # ensure that we don't get negative ys...\n",
    "    return y,x,nobs"
   ]
  },
  {
   "cell_type": "code",
   "execution_count": null,
   "metadata": {},
   "outputs": [],
   "source": []
  }
 ],
 "metadata": {
  "kernelspec": {
   "display_name": "Python 3",
   "language": "python",
   "name": "python3"
  },
  "language_info": {
   "codemirror_mode": {
    "name": "ipython",
    "version": 3
   },
   "file_extension": ".py",
   "mimetype": "text/x-python",
   "name": "python",
   "nbconvert_exporter": "python",
   "pygments_lexer": "ipython3",
   "version": "3.7.4"
  }
 },
 "nbformat": 4,
 "nbformat_minor": 2
}
