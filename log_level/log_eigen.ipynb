{
 "cells": [
  {
   "cell_type": "code",
   "execution_count": 14,
   "metadata": {},
   "outputs": [],
   "source": [
    "#math\n",
    "import numpy as np\n",
    "import scipy.stats as stats\n",
    "import scipy.linalg as linalg\n",
    "import scipy.special\n",
    "#graphing\n",
    "import matplotlib.pyplot as plt\n",
    "#stats\n",
    "import statsmodels.api as sm\n",
    "from statsmodels.base.model import GenericLikelihoodModel"
   ]
  },
  {
   "cell_type": "code",
   "execution_count": 15,
   "metadata": {},
   "outputs": [],
   "source": [
    "#generate the sample\n",
    "def gen_data(beta1 = 5, beta2 = 6, alpha = 6):\n",
    "    nobs = 1000\n",
    "    x = np.random.uniform(low=0, high=1., size=nobs)\n",
    "    e = np.random.normal(loc=0.0, scale=1.0, size=nobs)# np.random.uniform(low=-1., high=1., size=nobs) # \n",
    "    y = alpha + beta1 * x + beta2*x**2  + e\n",
    "    y = .001 + y*(y>=.0001) # ensure that we don't get negative ys...\n",
    "    return y,x,nobs"
   ]
  },
  {
   "cell_type": "code",
   "execution_count": 16,
   "metadata": {},
   "outputs": [
    {
     "name": "stdout",
     "output_type": "stream",
     "text": [
      "(49.27797784931772, 0.7206378061753169)\n"
     ]
    }
   ],
   "source": [
    "def compute_loglike(resid):\n",
    "    sigma = np.sqrt(np.sum(resid**2)/resid.shape[0])\n",
    "    ll = np.log(stats.norm.pdf(resid,loc=0,scale=sigma))\n",
    "    return ll\n",
    "\n",
    "def compute_llr(yn,xn):\n",
    "    \n",
    "    model1 = sm.OLS(np.log(yn),sm.add_constant(xn))\n",
    "    model1_fit = model1.fit(disp=False)\n",
    "    ll1 = compute_loglike(np.exp(model1_fit.resid))\n",
    "    \n",
    "    model2 = sm.OLS(yn,sm.add_constant(xn))\n",
    "    model2_fit = model2.fit(disp=False)\n",
    "    ll2 = compute_loglike(model2_fit.resid)\n",
    "    \n",
    "    llr = ll1.sum() - ll2.sum()\n",
    "    omega2 = (ll1- ll2).var()\n",
    "    return llr,np.sqrt(omega2)\n",
    "\n",
    "yn,xn,nobs = gen_data()\n",
    "print(compute_llr(yn,xn))"
   ]
  },
  {
   "cell_type": "code",
   "execution_count": 17,
   "metadata": {
    "scrolled": false
   },
   "outputs": [],
   "source": [
    "def compute_score(yn,xn,params,exp_resid=False):\n",
    "    \n",
    "    if exp_resid:\n",
    "        yn = np.log(yn)\n",
    "    \n",
    "    xn = sm.add_constant(xn)\n",
    "    resid = yn - np.matmul(xn,params)\n",
    "    if exp_resid:\n",
    "        resid = np.exp(resid)\n",
    "    \n",
    "    k = len(params)\n",
    "    scale = (resid**2).mean()\n",
    "    \n",
    "    tile_resid = np.tile( resid, k)\n",
    "    tile_resid = np.reshape(tile_resid, (k,xn.shape[0]) ).transpose()\n",
    "    grad = tile_resid*xn/scale     \n",
    "    return grad\n",
    "    \n",
    "def compute_hess(yn,xn,params):\n",
    "    pass\n",
    "\n",
    "\n",
    "def setup_shi(yn,xn):\n",
    "    \n",
    "    # model 1 grad, etc.\n",
    "    model1 = sm.OLS(np.log(yn),sm.add_constant(xn))\n",
    "    model1_fit = model1.fit(disp=False)\n",
    "    k1 = len(model1_fit.params)\n",
    "    \n",
    "    ll1 = compute_loglike(np.exp(model1_fit.resid))\n",
    "    grad1 =  compute_score(yn,xn,model1_fit.params,exp_resid=True)    \n",
    "    scale1 = (np.exp(model1_fit.resid)**2).mean()\n",
    "    hess1 = model1.hessian(model1_fit.params,scale=2*scale1)\n",
    "    \n",
    "    #model 2 grad, etc.\n",
    "    model2 = sm.OLS(yn,sm.add_constant(xn))\n",
    "    model2_fit = model2.fit(disp=False)\n",
    "    k2 = len(model1_fit.params)\n",
    "    \n",
    "    ll2 = compute_loglike(model2_fit.resid)\n",
    "    grad2 =  compute_score(yn,xn,model2_fit.params)\n",
    "    hess2 = model2.hessian(model2_fit.params)\n",
    "    \n",
    "    return ll1,grad1,hess1,ll2,k1, grad2,hess2,k2\n",
    "\n",
    "yn,xn,nobs = gen_data()\n",
    "ll1,grad1,hess1,ll2,k1, grad2,hess2,k2 = setup_shi(yn,xn)"
   ]
  },
  {
   "cell_type": "code",
   "execution_count": 18,
   "metadata": {},
   "outputs": [
    {
     "name": "stdout",
     "output_type": "stream",
     "text": [
      "[[-0.08559879 -0.03553363]\n",
      " [-0.03553363 -0.04894919]]\n",
      "[-1.79244823 -0.00344731  1.83095491  1.99950497]\n"
     ]
    },
    {
     "data": {
      "image/png": "[encoded data removed]",
      "text/plain": [
       "<Figure size 432x288 with 1 Axes>"
      ]
     },
     "metadata": {
      "needs_background": "light"
     },
     "output_type": "display_data"
    },
    {
     "name": "stdout",
     "output_type": "stream",
     "text": [
      "(80.80623218283836, 0.6397314322986765)\n"
     ]
    }
   ],
   "source": [
    "def compute_eigen(yn,xn):\n",
    "    ll1,grad1,hess1,ll2,k1, grad2,hess2,k2 = setup_shi(yn,xn)\n",
    "    hess1 = hess1/len(ll1)\n",
    "    hess2 = hess2/len(ll2)\n",
    "    \n",
    "    k = k1 + k2\n",
    "    n = len(ll1)\n",
    "    \n",
    "    #A_hat:\n",
    "    A_hat1 = np.concatenate([hess1,np.zeros((k1,k2))])\n",
    "    A_hat2 = np.concatenate([np.zeros((k2,k1)),-1*hess2])\n",
    "    A_hat = np.concatenate([A_hat1,A_hat2],axis=1)\n",
    "\n",
    "    #B_hat, covariance of the score...\n",
    "    B_hat =  np.concatenate([grad1,-grad2],axis=1) #might be a mistake here..\n",
    "    B_hat = np.cov(B_hat.transpose())\n",
    "    print(B_hat[0:2,2:])\n",
    "    \n",
    "    #compute eigenvalues for weighted chisq\n",
    "    sqrt_B_hat= linalg.sqrtm(B_hat)\n",
    "    W_hat = np.matmul(sqrt_B_hat,linalg.inv(A_hat))\n",
    "    W_hat = np.matmul(W_hat,sqrt_B_hat)\n",
    "    V,W = np.linalg.eig(W_hat)\n",
    "    print(V)\n",
    "    return V\n",
    "\n",
    "n_sims = 5000\n",
    "yn,xn,nobs = gen_data()\n",
    "model_eigs = compute_eigen(yn,xn)\n",
    "eigs_tile = np.tile(model_eigs,n_sims).reshape(n_sims,len(model_eigs))\n",
    "normal_draws = stats.norm.rvs(size=(n_sims,len(model_eigs)))\n",
    "weighted_chi = ((normal_draws**2)*eigs_tile).sum(axis=1)\n",
    "plt.hist(weighted_chi,density=True,bins=25)\n",
    "plt.show()\n",
    "print(compute_llr(yn,xn))"
   ]
  },
  {
   "cell_type": "code",
   "execution_count": 19,
   "metadata": {},
   "outputs": [
    {
     "name": "stdout",
     "output_type": "stream",
     "text": [
      "[[-0.04243852 -0.01321081]\n",
      " [-0.01321081 -0.04202527]]\n",
      "[-1.43249611 -0.00892398  1.93536026  2.07732702]\n",
      "[-1.43249611 -0.00892398  1.93536026  2.07732702]\n"
     ]
    },
    {
     "data": {
      "image/png": "[encoded data removed]",
      "text/plain": [
       "<Figure size 432x288 with 1 Axes>"
      ]
     },
     "metadata": {
      "needs_background": "light"
     },
     "output_type": "display_data"
    },
    {
     "name": "stdout",
     "output_type": "stream",
     "text": [
      "(559.7950189473693, 0.5780442940829911)\n"
     ]
    }
   ],
   "source": [
    "n_sims = 5000\n",
    "yn,xn,nobs = gen_data(beta1 = 1, beta2 = 20, alpha = 6)\n",
    "model_eigs = compute_eigen(yn,xn)\n",
    "print(model_eigs)\n",
    "eigs_tile = np.tile(model_eigs,n_sims).reshape(n_sims,len(model_eigs))\n",
    "normal_draws = stats.norm.rvs(size=(n_sims,len(model_eigs)))\n",
    "weighted_chi = ((normal_draws**2)*eigs_tile).sum(axis=1)\n",
    "plt.hist(weighted_chi,density=True,bins=25)\n",
    "plt.show()\n",
    "print(compute_llr(yn,xn))"
   ]
  },
  {
   "cell_type": "code",
   "execution_count": 21,
   "metadata": {},
   "outputs": [
    {
     "name": "stdout",
     "output_type": "stream",
     "text": [
      "[[-0.11460202 -0.0512169 ]\n",
      " [-0.0512169  -0.03660939]]\n",
      "[-1.93001658e+00 -8.05412337e-04  2.07996516e+00  1.97188792e+00]\n",
      "[-1.93001658e+00 -8.05412337e-04  2.07996516e+00  1.97188792e+00]\n"
     ]
    },
    {
     "data": {
      "image/png": "[encoded data removed]",
      "text/plain": [
       "<Figure size 432x288 with 1 Axes>"
      ]
     },
     "metadata": {
      "needs_background": "light"
     },
     "output_type": "display_data"
    },
    {
     "name": "stdout",
     "output_type": "stream",
     "text": [
      "(-5.44058133540284, 0.688826097377045)\n"
     ]
    }
   ],
   "source": [
    "n_sims = 5000\n",
    "yn,xn,nobs = gen_data(beta1 = 5, beta2 = 1, alpha = 6)\n",
    "model_eigs = compute_eigen(yn,xn)\n",
    "print(model_eigs)\n",
    "eigs_tile = np.tile(model_eigs,n_sims).reshape(n_sims,len(model_eigs))\n",
    "normal_draws = stats.norm.rvs(size=(n_sims,len(model_eigs)))\n",
    "weighted_chi = ((normal_draws**2)*eigs_tile).sum(axis=1)\n",
    "plt.hist(weighted_chi,density=True,bins=25)\n",
    "plt.show()\n",
    "print(compute_llr(yn,xn))"
   ]
  },
  {
   "cell_type": "code",
   "execution_count": null,
   "metadata": {},
   "outputs": [],
   "source": []
  }
 ],
 "metadata": {
  "kernelspec": {
   "display_name": "Python 3",
   "language": "python",
   "name": "python3"
  },
  "language_info": {
   "codemirror_mode": {
    "name": "ipython",
    "version": 3
   },
   "file_extension": ".py",
   "mimetype": "text/x-python",
   "name": "python",
   "nbconvert_exporter": "python",
   "pygments_lexer": "ipython3",
   "version": "3.7.4"
  }
 },
 "nbformat": 4,
 "nbformat_minor": 2
}
