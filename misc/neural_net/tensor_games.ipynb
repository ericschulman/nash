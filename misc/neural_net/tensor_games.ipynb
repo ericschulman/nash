{
 "cells": [
  {
   "cell_type": "code",
   "execution_count": 54,
   "metadata": {},
   "outputs": [],
   "source": [
    "#https://www.tensorflow.org/tutorials/keras/regression\n",
    "import tensorflow as tf\n",
    "from tensorflow import keras\n",
    "import numpy as np\n",
    "import pandas as pd\n",
    "import matplotlib.pyplot as plt"
   ]
  },
  {
   "cell_type": "code",
   "execution_count": 55,
   "metadata": {},
   "outputs": [
    {
     "name": "stdout",
     "output_type": "stream",
     "text": [
      "WARNING:tensorflow:Layer dense is casting an input tensor from dtype float64 to the layer's dtype of float32, which is new behavior in TensorFlow 2.  The layer has dtype float32 because it's dtype defaults to floatx.\n",
      "\n",
      "If you intended to run this layer in float32, you can safely ignore this warning. If in doubt, this warning is likely only an issue if you are porting a TensorFlow 1.X model to TensorFlow 2.\n",
      "\n",
      "To change all layers to have dtype float64 by default, call `tf.keras.backend.set_floatx('float64')`. To change just this layer, pass dtype='float64' to the layer constructor. If you are the author of this layer, you can disable autocasting by passing autocast=False to the base Layer constructor.\n",
      "\n",
      "WARNING:tensorflow:Layer dense is casting an input tensor from dtype float64 to the layer's dtype of float32, which is new behavior in TensorFlow 2.  The layer has dtype float32 because it's dtype defaults to floatx.\n",
      "\n",
      "If you intended to run this layer in float32, you can safely ignore this warning. If in doubt, this warning is likely only an issue if you are porting a TensorFlow 1.X model to TensorFlow 2.\n",
      "\n",
      "To change all layers to have dtype float64 by default, call `tf.keras.backend.set_floatx('float64')`. To change just this layer, pass dtype='float64' to the layer constructor. If you are the author of this layer, you can disable autocasting by passing autocast=False to the base Layer constructor.\n",
      "\n"
     ]
    }
   ],
   "source": [
    "data_rd = pd.read_csv(\"data_rd.csv\")\n",
    "data_po = pd.read_csv(\"data_po.csv\")\n",
    "\n",
    "def learn_eq(data):\n",
    "    batch = data.shape[0]\n",
    "    c = data['label'].max()\n",
    "    k = 2 #number of covariates\n",
    "    n = 8 #number of hidden nodes\n",
    "\n",
    "    example_batch = np.array(data[['x1','x2']])\n",
    "    example_classify =  np.array(data['label']) -1\n",
    "    \n",
    "    hidden_layer = tf.keras.layers.Dense(n, kernel_initializer='random_normal',\n",
    "                          bias_initializer='random_normal', activation='sigmoid', input_shape=(k,))\n",
    "\n",
    "\n",
    "    linear_activation = lambda x: tf.keras.activations.relu(x, alpha=1.0)\n",
    "    log_odds = tf.keras.layers.Dense(c, kernel_initializer='random_normal',\n",
    "                              bias_initializer='random_normal', activation=linear_activation, input_shape=(n,))\n",
    "\n",
    "\n",
    "    model = tf.keras.Sequential([hidden_layer, log_odds, tf.keras.layers.Softmax()])\n",
    "\n",
    "\n",
    "    scce = tf.keras.losses.SparseCategoricalCrossentropy()\n",
    "    pred = model.apply(example_batch) #note calculated using natural log...\n",
    "\n",
    "    #train model\n",
    "    sgd_fast = tf.keras.optimizers.SGD(learning_rate=0.1)\n",
    "\n",
    "    model.compile(loss=scce, optimizer=sgd_fast)\n",
    "    model.fit(example_batch, example_classify, verbose=0, epochs=500)\n",
    "    \n",
    "    pred = model.apply(np.ones((1,2))) #note calculated using natural log...\n",
    "    pred = 1000*np.array(pred)[0,:]\n",
    "    tf.keras.backend.clear_session()\n",
    "    return pred\n",
    "\n",
    "pred_rd = learn_eq(data_rd)\n",
    "pred_po = learn_eq(data_po)"
   ]
  },
  {
   "cell_type": "code",
   "execution_count": 56,
   "metadata": {},
   "outputs": [
    {
     "data": {
      "image/png": "[encoded data removed]",
      "text/plain": [
       "<Figure size 921.6x691.2 with 1 Axes>"
      ]
     },
     "metadata": {
      "needs_background": "light"
     },
     "output_type": "display_data"
    }
   ],
   "source": [
    "#predict\n",
    "label_rd = np.arange(0,9) + .2\n",
    "label_po = np.arange(0,9) - .2\n",
    "\n",
    "plt.bar(label_rd, pred_rd, label=\"RD\",width=.4)\n",
    "plt.bar(label_po, pred_po, label=\"PO\",width=.4)\n",
    "\n",
    "new_size = tuple(2*np.array([6.4,4.8]))\n",
    "plt.gcf().set_size_inches(new_size)\n",
    "plt.legend()\n",
    "plt.show()"
   ]
  },
  {
   "cell_type": "code",
   "execution_count": 57,
   "metadata": {},
   "outputs": [],
   "source": [
    "tf.keras.backend.clear_session()"
   ]
  },
  {
   "cell_type": "code",
   "execution_count": null,
   "metadata": {},
   "outputs": [],
   "source": []
  },
  {
   "cell_type": "code",
   "execution_count": null,
   "metadata": {},
   "outputs": [],
   "source": [
    "\n"
   ]
  }
 ],
 "metadata": {
  "kernelspec": {
   "display_name": "Python 3",
   "language": "python",
   "name": "python3"
  },
  "language_info": {
   "codemirror_mode": {
    "name": "ipython",
    "version": 3
   },
   "file_extension": ".py",
   "mimetype": "text/x-python",
   "name": "python",
   "nbconvert_exporter": "python",
   "pygments_lexer": "ipython3",
   "version": "3.7.4"
  }
 },
 "nbformat": 4,
 "nbformat_minor": 2
}
