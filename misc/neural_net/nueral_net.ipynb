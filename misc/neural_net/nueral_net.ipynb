{
 "cells": [
  {
   "cell_type": "code",
   "execution_count": 1,
   "metadata": {},
   "outputs": [],
   "source": [
    "using Distributions\n",
    "using Optim"
   ]
  },
  {
   "cell_type": "code",
   "execution_count": 23,
   "metadata": {},
   "outputs": [
    {
     "name": "stdout",
     "output_type": "stream",
     "text": [
      "2.0\n"
     ]
    }
   ],
   "source": [
    "function softmax(x,params)\n",
    "    log_odds = sum(params[2:end] .* x) + params[1]\n",
    "    return exp(log_odds)/(1 + exp(log_odds))\n",
    "end\n",
    "\n",
    "\n",
    "function nn_ll(y,x,params)\n",
    "    num_var = length(x)\n",
    "    num_params = length(params)\n",
    "    num_nodes = floor( (num_params - 1) /(num_var + 2))\n",
    "    f = params[1]\n",
    "    for i = 1:num_nodes\n",
    "        start_param = 2 + (i-1)*(num_var + 2) \n",
    "        last_param = 1 + i*(num_var + 2) \n",
    "        node_params =[start_param: last_param]\n",
    "        f = params[last_param] * softmax(x,node_params)\n",
    "    end\n",
    "    return \n",
    "end\n",
    "\n",
    "\n",
    "\n",
    "nn_ll([1],[1],ones(7))"
   ]
  },
  {
   "cell_type": "code",
   "execution_count": null,
   "metadata": {},
   "outputs": [],
   "source": []
  }
 ],
 "metadata": {
  "kernelspec": {
   "display_name": "Julia 1.0.3",
   "language": "julia",
   "name": "julia-1.0"
  },
  "language_info": {
   "file_extension": ".jl",
   "mimetype": "application/julia",
   "name": "julia",
   "version": "1.0.3"
  }
 },
 "nbformat": 4,
 "nbformat_minor": 2
}
