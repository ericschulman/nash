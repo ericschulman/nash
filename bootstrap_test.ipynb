{
 "cells": [
  {
   "cell_type": "code",
   "execution_count": 1,
   "metadata": {},
   "outputs": [],
   "source": [
    "import numpy as np\n",
    "import matplotlib.pyplot as plt\n",
    "import statsmodels.api as sm"
   ]
  },
  {
   "cell_type": "code",
   "execution_count": 2,
   "metadata": {},
   "outputs": [],
   "source": [
    "#generate the sample\n",
    "def gen_data():\n",
    "    nobs = 5000\n",
    "    beta = 3\n",
    "    x = np.random.uniform(low=-3., high=3., size=nobs)\n",
    "    e = np.random.normal(loc=0.0, scale=1.0, size=nobs)\n",
    "    y = 1*(1 + beta * x + e >= 0) \n",
    "    return y,x,nobs"
   ]
  },
  {
   "cell_type": "code",
   "execution_count": 3,
   "metadata": {},
   "outputs": [
    {
     "name": "stdout",
     "output_type": "stream",
     "text": [
      "193.10085746898713\n"
     ]
    }
   ],
   "source": [
    "def compute_llr(yn,xn):\n",
    "    \n",
    "    model1 = sm.Probit(yn,sm.add_constant(xn))\n",
    "    model1_fit = model1.fit(disp=False)\n",
    "    ll1 = model1.loglikeobs(model1_fit.params)\n",
    "    \n",
    "    model2 = sm.Logit(yn,sm.add_constant(xn),sim_function=np.random.normal)\n",
    "    model2_fit = model2.fit(disp=False)\n",
    "    ll2 = model2.loglikeobs(model2_fit.params)\n",
    "    \n",
    "    llr = ll1.sum() - ll2.sum()\n",
    "    omega2 = (ll1- ll2).var()\n",
    "    return llr/np.sqrt(omega2)\n",
    "\n",
    "\n",
    "yn,xn,nobs = gen_data()\n",
    "print(compute_llr(yn,xn))"
   ]
  },
  {
   "cell_type": "code",
   "execution_count": 4,
   "metadata": {},
   "outputs": [
    {
     "name": "stdout",
     "output_type": "stream",
     "text": [
      "False\n",
      "False\n"
     ]
    }
   ],
   "source": [
    "def regular_test(yn,xn,nobs):\n",
    "    test_stat = compute_llr(yn,xn)/np.sqrt(nobs)\n",
    "    return np.abs(test_stat) >= 1.96\n",
    "\n",
    "\n",
    "def bootstrap_test(yn,xn,nobs):\n",
    "    test_stats = []\n",
    "    trials = 100\n",
    "    for i in range(trials):\n",
    "        subn = 1000\n",
    "        np.random.seed()\n",
    "        sample  = np.random.choice(np.arange(0,nobs),subn,replace=False)\n",
    "        ys,xs = yn[sample],xn[sample]\n",
    "        test_stat = compute_llr(ys,xs)/np.sqrt(nobs)\n",
    "        test_stats.append(test_stat)\n",
    "    cv_upper = np.percentile(test_stats, 97.5, axis=0)\n",
    "    cv_lower = np.percentile(test_stats, 2.5, axis=0)\n",
    "    return 0 >= cv_upper or 0 <= cv_lower\n",
    "    \n",
    "\n",
    "yn,xn,nobs = gen_data()\n",
    "print(bootstrap_test(yn,xn,nobs))\n",
    "print(regular_test(yn,xn,nobs))"
   ]
  },
  {
   "cell_type": "code",
   "execution_count": 5,
   "metadata": {},
   "outputs": [
    {
     "name": "stdout",
     "output_type": "stream",
     "text": [
      "reg: 0.3, boot: 0.04\n"
     ]
    }
   ],
   "source": [
    "reg = 0\n",
    "boot = 0 \n",
    "total = 100\n",
    "for i in range(total):\n",
    "    np.random.seed()\n",
    "    yn,xn,nobs = gen_data()\n",
    "    reg = regular_test(yn,xn,nobs) +reg\n",
    "    boot = bootstrap_test(yn,xn,nobs) +boot\n",
    "\n",
    "print(\"reg: %s, boot: %s\"%(reg/total,boot/total))"
   ]
  },
  {
   "cell_type": "code",
   "execution_count": 6,
   "metadata": {},
   "outputs": [],
   "source": [
    "#reg: 0.337, boot: 0.049"
   ]
  },
  {
   "cell_type": "code",
   "execution_count": null,
   "metadata": {},
   "outputs": [],
   "source": []
  }
 ],
 "metadata": {
  "kernelspec": {
   "display_name": "Python 3",
   "language": "python",
   "name": "python3"
  },
  "language_info": {
   "codemirror_mode": {
    "name": "ipython",
    "version": 3
   },
   "file_extension": ".py",
   "mimetype": "text/x-python",
   "name": "python",
   "nbconvert_exporter": "python",
   "pygments_lexer": "ipython3",
   "version": "3.7.4"
  }
 },
 "nbformat": 4,
 "nbformat_minor": 2
}
