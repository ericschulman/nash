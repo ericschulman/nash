{
 "cells": [
  {
   "cell_type": "code",
   "execution_count": 1,
   "metadata": {},
   "outputs": [],
   "source": [
    "import numpy as np\n",
    "import matplotlib.pyplot as plt\n",
    "import statsmodels.api as sm\n",
    "import scipy.stats as stats"
   ]
  },
  {
   "cell_type": "code",
   "execution_count": 2,
   "metadata": {},
   "outputs": [],
   "source": [
    "#generate the sample\n",
    "def gen_data():\n",
    "    nobs = 1000\n",
    "    beta = 3\n",
    "    x = np.random.uniform(low=-3., high=3., size=nobs)\n",
    "    e = np.random.normal(loc=0.0, scale=1.0, size=nobs)\n",
    "    y = 1*(1 + beta * x + e >= 0) \n",
    "    return y,x,nobs"
   ]
  },
  {
   "cell_type": "code",
   "execution_count": 3,
   "metadata": {},
   "outputs": [
    {
     "name": "stdout",
     "output_type": "stream",
     "text": [
      "(1.133426497820608, 0.01961066115370991)\n"
     ]
    }
   ],
   "source": [
    "def compute_llr(yn,xn):\n",
    "    \n",
    "    model1 = sm.Probit(yn,sm.add_constant(xn))\n",
    "    model1_fit = model1.fit(disp=False)\n",
    "    ll1 = model1.loglikeobs(model1_fit.params)\n",
    "    \n",
    "    model2 = sm.Logit(yn,sm.add_constant(xn))\n",
    "    model2_fit = model2.fit(disp=False)\n",
    "    ll2 = model2.loglikeobs(model2_fit.params)\n",
    "    \n",
    "    llr = ll1.sum() - ll2.sum()\n",
    "    omega2 = (ll1- ll2).var()\n",
    "    return llr,np.sqrt(omega2)\n",
    "\n",
    "\n",
    "yn,xn,nobs = gen_data()\n",
    "print(compute_llr(yn,xn))"
   ]
  },
  {
   "cell_type": "code",
   "execution_count": 27,
   "metadata": {},
   "outputs": [
    {
     "name": "stdout",
     "output_type": "stream",
     "text": [
      "False\n",
      "True\n"
     ]
    },
    {
     "data": {
      "image/png": "[encoded data removed]",
      "text/plain": [
       "<Figure size 432x288 with 1 Axes>"
      ]
     },
     "metadata": {
      "needs_background": "light"
     },
     "output_type": "display_data"
    }
   ],
   "source": [
    "def regular_test(yn,xn,nobs,hist=False):\n",
    "    llr, omega = compute_llr(yn,xn)\n",
    "    test_stat = llr/(omega*np.sqrt(nobs))\n",
    "    #plot\n",
    "    if hist:\n",
    "        x = np.linspace(-2.5, 2.5, 100)\n",
    "        plt.plot(x, stats.norm.pdf(x, 0, 1),label=\"Normal\")\n",
    "    \n",
    "    return np.abs(test_stat) >= 1.96\n",
    "\n",
    "\n",
    "def bootstrap_test(yn,xn,nobs,hist=False):\n",
    "    test_stats = []\n",
    "    trials = 100\n",
    "    for i in range(trials):\n",
    "        subn = 1000\n",
    "        np.random.seed()\n",
    "        sample  = np.random.choice(np.arange(0,nobs),subn,replace=True)\n",
    "        ys,xs = yn[sample],xn[sample]\n",
    "        llr, omega = compute_llr(ys,xs)\n",
    "        test_stat = llr/(omega*np.sqrt(subn))\n",
    "        test_stats.append(test_stat)\n",
    "        \n",
    "    llr, omega = compute_llr(yn,xn)\n",
    "    test_stat = llr/(omega*np.sqrt(nobs))\n",
    "    \n",
    "    #plot\n",
    "    if hist:\n",
    "        plt.hist( 2*test_stat - test_stats, density=True,bins=10, label=\"Bootstrap\")\n",
    "    \n",
    "    cv_lower = 2*test_stat - np.percentile(test_stats, 97.5, axis=0)\n",
    "    cv_upper = 2*test_stat -  np.percentile(test_stats, 2.5, axis=0)\n",
    "    \n",
    "    return  0 >= cv_upper or 0 <= cv_lower\n",
    "    \n",
    "\n",
    "yn,xn,nobs = gen_data()\n",
    "print(bootstrap_test(yn,xn,nobs,hist=True))\n",
    "print(regular_test(yn,xn,nobs,hist=True))\n",
    "\n",
    "plt.title(\"Comparison with bootstrap\")\n",
    "plt.xlabel(\"Test Statistic\")\n",
    "plt.ylabel(\"Density\")\n",
    "plt.legend()\n",
    "plt.savefig('figs/bootstrap_compare1')\n",
    "plt.show()\n"
   ]
  },
  {
   "cell_type": "code",
   "execution_count": 28,
   "metadata": {},
   "outputs": [
    {
     "name": "stdout",
     "output_type": "stream",
     "text": [
      "reg: 0.268, boot: 0.16\n"
     ]
    }
   ],
   "source": [
    "reg = 0\n",
    "boot = 0 \n",
    "total = 1000\n",
    "for i in range(total):\n",
    "    np.random.seed()\n",
    "    yn,xn,nobs = gen_data()\n",
    "    reg = regular_test(yn,xn,nobs) +reg\n",
    "    boot = bootstrap_test(yn,xn,nobs) +boot\n",
    "\n",
    "print(\"reg: %s, boot: %s\"%(reg/total,boot/total))"
   ]
  },
  {
   "cell_type": "code",
   "execution_count": 6,
   "metadata": {},
   "outputs": [],
   "source": [
    "#reg: 0.235, boot: 0.154"
   ]
  },
  {
   "cell_type": "code",
   "execution_count": null,
   "metadata": {},
   "outputs": [],
   "source": []
  }
 ],
 "metadata": {
  "kernelspec": {
   "display_name": "Python 3",
   "language": "python",
   "name": "python3"
  },
  "language_info": {
   "codemirror_mode": {
    "name": "ipython",
    "version": 3
   },
   "file_extension": ".py",
   "mimetype": "text/x-python",
   "name": "python",
   "nbconvert_exporter": "python",
   "pygments_lexer": "ipython3",
   "version": "3.7.4"
  }
 },
 "nbformat": 4,
 "nbformat_minor": 2
}
