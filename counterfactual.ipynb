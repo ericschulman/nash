{
 "cells": [
  {
   "cell_type": "code",
   "execution_count": 29,
   "metadata": {},
   "outputs": [],
   "source": [
    "import numpy as np\n",
    "import scipy.stats as stats\n",
    "import scipy.special\n",
    "#graphing\n",
    "import matplotlib.pyplot as plt\n",
    "\n",
    "#optimize\n",
    "from scipy.optimize import minimize\n",
    "\n",
    "#interpolate\n",
    "from scipy.integrate import quad"
   ]
  },
  {
   "cell_type": "code",
   "execution_count": 30,
   "metadata": {},
   "outputs": [
    {
     "name": "stdout",
     "output_type": "stream",
     "text": [
      "[38.57382899]\n",
      "[47.01434597]\n",
      "-----\n",
      "[24.07635644]\n",
      "[26.75150666]\n"
     ]
    }
   ],
   "source": [
    "def optimal_reserve(mu,sigma):\n",
    "    v = 0\n",
    "    obj = lambda p :  -1*(p-v)*(1-stats.logistic(loc=mu,scale=sigma).cdf(p))\n",
    "    result = minimize(obj,[0])\n",
    "    return result.x\n",
    "    \n",
    "print(optimal_reserve(1,30))\n",
    "print(optimal_reserve(30,30))\n",
    "print('-----')\n",
    "print(optimal_reserve(27,.9))\n",
    "print(optimal_reserve(30,1))"
   ]
  },
  {
   "cell_type": "code",
   "execution_count": 36,
   "metadata": {},
   "outputs": [
    {
     "data": {
      "text/plain": [
       "[<matplotlib.lines.Line2D at 0x7fe28109ff90>]"
      ]
     },
     "execution_count": 36,
     "metadata": {},
     "output_type": "execute_result"
    },
    {
     "data": {
      "image/png": "[encoded data removed]",
      "text/plain": [
       "<Figure size 432x288 with 1 Axes>"
      ]
     },
     "metadata": {
      "needs_background": "light"
     },
     "output_type": "display_data"
    }
   ],
   "source": [
    "def marginal_effect(beta0,beta1,x):\n",
    "    mux = beta0+beta1*x\n",
    "    return stats.norm.cdf(mux)*beta1\n",
    "\n",
    "beta0 = 1.\n",
    "beta1 = .25\n",
    "support_x = np.arange(-10,20,.05)\n",
    "me = marginal_effect(beta0,beta1,support_x )\n",
    "\n",
    "plt.plot(support_x, me ,label=\"tobit\",\n",
    "         color='green',linestyle='--')"
   ]
  },
  {
   "cell_type": "code",
   "execution_count": 38,
   "metadata": {},
   "outputs": [
    {
     "name": "stdout",
     "output_type": "stream",
     "text": [
      "(0.23001829064529697, 1.3001418865015277e-08)\n"
     ]
    }
   ],
   "source": [
    "def avg_effect(beta0,beta1):\n",
    "    integrand = lambda x: marginal_effect(beta0,beta1,x)*stats.norm(loc=5,scale=5).pdf(x)\n",
    "    I = quad(integrand, -100,100)\n",
    "    return I\n",
    "\n",
    "print(avg_effect(beta0,beta1))"
   ]
  },
  {
   "cell_type": "code",
   "execution_count": null,
   "metadata": {},
   "outputs": [],
   "source": []
  }
 ],
 "metadata": {
  "kernelspec": {
   "display_name": "Python 3",
   "language": "python",
   "name": "python3"
  },
  "language_info": {
   "codemirror_mode": {
    "name": "ipython",
    "version": 3
   },
   "file_extension": ".py",
   "mimetype": "text/x-python",
   "name": "python",
   "nbconvert_exporter": "python",
   "pygments_lexer": "ipython3",
   "version": "3.7.4"
  }
 },
 "nbformat": 4,
 "nbformat_minor": 2
}
