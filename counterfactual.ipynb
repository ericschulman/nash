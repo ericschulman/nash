{
 "cells": [
  {
   "cell_type": "code",
   "execution_count": 9,
   "metadata": {},
   "outputs": [],
   "source": [
    "import numpy as np\n",
    "import scipy.stats as stats\n",
    "import scipy.special\n",
    "#graphing\n",
    "import matplotlib.pyplot as plt\n",
    "\n",
    "#optimize\n",
    "from scipy.optimize import minimize\n",
    "\n",
    "#interpolate\n",
    "from scipy.integrate import quad"
   ]
  },
  {
   "cell_type": "code",
   "execution_count": 10,
   "metadata": {},
   "outputs": [
    {
     "name": "stdout",
     "output_type": "stream",
     "text": [
      "[30.00633277]\n",
      "[25.02345928]\n",
      "-----\n",
      "[15.70958205]\n",
      "[18.78262703]\n"
     ]
    }
   ],
   "source": [
    "def optimal_reserve(mu,sigma):\n",
    "    v = 0\n",
    "    obj = lambda p :  -1*(p-v)*(1-stats.logistic(loc=mu,scale=sigma).cdf(p))\n",
    "    result = minimize(obj,[0])\n",
    "    return result.x\n",
    "    \n",
    "print(optimal_reserve(9.3064,21.6697))\n",
    "print(optimal_reserve(30.9627 ,8.1390))\n",
    "print('-----')\n",
    "print(optimal_reserve(9.8540,10.0752))\n",
    "print(optimal_reserve(19.9341,8.7761))"
   ]
  },
  {
   "cell_type": "code",
   "execution_count": 11,
   "metadata": {},
   "outputs": [
    {
     "name": "stdout",
     "output_type": "stream",
     "text": [
      "[3.49939847]\n",
      "[5.85411731]\n",
      "-----\n",
      "[3.07084525]\n",
      "[4.37391668]\n"
     ]
    }
   ],
   "source": [
    "print(optimal_reserve(3.0370,1.9556))\n",
    "print(optimal_reserve(7.4830 ,1.2305))\n",
    "print('-----')\n",
    "print(optimal_reserve(-0.0054,2.4029))\n",
    "print(optimal_reserve(5.4083,1.4276))"
   ]
  },
  {
   "cell_type": "code",
   "execution_count": 12,
   "metadata": {},
   "outputs": [
    {
     "name": "stdout",
     "output_type": "stream",
     "text": [
      "(6.3525992049582225, 1.3340628557357778e-09)\n",
      "(4.532266038925901, 4.174257697651488e-12)\n",
      "-------\n",
      "(3.408123525423319, 2.41987273487843e-12)\n",
      "(2.423474061778202, 4.78108273932183e-13)\n"
     ]
    }
   ],
   "source": [
    "def expected_rev(p,mu = 3,sigma = 2,i=10):\n",
    "   \n",
    "    values_distr = stats.logistic(loc=mu, scale=sigma)\n",
    "    cdf = lambda x : values_distr.cdf(x)\n",
    "    pdf = lambda x: values_distr.pdf(x)\n",
    "    factorial = scipy.special.factorial(i)/scipy.special.factorial(i-2)  \n",
    "        \n",
    "    order_cdf = lambda x : factorial*pdf(x)*cdf(x)**(i-2)*(1-cdf(x)) #np.log(i) + np.log(cdf) \n",
    "    integrand = lambda x : x*order_cdf(x)\n",
    "    I = quad(integrand, p,100)\n",
    "    return I\n",
    "\n",
    "print(expected_rev(3.49939847,i=10))\n",
    "print(expected_rev(5.85411731,i=10))\n",
    "print('-------')\n",
    "print(expected_rev(3.07084525,i=4))\n",
    "print(expected_rev(4.37391668,i=4))"
   ]
  },
  {
   "cell_type": "code",
   "execution_count": 14,
   "metadata": {},
   "outputs": [
    {
     "name": "stdout",
     "output_type": "stream",
     "text": [
      "0.00011772330655832707\n",
      "0.09827580524015286\n",
      "0.8576026979223973\n",
      "0.991461218772031\n",
      "0.9916999979603717\n",
      "------\n",
      "0.017237008419991456\n",
      "0.10891031215913055\n",
      "0.21548760252498436\n",
      "0.2417757828837015\n",
      "0.2430875336569045\n"
     ]
    }
   ],
   "source": [
    "def marginal_effect(beta0,beta1,sigma,x):\n",
    "    mux = beta0+beta1*x\n",
    "    return stats.norm.cdf(mux/np.sqrt(np.abs(sigma)))*beta1\n",
    "\n",
    "\n",
    "beta0 = 1.1438\n",
    "beta1 = 0.9917\n",
    "sigma = 1.0772\n",
    "for x in [-5,-2.5,0,2.5,5]:\n",
    "    print(marginal_effect(beta0,beta1,sigma,x))\n",
    "\n",
    "print('------')\n",
    "beta0 = 1.0968\n",
    "beta1 = 0.2431\n",
    "sigma = 0.8248\n",
    "\n",
    "for x in [-10,-5,0,5,10]:\n",
    "    print(marginal_effect(beta0,beta1,sigma,x))"
   ]
  },
  {
   "cell_type": "code",
   "execution_count": null,
   "metadata": {},
   "outputs": [],
   "source": [
    "support_x = np.arange(-15,20,.05)\n",
    "me = marginal_effect(beta0,beta1,sigma, support_x )\n",
    "\n",
    "me_95 = marginal_effect(beta0+ci[0]*1.96,beta1+ci[1]*1.96,\n",
    "                        sigma+ci[2]*1.96, support_x )\n",
    "me_05 = marginal_effect(beta0-ci[0]*1.96,beta1-ci[1]*1.96,\n",
    "                        sigma-ci[2]*1.96, support_x )\n",
    "\n",
    "#beta0 = 0.9793\n",
    "#beta1 = 0.2559\n",
    "#sigma = 1.0375\n",
    "#ci = 0.047, 0.007, 0.049\n",
    "\n",
    "beta0 = 1.0968\n",
    "beta1 = 0.2431\n",
    "sigma = 0.8248\n",
    "#ci = 0.041, 0.006, 0.037\n",
    "\n",
    "plt.plot(support_x, me ,label=\"mean\",\n",
    "         color='black')\n",
    "plt.plot(support_x, me_95 ,label=\"95% confidence\",\n",
    "         color='black',linestyle='--')\n",
    "plt.plot(support_x, me_05,\n",
    "         color='black',linestyle='--')\n",
    "\n",
    "plt.legend()\n",
    "\n",
    "plt.ylabel(\"marginal effect\")\n",
    "plt.xlabel(\"xlabel\")\n",
    "plt.title(\"Tobit marginal effects\")\n",
    "plt.savefig('figs/me_weakover.png')"
   ]
  },
  {
   "cell_type": "code",
   "execution_count": 6,
   "metadata": {},
   "outputs": [
    {
     "name": "stdout",
     "output_type": "stream",
     "text": [
      "(0.8784630588831224, 7.564433174818478e-10)\n",
      "(0.23450329141984852, 3.1023089659508963e-13)\n"
     ]
    }
   ],
   "source": [
    "def avg_effect(beta0,beta1,sigma):\n",
    "    integrand = lambda x: marginal_effect(beta0,beta1,sigma,x)*stats.norm(loc=5,scale=5).pdf(x)\n",
    "    I = quad(integrand, -100,100)\n",
    "    return I\n",
    "\n",
    "beta0 = 1.1438\n",
    "beta1 = 0.9917\n",
    "sigma = 1.0772\n",
    "print(avg_effect(beta0,beta1,sigma))\n",
    "\n",
    "beta0 = 0.9793\n",
    "beta1 = 0.2559\n",
    "sigma = 1.0375\n",
    "print(avg_effect(beta0,beta1,sigma))"
   ]
  },
  {
   "cell_type": "code",
   "execution_count": null,
   "metadata": {},
   "outputs": [],
   "source": []
  }
 ],
 "metadata": {
  "kernelspec": {
   "display_name": "Python 3",
   "language": "python",
   "name": "python3"
  },
  "language_info": {
   "codemirror_mode": {
    "name": "ipython",
    "version": 3
   },
   "file_extension": ".py",
   "mimetype": "text/x-python",
   "name": "python",
   "nbconvert_exporter": "python",
   "pygments_lexer": "ipython3",
   "version": "3.7.4"
  }
 },
 "nbformat": 4,
 "nbformat_minor": 2
}
