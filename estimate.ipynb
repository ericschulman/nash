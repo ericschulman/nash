{
 "cells": [
  {
   "cell_type": "code",
   "execution_count": 1,
   "metadata": {},
   "outputs": [],
   "source": [
    "import pandas as pd\n",
    "import math\n",
    "import numpy as np\n",
    "import matplotlib.pyplot as plt\n",
    "import statsmodels.api as sm\n",
    "from statsmodels.base.model import GenericLikelihoodModel"
   ]
  },
  {
   "cell_type": "code",
   "execution_count": 8,
   "metadata": {},
   "outputs": [],
   "source": [
    "data = pd.read_csv(\"monte_carlo_200.csv\")"
   ]
  },
  {
   "cell_type": "code",
   "execution_count": 9,
   "metadata": {},
   "outputs": [
    {
     "name": "stdout",
     "output_type": "stream",
     "text": [
      "Warning: Maximum number of iterations has been exceeded.\n",
      "                              NashLogit Results                               \n",
      "==============================================================================\n",
      "Dep. Variable:           ['y1', 'y2']   Log-Likelihood:                -221.85\n",
      "Model:                      NashLogit   AIC:                             449.7\n",
      "Method:            Maximum Likelihood   BIC:                             459.6\n",
      "Date:                Fri, 03 Apr 2020                                         \n",
      "Time:                        12:25:02                                         \n",
      "No. Observations:                 200                                         \n",
      "Df Residuals:                     197                                         \n",
      "Df Model:                           2                                         \n",
      "==============================================================================\n",
      "                 coef    std err          z      P>|z|      [0.025      0.975]\n",
      "------------------------------------------------------------------------------\n",
      "b01            1.2742      0.387      3.289      0.001       0.515       2.034\n",
      "b11            3.2402      0.536      6.047      0.000       2.190       4.290\n",
      "d1            -4.5261      0.728     -6.215      0.000      -5.953      -3.099\n",
      "b02            1.4546      0.283      5.142      0.000       0.900       2.009\n",
      "b12            1.9280      0.307      6.288      0.000       1.327       2.529\n",
      "d2            -2.2495      0.426     -5.279      0.000      -3.085      -1.414\n",
      "rho            0.4383      0.162      2.698      0.007       0.120       0.757\n",
      "==============================================================================\n"
     ]
    },
    {
     "name": "stderr",
     "output_type": "stream",
     "text": [
      "/home/erichschulman/anaconda3/lib/python3.7/site-packages/statsmodels/base/model.py:512: ConvergenceWarning: Maximum Likelihood optimization failed to converge. Check mle_retvals\n",
      "  \"Check mle_retvals\", ConvergenceWarning)\n"
     ]
    }
   ],
   "source": [
    "class NashLogit(GenericLikelihoodModel):\n",
    "    \n",
    "    def nloglikeobs(self, params):\n",
    "        n = self.exog.shape[0]\n",
    "        k = int(self.exog.shape[1]/2)\n",
    "        \n",
    "        #calculate the utility from each action\n",
    "        u1 = np.dot(self.exog[:,0:k], params[0:k])  + params[k]*self.endog[:,1]\n",
    "        u2 = np.dot(self.exog[:,k:], params[k+1:2*k+1]) + params[2*k+1]*self.endog[:,0]\n",
    "        \n",
    "        #calculate the log-likelihood\n",
    "        ll = np.exp(u1)**self.endog[:,0]/( 1.+np.exp(u1) )\n",
    "        ll = ll*np.exp(u2)**self.endog[:,1]/( 1.+np.exp(u2) )\n",
    "        \n",
    "        #adjust for eq selection\n",
    "        mult01 = self.endog[:,1]*(1-self.endog[:,0])\n",
    "        mult = self.endog[:,0]*(1-self.endog[:,1]) + self.endog[:,1]*(1-self.endog[:,0])\n",
    "        ll = ll* np.exp( params[2*k+2] )**mult01 /( 1+ np.exp(params[2*k+2]) )**mult\n",
    "        return -np.log(ll).sum()\n",
    "    \n",
    "    \n",
    "    def fit(self, **kwds):\n",
    "        \"\"\"fit the likelihood function using the right start parameters\"\"\"\n",
    "        start_params = np.ones(self.exog.shape[1]+3)\n",
    "        #start_params = np.array([2,3,-2,2,3,-2,.2])\n",
    "        return super(NashLogit, self).fit(start_params=start_params,**kwds)\n",
    "\n",
    "        \n",
    "        \n",
    "N = data.shape[0]\n",
    "y = data[['y1','y2']]\n",
    "x = data[['x1','x2']]\n",
    "\n",
    "x.insert(0,'x01',np.ones(N))\n",
    "x.insert(2,'x02',np.ones(N))\n",
    "\n",
    "model_200 = NashLogit(y,x)\n",
    "model_200 = model_200.fit()\n",
    "print(model_200.summary(xname=[\"b01\",\"b11\",\"d1\",\"b02\",\"b12\",\"d2\",\"rho\"]))"
   ]
  },
  {
   "cell_type": "code",
   "execution_count": 10,
   "metadata": {},
   "outputs": [
    {
     "name": "stdout",
     "output_type": "stream",
     "text": [
      "Warning: Maximum number of iterations has been exceeded.\n",
      "                              NashLogit Results                               \n",
      "==============================================================================\n",
      "Dep. Variable:           ['y1', 'y2']   Log-Likelihood:                -987.73\n",
      "Model:                      NashLogit   AIC:                             1981.\n",
      "Method:            Maximum Likelihood   BIC:                             1996.\n",
      "Date:                Fri, 03 Apr 2020                                         \n",
      "Time:                        12:25:09                                         \n",
      "No. Observations:                1000                                         \n",
      "Df Residuals:                     997                                         \n",
      "Df Model:                           2                                         \n",
      "==============================================================================\n",
      "                 coef    std err          z      P>|z|      [0.025      0.975]\n",
      "------------------------------------------------------------------------------\n",
      "b01            1.6448      0.198      8.310      0.000       1.257       2.033\n",
      "b11            4.2165      0.297     14.210      0.000       3.635       4.798\n",
      "d1            -3.9231      0.325    -12.067      0.000      -4.560      -3.286\n",
      "b02            2.0663      0.178     11.633      0.000       1.718       2.414\n",
      "b12            3.2985      0.221     14.899      0.000       2.865       3.732\n",
      "d2            -2.3842      0.239     -9.971      0.000      -2.853      -1.916\n",
      "rho            0.5102      0.079      6.465      0.000       0.355       0.665\n",
      "==============================================================================\n"
     ]
    },
    {
     "name": "stderr",
     "output_type": "stream",
     "text": [
      "/home/erichschulman/anaconda3/lib/python3.7/site-packages/statsmodels/base/model.py:512: ConvergenceWarning: Maximum Likelihood optimization failed to converge. Check mle_retvals\n",
      "  \"Check mle_retvals\", ConvergenceWarning)\n"
     ]
    }
   ],
   "source": [
    "data = pd.read_csv(\"monte_carlo_1000.csv\")\n",
    "N = data.shape[0]\n",
    "y = data[['y1','y2']]\n",
    "x = data[['x1','x2']]\n",
    "\n",
    "x.insert(0,'x01',np.ones(N))\n",
    "x.insert(2,'x02',np.ones(N))\n",
    "\n",
    "model_1000 = NashLogit(y,x)\n",
    "model_1000 = model_1000.fit()\n",
    "print(model_1000.summary(xname=[\"b01\",\"b11\",\"d1\",\"b02\",\"b12\",\"d2\",\"rho\"]))"
   ]
  },
  {
   "cell_type": "code",
   "execution_count": null,
   "metadata": {},
   "outputs": [],
   "source": []
  },
  {
   "cell_type": "code",
   "execution_count": null,
   "metadata": {},
   "outputs": [],
   "source": []
  }
 ],
 "metadata": {
  "kernelspec": {
   "display_name": "Python 3",
   "language": "python",
   "name": "python3"
  },
  "language_info": {
   "codemirror_mode": {
    "name": "ipython",
    "version": 3
   },
   "file_extension": ".py",
   "mimetype": "text/x-python",
   "name": "python",
   "nbconvert_exporter": "python",
   "pygments_lexer": "ipython3",
   "version": "3.7.4"
  }
 },
 "nbformat": 4,
 "nbformat_minor": 2
}
