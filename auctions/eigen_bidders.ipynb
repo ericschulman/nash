{
 "cells": [
  {
   "cell_type": "code",
   "execution_count": 15,
   "metadata": {},
   "outputs": [],
   "source": [
    "#math\n",
    "import numpy as np\n",
    "import scipy.stats as stats\n",
    "import scipy.linalg as linalg\n",
    "import scipy.special\n",
    "#graphing\n",
    "import matplotlib.pyplot as plt\n",
    "#stats\n",
    "import statsmodels.api as sm\n",
    "from statsmodels.base.model import GenericLikelihoodModel"
   ]
  },
  {
   "cell_type": "code",
   "execution_count": 16,
   "metadata": {},
   "outputs": [],
   "source": [
    "mu = 3\n",
    "sigma = 2\n",
    "values_distr =stats.logistic(loc=mu, scale=sigma)\n",
    "\n",
    "def gen_data(values = values_distr, num_true = 4):\n",
    "    nobs = 1000\n",
    "    \n",
    "    #parameters\n",
    "    \n",
    "    \n",
    "    min_bids =num_true\n",
    "    max_bids =num_true\n",
    "    \n",
    "    bid_types = range(min_bids,max_bids+1)\n",
    "    prob_type = [1/len(bid_types)]*len(bid_types)\n",
    "    bidders = np.random.choice(bid_types, nobs, p=prob_type)\n",
    "    bidders = np.sort(bidders)\n",
    "    bids = []\n",
    "    for i in bid_types:\n",
    "        #count number of obs\n",
    "        num_i = sum(i == bidders)\n",
    "        bids_i = values.rvs(size=(num_i,i))\n",
    "        bids_i =  np.sort(bids_i, axis=1)\n",
    "        bids_i =  bids_i[:,-2]\n",
    "        bids = np.concatenate((bids, bids_i))\n",
    "    \n",
    "    #draw bids\n",
    "    return bids, nobs\n",
    "\n",
    "\n",
    "\n",
    "bids,nobs = gen_data(values_distr)"
   ]
  },
  {
   "cell_type": "code",
   "execution_count": 17,
   "metadata": {},
   "outputs": [
    {
     "data": {
      "text/html": [
       "<table class=\"simpletable\">\n",
       "<caption>Auction Results</caption>\n",
       "<tr>\n",
       "  <th>Dep. Variable:</th>             <td>y</td>         <th>  Log-Likelihood:    </th> <td> -2123.2</td>\n",
       "</tr>\n",
       "<tr>\n",
       "  <th>Model:</th>                  <td>Auction</td>      <th>  AIC:               </th> <td>   4248.</td>\n",
       "</tr>\n",
       "<tr>\n",
       "  <th>Method:</th>           <td>Maximum Likelihood</td> <th>  BIC:               </th> <td>   4253.</td>\n",
       "</tr>\n",
       "<tr>\n",
       "  <th>Date:</th>              <td>Tue, 29 Dec 2020</td>  <th>                     </th>     <td> </td>   \n",
       "</tr>\n",
       "<tr>\n",
       "  <th>Time:</th>                  <td>16:32:31</td>      <th>                     </th>     <td> </td>   \n",
       "</tr>\n",
       "<tr>\n",
       "  <th>No. Observations:</th>       <td>  1000</td>       <th>                     </th>     <td> </td>   \n",
       "</tr>\n",
       "<tr>\n",
       "  <th>Df Residuals:</th>           <td>   999</td>       <th>                     </th>     <td> </td>   \n",
       "</tr>\n",
       "<tr>\n",
       "  <th>Df Model:</th>               <td>     0</td>       <th>                     </th>     <td> </td>   \n",
       "</tr>\n",
       "</table>\n",
       "<table class=\"simpletable\">\n",
       "<tr>\n",
       "    <td></td>       <th>coef</th>     <th>std err</th>      <th>z</th>      <th>P>|z|</th>  <th>[0.025</th>    <th>0.975]</th>  \n",
       "</tr>\n",
       "<tr>\n",
       "  <th>const</th> <td>    2.9368</td> <td>    0.065</td> <td>   44.915</td> <td> 0.000</td> <td>    2.809</td> <td>    3.065</td>\n",
       "</tr>\n",
       "<tr>\n",
       "  <th>par0</th>  <td>    1.9995</td> <td>    0.049</td> <td>   41.024</td> <td> 0.000</td> <td>    1.904</td> <td>    2.095</td>\n",
       "</tr>\n",
       "</table>"
      ],
      "text/plain": [
       "<class 'statsmodels.iolib.summary.Summary'>\n",
       "\"\"\"\n",
       "                               Auction Results                                \n",
       "==============================================================================\n",
       "Dep. Variable:                      y   Log-Likelihood:                -2123.2\n",
       "Model:                        Auction   AIC:                             4248.\n",
       "Method:            Maximum Likelihood   BIC:                             4253.\n",
       "Date:                Tue, 29 Dec 2020                                         \n",
       "Time:                        16:32:31                                         \n",
       "No. Observations:                1000                                         \n",
       "Df Residuals:                     999                                         \n",
       "Df Model:                           0                                         \n",
       "==============================================================================\n",
       "                 coef    std err          z      P>|z|      [0.025      0.975]\n",
       "------------------------------------------------------------------------------\n",
       "const          2.9368      0.065     44.915      0.000       2.809       3.065\n",
       "par0           1.9995      0.049     41.024      0.000       1.904       2.095\n",
       "==============================================================================\n",
       "\"\"\""
      ]
     },
     "execution_count": 17,
     "metadata": {},
     "output_type": "execute_result"
    }
   ],
   "source": [
    "class Auction(GenericLikelihoodModel):\n",
    "    \n",
    "    def __init__(self, *args, values_distr=stats.logistic, **kwargs):\n",
    "        super(Auction,self).__init__(*args,**kwargs)\n",
    "        self.values_distr = values_distr\n",
    "        \n",
    "    \n",
    "    def loglikeobs(self, params):\n",
    "        bids = self.endog\n",
    "        i = self.exog[:,0]\n",
    "        cdf = self.values_distr.cdf(bids,loc=params[0],scale=max(params[1],1e-5))\n",
    "        pdf = self.values_distr.pdf(bids,loc=params[0],scale=max(params[1],1e-5))\n",
    "        factorial = scipy.special.factorial(i)/scipy.special.factorial(i-2)  \n",
    "        \n",
    "        order_cdf = factorial*pdf*cdf**(i-2)*(1-cdf) #np.log(i) + np.log(cdf) + (i-1)*np.log((1-cdf)) #second highest order statistic\n",
    "        return np.log(order_cdf)\n",
    "    \n",
    "\n",
    "np.random.seed()\n",
    "yn,nobs = gen_data(stats.logistic(loc=mu, scale=sigma))\n",
    "model = Auction(yn, np.ones(len(yn))*4 )\n",
    "model_fit = model.fit(start_params=[mu,sigma],disp=False)\n",
    "model_fit.summary()"
   ]
  },
  {
   "cell_type": "code",
   "execution_count": 30,
   "metadata": {},
   "outputs": [],
   "source": [
    "def setup_shi(yn,num_bidders1 = 10, num_bidders2 = 2):\n",
    "    model1 = Auction(yn,np.ones(len(yn))*num_bidders1)\n",
    "    model1_fit = model1.fit(start_params=[mu,sigma],disp=False)\n",
    "    ll1 = model1.loglikeobs(model1_fit.params)\n",
    "    grad1 =  model1.score_obs(model1_fit.params)    \n",
    "    hess1 = model1.hessian(model1_fit.params)\n",
    "    \n",
    "    #fit logistic values\n",
    "    model2 = Auction(yn,np.ones(len(yn))*num_bidders2)\n",
    "    model2_fit = model2.fit(start_params=[mu,sigma],disp=False)\n",
    "    ll2 = model2.loglikeobs(model2_fit.params)\n",
    "    grad2 =  model2.score_obs(model2_fit.params)    \n",
    "    hess2 = model2.hessian(model2_fit.params)\n",
    "    \n",
    "    return ll1,grad1,hess1,ll2,2, grad2,hess2,2\n",
    "\n",
    "yn,nobs = gen_data()\n",
    "ll1,grad1,hess1,ll2,k1, grad2,hess2,k2 = setup_shi(yn, num_bidders1 = 10, num_bidders2 = 2)"
   ]
  },
  {
   "cell_type": "code",
   "execution_count": 37,
   "metadata": {},
   "outputs": [
    {
     "name": "stdout",
     "output_type": "stream",
     "text": [
      "[[-0.24358428  0.19421635]\n",
      " [-0.43449153 -0.0966367 ]]\n",
      "[-0.73821318  0.66114373  0.1417411  -0.06530318]\n"
     ]
    },
    {
     "data": {
      "image/png": "[encoded data removed]",
      "text/plain": [
       "<Figure size 432x288 with 1 Axes>"
      ]
     },
     "metadata": {
      "needs_background": "light"
     },
     "output_type": "display_data"
    }
   ],
   "source": [
    "def compute_eigen(yn,num_bidders1 = 10, num_bidders2 = 2):\n",
    "    ll1,grad1,hess1,ll2,k1, grad2,hess2,k2 = setup_shi(yn,num_bidders1 = 10, num_bidders2 = 2)\n",
    "    hess1 = hess1/len(ll1)\n",
    "    hess2 = hess2/len(ll2)\n",
    "    \n",
    "    k = k1 + k2\n",
    "    n = len(ll1)\n",
    "    \n",
    "    #A_hat:\n",
    "    A_hat1 = np.concatenate([hess1,np.zeros((k1,k2))])\n",
    "    A_hat2 = np.concatenate([np.zeros((k2,k1)),-1*hess2])\n",
    "    A_hat = np.concatenate([A_hat1,A_hat2],axis=1)\n",
    "\n",
    "    #B_hat, covariance of the score...\n",
    "    B_hat =  np.concatenate([grad1,-grad2],axis=1) #might be a mistake here..\n",
    "    B_hat = np.cov(B_hat.transpose())\n",
    "    print(B_hat[0:2,2:])\n",
    "    \n",
    "    #compute eigenvalues for weighted chisq\n",
    "    sqrt_B_hat= linalg.sqrtm(B_hat)\n",
    "    W_hat = np.matmul(sqrt_B_hat,linalg.inv(A_hat))\n",
    "    W_hat = np.matmul(W_hat,sqrt_B_hat)\n",
    "    V,W = np.linalg.eig(W_hat)\n",
    "    print(V)\n",
    "    return V\n",
    "\n",
    "n_sims = 5000\n",
    "yn,nobs = gen_data(num_true = 4)\n",
    "model_eigs = compute_eigen(yn,num_bidders1 = 10, num_bidders2 = 2)\n",
    "eigs_tile = np.tile(model_eigs,n_sims).reshape(n_sims,len(model_eigs))\n",
    "normal_draws = stats.norm.rvs(size=(n_sims,len(model_eigs)))\n",
    "weighted_chi = ((normal_draws**2)*eigs_tile).sum(axis=1)\n",
    "plt.hist(weighted_chi,density=True,bins=25)\n",
    "plt.show()"
   ]
  },
  {
   "cell_type": "code",
   "execution_count": 32,
   "metadata": {},
   "outputs": [
    {
     "name": "stdout",
     "output_type": "stream",
     "text": [
      "[[-0.30918373  0.12603141]\n",
      " [-0.62279063 -0.42406362]]\n",
      "[ 0.9074571  -0.62491182  0.11942516 -0.07898498]\n"
     ]
    },
    {
     "data": {
      "image/png": "[encoded data removed]",
      "text/plain": [
       "<Figure size 432x288 with 1 Axes>"
      ]
     },
     "metadata": {
      "needs_background": "light"
     },
     "output_type": "display_data"
    }
   ],
   "source": [
    "yn,nobs = gen_data(num_true = 10)\n",
    "model_eigs = compute_eigen(yn,num_bidders1 = 10, num_bidders2 = 2)\n",
    "eigs_tile = np.tile(model_eigs,n_sims).reshape(n_sims,len(model_eigs))\n",
    "normal_draws = stats.norm.rvs(size=(n_sims,len(model_eigs)))\n",
    "weighted_chi = ((normal_draws**2)*eigs_tile).sum(axis=1)\n",
    "plt.hist(weighted_chi,density=True,bins=25)\n",
    "plt.show()"
   ]
  },
  {
   "cell_type": "code",
   "execution_count": 34,
   "metadata": {},
   "outputs": [
    {
     "name": "stdout",
     "output_type": "stream",
     "text": [
      "[[-0.19305212  0.16798248]\n",
      " [-0.33553593 -0.09149328]]\n",
      "[-0.78300464  0.74464798  0.14907052 -0.06830681]\n"
     ]
    },
    {
     "data": {
      "image/png": "[encoded data removed]",
      "text/plain": [
       "<Figure size 432x288 with 1 Axes>"
      ]
     },
     "metadata": {
      "needs_background": "light"
     },
     "output_type": "display_data"
    }
   ],
   "source": [
    "yn,nobs = gen_data(num_true = 3)\n",
    "model_eigs = compute_eigen(yn,num_bidders1 = 10, num_bidders2 = 2)\n",
    "eigs_tile = np.tile(model_eigs,n_sims).reshape(n_sims,len(model_eigs))\n",
    "normal_draws = stats.norm.rvs(size=(n_sims,len(model_eigs)))\n",
    "weighted_chi = ((normal_draws**2)*eigs_tile).sum(axis=1)\n",
    "plt.hist(weighted_chi,density=True,bins=25)\n",
    "plt.show()"
   ]
  },
  {
   "cell_type": "code",
   "execution_count": 33,
   "metadata": {},
   "outputs": [
    {
     "name": "stdout",
     "output_type": "stream",
     "text": [
      "[[-0.34142917  0.20101879]\n",
      " [-0.65014057 -0.30039374]]\n",
      "[ 0.79207361 -0.60109255  0.12950459 -0.06235104]\n"
     ]
    },
    {
     "data": {
      "image/png": "[encoded data removed]",
      "text/plain": [
       "<Figure size 432x288 with 1 Axes>"
      ]
     },
     "metadata": {
      "needs_background": "light"
     },
     "output_type": "display_data"
    }
   ],
   "source": [
    "yn,nobs = gen_data(num_true = 13)\n",
    "model_eigs = compute_eigen(yn,num_bidders1 = 10, num_bidders2 = 2)\n",
    "eigs_tile = np.tile(model_eigs,n_sims).reshape(n_sims,len(model_eigs))\n",
    "normal_draws = stats.norm.rvs(size=(n_sims,len(model_eigs)))\n",
    "weighted_chi = ((normal_draws**2)*eigs_tile).sum(axis=1)\n",
    "plt.hist(weighted_chi,density=True,bins=25)\n",
    "plt.show()"
   ]
  },
  {
   "cell_type": "code",
   "execution_count": null,
   "metadata": {},
   "outputs": [],
   "source": []
  }
 ],
 "metadata": {
  "kernelspec": {
   "display_name": "Python 3",
   "language": "python",
   "name": "python3"
  },
  "language_info": {
   "codemirror_mode": {
    "name": "ipython",
    "version": 3
   },
   "file_extension": ".py",
   "mimetype": "text/x-python",
   "name": "python",
   "nbconvert_exporter": "python",
   "pygments_lexer": "ipython3",
   "version": "3.7.4"
  }
 },
 "nbformat": 4,
 "nbformat_minor": 2
}
