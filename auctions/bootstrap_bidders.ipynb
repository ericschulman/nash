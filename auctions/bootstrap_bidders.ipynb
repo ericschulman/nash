{
 "cells": [
  {
   "cell_type": "code",
   "execution_count": 54,
   "metadata": {},
   "outputs": [
    {
     "name": "stdout",
     "output_type": "stream",
     "text": [
      "The autoreload extension is already loaded. To reload it, use:\n",
      "  %reload_ext autoreload\n"
     ]
    }
   ],
   "source": [
    "%load_ext autoreload\n",
    "%autoreload 2\n",
    "\n",
    "import numpy as np\n",
    "import scipy.stats as stats\n",
    "import scipy.special\n",
    "#graphing\n",
    "import matplotlib.pyplot as plt\n",
    "#stats\n",
    "import statsmodels.api as sm\n",
    "from statsmodels.base.model import GenericLikelihoodModel\n",
    "from statsmodels.distributions.empirical_distribution import ECDF\n",
    "\n",
    "#import testing\n",
    "import sys\n",
    "sys.path.append(\"../\")\n",
    "import vuong_tests"
   ]
  },
  {
   "cell_type": "code",
   "execution_count": 55,
   "metadata": {},
   "outputs": [
    {
     "name": "stdout",
     "output_type": "stream",
     "text": [
      "(1000,)\n",
      "3.8980902867135265\n"
     ]
    }
   ],
   "source": [
    "num_true = 4\n",
    "num_bidders1 = 10\n",
    "num_bidders2 = 2\n",
    "mu = 3\n",
    "sigma = 2\n",
    "\n",
    "def gen_data(values=stats.logistic(loc=mu, scale=sigma)):\n",
    "    nobs = 1000\n",
    "    \n",
    "    #parameters\n",
    "    \n",
    "    \n",
    "    min_bids =num_true\n",
    "    max_bids =num_true\n",
    "    \n",
    "    bid_types = range(min_bids,max_bids+1)\n",
    "    prob_type = [1/len(bid_types)]*len(bid_types)\n",
    "    bidders = np.random.choice(bid_types, nobs, p=prob_type)\n",
    "    bidders = np.sort(bidders)\n",
    "    bids = []\n",
    "    for i in bid_types:\n",
    "        #count number of obs\n",
    "        num_i = sum(i == bidders)\n",
    "        bids_i = values.rvs(size=(num_i,i))\n",
    "        bids_i =  np.sort(bids_i, axis=1)\n",
    "        bids_i =  bids_i[:,-2]\n",
    "        bids = np.concatenate((bids, bids_i))\n",
    "    \n",
    "    #draw bids\n",
    "    return bids,bidders,nobs\n",
    "\n",
    "\n",
    "values_distr =stats.logistic(loc=mu, scale=sigma)\n",
    "bids,i,nobs = gen_data(values_distr)\n",
    "print(bids.shape)\n",
    "print(bids[i == num_true].mean())"
   ]
  },
  {
   "cell_type": "code",
   "execution_count": 56,
   "metadata": {},
   "outputs": [
    {
     "data": {
      "text/html": [
       "<table class=\"simpletable\">\n",
       "<caption>Auction Results</caption>\n",
       "<tr>\n",
       "  <th>Dep. Variable:</th>             <td>y</td>         <th>  Log-Likelihood:    </th> <td> -2132.0</td>\n",
       "</tr>\n",
       "<tr>\n",
       "  <th>Model:</th>                  <td>Auction</td>      <th>  AIC:               </th> <td>   4266.</td>\n",
       "</tr>\n",
       "<tr>\n",
       "  <th>Method:</th>           <td>Maximum Likelihood</td> <th>  BIC:               </th> <td>   4271.</td>\n",
       "</tr>\n",
       "<tr>\n",
       "  <th>Date:</th>              <td>Thu, 24 Dec 2020</td>  <th>                     </th>     <td> </td>   \n",
       "</tr>\n",
       "<tr>\n",
       "  <th>Time:</th>                  <td>21:30:46</td>      <th>                     </th>     <td> </td>   \n",
       "</tr>\n",
       "<tr>\n",
       "  <th>No. Observations:</th>       <td>  1000</td>       <th>                     </th>     <td> </td>   \n",
       "</tr>\n",
       "<tr>\n",
       "  <th>Df Residuals:</th>           <td>   999</td>       <th>                     </th>     <td> </td>   \n",
       "</tr>\n",
       "<tr>\n",
       "  <th>Df Model:</th>               <td>     0</td>       <th>                     </th>     <td> </td>   \n",
       "</tr>\n",
       "</table>\n",
       "<table class=\"simpletable\">\n",
       "<tr>\n",
       "    <td></td>       <th>coef</th>     <th>std err</th>      <th>z</th>      <th>P>|z|</th>  <th>[0.025</th>    <th>0.975]</th>  \n",
       "</tr>\n",
       "<tr>\n",
       "  <th>const</th> <td>    2.8978</td> <td>    0.066</td> <td>   44.031</td> <td> 0.000</td> <td>    2.769</td> <td>    3.027</td>\n",
       "</tr>\n",
       "<tr>\n",
       "  <th>par0</th>  <td>    2.0177</td> <td>    0.049</td> <td>   41.054</td> <td> 0.000</td> <td>    1.921</td> <td>    2.114</td>\n",
       "</tr>\n",
       "</table>"
      ],
      "text/plain": [
       "<class 'statsmodels.iolib.summary.Summary'>\n",
       "\"\"\"\n",
       "                               Auction Results                                \n",
       "==============================================================================\n",
       "Dep. Variable:                      y   Log-Likelihood:                -2132.0\n",
       "Model:                        Auction   AIC:                             4266.\n",
       "Method:            Maximum Likelihood   BIC:                             4271.\n",
       "Date:                Thu, 24 Dec 2020                                         \n",
       "Time:                        21:30:46                                         \n",
       "No. Observations:                1000                                         \n",
       "Df Residuals:                     999                                         \n",
       "Df Model:                           0                                         \n",
       "==============================================================================\n",
       "                 coef    std err          z      P>|z|      [0.025      0.975]\n",
       "------------------------------------------------------------------------------\n",
       "const          2.8978      0.066     44.031      0.000       2.769       3.027\n",
       "par0           2.0177      0.049     41.054      0.000       1.921       2.114\n",
       "==============================================================================\n",
       "\"\"\""
      ]
     },
     "execution_count": 56,
     "metadata": {},
     "output_type": "execute_result"
    }
   ],
   "source": [
    "class Auction(GenericLikelihoodModel):\n",
    "    \n",
    "    def __init__(self, *args, values_distr=stats.logistic, **kwargs):\n",
    "        super(Auction,self).__init__(*args,**kwargs)\n",
    "        self.values_distr = values_distr\n",
    "        \n",
    "    \n",
    "    def loglikeobs(self, params):\n",
    "        bids = self.endog\n",
    "        i = self.exog[:,0]\n",
    "        cdf = self.values_distr.cdf(bids,loc=params[0],scale=max(params[1],1e-5))\n",
    "        pdf = self.values_distr.pdf(bids,loc=params[0],scale=max(params[1],1e-5))\n",
    "        factorial = scipy.special.factorial(i)/scipy.special.factorial(i-2)  \n",
    "        \n",
    "        order_cdf = factorial*pdf*cdf**(i-2)*(1-cdf) #np.log(i) + np.log(cdf) + (i-1)*np.log((1-cdf)) #second highest order statistic\n",
    "        return np.log(order_cdf)\n",
    "\n",
    "np.random.seed()\n",
    "yn,xn,nobs = gen_data(stats.logistic(loc=mu, scale=sigma))\n",
    "model = Auction(yn,xn)\n",
    "model_fit = model.fit(start_params=[mu,sigma],disp=False)\n",
    "model_fit.summary()"
   ]
  },
  {
   "cell_type": "code",
   "execution_count": 57,
   "metadata": {},
   "outputs": [
    {
     "name": "stdout",
     "output_type": "stream",
     "text": [
      "(8.82688961724034, 0.3882273580532289)\n"
     ]
    }
   ],
   "source": [
    "def compute_llr(yn,xn):\n",
    "    \n",
    "    #fit normal values\n",
    "    model1 = Auction(yn,xn*num_bidders1/num_true)\n",
    "    model1_fit = model1.fit(start_params=[mu,sigma],disp=False)\n",
    "    ll1 = model1.loglikeobs(model1_fit.params)\n",
    "    \n",
    "    #fit logistic values\n",
    "    model2 = Auction(yn,xn*num_bidders2/num_true)\n",
    "    model2_fit = model2.fit(start_params=[mu,sigma],disp=False)\n",
    "    ll2 = model2.loglikeobs(model2_fit.params)\n",
    "    \n",
    "    llr = ll1.sum() - ll2.sum()\n",
    "    omega2 = (ll1- ll2).var()\n",
    "    return llr,np.sqrt(omega2)\n",
    "\n",
    "yn,xn,nobs = gen_data()\n",
    "print(compute_llr(yn,xn))"
   ]
  },
  {
   "cell_type": "code",
   "execution_count": 58,
   "metadata": {},
   "outputs": [
    {
     "name": "stdout",
     "output_type": "stream",
     "text": [
      "16.681995073123954 0.3567048875349385\n"
     ]
    }
   ],
   "source": [
    "#compute llr without actually bootstrapping\n",
    "avg_llr =0 \n",
    "avg_omega = 0\n",
    "n =100\n",
    "for i in range(n):\n",
    "    yn,xn,nobs = gen_data()\n",
    "    res1, res2 = compute_llr(yn,xn)\n",
    "    avg_llr = avg_llr + res1\n",
    "    avg_omega = avg_omega + res2\n",
    "print(avg_llr/n ,avg_omega/n )"
   ]
  },
  {
   "cell_type": "code",
   "execution_count": 59,
   "metadata": {},
   "outputs": [
    {
     "name": "stdout",
     "output_type": "stream",
     "text": [
      "0\n",
      "0\n"
     ]
    },
    {
     "data": {
      "image/png": "[encoded data removed]",
      "text/plain": [
       "<Figure size 432x288 with 1 Axes>"
      ]
     },
     "metadata": {
      "needs_background": "light"
     },
     "output_type": "display_data"
    }
   ],
   "source": [
    "yn,xn,nobs = gen_data()\n",
    "print(vuong_tests.bootstrap_test(yn,xn,nobs,compute_llr,hist=True))\n",
    "print(vuong_tests.regular_test(yn,xn,nobs,compute_llr,hist=True))\n",
    "\n",
    "plt.title(\"Comparison with bootstrap\")\n",
    "plt.xlabel(\"Test Statistic\")\n",
    "plt.ylabel(\"Density\")\n",
    "plt.legend()\n",
    "plt.savefig('../figs/bootstrap_compare_bidders')\n",
    "plt.show()"
   ]
  },
  {
   "cell_type": "code",
   "execution_count": 60,
   "metadata": {},
   "outputs": [
    {
     "name": "stdout",
     "output_type": "stream",
     "text": [
      "reg: [0.71 0.29 0.  ], boot: [0.8 0.2 0. ], llr:15.409459643161886, omega:0.35426805397566624\n"
     ]
    }
   ],
   "source": [
    "reg,boot,llr, omega = vuong_tests.monte_carlo(100,gen_data,compute_llr)\n",
    "print(\"reg: %s, boot: %s, llr:%s, omega:%s\"%(reg,boot,llr, omega))"
   ]
  },
  {
   "cell_type": "code",
   "execution_count": 61,
   "metadata": {},
   "outputs": [],
   "source": [
    "def setup_shi(yn,xn):\n",
    "    model1 = Auction(yn,xn*num_bidders1/num_true)\n",
    "    model1_fit = model1.fit(start_params=[mu,sigma],disp=False)\n",
    "    ll1 = model1.loglikeobs(model1_fit.params)\n",
    "    grad1 =  model1.score_obs(model1_fit.params)    \n",
    "    hess1 = model1.hessian(model1_fit.params)\n",
    "    \n",
    "    #fit logistic values\n",
    "    model2 = Auction(yn,xn*num_bidders2/num_true)\n",
    "    model2_fit = model2.fit(start_params=[mu,sigma],disp=False)\n",
    "    ll2 = model2.loglikeobs(model2_fit.params)\n",
    "    grad2 =  model2.score_obs(model2_fit.params)    \n",
    "    hess2 = model2.hessian(model2_fit.params)\n",
    "    \n",
    "    return ll1,grad1,hess1,ll2,2, grad2,hess2,2\n",
    "\n",
    "yn,xn,nobs = gen_data()\n",
    "ll1,grad1,hess1,ll2,k1, grad2,hess2,k2 = setup_shi(yn,xn)"
   ]
  },
  {
   "cell_type": "code",
   "execution_count": 62,
   "metadata": {},
   "outputs": [
    {
     "name": "stdout",
     "output_type": "stream",
     "text": [
      "[0.84 0.16 0.  ]\n"
     ]
    }
   ],
   "source": [
    "shi_result = vuong_tests.monte_carlo_shi(100,setup_shi,gen_data)\n",
    "print(shi_result)"
   ]
  },
  {
   "cell_type": "code",
   "execution_count": null,
   "metadata": {},
   "outputs": [],
   "source": []
  },
  {
   "cell_type": "code",
   "execution_count": null,
   "metadata": {},
   "outputs": [],
   "source": []
  }
 ],
 "metadata": {
  "kernelspec": {
   "display_name": "Python 3",
   "language": "python",
   "name": "python3"
  },
  "language_info": {
   "codemirror_mode": {
    "name": "ipython",
    "version": 3
   },
   "file_extension": ".py",
   "mimetype": "text/x-python",
   "name": "python",
   "nbconvert_exporter": "python",
   "pygments_lexer": "ipython3",
   "version": "3.7.4"
  }
 },
 "nbformat": 4,
 "nbformat_minor": 2
}
