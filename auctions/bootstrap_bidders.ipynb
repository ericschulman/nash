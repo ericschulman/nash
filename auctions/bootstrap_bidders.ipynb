{
 "cells": [
  {
   "cell_type": "code",
   "execution_count": 76,
   "metadata": {},
   "outputs": [
    {
     "name": "stdout",
     "output_type": "stream",
     "text": [
      "The autoreload extension is already loaded. To reload it, use:\n",
      "  %reload_ext autoreload\n"
     ]
    }
   ],
   "source": [
    "%load_ext autoreload\n",
    "%autoreload 2\n",
    "\n",
    "import numpy as np\n",
    "import scipy.stats as stats\n",
    "import scipy.special\n",
    "#graphing\n",
    "import matplotlib.pyplot as plt\n",
    "#stats\n",
    "import statsmodels.api as sm\n",
    "from statsmodels.base.model import GenericLikelihoodModel\n",
    "from statsmodels.distributions.empirical_distribution import ECDF\n",
    "\n",
    "#import testing\n",
    "import sys\n",
    "sys.path.append(\"../\")\n",
    "import vuong_tests"
   ]
  },
  {
   "cell_type": "code",
   "execution_count": 92,
   "metadata": {},
   "outputs": [
    {
     "name": "stdout",
     "output_type": "stream",
     "text": [
      "(1000,)\n",
      "161.28869733174753\n"
     ]
    }
   ],
   "source": [
    "num_bidders = 10\n",
    "num_bidders2 = 3\n",
    "mu = 60\n",
    "sigma = 60\n",
    "\n",
    "def gen_data(values=stats.logistic(loc=mu, scale=sigma)):\n",
    "    nobs = 1000\n",
    "    \n",
    "    #parameters\n",
    "    min_bids =num_bidders\n",
    "    max_bids =num_bidders\n",
    "    \n",
    "    bid_types = range(min_bids,max_bids+1)\n",
    "    prob_type = [1/len(bid_types)]*len(bid_types)\n",
    "    bidders = np.random.choice(bid_types, nobs, p=prob_type)\n",
    "    bidders = np.sort(bidders)\n",
    "    bids = []\n",
    "    for i in bid_types:\n",
    "        #count number of obs\n",
    "        num_i = sum(i == bidders)\n",
    "        bids_i = values.rvs(size=(num_i,i))\n",
    "        bids_i =  np.sort(bids_i, axis=1)\n",
    "        bids_i =  bids_i[:,-2]\n",
    "        bids = np.concatenate((bids, bids_i))\n",
    "    \n",
    "    #draw bids\n",
    "    return bids,bidders,nobs\n",
    "\n",
    "values_distr =stats.logistic(loc=mu, scale=sigma)\n",
    "bids,i,nobs = gen_data(values_distr)\n",
    "print(bids.shape)\n",
    "print(bids[i == num_bidders].mean())"
   ]
  },
  {
   "cell_type": "code",
   "execution_count": 93,
   "metadata": {},
   "outputs": [
    {
     "data": {
      "text/html": [
       "<table class=\"simpletable\">\n",
       "<caption>Auction Results</caption>\n",
       "<tr>\n",
       "  <th>Dep. Variable:</th>             <td>y</td>         <th>  Log-Likelihood:    </th> <td> -5321.7</td> \n",
       "</tr>\n",
       "<tr>\n",
       "  <th>Model:</th>                  <td>Auction</td>      <th>  AIC:               </th> <td>1.065e+04</td>\n",
       "</tr>\n",
       "<tr>\n",
       "  <th>Method:</th>           <td>Maximum Likelihood</td> <th>  BIC:               </th> <td>1.065e+04</td>\n",
       "</tr>\n",
       "<tr>\n",
       "  <th>Date:</th>              <td>Mon, 21 Dec 2020</td>  <th>                     </th>     <td> </td>    \n",
       "</tr>\n",
       "<tr>\n",
       "  <th>Time:</th>                  <td>19:43:29</td>      <th>                     </th>     <td> </td>    \n",
       "</tr>\n",
       "<tr>\n",
       "  <th>No. Observations:</th>       <td>  1000</td>       <th>                     </th>     <td> </td>    \n",
       "</tr>\n",
       "<tr>\n",
       "  <th>Df Residuals:</th>           <td>   999</td>       <th>                     </th>     <td> </td>    \n",
       "</tr>\n",
       "<tr>\n",
       "  <th>Df Model:</th>               <td>     0</td>       <th>                     </th>     <td> </td>    \n",
       "</tr>\n",
       "</table>\n",
       "<table class=\"simpletable\">\n",
       "<tr>\n",
       "    <td></td>       <th>coef</th>     <th>std err</th>      <th>z</th>      <th>P>|z|</th>  <th>[0.025</th>    <th>0.975]</th>  \n",
       "</tr>\n",
       "<tr>\n",
       "  <th>const</th> <td>   59.7412</td> <td>    2.385</td> <td>   25.044</td> <td> 0.000</td> <td>   55.066</td> <td>   64.417</td>\n",
       "</tr>\n",
       "<tr>\n",
       "  <th>par0</th>  <td>   58.5184</td> <td>    1.389</td> <td>   42.123</td> <td> 0.000</td> <td>   55.796</td> <td>   61.241</td>\n",
       "</tr>\n",
       "</table>"
      ],
      "text/plain": [
       "<class 'statsmodels.iolib.summary.Summary'>\n",
       "\"\"\"\n",
       "                               Auction Results                                \n",
       "==============================================================================\n",
       "Dep. Variable:                      y   Log-Likelihood:                -5321.7\n",
       "Model:                        Auction   AIC:                         1.065e+04\n",
       "Method:            Maximum Likelihood   BIC:                         1.065e+04\n",
       "Date:                Mon, 21 Dec 2020                                         \n",
       "Time:                        19:43:29                                         \n",
       "No. Observations:                1000                                         \n",
       "Df Residuals:                     999                                         \n",
       "Df Model:                           0                                         \n",
       "==============================================================================\n",
       "                 coef    std err          z      P>|z|      [0.025      0.975]\n",
       "------------------------------------------------------------------------------\n",
       "const         59.7412      2.385     25.044      0.000      55.066      64.417\n",
       "par0          58.5184      1.389     42.123      0.000      55.796      61.241\n",
       "==============================================================================\n",
       "\"\"\""
      ]
     },
     "execution_count": 93,
     "metadata": {},
     "output_type": "execute_result"
    }
   ],
   "source": [
    "class Auction(GenericLikelihoodModel):\n",
    "    \n",
    "    def __init__(self, *args, values_distr=stats.logistic, **kwargs):\n",
    "        super(Auction,self).__init__(*args,**kwargs)\n",
    "        self.values_distr = values_distr\n",
    "        \n",
    "    \n",
    "    def loglikeobs(self, params):\n",
    "        bids = self.endog\n",
    "        i = self.exog[:,0]\n",
    "        cdf = self.values_distr.cdf(bids,loc=params[0],scale=max(params[1],1e-5))\n",
    "        pdf = self.values_distr.pdf(bids,loc=params[0],scale=max(params[1],1e-5))\n",
    "        factorial = scipy.special.factorial(i)/scipy.special.factorial(i-2)  \n",
    "        \n",
    "        order_cdf = factorial*pdf*cdf**(i-2)*(1-cdf) #np.log(i) + np.log(cdf) + (i-1)*np.log((1-cdf)) #second highest order statistic\n",
    "        return np.log(order_cdf)\n",
    "\n",
    "np.random.seed()\n",
    "yn,xn,nobs = gen_data(stats.logistic(loc=mu, scale=sigma))\n",
    "model = Auction(yn,xn)\n",
    "model_fit = model.fit(start_params=[mu,sigma],disp=False)\n",
    "model_fit.summary()"
   ]
  },
  {
   "cell_type": "code",
   "execution_count": 94,
   "metadata": {},
   "outputs": [
    {
     "name": "stdout",
     "output_type": "stream",
     "text": [
      "(21.12907318501675, 0.1954874878460562)\n"
     ]
    }
   ],
   "source": [
    "def compute_llr(yn,xn):\n",
    "    \n",
    "    #fit normal values\n",
    "    model1 = Auction(yn,xn)\n",
    "    model1_fit = model1.fit(start_params=[mu,sigma],disp=False)\n",
    "    ll1 = model1.loglikeobs(model1_fit.params)\n",
    "    \n",
    "    #fit logistic values\n",
    "    model2 = Auction(yn,xn*num_bidders2/num_bidders)\n",
    "    model2_fit = model2.fit(start_params=[mu,sigma],disp=False)\n",
    "    ll2 = model2.loglikeobs(model2_fit.params)\n",
    "    \n",
    "    llr = ll1.sum() - ll2.sum()\n",
    "    omega2 = (ll1- ll2).var()\n",
    "    return llr,np.sqrt(omega2)\n",
    "\n",
    "yn,xn,nobs = gen_data()\n",
    "print(compute_llr(yn,xn))"
   ]
  },
  {
   "cell_type": "code",
   "execution_count": 95,
   "metadata": {},
   "outputs": [
    {
     "name": "stdout",
     "output_type": "stream",
     "text": [
      "0\n",
      "1\n"
     ]
    },
    {
     "data": {
      "image/png": "[encoded data removed]",
      "text/plain": [
       "<Figure size 432x288 with 1 Axes>"
      ]
     },
     "metadata": {
      "needs_background": "light"
     },
     "output_type": "display_data"
    }
   ],
   "source": [
    "yn,xn,nobs = gen_data()\n",
    "print(vuong_tests.bootstrap_test(yn,xn,nobs,compute_llr,hist=True))\n",
    "print(vuong_tests.regular_test(yn,xn,nobs,compute_llr,hist=True))\n",
    "\n",
    "plt.title(\"Comparison with bootstrap\")\n",
    "plt.xlabel(\"Test Statistic\")\n",
    "plt.ylabel(\"Density\")\n",
    "plt.legend()\n",
    "plt.savefig('../figs/bootstrap_compare_bidders')\n",
    "plt.show()"
   ]
  },
  {
   "cell_type": "code",
   "execution_count": 96,
   "metadata": {},
   "outputs": [
    {
     "name": "stderr",
     "output_type": "stream",
     "text": [
      "/home/erichschulman/anaconda3/lib/python3.7/site-packages/scipy/stats/_continuous_distns.py:4221: RuntimeWarning: overflow encountered in exp\n",
      "  return -x - 2. * sc.log1p(np.exp(-x))\n",
      "/home/erichschulman/anaconda3/lib/python3.7/site-packages/ipykernel_launcher.py:16: RuntimeWarning: divide by zero encountered in log\n",
      "  app.launch_new_instance()\n"
     ]
    },
    {
     "name": "stdout",
     "output_type": "stream",
     "text": [
      "reg: [0.15 0.85 0.  ], boot: [0.15 0.85 0.  ], llr:17.80538802605206, omega:0.17138272427404794\n"
     ]
    }
   ],
   "source": [
    "reg,boot,llr, omega = vuong_tests.monte_carlo(20,gen_data,compute_llr)\n",
    "print(\"reg: %s, boot: %s, llr:%s, omega:%s\"%(reg,boot,llr, omega))"
   ]
  },
  {
   "cell_type": "code",
   "execution_count": 97,
   "metadata": {},
   "outputs": [],
   "source": [
    "def setup_shi(yn,xn):\n",
    "    model1 = Auction(yn,xn)\n",
    "    model1_fit = model1.fit(start_params=[mu,sigma],disp=False)\n",
    "    ll1 = model1.loglikeobs(model1_fit.params)\n",
    "    grad1 =  model1.score_obs(model1_fit.params)    \n",
    "    hess1 = model1.hessian(model1_fit.params)\n",
    "    \n",
    "    #fit logistic values\n",
    "    model2 = Auction(yn,xn*num_bidders2/num_bidders)\n",
    "    model2_fit = model2.fit(start_params=[mu,sigma],disp=False)\n",
    "    ll2 = model2.loglikeobs(model2_fit.params)\n",
    "    grad2 =  model2.score_obs(model2_fit.params)    \n",
    "    hess2 = model2.hessian(model2_fit.params)\n",
    "    \n",
    "    return ll1,grad1,hess1,ll2,2, grad2,hess2,2\n",
    "\n",
    "yn,xn,nobs = gen_data()\n",
    "ll1,grad1,hess1,ll2,k1, grad2,hess2,k2 = setup_shi(yn,xn)"
   ]
  },
  {
   "cell_type": "code",
   "execution_count": 90,
   "metadata": {},
   "outputs": [
    {
     "name": "stderr",
     "output_type": "stream",
     "text": [
      "/home/erichschulman/anaconda3/lib/python3.7/site-packages/ipykernel_launcher.py:16: RuntimeWarning: divide by zero encountered in log\n",
      "  app.launch_new_instance()\n"
     ]
    },
    {
     "name": "stdout",
     "output_type": "stream",
     "text": [
      "[0.1 0.9 0. ]\n"
     ]
    }
   ],
   "source": [
    "shi_result = vuong_tests.monte_carlo_shi(10,setup_shi,gen_data)\n",
    "print(shi_result)"
   ]
  },
  {
   "cell_type": "code",
   "execution_count": 91,
   "metadata": {},
   "outputs": [],
   "source": [
    "#normal distribution, 5, 20 bidders\n",
    "#reg: [0.82 0.18 0.  ], boot: [0.78 0.22 0.  ], llr:2.602891682004338, omega:0.07058141556876986\n",
    "#shi: [0.97 0.03 0.  ]\n",
    "\n",
    "#logistic distribution, num_bidders2 = 3, num_bidders = 6, mu = 20, sigma = 5\n",
    "#reg: [0.85 0.15 0.  ], boot: [0.8 0.2 0. ], llr:2.0640882842566497, omega:0.07172781203070461\n",
    "\n",
    "#logistic distribution, num_bidders2 = 6, num_bidders = 2, mu = 20, sigma = 5\n",
    "#reg: [0.85 0.15 0.  ], boot: [0.9 0.1 0. ], llr:1.699842999683483, omega:0.07413523308440399'\n",
    "#[0.78 0.22 0. ], boot: [0.78 0.22 0. ]\n",
    "#[0.99 0.01 0.  ]\n",
    "\n",
    "#num_bidders2 = 3, num_bidders = 4, mu = 20, sigma = 10\n",
    "#reg: [0.6 0.4 0. ], boot: [0.7 0.3 0. ], llr:1.5855838892164684, omega:0.03291415905392439\n",
    "#reg: [0.56 0.44 0.  ], boot: [0.5 0.5 0. ], llr:1.9897437189929996, omega:0.03341120424668039\n",
    "\n",
    "#num_bidders2 = 4, num_bidders = 3, mu = 20, sigma = 10\n",
    "#reg: [0.94 0.06 0.  ], boot: [0.91 0.08 0.01], llr:0.5690036148998024, omega:0.034390985434368665\n",
    "#[1. 0. 0.]\n",
    "\n",
    "#num_bidders2 = 4, num_bidders = 3, mu = 30, sigma = 10 \n",
    "#reg: [1.00 0.00 0.  ], boot: [0.8 0.2 0.0], \n",
    "\n",
    "######## 12/18/20###########\n",
    "\n",
    "#num_bidders = 4 num_bidders2 = 3 mu = 15 sigma = 10, logistic\n",
    "#reg: [0.7 0.3 0. ], boot: [0.75 0.25 0.  ], llr:3.2696434027566967, omega:0.07019086239096824\n",
    "#reg: [0.67 0.33 0.  ], boot: [0.69 0.31 0.  ], llr:2.976976241056418, omega:0.06947260639123216\n",
    "\n",
    "#num_bidders = 4 num_bidders2 = 3 mu = 12 sigma = 10, logistic\n",
    "#reg: [0.67 0.33 0.  ], boot: [0.69 0.31 0.  ], llr:3.071048369555979, omega:0.06914281774833132\n",
    "\n",
    "#num_bidders = 4 num_bidders2 = 3 mu = 8 sigma = 10, logistic\n",
    "#reg: [0.78 0.22 0.  ], boot: [0.83 0.17 0.  ], llr:2.5349933034949164, omega:0.07031971713889833\n",
    "\n",
    "#num_bidders = 4 num_bidders2 = 3 mu = 3 sigma = 10, logistic\n",
    "#reg: [0.76 0.24 0.  ], boot: [0.79 0.21 0.  ], llr:2.4000424161817957, omega:0.07144266907312949, [0.88 0.12 0.  ]\n",
    "\n",
    "#num_bidders = 4 num_bidders2 = 3 mu = 20 sigma = 5, logistic\n",
    "#reg: [0.84 0.16 0.  ], boot: [0.85 0.15 0.  ], llr:2.4119, omega:0.070727\n",
    "\n",
    "#num_bidders = 4 num_bidders2 = 3 mu = 20 sigma = 1, logistic\n",
    "#reg: [0.82 0.18 0.  ], boot: [0.84 0.16 0.  ], llr:2.4119, omega:0.070727\n",
    "\n",
    "#num_bidders = 4 num_bidders2 = 3 mu = 30 sigma = 1, logistic\n",
    "#reg: [0.72 0.28 0.  ], boot: [0.80 0.19 0.1  ], llr:2.8092, omega:0.070771\n",
    "\n",
    "############## 12/18/20 pt ii ############################\n",
    "\n",
    "#num_bidders = 10 num_bidders2 = 5 mu = 1 sigma = 20, logistic\n",
    "#reg: [0.7 0.3 0. ], boot: [0.8 0.2 0. ], llr:3.8579200583681086, omega:0.07836696756409663\n",
    "#reg: [0.68 0.02 0. ], boot: [0.71 0.19 0. ]\n",
    "\n",
    "#num_bidders = 10 num_bidders2 = 5 mu = 1 sigma = 25, logistic\n",
    "#reg: [0.65 0.35 0.  ], boot: [0.75 0.25 0.  ], llr:3.7606742186738757, omega:0.0780112806949667\n",
    "\n",
    "\n",
    "#num_bidders = 10 num_bidders2 = 5 mu = 1 sigma = 30, logistic\n",
    "#reg: [0.45 0.55 0.  ], boot: [0.55 0.45 0.  ], llr:4.522611922554143, omega:0.0763853682184193\n",
    "#reg: [0.67 0.33 0.0], boot: [0.74 0.26 0.  ], [0.86 0.14] llr:3.47084, omega:0.078228 <---- use this one\n",
    "\n",
    "#num_bidders = 10 num_bidders2 = 5 mu = 20 sigma = 30, logistic\n",
    "#reg: [0.9 0.1 0.  ], boot: [0.9 0.1 0.  ],\n",
    "\n",
    "#num_bidders = 10 num_bidders2 = 5 mu = 30 sigma = 30, logistic\n",
    "#reg: [0.7 0.3 0.  ], boot: [0.7 0.3 0. ], llr:3.26, omega:0.0775\n",
    "\n",
    "\n",
    "#num_bidders = 10 num_bidders2 = 5 mu = 60 sigma = 30, logistic <--- and this one?\n",
    "#reg: [0.6 0.4 0.  ], boot: [0.6 0.4 0. ]\n",
    "\n",
    "#num_bidders = 10 num_bidders2 = 5 mu = 120 sigma = 30, logistic\n",
    "#reg: [0.7 0.3 0.  ], boot: [0.9 0.1 0. ]\n",
    "\n",
    "#num_bidders = 10 num_bidders2 = 5 mu = 150 sigma = 30, logistic\n",
    "#reg: [0.7 0.3 0.  ], boot: [0.7 0.3 0. ]\n",
    "\n",
    "############## 12/21/20 ############################\n",
    "#num_bidders = 10 num_bidders2 = 3 mu = 1 sigma = 3, logistic\n",
    "#reg: [0.15 0.85 0.  ], boot: [0.15 0.85 0.  ], llr:18.285808550743308, omega:0.17603848398407118\n",
    "\n",
    "#num_bidders = 10 num_bidders2 = 3 mu = 1 sigma = 60, logistic\n",
    "#reg: [0.15 0.85 0.  ], boot: [0.4 0.6 0. ], llr:19.274817437516322, omega:0.17779566605304323\n",
    "\n",
    "#num_bidders = 10 num_bidders2 = 3 mu = 10 sigma = 60, logistic\n",
    "#reg: [0.05 0.95 0.  ], boot: [0.1 0.9 0. ], llr:18.16, omega:0.17\n",
    "\n",
    "#num_bidders = 10 num_bidders2 = 3 mu = 60 sigma = 60, logistic\n",
    "#reg: [0.15 0.85 0.  ], boot: [0.15 0.85 0.  ], llr:17.80538802605206, omega:0.17138272427404794\n",
    "\n",
    "#num_bidders = 10 num_bidders2 = 2 mu = 1 sigma = 3, logistic\n",
    "#reg: [0.0 1.0 0.  ], boot:  [0.0 1.0 0.  ], llr:57.26, omega:0.294 \n",
    "\n",
    "#num_bidders = 10 num_bidders2 = 2 mu = 1 sigma = .5, logistic\n",
    "#reg: [0. 1. 0.], boot: [0.05 0.95 0.  ], llr:21.278397941395117, omega:0.16686885694134274\n",
    "\n",
    "#num_bidders = 10 num_bidders2 = 4 mu = 1 sigma = 1, logistic\n",
    "#reg: [0.5 0.5 0.  ], boot:  [0.65 0.35 0.  ], llr:7.64, omega:0.12 \n",
    "\n",
    "#num_bidders = 10 num_bidders2 = 4 mu = 1 sigma = 3, logistic\n",
    "#reg: [0.4 0.6 0.  ], boot:  [0.45 0.55 0.  ], llr:7.49, omega:0.114 \n",
    "\n",
    "#num_bidders = 10 num_bidders2 = 4 mu = 1 sigma = 6, logistic\n",
    "#reg: [0.5 0.5 0. ], boot: [0.6 0.4 0. ], llr:6.763415206032301, omega:0.11441252699510122\n",
    "\n",
    "#num_bidders = 10 num_bidders2 = 4 mu = 1 sigma = 10, logistic\n",
    "#reg: [0.45 0.55 0.  ], boot:  [0.45 0.55 0.  ]\n",
    "\n",
    "#num_bidders = 10 num_bidders2 = 4 mu = 1 sigma = 50, logistic\n",
    "#reg: [0.3 0.7 0. ], boot: [0.35 0.65 0.  ], llr:9.468803286095044, omega:0.11349409948931999"
   ]
  },
  {
   "cell_type": "code",
   "execution_count": null,
   "metadata": {},
   "outputs": [],
   "source": []
  }
 ],
 "metadata": {
  "kernelspec": {
   "display_name": "Python 3",
   "language": "python",
   "name": "python3"
  },
  "language_info": {
   "codemirror_mode": {
    "name": "ipython",
    "version": 3
   },
   "file_extension": ".py",
   "mimetype": "text/x-python",
   "name": "python",
   "nbconvert_exporter": "python",
   "pygments_lexer": "ipython3",
   "version": "3.7.4"
  }
 },
 "nbformat": 4,
 "nbformat_minor": 2
}
