{
 "cells": [
  {
   "cell_type": "code",
   "execution_count": 7,
   "metadata": {},
   "outputs": [],
   "source": [
    "#math\n",
    "import numpy as np\n",
    "import scipy.stats as stats\n",
    "import scipy.special\n",
    "#graphing\n",
    "import matplotlib.pyplot as plt\n",
    "#stats\n",
    "import statsmodels.api as sm\n",
    "from statsmodels.base.model import GenericLikelihoodModel\n",
    "from statsmodels.distributions.empirical_distribution import ECDF"
   ]
  },
  {
   "cell_type": "code",
   "execution_count": 53,
   "metadata": {},
   "outputs": [
    {
     "name": "stdout",
     "output_type": "stream",
     "text": [
      "(1000,)\n",
      "53.37195185111751\n"
     ]
    }
   ],
   "source": [
    "num_bidders = 4\n",
    "num_bidders2 = 3\n",
    "mu = 1\n",
    "sigma = 30\n",
    "\n",
    "def gen_data(values):\n",
    "    nobs = 1000\n",
    "    \n",
    "    #parameters\n",
    "    \n",
    "    \n",
    "    min_bids =num_bidders\n",
    "    max_bids =num_bidders\n",
    "    \n",
    "    bid_types = range(min_bids,max_bids+1)\n",
    "    prob_type = [1/len(bid_types)]*len(bid_types)\n",
    "    bidders = np.random.choice(bid_types, nobs, p=prob_type)\n",
    "    bidders = np.sort(bidders)\n",
    "    bids = []\n",
    "    for i in bid_types:\n",
    "        #count number of obs\n",
    "        num_i = sum(i == bidders)\n",
    "        bids_i = values.rvs(size=(num_i,i))\n",
    "        bids_i =  np.sort(bids_i, axis=1)\n",
    "        bids_i =  bids_i[:,-2]\n",
    "        bids = np.concatenate((bids, bids_i))\n",
    "    \n",
    "    #draw bids\n",
    "    return bids,bidders,nobs\n",
    "\n",
    "\n",
    "values_distr =stats.logistic(loc=mu, scale=sigma)\n",
    "bids,i,nobs = gen_data(values_distr)\n",
    "print(bids.shape)\n",
    "print(bids[i == num_bidders].mean())"
   ]
  },
  {
   "cell_type": "code",
   "execution_count": 54,
   "metadata": {},
   "outputs": [
    {
     "data": {
      "text/plain": [
       "array([24.,  6.])"
      ]
     },
     "execution_count": 54,
     "metadata": {},
     "output_type": "execute_result"
    }
   ],
   "source": [
    "scipy.special.factorial([4,3])"
   ]
  },
  {
   "cell_type": "code",
   "execution_count": 55,
   "metadata": {},
   "outputs": [
    {
     "data": {
      "text/html": [
       "<table class=\"simpletable\">\n",
       "<caption>Auction Results</caption>\n",
       "<tr>\n",
       "  <th>Dep. Variable:</th>             <td>y</td>         <th>  Log-Likelihood:    </th> <td> -4666.0</td>\n",
       "</tr>\n",
       "<tr>\n",
       "  <th>Model:</th>                  <td>Auction</td>      <th>  AIC:               </th> <td>   9334.</td>\n",
       "</tr>\n",
       "<tr>\n",
       "  <th>Method:</th>           <td>Maximum Likelihood</td> <th>  BIC:               </th> <td>   9339.</td>\n",
       "</tr>\n",
       "<tr>\n",
       "  <th>Date:</th>              <td>Mon, 21 Dec 2020</td>  <th>                     </th>     <td> </td>   \n",
       "</tr>\n",
       "<tr>\n",
       "  <th>Time:</th>                  <td>19:27:08</td>      <th>                     </th>     <td> </td>   \n",
       "</tr>\n",
       "<tr>\n",
       "  <th>No. Observations:</th>       <td>  1000</td>       <th>                     </th>     <td> </td>   \n",
       "</tr>\n",
       "<tr>\n",
       "  <th>Df Residuals:</th>           <td>   999</td>       <th>                     </th>     <td> </td>   \n",
       "</tr>\n",
       "<tr>\n",
       "  <th>Df Model:</th>               <td>     0</td>       <th>                     </th>     <td> </td>   \n",
       "</tr>\n",
       "</table>\n",
       "<table class=\"simpletable\">\n",
       "<tr>\n",
       "    <td></td>       <th>coef</th>     <th>std err</th>      <th>z</th>      <th>P>|z|</th>  <th>[0.025</th>    <th>0.975]</th>  \n",
       "</tr>\n",
       "<tr>\n",
       "  <th>const</th> <td>    0.4097</td> <td>    1.236</td> <td>    0.331</td> <td> 0.740</td> <td>   -2.013</td> <td>    2.833</td>\n",
       "</tr>\n",
       "<tr>\n",
       "  <th>par0</th>  <td>   30.1673</td> <td>    0.721</td> <td>   41.820</td> <td> 0.000</td> <td>   28.753</td> <td>   31.581</td>\n",
       "</tr>\n",
       "</table>"
      ],
      "text/plain": [
       "<class 'statsmodels.iolib.summary.Summary'>\n",
       "\"\"\"\n",
       "                               Auction Results                                \n",
       "==============================================================================\n",
       "Dep. Variable:                      y   Log-Likelihood:                -4666.0\n",
       "Model:                        Auction   AIC:                             9334.\n",
       "Method:            Maximum Likelihood   BIC:                             9339.\n",
       "Date:                Mon, 21 Dec 2020                                         \n",
       "Time:                        19:27:08                                         \n",
       "No. Observations:                1000                                         \n",
       "Df Residuals:                     999                                         \n",
       "Df Model:                           0                                         \n",
       "==============================================================================\n",
       "                 coef    std err          z      P>|z|      [0.025      0.975]\n",
       "------------------------------------------------------------------------------\n",
       "const          0.4097      1.236      0.331      0.740      -2.013       2.833\n",
       "par0          30.1673      0.721     41.820      0.000      28.753      31.581\n",
       "==============================================================================\n",
       "\"\"\""
      ]
     },
     "execution_count": 55,
     "metadata": {},
     "output_type": "execute_result"
    }
   ],
   "source": [
    "class Auction(GenericLikelihoodModel):\n",
    "    \n",
    "    def __init__(self, *args, values_distr=stats.logistic, **kwargs):\n",
    "        super(Auction,self).__init__(*args,**kwargs)\n",
    "        self.values_distr = values_distr\n",
    "        \n",
    "    \n",
    "    def loglikeobs(self, params):\n",
    "        bids = self.endog\n",
    "        i = self.exog[:,0]\n",
    "        cdf = self.values_distr.cdf(bids,loc=params[0],scale=max(params[1],1e-5))\n",
    "        pdf = self.values_distr.pdf(bids,loc=params[0],scale=max(params[1],1e-5))\n",
    "        factorial = scipy.special.factorial(i)/scipy.special.factorial(i-2)  \n",
    "        \n",
    "        order_cdf = factorial*pdf*cdf**(i-2)*(1-cdf) #np.log(i) + np.log(cdf) + (i-1)*np.log((1-cdf)) #second highest order statistic\n",
    "        return np.log(order_cdf)\n",
    "    \n",
    "\n",
    "np.random.seed()\n",
    "yn,xn,nobs = gen_data(stats.logistic(loc=mu, scale=sigma))\n",
    "model = Auction(yn,xn)\n",
    "model_fit = model.fit(start_params=[mu,sigma],disp=False)\n",
    "model_fit.summary()"
   ]
  },
  {
   "cell_type": "code",
   "execution_count": 56,
   "metadata": {},
   "outputs": [
    {
     "name": "stdout",
     "output_type": "stream",
     "text": [
      "                               Auction Results                                \n",
      "==============================================================================\n",
      "Dep. Variable:                      y   Log-Likelihood:                -4659.0\n",
      "Model:                        Auction   AIC:                             9320.\n",
      "Method:            Maximum Likelihood   BIC:                             9325.\n",
      "Date:                Mon, 21 Dec 2020                                         \n",
      "Time:                        19:27:09                                         \n",
      "No. Observations:                1000                                         \n",
      "Df Residuals:                     999                                         \n",
      "Df Model:                           0                                         \n",
      "==============================================================================\n",
      "                 coef    std err          z      P>|z|      [0.025      0.975]\n",
      "------------------------------------------------------------------------------\n",
      "const          1.6344      1.228      1.331      0.183      -0.772       4.041\n",
      "par0          30.0261      0.716     41.941      0.000      28.623      31.429\n",
      "==============================================================================\n",
      "                               Auction Results                                \n",
      "==============================================================================\n",
      "Dep. Variable:                      y   Log-Likelihood:                -4664.9\n",
      "Model:                        Auction   AIC:                             9332.\n",
      "Method:            Maximum Likelihood   BIC:                             9337.\n",
      "Date:                Mon, 21 Dec 2020                                         \n",
      "Time:                        19:27:09                                         \n",
      "No. Observations:                1000                                         \n",
      "Df Residuals:                     999                                         \n",
      "Df Model:                           0                                         \n",
      "==============================================================================\n",
      "                 coef    std err          z      P>|z|      [0.025      0.975]\n",
      "------------------------------------------------------------------------------\n",
      "const         40.1568      0.821     48.897      0.000      38.547      41.766\n",
      "par0          25.2499      0.618     40.863      0.000      24.039      26.461\n",
      "==============================================================================\n",
      "0.005845359098006626\n",
      "0.013779009291412646\n"
     ]
    }
   ],
   "source": [
    "np.random.seed()\n",
    "yn,xn,nobs = gen_data(stats.logistic(loc=mu, scale=sigma))\n",
    "\n",
    "#fit normal values\n",
    "model1 = Auction(yn,xn)\n",
    "model_fit1 = model1.fit(start_params=[mu,sigma],disp=False)\n",
    "\n",
    "#fit logistic values\n",
    "model2 = Auction(yn,num_bidders2*np.ones(xn.shape[0]))\n",
    "model_fit2 = model2.fit(start_params=[mu,sigma],disp=False)\n",
    "\n",
    "\n",
    "print(model_fit1.summary())\n",
    "print(model_fit2.summary())\n",
    "\n",
    "print( (model1.loglikeobs(model_fit1.params) - model2.loglikeobs(model_fit2.params) ).mean() )\n",
    "print( (model1.loglikeobs(model_fit1.params) - model2.loglikeobs(model_fit2.params) ).var() )"
   ]
  },
  {
   "cell_type": "code",
   "execution_count": 57,
   "metadata": {},
   "outputs": [
    {
     "data": {
      "image/png": "[encoded data removed]",
      "text/plain": [
       "<Figure size 432x288 with 1 Axes>"
      ]
     },
     "metadata": {
      "needs_background": "light"
     },
     "output_type": "display_data"
    }
   ],
   "source": [
    "#create plot for true\n",
    "support_y = np.arange(yn.min(),yn.max(),.1)\n",
    "support_x = num_bidders*np.ones(len(support_y))\n",
    "true_model = Auction(support_y,support_x)\n",
    "true_model_y = np.exp(true_model.loglikeobs([mu,sigma]))\n",
    "plt.plot(support_y, true_model_y ,label=\"truth %s bidders\"%num_bidders)\n",
    "\n",
    "#create plot for normal\n",
    "fit_normal_y = np.exp(true_model.loglikeobs(model_fit1.params))\n",
    "plt.plot(support_y, fit_normal_y ,label=\"%s bidders\"%num_bidders)\n",
    "\n",
    "#create plot for logistic\n",
    "normal2_model = Auction(support_y,support_x*num_bidders2/num_bidders)\n",
    "fit_normal2_y = np.exp(normal2_model.loglikeobs(model_fit2.params))\n",
    "plt.plot(support_y, fit_normal2_y ,label=\"%s bidders\"%num_bidders2)\n",
    "\n",
    "plt.legend()\n",
    "plt.hist(yn,bins=20,density=True)\n",
    "\n",
    "plt.ylabel(\"density\")\n",
    "plt.xlabel(\"bid\")\n",
    "#plt.ylim((0.,100.))\n",
    "plt.savefig('../figs/auction_plot1.png')\n",
    "#plt.xlim((-.25,0.75))\n",
    "#plt.savefig('figs/nonnested_zoom')\n",
    "plt.show()\n",
    "\n",
    "plt.show()\n"
   ]
  },
  {
   "cell_type": "code",
   "execution_count": null,
   "metadata": {},
   "outputs": [],
   "source": []
  },
  {
   "cell_type": "code",
   "execution_count": null,
   "metadata": {},
   "outputs": [],
   "source": []
  },
  {
   "cell_type": "code",
   "execution_count": null,
   "metadata": {},
   "outputs": [],
   "source": []
  }
 ],
 "metadata": {
  "kernelspec": {
   "display_name": "Python 3",
   "language": "python",
   "name": "python3"
  },
  "language_info": {
   "codemirror_mode": {
    "name": "ipython",
    "version": 3
   },
   "file_extension": ".py",
   "mimetype": "text/x-python",
   "name": "python",
   "nbconvert_exporter": "python",
   "pygments_lexer": "ipython3",
   "version": "3.7.4"
  }
 },
 "nbformat": 4,
 "nbformat_minor": 2
}
