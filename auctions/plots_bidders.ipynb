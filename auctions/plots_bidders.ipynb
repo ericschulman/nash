{
 "cells": [
  {
   "cell_type": "code",
   "execution_count": 31,
   "metadata": {},
   "outputs": [],
   "source": [
    "#math\n",
    "import numpy as np\n",
    "import scipy.stats as stats\n",
    "import scipy.special\n",
    "#graphing\n",
    "import matplotlib.pyplot as plt\n",
    "#stats\n",
    "import statsmodels.api as sm\n",
    "from statsmodels.base.model import GenericLikelihoodModel\n",
    "from statsmodels.distributions.empirical_distribution import ECDF"
   ]
  },
  {
   "cell_type": "code",
   "execution_count": 47,
   "metadata": {},
   "outputs": [
    {
     "name": "stdout",
     "output_type": "stream",
     "text": [
      "(1000,)\n",
      "52.86044450736782\n"
     ]
    }
   ],
   "source": [
    "num_bidders = 10\n",
    "num_bidders2 = 3\n",
    "mu = 1\n",
    "sigma = 30\n",
    "\n",
    "def gen_data(values):\n",
    "    nobs = 1000\n",
    "    \n",
    "    #parameters\n",
    "    \n",
    "    \n",
    "    min_bids =num_bidders\n",
    "    max_bids =num_bidders\n",
    "    \n",
    "    bid_types = range(min_bids,max_bids+1)\n",
    "    prob_type = [1/len(bid_types)]*len(bid_types)\n",
    "    bidders = np.random.choice(bid_types, nobs, p=prob_type)\n",
    "    bidders = np.sort(bidders)\n",
    "    bids = []\n",
    "    for i in bid_types:\n",
    "        #count number of obs\n",
    "        num_i = sum(i == bidders)\n",
    "        bids_i = values.rvs(size=(num_i,i))\n",
    "        bids_i =  np.sort(bids_i, axis=1)\n",
    "        bids_i =  bids_i[:,-2]\n",
    "        bids = np.concatenate((bids, bids_i))\n",
    "    \n",
    "    #draw bids\n",
    "    return bids,bidders,nobs\n",
    "\n",
    "\n",
    "values_distr =stats.logistic(loc=mu, scale=sigma)\n",
    "bids,i,nobs = gen_data(values_distr)\n",
    "print(bids.shape)\n",
    "print(bids[i == num_bidders].mean())"
   ]
  },
  {
   "cell_type": "code",
   "execution_count": 48,
   "metadata": {},
   "outputs": [
    {
     "data": {
      "text/plain": [
       "array([24.,  6.])"
      ]
     },
     "execution_count": 48,
     "metadata": {},
     "output_type": "execute_result"
    }
   ],
   "source": [
    "scipy.special.factorial([4,3])"
   ]
  },
  {
   "cell_type": "code",
   "execution_count": 49,
   "metadata": {},
   "outputs": [
    {
     "data": {
      "text/html": [
       "<table class=\"simpletable\">\n",
       "<caption>Auction Results</caption>\n",
       "<tr>\n",
       "  <th>Dep. Variable:</th>             <td>y</td>         <th>  Log-Likelihood:    </th> <td> -4656.4</td>\n",
       "</tr>\n",
       "<tr>\n",
       "  <th>Model:</th>                  <td>Auction</td>      <th>  AIC:               </th> <td>   9315.</td>\n",
       "</tr>\n",
       "<tr>\n",
       "  <th>Method:</th>           <td>Maximum Likelihood</td> <th>  BIC:               </th> <td>   9320.</td>\n",
       "</tr>\n",
       "<tr>\n",
       "  <th>Date:</th>              <td>Fri, 18 Dec 2020</td>  <th>                     </th>     <td> </td>   \n",
       "</tr>\n",
       "<tr>\n",
       "  <th>Time:</th>                  <td>18:21:43</td>      <th>                     </th>     <td> </td>   \n",
       "</tr>\n",
       "<tr>\n",
       "  <th>No. Observations:</th>       <td>  1000</td>       <th>                     </th>     <td> </td>   \n",
       "</tr>\n",
       "<tr>\n",
       "  <th>Df Residuals:</th>           <td>   999</td>       <th>                     </th>     <td> </td>   \n",
       "</tr>\n",
       "<tr>\n",
       "  <th>Df Model:</th>               <td>     0</td>       <th>                     </th>     <td> </td>   \n",
       "</tr>\n",
       "</table>\n",
       "<table class=\"simpletable\">\n",
       "<tr>\n",
       "    <td></td>       <th>coef</th>     <th>std err</th>      <th>z</th>      <th>P>|z|</th>  <th>[0.025</th>    <th>0.975]</th>  \n",
       "</tr>\n",
       "<tr>\n",
       "  <th>const</th> <td>   -0.0137</td> <td>    1.223</td> <td>   -0.011</td> <td> 0.991</td> <td>   -2.410</td> <td>    2.383</td>\n",
       "</tr>\n",
       "<tr>\n",
       "  <th>par0</th>  <td>   29.9511</td> <td>    0.715</td> <td>   41.904</td> <td> 0.000</td> <td>   28.550</td> <td>   31.352</td>\n",
       "</tr>\n",
       "</table>"
      ],
      "text/plain": [
       "<class 'statsmodels.iolib.summary.Summary'>\n",
       "\"\"\"\n",
       "                               Auction Results                                \n",
       "==============================================================================\n",
       "Dep. Variable:                      y   Log-Likelihood:                -4656.4\n",
       "Model:                        Auction   AIC:                             9315.\n",
       "Method:            Maximum Likelihood   BIC:                             9320.\n",
       "Date:                Fri, 18 Dec 2020                                         \n",
       "Time:                        18:21:43                                         \n",
       "No. Observations:                1000                                         \n",
       "Df Residuals:                     999                                         \n",
       "Df Model:                           0                                         \n",
       "==============================================================================\n",
       "                 coef    std err          z      P>|z|      [0.025      0.975]\n",
       "------------------------------------------------------------------------------\n",
       "const         -0.0137      1.223     -0.011      0.991      -2.410       2.383\n",
       "par0          29.9511      0.715     41.904      0.000      28.550      31.352\n",
       "==============================================================================\n",
       "\"\"\""
      ]
     },
     "execution_count": 49,
     "metadata": {},
     "output_type": "execute_result"
    }
   ],
   "source": [
    "class Auction(GenericLikelihoodModel):\n",
    "    \n",
    "    def __init__(self, *args, values_distr=stats.logistic, **kwargs):\n",
    "        super(Auction,self).__init__(*args,**kwargs)\n",
    "        self.values_distr = values_distr\n",
    "        \n",
    "    \n",
    "    def loglikeobs(self, params):\n",
    "        bids = self.endog\n",
    "        i = self.exog[:,0]\n",
    "        cdf = self.values_distr.cdf(bids,loc=params[0],scale=max(params[1],1e-5))\n",
    "        pdf = self.values_distr.pdf(bids,loc=params[0],scale=max(params[1],1e-5))\n",
    "        factorial = scipy.special.factorial(i)/scipy.special.factorial(i-2)  \n",
    "        \n",
    "        order_cdf = factorial*pdf*cdf**(i-2)*(1-cdf) #np.log(i) + np.log(cdf) + (i-1)*np.log((1-cdf)) #second highest order statistic\n",
    "        return np.log(order_cdf)\n",
    "    \n",
    "\n",
    "np.random.seed()\n",
    "yn,xn,nobs = gen_data(stats.logistic(loc=mu, scale=sigma))\n",
    "model = Auction(yn,xn)\n",
    "model_fit = model.fit(start_params=[mu,sigma],disp=False)\n",
    "model_fit.summary()"
   ]
  },
  {
   "cell_type": "code",
   "execution_count": 50,
   "metadata": {},
   "outputs": [
    {
     "name": "stdout",
     "output_type": "stream",
     "text": [
      "                               Auction Results                                \n",
      "==============================================================================\n",
      "Dep. Variable:                      y   Log-Likelihood:                -4656.3\n",
      "Model:                        Auction   AIC:                             9315.\n",
      "Method:            Maximum Likelihood   BIC:                             9320.\n",
      "Date:                Fri, 18 Dec 2020                                         \n",
      "Time:                        18:21:44                                         \n",
      "No. Observations:                1000                                         \n",
      "Df Residuals:                     999                                         \n",
      "Df Model:                           0                                         \n",
      "==============================================================================\n",
      "                 coef    std err          z      P>|z|      [0.025      0.975]\n",
      "------------------------------------------------------------------------------\n",
      "const          1.6489      1.222      1.349      0.177      -0.747       4.045\n",
      "par0          29.8074      0.715     41.691      0.000      28.406      31.209\n",
      "==============================================================================\n",
      "                               Auction Results                                \n",
      "==============================================================================\n",
      "Dep. Variable:                      y   Log-Likelihood:                -4679.4\n",
      "Model:                        Auction   AIC:                             9361.\n",
      "Method:            Maximum Likelihood   BIC:                             9366.\n",
      "Date:                Fri, 18 Dec 2020                                         \n",
      "Time:                        18:21:44                                         \n",
      "No. Observations:                1000                                         \n",
      "Df Residuals:                     999                                         \n",
      "Df Model:                           0                                         \n",
      "==============================================================================\n",
      "                 coef    std err          z      P>|z|      [0.025      0.975]\n",
      "------------------------------------------------------------------------------\n",
      "const         51.9773      0.812     63.998      0.000      50.385      53.569\n",
      "par0          22.9810      0.570     40.307      0.000      21.864      24.098\n",
      "==============================================================================\n",
      "0.02304501850209388\n",
      "0.03148013515177624\n"
     ]
    }
   ],
   "source": [
    "np.random.seed()\n",
    "yn,xn,nobs = gen_data(stats.logistic(loc=mu, scale=sigma))\n",
    "\n",
    "#fit normal values\n",
    "model1 = Auction(yn,xn)\n",
    "model_fit1 = model1.fit(start_params=[mu,sigma],disp=False)\n",
    "\n",
    "#fit logistic values\n",
    "model2 = Auction(yn,num_bidders2*np.ones(xn.shape[0]))\n",
    "model_fit2 = model2.fit(start_params=[mu,sigma],disp=False)\n",
    "\n",
    "\n",
    "print(model_fit1.summary())\n",
    "print(model_fit2.summary())\n",
    "\n",
    "print( (model1.loglikeobs(model_fit1.params) - model2.loglikeobs(model_fit2.params) ).mean() )\n",
    "print( (model1.loglikeobs(model_fit1.params) - model2.loglikeobs(model_fit2.params) ).var() )"
   ]
  },
  {
   "cell_type": "code",
   "execution_count": 51,
   "metadata": {},
   "outputs": [
    {
     "data": {
      "image/png": "[encoded data removed]",
      "text/plain": [
       "<Figure size 432x288 with 1 Axes>"
      ]
     },
     "metadata": {
      "needs_background": "light"
     },
     "output_type": "display_data"
    }
   ],
   "source": [
    "#create plot for true\n",
    "support_y = np.arange(yn.min(),yn.max(),.1)\n",
    "support_x = num_bidders*np.ones(len(support_y))\n",
    "true_model = Auction(support_y,support_x)\n",
    "true_model_y = np.exp(true_model.loglikeobs([mu,sigma]))\n",
    "plt.plot(support_y, true_model_y ,label=\"truth %s bidders\"%num_bidders)\n",
    "\n",
    "#create plot for normal\n",
    "fit_normal_y = np.exp(true_model.loglikeobs(model_fit1.params))\n",
    "plt.plot(support_y, fit_normal_y ,label=\"%s bidders\"%num_bidders)\n",
    "\n",
    "#create plot for logistic\n",
    "normal2_model = Auction(support_y,support_x*num_bidders2/num_bidders)\n",
    "fit_normal2_y = np.exp(normal2_model.loglikeobs(model_fit2.params))\n",
    "plt.plot(support_y, fit_normal2_y ,label=\"%s bidders\"%num_bidders2)\n",
    "\n",
    "plt.legend()\n",
    "plt.hist(yn,bins=20,density=True)\n",
    "\n",
    "plt.ylabel(\"density\")\n",
    "plt.xlabel(\"bid\")\n",
    "#plt.ylim((0.,100.))\n",
    "plt.savefig('../figs/auction_plot1.png')\n",
    "#plt.xlim((-.25,0.75))\n",
    "#plt.savefig('figs/nonnested_zoom')\n",
    "plt.show()\n",
    "\n",
    "plt.show()\n"
   ]
  },
  {
   "cell_type": "code",
   "execution_count": null,
   "metadata": {},
   "outputs": [],
   "source": []
  },
  {
   "cell_type": "code",
   "execution_count": null,
   "metadata": {},
   "outputs": [],
   "source": []
  },
  {
   "cell_type": "code",
   "execution_count": null,
   "metadata": {},
   "outputs": [],
   "source": []
  }
 ],
 "metadata": {
  "kernelspec": {
   "display_name": "Python 3",
   "language": "python",
   "name": "python3"
  },
  "language_info": {
   "codemirror_mode": {
    "name": "ipython",
    "version": 3
   },
   "file_extension": ".py",
   "mimetype": "text/x-python",
   "name": "python",
   "nbconvert_exporter": "python",
   "pygments_lexer": "ipython3",
   "version": "3.7.4"
  }
 },
 "nbformat": 4,
 "nbformat_minor": 2
}
