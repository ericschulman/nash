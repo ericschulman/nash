{
 "cells": [
  {
   "cell_type": "code",
   "execution_count": 23,
   "metadata": {},
   "outputs": [],
   "source": [
    "#math\n",
    "import numpy as np\n",
    "import scipy.stats as stats\n",
    "import scipy.special\n",
    "#graphing\n",
    "import matplotlib.pyplot as plt\n",
    "#stats\n",
    "import statsmodels.api as sm\n",
    "from statsmodels.base.model import GenericLikelihoodModel\n",
    "from statsmodels.distributions.empirical_distribution import ECDF"
   ]
  },
  {
   "cell_type": "code",
   "execution_count": 24,
   "metadata": {},
   "outputs": [
    {
     "name": "stdout",
     "output_type": "stream",
     "text": [
      "(1000,)\n",
      "4.572831747854241\n"
     ]
    }
   ],
   "source": [
    "num_true = 5\n",
    "num_bidders1 = 10\n",
    "num_bidders2 = 3\n",
    "mu = 3\n",
    "sigma = 2\n",
    "\n",
    "def gen_data(values):\n",
    "    nobs = 1000\n",
    "    \n",
    "    #parameters\n",
    "    \n",
    "    \n",
    "    min_bids =num_true\n",
    "    max_bids =num_true\n",
    "    \n",
    "    bid_types = range(min_bids,max_bids+1)\n",
    "    prob_type = [1/len(bid_types)]*len(bid_types)\n",
    "    bidders = np.random.choice(bid_types, nobs, p=prob_type)\n",
    "    bidders = np.sort(bidders)\n",
    "    bids = []\n",
    "    for i in bid_types:\n",
    "        #count number of obs\n",
    "        num_i = sum(i == bidders)\n",
    "        bids_i = values.rvs(size=(num_i,i))\n",
    "        bids_i =  np.sort(bids_i, axis=1)\n",
    "        bids_i =  bids_i[:,-2]\n",
    "        bids = np.concatenate((bids, bids_i))\n",
    "    \n",
    "    #draw bids\n",
    "    return bids,bidders,nobs\n",
    "\n",
    "\n",
    "values_distr =stats.logistic(loc=mu, scale=sigma)\n",
    "bids,i,nobs = gen_data(values_distr)\n",
    "print(bids.shape)\n",
    "print(bids[i == num_true].mean())"
   ]
  },
  {
   "cell_type": "code",
   "execution_count": 25,
   "metadata": {},
   "outputs": [
    {
     "data": {
      "text/plain": [
       "array([24.,  6.])"
      ]
     },
     "execution_count": 25,
     "metadata": {},
     "output_type": "execute_result"
    }
   ],
   "source": [
    "scipy.special.factorial([4,3])"
   ]
  },
  {
   "cell_type": "code",
   "execution_count": 26,
   "metadata": {},
   "outputs": [
    {
     "data": {
      "text/html": [
       "<table class=\"simpletable\">\n",
       "<caption>Auction Results</caption>\n",
       "<tr>\n",
       "  <th>Dep. Variable:</th>             <td>y</td>         <th>  Log-Likelihood:    </th> <td> -2085.4</td>\n",
       "</tr>\n",
       "<tr>\n",
       "  <th>Model:</th>                  <td>Auction</td>      <th>  AIC:               </th> <td>   4173.</td>\n",
       "</tr>\n",
       "<tr>\n",
       "  <th>Method:</th>           <td>Maximum Likelihood</td> <th>  BIC:               </th> <td>   4178.</td>\n",
       "</tr>\n",
       "<tr>\n",
       "  <th>Date:</th>              <td>Thu, 24 Dec 2020</td>  <th>                     </th>     <td> </td>   \n",
       "</tr>\n",
       "<tr>\n",
       "  <th>Time:</th>                  <td>20:38:10</td>      <th>                     </th>     <td> </td>   \n",
       "</tr>\n",
       "<tr>\n",
       "  <th>No. Observations:</th>       <td>  1000</td>       <th>                     </th>     <td> </td>   \n",
       "</tr>\n",
       "<tr>\n",
       "  <th>Df Residuals:</th>           <td>   999</td>       <th>                     </th>     <td> </td>   \n",
       "</tr>\n",
       "<tr>\n",
       "  <th>Df Model:</th>               <td>     0</td>       <th>                     </th>     <td> </td>   \n",
       "</tr>\n",
       "</table>\n",
       "<table class=\"simpletable\">\n",
       "<tr>\n",
       "    <td></td>       <th>coef</th>     <th>std err</th>      <th>z</th>      <th>P>|z|</th>  <th>[0.025</th>    <th>0.975]</th>  \n",
       "</tr>\n",
       "<tr>\n",
       "  <th>const</th> <td>    2.9860</td> <td>    0.067</td> <td>   44.720</td> <td> 0.000</td> <td>    2.855</td> <td>    3.117</td>\n",
       "</tr>\n",
       "<tr>\n",
       "  <th>par0</th>  <td>    2.0372</td> <td>    0.049</td> <td>   41.162</td> <td> 0.000</td> <td>    1.940</td> <td>    2.134</td>\n",
       "</tr>\n",
       "</table>"
      ],
      "text/plain": [
       "<class 'statsmodels.iolib.summary.Summary'>\n",
       "\"\"\"\n",
       "                               Auction Results                                \n",
       "==============================================================================\n",
       "Dep. Variable:                      y   Log-Likelihood:                -2085.4\n",
       "Model:                        Auction   AIC:                             4173.\n",
       "Method:            Maximum Likelihood   BIC:                             4178.\n",
       "Date:                Thu, 24 Dec 2020                                         \n",
       "Time:                        20:38:10                                         \n",
       "No. Observations:                1000                                         \n",
       "Df Residuals:                     999                                         \n",
       "Df Model:                           0                                         \n",
       "==============================================================================\n",
       "                 coef    std err          z      P>|z|      [0.025      0.975]\n",
       "------------------------------------------------------------------------------\n",
       "const          2.9860      0.067     44.720      0.000       2.855       3.117\n",
       "par0           2.0372      0.049     41.162      0.000       1.940       2.134\n",
       "==============================================================================\n",
       "\"\"\""
      ]
     },
     "execution_count": 26,
     "metadata": {},
     "output_type": "execute_result"
    }
   ],
   "source": [
    "class Auction(GenericLikelihoodModel):\n",
    "    \n",
    "    def __init__(self, *args, values_distr=stats.logistic, **kwargs):\n",
    "        super(Auction,self).__init__(*args,**kwargs)\n",
    "        self.values_distr = values_distr\n",
    "        \n",
    "    \n",
    "    def loglikeobs(self, params):\n",
    "        bids = self.endog\n",
    "        i = self.exog[:,0]\n",
    "        cdf = self.values_distr.cdf(bids,loc=params[0],scale=max(params[1],1e-5))\n",
    "        pdf = self.values_distr.pdf(bids,loc=params[0],scale=max(params[1],1e-5))\n",
    "        factorial = scipy.special.factorial(i)/scipy.special.factorial(i-2)  \n",
    "        \n",
    "        order_cdf = factorial*pdf*cdf**(i-2)*(1-cdf) #np.log(i) + np.log(cdf) + (i-1)*np.log((1-cdf)) #second highest order statistic\n",
    "        return np.log(order_cdf)\n",
    "    \n",
    "\n",
    "np.random.seed()\n",
    "yn,xn,nobs = gen_data(stats.logistic(loc=mu, scale=sigma))\n",
    "model = Auction(yn,xn)\n",
    "model_fit = model.fit(start_params=[mu,sigma],disp=False)\n",
    "model_fit.summary()"
   ]
  },
  {
   "cell_type": "code",
   "execution_count": 27,
   "metadata": {},
   "outputs": [
    {
     "name": "stdout",
     "output_type": "stream",
     "text": [
      "                               Auction Results                                \n",
      "==============================================================================\n",
      "Dep. Variable:                      y   Log-Likelihood:                -2057.6\n",
      "Model:                        Auction   AIC:                             4117.\n",
      "Method:            Maximum Likelihood   BIC:                             4122.\n",
      "Date:                Thu, 24 Dec 2020                                         \n",
      "Time:                        20:38:11                                         \n",
      "No. Observations:                1000                                         \n",
      "Df Residuals:                     999                                         \n",
      "Df Model:                           0                                         \n",
      "==============================================================================\n",
      "                 coef    std err          z      P>|z|      [0.025      0.975]\n",
      "------------------------------------------------------------------------------\n",
      "const          0.7691      0.092      8.395      0.000       0.590       0.949\n",
      "par0           2.2462      0.053     42.243      0.000       2.142       2.350\n",
      "==============================================================================\n",
      "                               Auction Results                                \n",
      "==============================================================================\n",
      "Dep. Variable:                      y   Log-Likelihood:                -2060.5\n",
      "Model:                        Auction   AIC:                             4123.\n",
      "Method:            Maximum Likelihood   BIC:                             4128.\n",
      "Date:                Thu, 24 Dec 2020                                         \n",
      "Time:                        20:38:11                                         \n",
      "No. Observations:                1000                                         \n",
      "Df Residuals:                     999                                         \n",
      "Df Model:                           0                                         \n",
      "==============================================================================\n",
      "                 coef    std err          z      P>|z|      [0.025      0.975]\n",
      "------------------------------------------------------------------------------\n",
      "const          4.5781      0.060     76.438      0.000       4.461       4.695\n",
      "par0           1.6898      0.042     40.680      0.000       1.608       1.771\n",
      "==============================================================================\n",
      "2.857982111967422\n",
      "0.03359344341835401\n"
     ]
    }
   ],
   "source": [
    "np.random.seed()\n",
    "yn,xn,nobs = gen_data(stats.logistic(loc=mu, scale=sigma))\n",
    "\n",
    "#fit normal values\n",
    "model1 = Auction(yn,num_bidders1*np.ones(xn.shape[0]))\n",
    "model_fit1 = model1.fit(start_params=[mu,sigma],disp=False)\n",
    "\n",
    "#fit logistic values\n",
    "model2 = Auction(yn,num_bidders2*np.ones(xn.shape[0]))\n",
    "model_fit2 = model2.fit(start_params=[mu,sigma],disp=False)\n",
    "\n",
    "\n",
    "print(model_fit1.summary())\n",
    "print(model_fit2.summary())\n",
    "\n",
    "print( (model1.loglikeobs(model_fit1.params) - model2.loglikeobs(model_fit2.params) ).sum() )\n",
    "print( (model1.loglikeobs(model_fit1.params) - model2.loglikeobs(model_fit2.params) ).var() )"
   ]
  },
  {
   "cell_type": "code",
   "execution_count": 17,
   "metadata": {},
   "outputs": [
    {
     "data": {
      "image/png": "[encoded data removed]",
      "text/plain": [
       "<Figure size 432x288 with 1 Axes>"
      ]
     },
     "metadata": {
      "needs_background": "light"
     },
     "output_type": "display_data"
    }
   ],
   "source": [
    "#create plot for true\n",
    "support_y = np.arange(yn.min(),yn.max(),.1)\n",
    "support_x = num_true*np.ones(len(support_y))\n",
    "true_model = Auction(support_y,support_x)\n",
    "true_model_y = np.exp(true_model.loglikeobs([mu,sigma]))\n",
    "plt.plot(support_y, true_model_y ,label=\"truth %s bidders\"%num_true)\n",
    "\n",
    "#create plot for bidders1\n",
    "normal1_model = Auction(support_y,support_x*num_bidders1/num_true)\n",
    "fit_normal1_y = np.exp(normal1_model.loglikeobs(model_fit1.params))\n",
    "plt.plot(support_y, fit_normal1_y ,label=\"%s bidders\"%num_bidders1)\n",
    "\n",
    "#create plot for bidders2\n",
    "normal2_model = Auction(support_y,support_x*num_bidders2/num_true)\n",
    "fit_normal2_y = np.exp(normal2_model.loglikeobs(model_fit2.params))\n",
    "plt.plot(support_y, fit_normal2_y ,label=\"%s bidders\"%num_bidders2)\n",
    "\n",
    "plt.legend()\n",
    "plt.hist(yn,bins=20,density=True)\n",
    "\n",
    "plt.ylabel(\"density\")\n",
    "plt.xlabel(\"bid\")\n",
    "#plt.ylim((0.,100.))\n",
    "plt.savefig('../figs/auction_noover.png')\n",
    "#plt.xlim((-.25,0.75))\n",
    "#plt.savefig('figs/nonnested_zoom')\n",
    "plt.show()\n",
    "\n",
    "plt.show()\n"
   ]
  },
  {
   "cell_type": "code",
   "execution_count": null,
   "metadata": {},
   "outputs": [],
   "source": []
  },
  {
   "cell_type": "code",
   "execution_count": null,
   "metadata": {},
   "outputs": [],
   "source": []
  },
  {
   "cell_type": "code",
   "execution_count": null,
   "metadata": {},
   "outputs": [],
   "source": []
  }
 ],
 "metadata": {
  "kernelspec": {
   "display_name": "Python 3",
   "language": "python",
   "name": "python3"
  },
  "language_info": {
   "codemirror_mode": {
    "name": "ipython",
    "version": 3
   },
   "file_extension": ".py",
   "mimetype": "text/x-python",
   "name": "python",
   "nbconvert_exporter": "python",
   "pygments_lexer": "ipython3",
   "version": "3.7.4"
  }
 },
 "nbformat": 4,
 "nbformat_minor": 2
}
