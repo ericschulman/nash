{
 "cells": [
  {
   "cell_type": "code",
   "execution_count": null,
   "metadata": {},
   "outputs": [],
   "source": [
    "import numpy as np\n",
    "import scipy.stats as stats\n",
    "import scipy.special\n",
    "#graphing\n",
    "import matplotlib.pyplot as plt\n",
    "\n",
    "#interpolation for treatement effects\n",
    "from scipy.interpolate import interp1d\n",
    "\n",
    "#minimize for reserve price\n",
    "from scipy.optimize import minimize"
   ]
  },
  {
   "cell_type": "code",
   "execution_count": null,
   "metadata": {},
   "outputs": [],
   "source": [
    "def optimal_reserve(mu,sigma):\n",
    "    v=0\n",
    "    obj = lambda  p : -1*(p0-v)*(1-stats.norm(loc=mu, scale=sigma).cdf(p) )\n",
    "    result  = minimize(obj, [0])\n",
    "    return result.x\n",
    "    \n",
    "print( optimal_reserve(30 , 30) )\n",
    "print( optimal_reserve(1 ,30 ) ) "
   ]
  },
  {
   "cell_type": "code",
   "execution_count": null,
   "metadata": {},
   "outputs": [],
   "source": [
    "def partial_effect(beta0, beta1,x):\n",
    "    pass\n",
    "\n",
    "beta0 = 1.\n",
    "beta1 = .25\n",
    "support_x = np.arange(-10,20,.05)\n",
    "\n",
    "\n"
   ]
  },
  {
   "cell_type": "code",
   "execution_count": null,
   "metadata": {},
   "outputs": [],
   "source": [
    "#tobit\n",
    "plt.plot(support_x, partial_effect(beta0, beta1,support_x) ,label=\"tobit\",\n",
    "         color='green',linestyle='--')\n",
    "\n",
    "#ols\n",
    "plt.plot(support_x, beta0 + beta1*support_x ,label=\"ols\",\n",
    "         color='red',linestyle='--')\n",
    "\n",
    "\n",
    "\n",
    "#create plot for normal\n",
    "plt.ylabel(\"Outcome 'y'\")\n",
    "plt.xlabel(\"Covariate 'x'\")\n",
    "plt.savefig('../figs/tobit_plot1.png')\n",
    "plt.legend()\n",
    "plt.show()"
   ]
  },
  {
   "cell_type": "code",
   "execution_count": null,
   "metadata": {},
   "outputs": [],
   "source": [
    "def avg_effect(beta0, beta1):\n",
    "    pass\n",
    "\n",
    "beta0 = 1.\n",
    "beta1 = .25"
   ]
  }
 ],
 "metadata": {
  "kernelspec": {
   "display_name": "Python 3",
   "language": "python",
   "name": "python3"
  },
  "language_info": {
   "codemirror_mode": {
    "name": "ipython",
    "version": 3
   },
   "file_extension": ".py",
   "mimetype": "text/x-python",
   "name": "python",
   "nbconvert_exporter": "python",
   "pygments_lexer": "ipython3",
   "version": "3.7.4"
  }
 },
 "nbformat": 4,
 "nbformat_minor": 2
}
