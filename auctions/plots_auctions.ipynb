{
 "cells": [
  {
   "cell_type": "code",
   "execution_count": 10,
   "metadata": {},
   "outputs": [],
   "source": [
    "import numpy as np\n",
    "import matplotlib.pyplot as plt\n",
    "import statsmodels.api as sm\n",
    "import scipy.stats as stats"
   ]
  },
  {
   "cell_type": "code",
   "execution_count": 14,
   "metadata": {},
   "outputs": [
    {
     "name": "stdout",
     "output_type": "stream",
     "text": [
      "(1000,)\n",
      "12.671384879957404\n",
      "13.114094603039867\n",
      "13.512309224217098\n"
     ]
    }
   ],
   "source": [
    "def gen_data(values):\n",
    "    nobs = 1000\n",
    "    \n",
    "    #parameters\n",
    "    \n",
    "    \n",
    "    min_bids =3\n",
    "    max_bids =5\n",
    "    \n",
    "    bid_types = range(min_bids,max_bids+1)\n",
    "    prob_type = [1/len(bid_types)]*len(bid_types)\n",
    "    bidders = np.random.choice(bid_types, nobs, p=prob_type)\n",
    "    bidders = np.sort(bidders)\n",
    "    bids = []\n",
    "    for i in bid_types:\n",
    "        #count number of obs\n",
    "        num_i = sum(i == bidders)\n",
    "        bids_i = values.rvs(size=(num_i,i))\n",
    "        bids_i = bids_i.max(axis=1)\n",
    "        bids = np.concatenate((bids, bids_i))\n",
    "    \n",
    "    #draw bids\n",
    "    return bids,bidders,nobs\n",
    "\n",
    "mu = 10\n",
    "sigma = 3\n",
    "values_distr =stats.norm(loc=mu, scale=sigma)\n",
    "bids,i,nobs = gen_data(values_distr)\n",
    "print(bids.shape)\n",
    "print(bids[i == 3].mean())\n",
    "print(bids[i == 4].mean())\n",
    "print(bids[i == 5].mean())"
   ]
  },
  {
   "cell_type": "code",
   "execution_count": 25,
   "metadata": {},
   "outputs": [
    {
     "name": "stdout",
     "output_type": "stream",
     "text": [
      "[0.02268197 0.00275847]\n"
     ]
    }
   ],
   "source": [
    "def inverse_order(cdf,i):\n",
    "    \"\"\"invert the order statistic for a given distribution\n",
    "    function\"\"\"\n",
    "    i = np.array(i)\n",
    "    order_cdf = lambda x : i*cdf(x)*(1-cdf(x))**(i-1) #second highest order statistic\n",
    "    return order_cdf\n",
    "\n",
    "\n",
    "    \n",
    "\n",
    "#parameters\n",
    "mu = 10\n",
    "sigma = 3\n",
    "cdf = lambda x: stats.norm(loc=mu, scale=sigma).cdf(x)\n",
    "order_cdf1 = inverse_order(cdf,[3,4])\n",
    "print(order_cdf1([14,14]))"
   ]
  },
  {
   "cell_type": "code",
   "execution_count": null,
   "metadata": {},
   "outputs": [],
   "source": [
    "class Auction(GenericLikelihoodModel):\n",
    "    \n",
    "    def __init__(self, values_distr=stats.norm, **kwds)\n",
    "        super(Auction, self).__init__( **kwds)\n",
    "        self.values_distr = values_distr\n",
    "        \n",
    "    \n",
    "    def loglike(self, params):\n",
    "        exog = self.exog\n",
    "        endog = self.endog\n",
    "        order_cdf = lambda x : i*cdf(x)*(1-cdf(x))**(i-1) #second highest order statistic\n",
    "        return stats.norm.logcdf(q*np.dot(exog, params)).sum()\n"
   ]
  }
 ],
 "metadata": {
  "kernelspec": {
   "display_name": "Python 3",
   "language": "python",
   "name": "python3"
  },
  "language_info": {
   "codemirror_mode": {
    "name": "ipython",
    "version": 3
   },
   "file_extension": ".py",
   "mimetype": "text/x-python",
   "name": "python",
   "nbconvert_exporter": "python",
   "pygments_lexer": "ipython3",
   "version": "3.7.4"
  }
 },
 "nbformat": 4,
 "nbformat_minor": 2
}
