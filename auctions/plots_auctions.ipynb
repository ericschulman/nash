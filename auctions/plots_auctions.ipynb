{
 "cells": [
  {
   "cell_type": "code",
   "execution_count": 1,
   "metadata": {},
   "outputs": [],
   "source": [
    "#math\n",
    "import numpy as np\n",
    "import scipy.stats as stats\n",
    "import scipy.special\n",
    "#graphing\n",
    "import matplotlib.pyplot as plt\n",
    "#stats\n",
    "import statsmodels.api as sm\n",
    "from statsmodels.base.model import GenericLikelihoodModel\n",
    "from statsmodels.distributions.empirical_distribution import ECDF"
   ]
  },
  {
   "cell_type": "code",
   "execution_count": 2,
   "metadata": {},
   "outputs": [
    {
     "name": "stdout",
     "output_type": "stream",
     "text": [
      "(1000,)\n",
      "10.94440249348406\n"
     ]
    }
   ],
   "source": [
    "num_bidders = 4\n",
    "\n",
    "def gen_data(values):\n",
    "    nobs = 1000\n",
    "    \n",
    "    #parameters\n",
    "    \n",
    "    \n",
    "    min_bids =num_bidders\n",
    "    max_bids =num_bidders\n",
    "    \n",
    "    bid_types = range(min_bids,max_bids+1)\n",
    "    prob_type = [1/len(bid_types)]*len(bid_types)\n",
    "    bidders = np.random.choice(bid_types, nobs, p=prob_type)\n",
    "    bidders = np.sort(bidders)\n",
    "    bids = []\n",
    "    for i in bid_types:\n",
    "        #count number of obs\n",
    "        num_i = sum(i == bidders)\n",
    "        bids_i = values.rvs(size=(num_i,i))\n",
    "        bids_i =  np.sort(bids_i, axis=1)\n",
    "        bids_i =  bids_i[:,-2]\n",
    "        bids = np.concatenate((bids, bids_i))\n",
    "    \n",
    "    #draw bids\n",
    "    return bids,bidders,nobs\n",
    "\n",
    "mu = 10\n",
    "sigma = 3\n",
    "values_distr =stats.norm(loc=mu, scale=sigma)\n",
    "bids,i,nobs = gen_data(values_distr)\n",
    "print(bids.shape)\n",
    "print(bids[i == num_bidders].mean())"
   ]
  },
  {
   "cell_type": "code",
   "execution_count": 3,
   "metadata": {},
   "outputs": [
    {
     "data": {
      "text/plain": [
       "array([24.,  6.])"
      ]
     },
     "execution_count": 3,
     "metadata": {},
     "output_type": "execute_result"
    }
   ],
   "source": [
    "scipy.special.factorial([4,3])"
   ]
  },
  {
   "cell_type": "code",
   "execution_count": 4,
   "metadata": {},
   "outputs": [
    {
     "data": {
      "text/html": [
       "<table class=\"simpletable\">\n",
       "<caption>Auction Results</caption>\n",
       "<tr>\n",
       "  <th>Dep. Variable:</th>             <td>y</td>         <th>  Log-Likelihood:    </th> <td> -2004.4</td>\n",
       "</tr>\n",
       "<tr>\n",
       "  <th>Model:</th>                  <td>Auction</td>      <th>  AIC:               </th> <td>   4011.</td>\n",
       "</tr>\n",
       "<tr>\n",
       "  <th>Method:</th>           <td>Maximum Likelihood</td> <th>  BIC:               </th> <td>   4016.</td>\n",
       "</tr>\n",
       "<tr>\n",
       "  <th>Date:</th>              <td>Thu, 19 Nov 2020</td>  <th>                     </th>     <td> </td>   \n",
       "</tr>\n",
       "<tr>\n",
       "  <th>Time:</th>                  <td>19:45:08</td>      <th>                     </th>     <td> </td>   \n",
       "</tr>\n",
       "<tr>\n",
       "  <th>No. Observations:</th>       <td>  1000</td>       <th>                     </th>     <td> </td>   \n",
       "</tr>\n",
       "<tr>\n",
       "  <th>Df Residuals:</th>           <td>   999</td>       <th>                     </th>     <td> </td>   \n",
       "</tr>\n",
       "<tr>\n",
       "  <th>Df Model:</th>               <td>     0</td>       <th>                     </th>     <td> </td>   \n",
       "</tr>\n",
       "</table>\n",
       "<table class=\"simpletable\">\n",
       "<tr>\n",
       "    <td></td>       <th>coef</th>     <th>std err</th>      <th>z</th>      <th>P>|z|</th>  <th>[0.025</th>    <th>0.975]</th>  \n",
       "</tr>\n",
       "<tr>\n",
       "  <th>const</th> <td>   10.0044</td> <td>    0.059</td> <td>  168.271</td> <td> 0.000</td> <td>    9.888</td> <td>   10.121</td>\n",
       "</tr>\n",
       "<tr>\n",
       "  <th>par0</th>  <td>    2.9949</td> <td>    0.068</td> <td>   44.360</td> <td> 0.000</td> <td>    2.863</td> <td>    3.127</td>\n",
       "</tr>\n",
       "</table>"
      ],
      "text/plain": [
       "<class 'statsmodels.iolib.summary.Summary'>\n",
       "\"\"\"\n",
       "                               Auction Results                                \n",
       "==============================================================================\n",
       "Dep. Variable:                      y   Log-Likelihood:                -2004.4\n",
       "Model:                        Auction   AIC:                             4011.\n",
       "Method:            Maximum Likelihood   BIC:                             4016.\n",
       "Date:                Thu, 19 Nov 2020                                         \n",
       "Time:                        19:45:08                                         \n",
       "No. Observations:                1000                                         \n",
       "Df Residuals:                     999                                         \n",
       "Df Model:                           0                                         \n",
       "==============================================================================\n",
       "                 coef    std err          z      P>|z|      [0.025      0.975]\n",
       "------------------------------------------------------------------------------\n",
       "const         10.0044      0.059    168.271      0.000       9.888      10.121\n",
       "par0           2.9949      0.068     44.360      0.000       2.863       3.127\n",
       "==============================================================================\n",
       "\"\"\""
      ]
     },
     "execution_count": 4,
     "metadata": {},
     "output_type": "execute_result"
    }
   ],
   "source": [
    "class Auction(GenericLikelihoodModel):\n",
    "    \n",
    "    def __init__(self, *args, values_distr=stats.norm, **kwargs):\n",
    "        super(Auction,self).__init__(*args,**kwargs)\n",
    "        self.values_distr = values_distr\n",
    "        \n",
    "    \n",
    "    def loglikeobs(self, params):\n",
    "        bids = self.endog\n",
    "        i = self.exog[:,0]\n",
    "        cdf = self.values_distr.cdf(bids,loc=params[0],scale=max(params[1],1e-5))\n",
    "        pdf = self.values_distr.pdf(bids,loc=params[0],scale=max(params[1],1e-5))\n",
    "        factorial = scipy.special.factorial(i)/scipy.special.factorial(i-2)  \n",
    "        \n",
    "        order_cdf = factorial*pdf*cdf**(i-2)*(1-cdf) #np.log(i) + np.log(cdf) + (i-1)*np.log((1-cdf)) #second highest order statistic\n",
    "        return np.log(order_cdf)\n",
    "    \n",
    "mu = 10\n",
    "sigma = 3\n",
    "np.random.seed()\n",
    "yn,xn,nobs = gen_data(stats.norm(loc=mu, scale=sigma))\n",
    "model = Auction(yn,xn)\n",
    "model_fit = model.fit(start_params=[mu,sigma],disp=False)\n",
    "model_fit.summary()"
   ]
  },
  {
   "cell_type": "code",
   "execution_count": 12,
   "metadata": {},
   "outputs": [
    {
     "name": "stdout",
     "output_type": "stream",
     "text": [
      "                               Auction Results                                \n",
      "==============================================================================\n",
      "Dep. Variable:                      y   Log-Likelihood:                -1968.3\n",
      "Model:                        Auction   AIC:                             3939.\n",
      "Method:            Maximum Likelihood   BIC:                             3944.\n",
      "Date:                Thu, 19 Nov 2020                                         \n",
      "Time:                        19:48:45                                         \n",
      "No. Observations:                1000                                         \n",
      "Df Residuals:                     999                                         \n",
      "Df Model:                           0                                         \n",
      "==============================================================================\n",
      "                 coef    std err          z      P>|z|      [0.025      0.975]\n",
      "------------------------------------------------------------------------------\n",
      "const          9.9225      0.056    176.479      0.000       9.812      10.033\n",
      "par0           1.7179      0.042     41.178      0.000       1.636       1.800\n",
      "==============================================================================\n",
      "                               Auction Results                                \n",
      "==============================================================================\n",
      "Dep. Variable:                      y   Log-Likelihood:                -1965.8\n",
      "Model:                        Auction   AIC:                             3934.\n",
      "Method:            Maximum Likelihood   BIC:                             3939.\n",
      "Date:                Thu, 19 Nov 2020                                         \n",
      "Time:                        19:48:45                                         \n",
      "No. Observations:                1000                                         \n",
      "Df Residuals:                     999                                         \n",
      "Df Model:                           0                                         \n",
      "==============================================================================\n",
      "                 coef    std err          z      P>|z|      [0.025      0.975]\n",
      "------------------------------------------------------------------------------\n",
      "const          9.9143      0.057    173.535      0.000       9.802      10.026\n",
      "par0           2.8790      0.065     44.309      0.000       2.752       3.006\n",
      "==============================================================================\n",
      "0.0024957896524290756\n",
      "0.0042625066616932\n"
     ]
    }
   ],
   "source": [
    "mu = 10\n",
    "sigma = 3\n",
    "np.random.seed()\n",
    "yn,xn,nobs = gen_data(stats.norm(loc=mu, scale=sigma))\n",
    "\n",
    "#fit normal values\n",
    "model1 = Auction(yn,xn)\n",
    "model_fit1 = model1.fit(start_params=[mu,sigma],disp=False)\n",
    "\n",
    "#fit logistic values\n",
    "model2 = Auction(yn,xn,values_distr=stats.logistic)\n",
    "model_fit2 = model2.fit(start_params=[mu,sigma],disp=False)\n",
    "\n",
    "\n",
    "\n",
    "print(model_fit2.summary())\n",
    "print(model_fit1.summary())\n",
    "print( (model1.loglikeobs(model_fit1.params) - model2.loglikeobs(model_fit2.params) ).mean() )\n",
    "print( (model1.loglikeobs(model_fit1.params) - model2.loglikeobs(model_fit2.params) ).var() )"
   ]
  },
  {
   "cell_type": "code",
   "execution_count": 10,
   "metadata": {},
   "outputs": [
    {
     "data": {
      "image/png": "[encoded data removed]",
      "text/plain": [
       "<Figure size 432x288 with 1 Axes>"
      ]
     },
     "metadata": {
      "needs_background": "light"
     },
     "output_type": "display_data"
    }
   ],
   "source": [
    "#create plot for true\n",
    "support_y = np.arange(yn.min(),yn.max(),.1)\n",
    "support_x = num_bidders*np.ones(len(support_y))\n",
    "true_model = Auction(support_y,support_x)\n",
    "true_model_y = np.exp(true_model.loglikeobs([mu,sigma]))\n",
    "plt.plot(support_y, true_model_y ,label=\"truth(normal)\")\n",
    "\n",
    "#create plot for normal\n",
    "fit_normal_y = np.exp(true_model.loglikeobs(model_fit1.params))\n",
    "plt.plot(support_y, fit_normal_y ,label=\"fit (normal)\")\n",
    "\n",
    "#create plot for logistic\n",
    "logistic_model = Auction(support_y,support_x,values_distr=stats.logistic)\n",
    "fit_logistic_y = np.exp(logistic_model.loglikeobs(model_fit2.params))\n",
    "plt.plot(support_y, fit_logistic_y ,label=\"fit (logistic)\")\n",
    "\n",
    "plt.legend()\n",
    "plt.hist(yn,bins=20,density=True)\n",
    "plt.show()\n"
   ]
  },
  {
   "cell_type": "code",
   "execution_count": null,
   "metadata": {},
   "outputs": [],
   "source": []
  }
 ],
 "metadata": {
  "kernelspec": {
   "display_name": "Python 3",
   "language": "python",
   "name": "python3"
  },
  "language_info": {
   "codemirror_mode": {
    "name": "ipython",
    "version": 3
   },
   "file_extension": ".py",
   "mimetype": "text/x-python",
   "name": "python",
   "nbconvert_exporter": "python",
   "pygments_lexer": "ipython3",
   "version": "3.7.4"
  }
 },
 "nbformat": 4,
 "nbformat_minor": 2
}
