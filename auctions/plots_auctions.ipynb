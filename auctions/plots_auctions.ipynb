{
 "cells": [
  {
   "cell_type": "code",
   "execution_count": 1,
   "metadata": {},
   "outputs": [],
   "source": [
    "import numpy as np\n",
    "import matplotlib.pyplot as plt\n",
    "import statsmodels.api as sm\n",
    "import scipy.stats as stats\n",
    "from statsmodels.base.model import GenericLikelihoodModel"
   ]
  },
  {
   "cell_type": "code",
   "execution_count": 2,
   "metadata": {},
   "outputs": [
    {
     "name": "stdout",
     "output_type": "stream",
     "text": [
      "(1000,)\n",
      "12.500064456352522\n"
     ]
    },
    {
     "data": {
      "image/png": "[encoded data removed]",
      "text/plain": [
       "<Figure size 432x288 with 1 Axes>"
      ]
     },
     "metadata": {
      "needs_background": "light"
     },
     "output_type": "display_data"
    }
   ],
   "source": [
    "def gen_data(values):\n",
    "    nobs = 1000\n",
    "    \n",
    "    #parameters\n",
    "    \n",
    "    \n",
    "    min_bids =3\n",
    "    max_bids =3\n",
    "    \n",
    "    bid_types = range(min_bids,max_bids+1)\n",
    "    prob_type = [1/len(bid_types)]*len(bid_types)\n",
    "    bidders = np.random.choice(bid_types, nobs, p=prob_type)\n",
    "    bidders = np.sort(bidders)\n",
    "    bids = []\n",
    "    for i in bid_types:\n",
    "        #count number of obs\n",
    "        num_i = sum(i == bidders)\n",
    "        bids_i = values.rvs(size=(num_i,i))\n",
    "        bids_i = bids_i.max(axis=1)\n",
    "        bids = np.concatenate((bids, bids_i))\n",
    "    \n",
    "    #draw bids\n",
    "    return bids,bidders,nobs\n",
    "\n",
    "mu = 10\n",
    "sigma = 3\n",
    "values_distr =stats.norm(loc=mu, scale=sigma)\n",
    "bids,i,nobs = gen_data(values_distr)\n",
    "print(bids.shape)\n",
    "print(bids[i == 3].mean())\n",
    "\n"
   ]
  },
  {
   "cell_type": "code",
   "execution_count": 3,
   "metadata": {},
   "outputs": [
    {
     "name": "stdout",
     "output_type": "stream",
     "text": [
      "[0.02268197 0.00275847]\n"
     ]
    }
   ],
   "source": [
    "def inverse_order(cdf,i):\n",
    "    \"\"\"invert the order statistic for a given distribution\n",
    "    function\"\"\"\n",
    "    i = np.array(i)\n",
    "    order_cdf = lambda x : i*cdf(x)*(1-cdf(x))**(i-1) #second highest order statistic\n",
    "    return order_cdf\n",
    "\n",
    "\n",
    "#parameters\n",
    "mu = 10\n",
    "sigma = 3\n",
    "cdf = lambda x: stats.norm(loc=mu, scale=sigma).cdf(x)\n",
    "order_cdf1 = inverse_order(cdf,[3,4])\n",
    "print(order_cdf1([14,14]))"
   ]
  },
  {
   "cell_type": "code",
   "execution_count": 4,
   "metadata": {},
   "outputs": [
    {
     "data": {
      "text/html": [
       "<table class=\"simpletable\">\n",
       "<caption>Auction Results</caption>\n",
       "<tr>\n",
       "  <th>Dep. Variable:</th>             <td>y</td>         <th>  Log-Likelihood:    </th> <td> -810.93</td>\n",
       "</tr>\n",
       "<tr>\n",
       "  <th>Model:</th>                  <td>Auction</td>      <th>  AIC:               </th> <td>   1624.</td>\n",
       "</tr>\n",
       "<tr>\n",
       "  <th>Method:</th>           <td>Maximum Likelihood</td> <th>  BIC:               </th> <td>   1629.</td>\n",
       "</tr>\n",
       "<tr>\n",
       "  <th>Date:</th>              <td>Thu, 19 Nov 2020</td>  <th>                     </th>     <td> </td>   \n",
       "</tr>\n",
       "<tr>\n",
       "  <th>Time:</th>                  <td>16:35:49</td>      <th>                     </th>     <td> </td>   \n",
       "</tr>\n",
       "<tr>\n",
       "  <th>No. Observations:</th>       <td>  1000</td>       <th>                     </th>     <td> </td>   \n",
       "</tr>\n",
       "<tr>\n",
       "  <th>Df Residuals:</th>           <td>   999</td>       <th>                     </th>     <td> </td>   \n",
       "</tr>\n",
       "<tr>\n",
       "  <th>Df Model:</th>               <td>     0</td>       <th>                     </th>     <td> </td>   \n",
       "</tr>\n",
       "</table>\n",
       "<table class=\"simpletable\">\n",
       "<tr>\n",
       "    <td></td>       <th>coef</th>     <th>std err</th>      <th>z</th>      <th>P>|z|</th>  <th>[0.025</th>    <th>0.975]</th>  \n",
       "</tr>\n",
       "<tr>\n",
       "  <th>const</th> <td>    4.9104</td> <td>  285.755</td> <td>    0.017</td> <td> 0.986</td> <td> -555.158</td> <td>  564.979</td>\n",
       "</tr>\n",
       "<tr>\n",
       "  <th>par0</th>  <td>    4.4353</td> <td>  663.424</td> <td>    0.007</td> <td> 0.995</td> <td>-1295.851</td> <td> 1304.722</td>\n",
       "</tr>\n",
       "</table>"
      ],
      "text/plain": [
       "<class 'statsmodels.iolib.summary.Summary'>\n",
       "\"\"\"\n",
       "                               Auction Results                                \n",
       "==============================================================================\n",
       "Dep. Variable:                      y   Log-Likelihood:                -810.93\n",
       "Model:                        Auction   AIC:                             1624.\n",
       "Method:            Maximum Likelihood   BIC:                             1629.\n",
       "Date:                Thu, 19 Nov 2020                                         \n",
       "Time:                        16:35:49                                         \n",
       "No. Observations:                1000                                         \n",
       "Df Residuals:                     999                                         \n",
       "Df Model:                           0                                         \n",
       "==============================================================================\n",
       "                 coef    std err          z      P>|z|      [0.025      0.975]\n",
       "------------------------------------------------------------------------------\n",
       "const          4.9104    285.755      0.017      0.986    -555.158     564.979\n",
       "par0           4.4353    663.424      0.007      0.995   -1295.851    1304.722\n",
       "==============================================================================\n",
       "\"\"\""
      ]
     },
     "execution_count": 4,
     "metadata": {},
     "output_type": "execute_result"
    }
   ],
   "source": [
    "class Auction(GenericLikelihoodModel):\n",
    "    \n",
    "    def __init__(self, *args, values_distr=stats.norm, **kwargs):\n",
    "        super(Auction,self).__init__(*args,**kwargs)\n",
    "        self.values_distr = values_distr\n",
    "        \n",
    "    \n",
    "    def loglike(self, params):\n",
    "        bids = self.exog.transpose()\n",
    "        i = self.exog[:,0]\n",
    "        cdf = lambda x : self.values_distr.cdf(x,loc=params[0],scale=max(params[1],1e-5))\n",
    "        order_cdf = lambda x : i*cdf(x)*(1-cdf(x))**(i-1) #second highest order statistic\n",
    "        return np.log(order_cdf(bids)).sum()\n",
    "    \n",
    "mu = 10\n",
    "sigma = 3\n",
    "yn,xn,nobs = gen_data(stats.norm(loc=mu, scale=sigma))\n",
    "model = Auction(yn,xn)\n",
    "model_fit = model.fit(start_params=[mu,sigma],disp=False)\n",
    "model_fit.summary()"
   ]
  },
  {
   "cell_type": "code",
   "execution_count": null,
   "metadata": {},
   "outputs": [],
   "source": [
    "plt.hist(yn,bins=20)\n",
    "plt.\n",
    "plt.show()"
   ]
  }
 ],
 "metadata": {
  "kernelspec": {
   "display_name": "Python 3",
   "language": "python",
   "name": "python3"
  },
  "language_info": {
   "codemirror_mode": {
    "name": "ipython",
    "version": 3
   },
   "file_extension": ".py",
   "mimetype": "text/x-python",
   "name": "python",
   "nbconvert_exporter": "python",
   "pygments_lexer": "ipython3",
   "version": "3.7.4"
  }
 },
 "nbformat": 4,
 "nbformat_minor": 2
}
