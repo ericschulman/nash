{
 "cells": [
  {
   "cell_type": "code",
   "execution_count": 17,
   "metadata": {},
   "outputs": [],
   "source": [
    "import numpy as np\n",
    "import matplotlib.pyplot as plt\n",
    "import statsmodels.api as sm\n",
    "import scipy.stats as stats"
   ]
  },
  {
   "cell_type": "code",
   "execution_count": 18,
   "metadata": {},
   "outputs": [],
   "source": [
    "#generate the sample\n",
    "def gen_data():\n",
    "    nobs = 1000\n",
    "    beta = 3\n",
    "    x = np.random.uniform(low=-1., high=1., size=nobs)\n",
    "    e = np.random.normal(loc=0.0, scale=1.0, size=nobs) #np.random.uniform(low=-1., high=1., size=nobs) #\n",
    "    y = np.exp(1 + beta * x + e)  \n",
    "    return y,x,nobs"
   ]
  },
  {
   "cell_type": "code",
   "execution_count": 59,
   "metadata": {},
   "outputs": [],
   "source": [
    "yn,xn,nobs = gen_data()\n",
    "model = sm.OLS((yn),sm.add_constant(xn))\n",
    "model_fit = model.fit(disp=False)"
   ]
  },
  {
   "cell_type": "code",
   "execution_count": 60,
   "metadata": {
    "scrolled": false
   },
   "outputs": [
    {
     "name": "stdout",
     "output_type": "stream",
     "text": [
      "-4941.108401009704\n",
      "-4941.108401009704\n"
     ]
    }
   ],
   "source": [
    "def compute_loglike(resid):\n",
    "    sigma = np.sqrt(np.sum(resid**2)/resid.shape[0])\n",
    "    ll = np.log(stats.norm.pdf(resid,loc=0,scale=sigma))\n",
    "    return ll\n",
    " \n",
    "print(compute_loglike(model_fit.resid).sum())\n",
    "print(model.loglike(model_fit.params))"
   ]
  },
  {
   "cell_type": "code",
   "execution_count": 61,
   "metadata": {},
   "outputs": [
    {
     "name": "stdout",
     "output_type": "stream",
     "text": [
      "(3495.4756559713915, 3.0766029773185597)\n"
     ]
    }
   ],
   "source": [
    "def compute_llr(yn,xn):\n",
    "    \n",
    "    model1 = sm.OLS(np.log(yn),sm.add_constant(xn))\n",
    "    model1_fit = model1.fit(disp=False)\n",
    "    ll1 = compute_loglike(model1_fit.resid)\n",
    "    \n",
    "    model2 = sm.OLS(yn,sm.add_constant(xn))\n",
    "    model2_fit = model2.fit(disp=False)\n",
    "    ll2 = compute_loglike(model2_fit.resid)\n",
    "    \n",
    "    llr = ll1.sum() - ll2.sum()\n",
    "    omega2 = (ll1- ll2).var()\n",
    "    return llr,np.sqrt(omega2)\n",
    "\n",
    "\n",
    "yn,xn,nobs = gen_data()\n",
    "print(compute_llr(yn,xn))"
   ]
  },
  {
   "cell_type": "code",
   "execution_count": null,
   "metadata": {},
   "outputs": [],
   "source": [
    "def regular_test(yn,xn,nobs,hist=False):\n",
    "    llr, omega = compute_llr(yn,xn)\n",
    "    test_stat = llr/(omega*np.sqrt(nobs))\n",
    "    #plot\n",
    "    if hist:\n",
    "        x = np.linspace(-2.5, 2.5, 100)\n",
    "        plt.plot(x, stats.norm.pdf(x, 0, 1),label=\"Normal\")\n",
    "    \n",
    "    return 1*(test_stat >= 1.96) + 2*( test_stat <= -1.96)\n",
    "\n",
    "\n",
    "def bootstrap_test(yn,xn,nobs,hist=False):\n",
    "    test_stats = []\n",
    "    trials = 100\n",
    "    for i in range(trials):\n",
    "        subn = 1000\n",
    "        np.random.seed()\n",
    "        sample  = np.random.choice(np.arange(0,nobs),subn,replace=True)\n",
    "        ys,xs = yn[sample],xn[sample]\n",
    "        llr, omega = compute_llr(ys,xs)\n",
    "        test_stat = llr/(omega*np.sqrt(subn))\n",
    "        test_stats.append(test_stat)\n",
    "        \n",
    "    llr, omega = compute_llr(yn,xn)\n",
    "    test_stat = llr/(omega*np.sqrt(nobs))\n",
    "    \n",
    "    #plot\n",
    "    if hist:\n",
    "        plt.hist( 2*test_stat - test_stats, density=True,bins=10, label=\"Bootstrap\")\n",
    "    \n",
    "    cv_lower = 2*test_stat - np.percentile(test_stats, 97.5, axis=0)\n",
    "    cv_upper = 2*test_stat -  np.percentile(test_stats, 2.5, axis=0)\n",
    "    return  2*(0 >= cv_upper) + 1*(0 <= cv_lower)\n",
    "    \n",
    "\n",
    "yn,xn,nobs = gen_data()\n",
    "print(bootstrap_test(yn,xn,nobs,hist=True))\n",
    "print(regular_test(yn,xn,nobs,hist=True))\n",
    "\n",
    "plt.title(\"Comparison with bootstrap\")\n",
    "plt.xlabel(\"Test Statistic\")\n",
    "plt.ylabel(\"Density\")\n",
    "plt.legend()\n",
    "plt.savefig('../figs/bootstrap_compare2')\n",
    "plt.show()"
   ]
  },
  {
   "cell_type": "code",
   "execution_count": null,
   "metadata": {},
   "outputs": [],
   "source": [
    "reg = np.array([0, 0 ,0])\n",
    "boot = np.array([0, 0 ,0])\n",
    "omega = 0\n",
    "llr = 0\n",
    "total = 1000\n",
    "for i in range(total):\n",
    "    np.random.seed()\n",
    "    yn,xn,nobs = gen_data()\n",
    "    llrn,omegan = compute_llr(yn,xn)\n",
    "    \n",
    "    #update the llr\n",
    "    llr = llr +llrn\n",
    "    omega = omega +omegan\n",
    "    reg_index = regular_test(yn,xn,nobs)\n",
    "    \n",
    "    #update test results\n",
    "    boot_index = bootstrap_test(yn,xn,nobs)\n",
    "    reg[reg_index] = reg[reg_index] + 1\n",
    "    boot[boot_index] = boot[boot_index] + 1\n",
    "\n",
    "print(\"reg: %s, boot: %s, llr:%s, omega:%s\"%(reg/total,boot/total,llr/total,omega/total))"
   ]
  }
 ],
 "metadata": {
  "kernelspec": {
   "display_name": "Python 3",
   "language": "python",
   "name": "python3"
  },
  "language_info": {
   "codemirror_mode": {
    "name": "ipython",
    "version": 3
   },
   "file_extension": ".py",
   "mimetype": "text/x-python",
   "name": "python",
   "nbconvert_exporter": "python",
   "pygments_lexer": "ipython3",
   "version": "3.7.4"
  }
 },
 "nbformat": 4,
 "nbformat_minor": 2
}
