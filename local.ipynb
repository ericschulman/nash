{
 "cells": [
  {
   "cell_type": "code",
   "execution_count": 85,
   "metadata": {},
   "outputs": [],
   "source": [
    "import numpy as np\n",
    "import matplotlib.pyplot as plt"
   ]
  },
  {
   "cell_type": "code",
   "execution_count": 126,
   "metadata": {},
   "outputs": [
    {
     "data": {
      "image/png": "[encoded data removed]",
      "text/plain": [
       "<Figure size 432x288 with 1 Axes>"
      ]
     },
     "metadata": {
      "needs_background": "light"
     },
     "output_type": "display_data"
    }
   ],
   "source": [
    "for h in [.5,1.5,1000]:\n",
    "    z_lambda = np.random.normal(size=5000)\n",
    "    z_phi = np.random.normal(size=5000)\n",
    "    v = 1\n",
    "    rho = 1\n",
    "    t = lambda h: (h*z_lambda - .5*z_phi*v*z_phi)/np.sqrt(h**2-2*h*rho*v*z_phi + z_phi*v**2*z_phi)\n",
    "    plt.hist(t(h),label=h,alpha=.5,bins=30,range=(-4,4))\n",
    "    \n",
    "\n",
    "plt.legend()\n",
    "plt.show()"
   ]
  },
  {
   "cell_type": "code",
   "execution_count": 136,
   "metadata": {},
   "outputs": [
    {
     "name": "stdout",
     "output_type": "stream",
     "text": [
      "0.5 -26.712239457620047\n",
      "1 -41.54244283631377\n",
      "1.5 -35.27420169632718\n"
     ]
    }
   ],
   "source": [
    "#understanding the sigma that maximizes the tail probabilities...\n",
    "\n",
    "num1 = 0\n",
    "num2 = 0\n",
    "num3 = 0\n",
    "n = 10000\n",
    "for i in range(n):\n",
    "    for h in [.5,1,1.5]:\n",
    "        z_lambda = np.random.normal(size=10)\n",
    "        z_phi = np.random.normal(size=10)\n",
    "        v = 1\n",
    "        rho = 1\n",
    "        t = lambda h: (h*z_lambda - .5*z_phi*v*z_phi)/np.sqrt(h**2-2*h*rho*v*z_phi + z_phi*v**2*z_phi)\n",
    "        if h==.5:\n",
    "            num1 = num1+ (t(h)).min()\n",
    "        elif h==1.:\n",
    "            num2 = num2+ (t(h)).min()\n",
    "        elif h==1.5:\n",
    "            num3 = num3+ (t(h)).min()\n",
    "        \n",
    "print(.5, num1/n)\n",
    "print(1, num2/n)\n",
    "print(1.5, num3/n)"
   ]
  },
  {
   "cell_type": "code",
   "execution_count": 139,
   "metadata": {},
   "outputs": [
    {
     "data": {
      "image/png": "[encoded data removed]",
      "text/plain": [
       "<Figure size 432x288 with 1 Axes>"
      ]
     },
     "metadata": {
      "needs_background": "light"
     },
     "output_type": "display_data"
    }
   ],
   "source": [
    "#seems like rho needs to be low in order for this to work...\n",
    "\n",
    "for h in [.01,.3,1.5]:\n",
    "    z_lambda = np.random.normal(size=5000)\n",
    "    z_phi = np.random.normal(size=5000)\n",
    "    v = .2\n",
    "    rho = .3\n",
    "    t = lambda h: (h*z_lambda - .5*z_phi*v*z_phi)/np.sqrt(h**2-2*h*rho*v*z_phi + z_phi*v**2*z_phi)\n",
    "    plt.hist(t(h),label=h,alpha=.5,bins=30)\n",
    "    \n",
    "\n",
    "plt.legend()\n",
    "plt.show()"
   ]
  },
  {
   "cell_type": "code",
   "execution_count": 87,
   "metadata": {},
   "outputs": [
    {
     "data": {
      "image/png": "[encoded data removed]",
      "text/plain": [
       "<Figure size 432x288 with 1 Axes>"
      ]
     },
     "metadata": {
      "needs_background": "light"
     },
     "output_type": "display_data"
    }
   ],
   "source": [
    "for h in [.01,.3,1.5]:\n",
    "    z_lambda = np.random.normal(size=5000)\n",
    "    z_phi = np.random.normal(size=5000)\n",
    "    v = .2\n",
    "    rho = 1\n",
    "    t = lambda h: (h*z_lambda - .5*z_phi*v*z_phi)/np.sqrt(h**2-2*h*rho*v*z_phi + z_phi*v**2*z_phi)\n",
    "    plt.hist(t(h),label=h,alpha=.5,bins=30,range=(-4,4))\n",
    "    \n",
    "\n",
    "plt.legend()\n",
    "plt.show()"
   ]
  },
  {
   "cell_type": "code",
   "execution_count": null,
   "metadata": {},
   "outputs": [],
   "source": []
  }
 ],
 "metadata": {
  "kernelspec": {
   "display_name": "Python 3",
   "language": "python",
   "name": "python3"
  },
  "language_info": {
   "codemirror_mode": {
    "name": "ipython",
    "version": 3
   },
   "file_extension": ".py",
   "mimetype": "text/x-python",
   "name": "python",
   "nbconvert_exporter": "python",
   "pygments_lexer": "ipython3",
   "version": "3.7.4"
  }
 },
 "nbformat": 4,
 "nbformat_minor": 2
}
