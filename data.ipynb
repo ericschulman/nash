{
 "cells": [
  {
   "cell_type": "code",
   "execution_count": 5,
   "metadata": {},
   "outputs": [],
   "source": [
    "using Distributions\n",
    "using Optim"
   ]
  },
  {
   "cell_type": "code",
   "execution_count": 17,
   "metadata": {},
   "outputs": [],
   "source": [
    "delta1, delta2 = -3 , -2\n",
    "beta1, beta2 = [1 4], [2 3]\n",
    "rho = -2\n",
    "lambda = exp(rho)/(1+exp(rho))\n",
    "\n",
    "N = 200\n",
    "Y = zeros(N,2)\n",
    "X = zeros(N,2)\n",
    "\n",
    "io = open(\"monte_carlo.csv\", \"w\")\n",
    "println(io, \"y1,y2,x1,x2\")\n",
    "\n",
    "for i=1:N\n",
    "    x1,x2 = rand(Normal(0.0, 1.0),3)\n",
    "    e1,e2 = rand(Logistic(),2)\n",
    "    select = rand(Categorical([lambda, (1-lambda)]))\n",
    "    \n",
    "    #see logit response i.e. definitely 11\n",
    "    eq = []\n",
    "    for y_init=[[0 0],[1 1],[0 1],[1 0]]\n",
    "        y1,y2 = sum(beta1.*[1 x1]) + delta1*y_init[2] + e1 >= 0, sum(beta2.*[1 x2]) +delta2*y_init[1] + e2 >= 0\n",
    "        \n",
    "        if false\n",
    "            println( \"$(1*y1) $(1*y2),$(y_init)\" )\n",
    "            println(sum(beta1.*[1 x1]) + delta1*y_init[2] + e1,\" \", sum(beta2.*[1 x2]) +delta2*y_init[1] + e2)\n",
    "            println(\"-----\")\n",
    "        end\n",
    "            \n",
    "        if (y1==y_init[1]) & (y2==y_init[2])\n",
    "            append!(eq,[y_init])\n",
    "        end\n",
    "    end\n",
    "    #println( eq )\n",
    "    #println( \"========\")\n",
    "    y1, y2 = eq[1]\n",
    "    if size(eq)[1] >= 2\n",
    "        y1, y2 = eq[select]\n",
    "    end\n",
    "    Y[i,:] =[y1 y2]\n",
    "    X[i,:] =[x1 x2]\n",
    "    println(io, \"$(y1),$(y2),$(x1),$(x2)\")\n",
    "end\n",
    "\n",
    "close(io)"
   ]
  },
  {
   "cell_type": "code",
   "execution_count": 28,
   "metadata": {
    "scrolled": false
   },
   "outputs": [
    {
     "name": "stdout",
     "output_type": "stream",
     "text": [
      "0.2689414213699951[0.30757, 0.859648, 0.846886, 0.925484, 0.925858, 0.75043, 0.493286, 0.866413, 0.206261, 0.196453, 0.678524, 0.508247, 0.687809, 0.995806, 0.539487, 0.9974, 0.99884, 0.329642, 0.576633, 0.548459, 0.972413, 0.850256, 0.353994, 0.560859, 0.607969, 0.816668, 0.795395, 0.0130457, 0.430498, 0.325541, 0.630904, 0.957067, 0.278153, 0.982256, 0.689463, 0.990964, 0.725974, 0.224264, 0.912126, 0.0277992, 0.60777, 0.89665, 0.113194, 0.813206, 0.946031, 0.214895, 0.552004, 0.316971, 0.897579, 0.742444, 0.977413, 0.635136, 0.995197, 0.177529, 0.647086, 0.695328, 0.479652, 0.923726, 0.892435, 0.542178, 0.985825, 0.752956, 0.226296, 0.867816, 0.95677, 0.280355, 0.429283, 0.394525, 0.843985, 0.410504, 0.638319, 0.9966, 0.808333, 0.745544, 0.958081, 0.741468, 0.330658, 0.674573, 0.347945, 0.686672, 0.736365, 0.979486, 0.676097, 0.613291, 0.524933, 0.412693, 0.973989, 0.753823, 0.697767, 0.977462, 0.653735, 0.656084, 0.338297, 0.430357, 0.307639, 0.889244, 0.302395, 0.881901, 0.926438, 0.639898, 0.939952, 0.509738, 0.508673, 0.995632, 0.999694, 0.636801, 0.230723, 0.995776, 0.992659, 0.206975, 0.979056, 0.960523, 0.980609, 0.898456, 0.222669, 0.307662, 0.95707, 0.751823, 0.614147, 0.00384475, 0.210642, 0.99473, 0.697215, 0.982875, 0.362979, 0.334827, 0.824036, 0.558214, 0.0698353, 0.329394, 0.931688, 0.325667, 0.019741, 0.211607, 0.989551, 0.658121, 0.868357, 0.996896, 0.141288, 0.354032, 0.430971, 0.368435, 0.944094, 0.428018, 0.827277, 0.340312, 0.973327, 0.511702, 0.477292, 0.901123, 0.484296, 0.048235, 0.720114, 0.124673, 0.918954, 0.83465, 0.759546, 0.12911, 0.978542, 0.407309, 0.901385, 0.215256, 0.607544, 0.931502, 0.984543, 0.896555, 0.994298, 0.929356, 0.593101, 0.876957, 0.23024, 0.937502, 0.583251, 0.458636, 0.556161, 0.0482634, 0.898648, 0.710928, 0.987188, 0.890241, 0.584061, 0.987429, 0.92256, 0.971888, 0.850865, 0.753822, 0.925471, 0.811686, 0.773763, 0.0728932, 0.992651, 0.955897, 0.680226, 0.386109, 0.59306, 0.721985, 0.770343, 0.957649, 0.72691, 0.464903]"
     ]
    },
    {
     "data": {
      "text/plain": [
       "124.20582998636017"
      ]
     },
     "execution_count": 28,
     "metadata": {},
     "output_type": "execute_result"
    }
   ],
   "source": [
    "function ll_obj(params;xs=X,ys=Y)\n",
    "    n = size(X)[1]\n",
    "    k = Integer(size(X)[2]/2) + 1\n",
    "    \n",
    "    p = []\n",
    "    \n",
    "    for bound=[[0,0],[1,1],[0,1],[1,0]]\n",
    "        util1 = params[1] .+ xs[:,1].*params[2]  .+ bound[2].*params[3]\n",
    "        util2 = params[4] .+ xs[:,2].*params[5]  .+ bound[1].*params[6]\n",
    "        prob = exp.(util1).^(bound[1])./(1 .+ exp.(util1))\n",
    "        prob = prob .* exp.(util2).^(bound[2])./(1 .+ exp.(util2))\n",
    "        append!(p,[prob])\n",
    "    end\n",
    "    \n",
    "    p00 = (1 .- ys[:,1]).*(1 .- ys[:,2])\n",
    "    p11 = ys[:,1].*ys[:,2]\n",
    "    p10 = ys[:,1].* (1 .- ys[:,2])\n",
    "    p01 = (1 .- ys[:,1]) .* ys[:,2]\n",
    "    \n",
    "    lambda = exp(params[7])/(1+exp(params[7]))\n",
    "    \n",
    "    ll = p00 .* p[1] + p11 .*p[2]\n",
    "    ll = ll .+ p01 .* ( lambda .* p[3] + (1-lambda).*(1 .- p[1] .- p[2] .- p[4] ) )\n",
    "    ll = ll .+ p10 .* ( (1-lambda) .* p[4] + lambda.*(1 .- p[1] .- p[2] .- p[3] ) )\n",
    "    print(lambda)\n",
    "    print(ll)\n",
    "    return -sum(log.(ll))    \n",
    "end\n",
    "\n",
    "\n",
    "ll_obj([1 4 -3 2 3 -2 -1];xs=X,ys=Y)"
   ]
  },
  {
   "cell_type": "code",
   "execution_count": 19,
   "metadata": {},
   "outputs": [
    {
     "name": "stdout",
     "output_type": "stream",
     "text": [
      "0.9999092063235617\n",
      "0.4999773010656488\n",
      "1.7498865073892105"
     ]
    }
   ],
   "source": [
    "a = 10\n",
    "b =(exp(a)/(1+exp(a)))^2 + 1/4 + 1/2*exp(a)/(1+exp(a))\n",
    "println( (exp(a)/(1+exp(a)))^2 )\n",
    "println( 1/2*exp(a)/(1+exp(a)) )\n",
    "print(b)"
   ]
  },
  {
   "cell_type": "code",
   "execution_count": 20,
   "metadata": {},
   "outputs": [
    {
     "name": "stdout",
     "output_type": "stream",
     "text": [
      "[0.982616 4.53741 -2.80866 1.77774 2.65394 -1.63173 -0.809166]122.77818335284223"
     ]
    }
   ],
   "source": [
    "function maximum_likelihood(params)   \n",
    "    return optimize(ll_obj, params, LBFGS())\n",
    "end\n",
    "\n",
    "result =  maximum_likelihood([1 4 -3 2 3 -2 -1.])\n",
    "print(result.minimizer)\n",
    "print(result.minimum)"
   ]
  },
  {
   "cell_type": "code",
   "execution_count": null,
   "metadata": {},
   "outputs": [],
   "source": []
  },
  {
   "cell_type": "code",
   "execution_count": null,
   "metadata": {},
   "outputs": [],
   "source": []
  }
 ],
 "metadata": {
  "kernelspec": {
   "display_name": "Julia 1.0.3",
   "language": "julia",
   "name": "julia-1.0"
  },
  "language_info": {
   "file_extension": ".jl",
   "mimetype": "application/julia",
   "name": "julia",
   "version": "1.0.3"
  }
 },
 "nbformat": 4,
 "nbformat_minor": 2
}
