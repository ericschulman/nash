{
 "cells": [
  {
   "cell_type": "code",
   "execution_count": 2,
   "metadata": {},
   "outputs": [],
   "source": [
    "using Distributions\n",
    "using Optim"
   ]
  },
  {
   "cell_type": "code",
   "execution_count": 53,
   "metadata": {},
   "outputs": [],
   "source": [
    "delta1, delta2 = -3 , -2\n",
    "beta1, beta2 = [1 4], [2 3]\n",
    "rho = -2\n",
    "lambda = exp(rho)/(1+exp(rho))\n",
    "\n",
    "N = 200\n",
    "Y = zeros(N,2)\n",
    "X = zeros(N,2)\n",
    "\n",
    "io = open(\"monte_carlo.csv\", \"w\")\n",
    "println(io, \"y1,y2,x1,x2\")\n",
    "\n",
    "for i=1:N\n",
    "    x1,x2 = rand(Normal(0.0, 2.0),3)\n",
    "    e1,e2 = rand(Logistic(),2)\n",
    "    select = rand(Categorical([lambda, (1-lambda)]))\n",
    "    \n",
    "    #see logit response i.e. definitely 11\n",
    "    eq = []\n",
    "    for y_init=[[0 0],[1 1],[0 1],[1 0]]\n",
    "        y1,y2 = sum(beta1.*[1 x1]) + delta1*y_init[2] + e1 >= 0, sum(beta2.*[1 x2]) +delta2*y_init[1] + e2 >= 0\n",
    "        \n",
    "        if false\n",
    "            println( \"$(1*y1) $(1*y2),$(y_init)\" )\n",
    "            println(sum(beta1.*[1 x1]) + delta1*y_init[2] + e1,\" \", sum(beta2.*[1 x2]) +delta2*y_init[1] + e2)\n",
    "            println(\"-----\")\n",
    "        end\n",
    "            \n",
    "        if (y1==y_init[1]) & (y2==y_init[2])\n",
    "            append!(eq,[y_init])\n",
    "        end\n",
    "    end\n",
    "    #println( eq )\n",
    "    #println( \"========\")\n",
    "    y1, y2 = eq[1]\n",
    "    if size(eq)[1] >= 2\n",
    "        y1, y2 = eq[select]\n",
    "    end\n",
    "    Y[i,:] =[y1 y2]\n",
    "    X[i,:] =[x1 x2]\n",
    "    println(io, \"$(y1),$(y2),$(x1),$(x2)\")\n",
    "end\n",
    "\n",
    "close(io)"
   ]
  },
  {
   "cell_type": "code",
   "execution_count": 54,
   "metadata": {
    "scrolled": false
   },
   "outputs": [
    {
     "data": {
      "text/plain": [
       "75.34621244689407"
      ]
     },
     "execution_count": 54,
     "metadata": {},
     "output_type": "execute_result"
    }
   ],
   "source": [
    "function ll_obj(params;xs=X,ys=Y)\n",
    "    n = size(X)[1]\n",
    "    k = Integer(size(X)[2]/2) + 1\n",
    "    \n",
    "    p = []\n",
    "    \n",
    "    for bound=[[0,0],[1,1],[0,1],[1,0]]\n",
    "        util1 = params[1] .+ xs[:,1].*params[2]  .+ bound[2].*params[3]\n",
    "        util2 = params[4] .+ xs[:,2].*params[5]  .+ bound[1].*params[6]\n",
    "        prob = exp.(util1).^(bound[1])./(1 .+ exp.(util1))\n",
    "        prob = prob .* exp.(util2).^(bound[2])./(1 .+ exp.(util2))\n",
    "        append!(p,[prob])\n",
    "    end\n",
    "    \n",
    "    \n",
    "    p00 = (1 .- ys[:,1]).*(1 .- ys[:,2])\n",
    "    p11 = ys[:,1].*ys[:,2]\n",
    "    p10 = ys[:,1].* (1 .- ys[:,2])\n",
    "    p01 = (1 .- ys[:,1]) .* ys[:,2]\n",
    "    \n",
    "    #print(ys[2,:], \" \", p[1][2],\" \",p[2][2], \" \", p[3][2],\" \",p[4][2] )\n",
    "    #print(max.(p[1] .+ p[2].+p[4]) )\n",
    "    \n",
    "    lambda = exp(params[7])/(1+exp(params[7]))\n",
    "    #println(1 .- p[1] .- p[2] .- p[4])\n",
    "    ll = p00 .* log.(p[1]) + p11 .* log.(p[2])\n",
    "    ll = ll .+ p01 .* log.(max.( lambda .* p[3] + (1-lambda).*(1 .- p[1] .- p[2] .- p[4] ),0 ) )\n",
    "    ll = ll .+ p10 .* log.( max.( (1-lambda) .* p[4] + lambda.*(1 .- p[1] .- p[2] .- p[3] ),0 ) )\n",
    "    return -sum(ll)    \n",
    "end\n",
    "\n",
    "\n",
    "ll_obj([1 4 -3 2 3 -2 -1];xs=X,ys=Y)"
   ]
  },
  {
   "cell_type": "code",
   "execution_count": 55,
   "metadata": {},
   "outputs": [
    {
     "name": "stdout",
     "output_type": "stream",
     "text": [
      "0.9999092063235617\n",
      "0.4999773010656488\n",
      "1.7498865073892105"
     ]
    }
   ],
   "source": [
    "a = 10\n",
    "b =(exp(a)/(1+exp(a)))^2 + 1/4 + 1/2*exp(a)/(1+exp(a))\n",
    "println( (exp(a)/(1+exp(a)))^2 )\n",
    "println( 1/2*exp(a)/(1+exp(a)) )\n",
    "print(b)"
   ]
  },
  {
   "cell_type": "code",
   "execution_count": 56,
   "metadata": {},
   "outputs": [
    {
     "name": "stdout",
     "output_type": "stream",
     "text": [
      "[1.25651 3.57987 -2.70656 2.81621 3.61223 -2.53774 -27.855]73.00457344439384"
     ]
    }
   ],
   "source": [
    "function maximum_likelihood(params)   \n",
    "    return optimize(ll_obj, params, LBFGS())\n",
    "end\n",
    "\n",
    "result =  maximum_likelihood([1 4 -3 2 3 -2 -1.])\n",
    "print(result.minimizer)\n",
    "print(result.minimum)"
   ]
  },
  {
   "cell_type": "code",
   "execution_count": null,
   "metadata": {},
   "outputs": [],
   "source": []
  },
  {
   "cell_type": "code",
   "execution_count": null,
   "metadata": {},
   "outputs": [],
   "source": []
  }
 ],
 "metadata": {
  "kernelspec": {
   "display_name": "Julia 1.0.3",
   "language": "julia",
   "name": "julia-1.0"
  },
  "language_info": {
   "file_extension": ".jl",
   "mimetype": "application/julia",
   "name": "julia",
   "version": "1.0.3"
  }
 },
 "nbformat": 4,
 "nbformat_minor": 2
}
