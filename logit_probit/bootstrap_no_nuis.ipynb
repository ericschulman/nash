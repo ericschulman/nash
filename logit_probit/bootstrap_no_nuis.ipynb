{
 "cells": [
  {
   "cell_type": "code",
   "execution_count": 1,
   "metadata": {},
   "outputs": [],
   "source": [
    "import numpy as np\n",
    "import matplotlib.pyplot as plt\n",
    "import statsmodels.api as sm\n",
    "import scipy.stats as stats"
   ]
  },
  {
   "cell_type": "code",
   "execution_count": 2,
   "metadata": {},
   "outputs": [],
   "source": [
    "#generate the sample\n",
    "def gen_data():\n",
    "    nobs = 1000\n",
    "    beta = 3\n",
    "    x = np.random.uniform(low=-3., high=3., size=nobs)\n",
    "    e = np.random.normal(loc=0.0, scale=1.0, size=nobs)\n",
    "    y = 1*(1 + beta * x + e >= 0) \n",
    "    return y,x,nobs"
   ]
  },
  {
   "cell_type": "code",
   "execution_count": 3,
   "metadata": {},
   "outputs": [
    {
     "name": "stdout",
     "output_type": "stream",
     "text": [
      "(-0.19554192571766293, 0.02319395978060916)\n"
     ]
    }
   ],
   "source": [
    "def compute_llr(yn,xn):\n",
    "    \n",
    "    model1 = sm.Probit(yn,sm.add_constant(xn))\n",
    "    model1_fit = model1.fit(disp=False)\n",
    "    ll1 = model1.loglikeobs(model1_fit.params)\n",
    "    \n",
    "    model2 = sm.Logit(yn,sm.add_constant(xn))\n",
    "    model2_fit = model2.fit(disp=False)\n",
    "    ll2 = model2.loglikeobs(model2_fit.params)\n",
    "    \n",
    "    llr = ll1.sum() - ll2.sum()\n",
    "    omega2 = (ll1- ll2).var()\n",
    "    return llr,np.sqrt(omega2)\n",
    "\n",
    "\n",
    "yn,xn,nobs = gen_data()\n",
    "print(compute_llr(yn,xn))"
   ]
  },
  {
   "cell_type": "code",
   "execution_count": 4,
   "metadata": {},
   "outputs": [
    {
     "name": "stdout",
     "output_type": "stream",
     "text": [
      "(False, False)\n"
     ]
    },
    {
     "data": {
      "image/png": "[encoded data removed]",
      "text/plain": [
       "<Figure size 432x288 with 1 Axes>"
      ]
     },
     "metadata": {
      "needs_background": "light"
     },
     "output_type": "display_data"
    }
   ],
   "source": [
    "def regular_test(yn,xn,nobs,hist=False):\n",
    "    llr, omega = compute_llr(yn,xn)\n",
    "    test_stat = llr/(omega*np.sqrt(nobs))\n",
    "    #plot\n",
    "    if hist:\n",
    "        x = np.linspace(-2.5, 2.5, 100)\n",
    "        plt.plot(x, stats.norm.pdf(x, 0, 1),label=\"Normal\")\n",
    "    \n",
    "    return np.abs(test_stat) >= 1.96\n",
    "\n",
    "\n",
    "def bootstrap_test(yn,xn,nobs,hist=False):\n",
    "    llrs = []\n",
    "    omegas = []\n",
    "    trials = 200\n",
    "    subn = 1000\n",
    "    \n",
    "    for i in range(trials):\n",
    "        \n",
    "        np.random.seed()\n",
    "        sample  = np.random.choice(np.arange(0,nobs),subn,replace=True)\n",
    "        ys,xs = yn[sample],xn[sample]\n",
    "        llr, omega = compute_llr(ys,xs)\n",
    "        llrs.append(llr)\n",
    "        omegas.append(omega)\n",
    "    \n",
    "    llr, omega = compute_llr(yn,xn)\n",
    "    \n",
    "    test_stat1 =np.array(llrs)/(np.array(omegas)*np.sqrt(subn))\n",
    "    test_stat2 = np.array(llrs)/(omega*np.sqrt(subn))\n",
    "    \n",
    "    #plot\n",
    "    if hist:\n",
    "        plt.hist(test_stat1, density=True,bins=10, label=\"Bootstrap 1\")\n",
    "        plt.hist(test_stat2, density=True,bins=10, label=\"Bootstrap 2\")\n",
    "    \n",
    "    cv_upper1 = np.percentile(test_stat1, 97.5, axis=0)\n",
    "    cv_lower1 = np.percentile(test_stat1, 2.5, axis=0)\n",
    "    \n",
    "    cv_upper2 = np.percentile(test_stat2, 97.5, axis=0)\n",
    "    cv_lower2 = np.percentile(test_stat2, 2.5, axis=0)\n",
    "    \n",
    "    test_stat = llr/(omega*np.sqrt(nobs))\n",
    "    return 0 >= cv_upper1 or 0 <= cv_lower1, 0 >= cv_upper2 or 0 <= cv_lower2\n",
    "    \n",
    "\n",
    "yn,xn,nobs = gen_data()\n",
    "print(bootstrap_test(yn,xn,nobs,hist=True))\n",
    "\n",
    "plt.title(\"Comparison with subsampling\")\n",
    "plt.xlabel(\"Test Statistic\")\n",
    "plt.ylabel(\"Density\")\n",
    "plt.legend()\n",
    "plt.savefig('figs/bootstrap_compare')\n",
    "plt.show()"
   ]
  },
  {
   "cell_type": "code",
   "execution_count": 5,
   "metadata": {},
   "outputs": [
    {
     "name": "stdout",
     "output_type": "stream",
     "text": [
      "reg: 0.26, boot1: 0.26, boot2: 0.26\n"
     ]
    }
   ],
   "source": [
    "reg = 0\n",
    "boot1 = 0 \n",
    "boot2 = 0 \n",
    "total = 100\n",
    "for i in range(total):\n",
    "    np.random.seed()\n",
    "    yn,xn,nobs = gen_data()\n",
    "    reg = regular_test(yn,xn,nobs) +reg\n",
    "    \n",
    "    boot_result = bootstrap_test(yn,xn,nobs)\n",
    "    boot1 = boot_result[0] + boot1\n",
    "    boot2 = boot_result[1] + boot2\n",
    "\n",
    "print(\"reg: %s, boot1: %s, boot2: %s\"%(reg/total,boot1/total,boot2/total))"
   ]
  },
  {
   "cell_type": "code",
   "execution_count": null,
   "metadata": {},
   "outputs": [],
   "source": []
  },
  {
   "cell_type": "code",
   "execution_count": null,
   "metadata": {},
   "outputs": [],
   "source": []
  }
 ],
 "metadata": {
  "kernelspec": {
   "display_name": "Python 3",
   "language": "python",
   "name": "python3"
  },
  "language_info": {
   "codemirror_mode": {
    "name": "ipython",
    "version": 3
   },
   "file_extension": ".py",
   "mimetype": "text/x-python",
   "name": "python",
   "nbconvert_exporter": "python",
   "pygments_lexer": "ipython3",
   "version": "3.7.4"
  }
 },
 "nbformat": 4,
 "nbformat_minor": 2
}
