{
 "cells": [
  {
   "cell_type": "code",
   "execution_count": 5,
   "metadata": {},
   "outputs": [],
   "source": [
    "#math\n",
    "import numpy as np\n",
    "import scipy.stats as stats\n",
    "import scipy.linalg as linalg\n",
    "import scipy.special\n",
    "#graphing\n",
    "import matplotlib.pyplot as plt\n",
    "#stats\n",
    "import statsmodels.api as sm"
   ]
  },
  {
   "cell_type": "code",
   "execution_count": 6,
   "metadata": {},
   "outputs": [],
   "source": [
    "#generate the sample\n",
    "def gen_data(beta=3):\n",
    "    nobs = 1000\n",
    "    x = np.random.uniform(low=-3., high=3., size=(nobs,3))\n",
    "    e = np.random.normal(loc=0.0, scale=1.0, size=nobs)\n",
    "    y = 1*(1 + beta * x[:,1] + e >= 0) \n",
    "    return y,x,nobs\n",
    "\n",
    "yn,xn,nobs = gen_data()\n"
   ]
  },
  {
   "cell_type": "code",
   "execution_count": 15,
   "metadata": {},
   "outputs": [
    {
     "name": "stdout",
     "output_type": "stream",
     "text": [
      "[0.94954304 0.0228038  2.94330477]\n",
      "[ 0.9310689   2.94537425 -0.10618251]\n",
      "[[-0.10260019  0.03856334  0.0374339 ]\n",
      " [-0.01718207  0.02002715  0.03283282]\n",
      " [ 0.03856334 -0.03335334 -0.00939763]]\n",
      "[ 0.9844297  -0.8095679  -0.12577551 -0.08110758  0.10649921  0.12408868]\n"
     ]
    },
    {
     "data": {
      "image/png": "[encoded data removed]",
      "text/plain": [
       "<Figure size 432x288 with 1 Axes>"
      ]
     },
     "metadata": {
      "needs_background": "light"
     },
     "output_type": "display_data"
    }
   ],
   "source": [
    "def setup_shi(yn,xn):\n",
    "    x1n,x2n = xn[:,0:2],xn[:,1:3]\n",
    "    model1 = sm.Probit(yn,sm.add_constant(x1n))\n",
    "    model1_fit = model1.fit(disp=False)\n",
    "    print(model1_fit.params)\n",
    "    ll1 = model1.loglikeobs(model1_fit.params)\n",
    "    grad1 =  model1.score_obs(model1_fit.params)\n",
    "    hess1 =  model1.hessian(model1_fit.params)\n",
    "    \n",
    "    model2 = sm.Probit(yn,sm.add_constant(x2n))\n",
    "    model2_fit = model2.fit(disp=False)\n",
    "    print(model2_fit.params)\n",
    "    ll2 = model2.loglikeobs(model2_fit.params)\n",
    "    grad2 =  model2.score_obs(model2_fit.params)\n",
    "    hess2 =  model2.hessian(model2_fit.params)\n",
    "    \n",
    "    k1 = len(model1_fit.params)\n",
    "    k2 = len(model2_fit.params)\n",
    "    return ll1,grad1,hess1,ll2,k1, grad2,hess2,k2 \n",
    "    \n",
    "    \n",
    "def compute_eigen(yn,xn):\n",
    "    ll1,grad1,hess1,ll2,k1, grad2,hess2,k2 = setup_shi(yn,xn)\n",
    "    hess1 = hess1/len(ll1)\n",
    "    hess2 = hess2/len(ll2)\n",
    "    \n",
    "    k = k1 + k2\n",
    "    n = len(ll1)\n",
    "    \n",
    "    #A_hat:\n",
    "    A_hat1 = np.concatenate([hess1,np.zeros((k1,k2))])\n",
    "    A_hat2 = np.concatenate([np.zeros((k2,k1)),-1*hess2])\n",
    "    A_hat = np.concatenate([A_hat1,A_hat2],axis=1)\n",
    "\n",
    "    #B_hat, covariance of the score...\n",
    "    B_hat =  np.concatenate([grad1,-grad2],axis=1) #might be a mistake here..\n",
    "    B_hat = np.cov(B_hat.transpose())\n",
    "    print(B_hat[0:3,3:])\n",
    "    \n",
    "    #compute eigenvalues for weighted chisq\n",
    "    sqrt_B_hat= linalg.sqrtm(B_hat)\n",
    "    W_hat = np.matmul(sqrt_B_hat,linalg.inv(A_hat))\n",
    "    W_hat = np.matmul(W_hat,sqrt_B_hat)\n",
    "    V,W = np.linalg.eig(W_hat)\n",
    "    print(V)\n",
    "    return V\n",
    "\n",
    "n_sims = 5000\n",
    "yn,xn,nobs = gen_data()\n",
    "model_eigs = compute_eigen(yn,xn)\n",
    "eigs_tile = np.tile(model_eigs,n_sims).reshape(n_sims,len(model_eigs))\n",
    "normal_draws = stats.norm.rvs(size=(n_sims,len(model_eigs)))\n",
    "weighted_chi = ((normal_draws**2)*eigs_tile).sum(axis=1)\n",
    "plt.hist(weighted_chi,density=True,bins=25)\n",
    "plt.show()"
   ]
  },
  {
   "cell_type": "code",
   "execution_count": 20,
   "metadata": {},
   "outputs": [
    {
     "name": "stdout",
     "output_type": "stream",
     "text": [
      "[ 1.11163638 -0.0157593   3.16281057]\n",
      "[ 1.12393556  3.20693525 -0.05174918]\n",
      "[[-0.09171459  0.03914839  0.00658541]\n",
      " [-0.03740245  0.01591723  0.03937467]\n",
      " [ 0.03914839 -0.02937863 -0.01799698]]\n",
      "[-1.10662301  1.01174883 -0.06438824 -0.04102303  0.05838938  0.06294147]\n",
      "-0.07895459379971338\n"
     ]
    },
    {
     "data": {
      "image/png": "[encoded data removed]",
      "text/plain": [
       "<Figure size 432x288 with 1 Axes>"
      ]
     },
     "metadata": {
      "needs_background": "light"
     },
     "output_type": "display_data"
    }
   ],
   "source": [
    "n_sims = 5000\n",
    "yn,xn,nobs = gen_data(beta=3)\n",
    "model_eigs = compute_eigen(yn,xn)\n",
    "eigs_tile = np.tile(model_eigs,n_sims).reshape(n_sims,len(model_eigs))\n",
    "print(model_eigs.sum())\n",
    "normal_draws = stats.norm.rvs(size=(n_sims,len(model_eigs)))\n",
    "weighted_chi = ((normal_draws**2)*eigs_tile).sum(axis=1)\n",
    "plt.hist(weighted_chi,density=True,bins=25)\n",
    "plt.show()"
   ]
  },
  {
   "cell_type": "code",
   "execution_count": null,
   "metadata": {},
   "outputs": [],
   "source": []
  },
  {
   "cell_type": "code",
   "execution_count": null,
   "metadata": {},
   "outputs": [],
   "source": []
  }
 ],
 "metadata": {
  "kernelspec": {
   "display_name": "Python 3",
   "language": "python",
   "name": "python3"
  },
  "language_info": {
   "codemirror_mode": {
    "name": "ipython",
    "version": 3
   },
   "file_extension": ".py",
   "mimetype": "text/x-python",
   "name": "python",
   "nbconvert_exporter": "python",
   "pygments_lexer": "ipython3",
   "version": "3.7.4"
  }
 },
 "nbformat": 4,
 "nbformat_minor": 2
}
