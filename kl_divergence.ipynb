{
 "cells": [
  {
   "cell_type": "code",
   "execution_count": 1,
   "metadata": {},
   "outputs": [],
   "source": [
    "import numpy as np\n",
    "from scipy import integrate\n",
    "from scipy.stats import norm\n",
    "from scipy.optimize import minimize"
   ]
  },
  {
   "cell_type": "code",
   "execution_count": 14,
   "metadata": {},
   "outputs": [
    {
     "name": "stdout",
     "output_type": "stream",
     "text": [
      "-0.012618586162246858\n",
      "-0.00610325348206153\n",
      "-282.94274472916396\n",
      "-283.54084588963764\n"
     ]
    }
   ],
   "source": [
    "util = lambda a,b,x: a+ b*x\n",
    "\n",
    "#adjust f so that it works like a log likelihood function for discrete choice\n",
    "log_like = lambda f : lambda a,b,x : f(util(a,b,x))\n",
    "\n",
    "\n",
    "weight_like = lambda f,f0,a1,b1,a0,b0,x: np.log(f(a1,b1,x))*f0(a0,b0,x)\n",
    "weight_like2 = lambda f,f0,a1,b1,a0,b0,x: weight_like(log_like(f),log_like(f0), a1,b1,a0,b0,x)\n",
    "like_params = lambda f,f0,a1,b1,a0,b0 : lambda x: weight_like2(f,f0,a1,b1,a0,b0,x)\n",
    "\n",
    "\n",
    "logit = lambda x : np.exp(x)/(1+np.exp(x))\n",
    "print( like_params(logit,norm.cdf,1.77,5.18,1,3)(.5))\n",
    "print( like_params(norm.cdf,norm.cdf,1.01,2.99,1,3)(.5))\n",
    "\n",
    "print(integrate.quad(like_params(logit,norm.cdf,1.77,5.18,1,3), -1,1)[0]*1000)\n",
    "print(integrate.quad(like_params(norm.cdf,norm.cdf,1.01,2.99,1,3), -1,1)[0]*1000)\n",
    "\n",
    "\n",
    "#print(util(1,3,.5,.5))\n",
    "#print(norm.pdf(3.0))"
   ]
  },
  {
   "cell_type": "code",
   "execution_count": null,
   "metadata": {},
   "outputs": [],
   "source": [
    "#https://docs.scipy.org/doc/scipy/reference/generated/scipy.integrate.dblquad.html"
   ]
  }
 ],
 "metadata": {
  "kernelspec": {
   "display_name": "Python 3",
   "language": "python",
   "name": "python3"
  },
  "language_info": {
   "codemirror_mode": {
    "name": "ipython",
    "version": 3
   },
   "file_extension": ".py",
   "mimetype": "text/x-python",
   "name": "python",
   "nbconvert_exporter": "python",
   "pygments_lexer": "ipython3",
   "version": "3.7.4"
  }
 },
 "nbformat": 4,
 "nbformat_minor": 2
}
