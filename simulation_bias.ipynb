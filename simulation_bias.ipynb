{
 "cells": [
  {
   "cell_type": "code",
   "execution_count": 27,
   "metadata": {},
   "outputs": [],
   "source": [
    "import numpy as np\n",
    "import matplotlib.pyplot as plt\n",
    "import statsmodels.api as sm\n",
    "from statsmodels.base.model import GenericLikelihoodModel"
   ]
  },
  {
   "cell_type": "code",
   "execution_count": 28,
   "metadata": {},
   "outputs": [],
   "source": [
    "#generate the sample\n",
    "def gen_data():\n",
    "    N = 1000\n",
    "    beta = 3\n",
    "    x = np.random.normal(loc=0, scale=1, size=N)\n",
    "    e = np.random.logistic(size=N)\n",
    "    y = 1*(1 + beta * x + e >= 0) \n",
    "    return y,x,N"
   ]
  },
  {
   "cell_type": "code",
   "execution_count": 29,
   "metadata": {},
   "outputs": [
    {
     "name": "stdout",
     "output_type": "stream",
     "text": [
      "                           Logit Regression Results                           \n",
      "==============================================================================\n",
      "Dep. Variable:                      y   No. Observations:                 1000\n",
      "Model:                          Logit   Df Residuals:                      998\n",
      "Method:                           MLE   Df Model:                            1\n",
      "Date:                Thu, 02 Jul 2020   Pseudo R-squ.:                  0.4577\n",
      "Time:                        10:50:33   Log-Likelihood:                -362.66\n",
      "converged:                       True   LL-Null:                       -668.75\n",
      "Covariance Type:            nonrobust   LLR p-value:                3.744e-135\n",
      "==============================================================================\n",
      "                 coef    std err          z      P>|z|      [0.025      0.975]\n",
      "------------------------------------------------------------------------------\n",
      "const          0.9656      0.104      9.285      0.000       0.762       1.169\n",
      "x1             2.8125      0.180     15.638      0.000       2.460       3.165\n",
      "==============================================================================\n"
     ]
    }
   ],
   "source": [
    "yn,xn, N = gen_data()\n",
    "\n",
    "\n",
    "model1 = sm.Logit(yn,sm.add_constant(xn))\n",
    "model1_res = model1.fit(disp=False)\n",
    "\n",
    "print(model1_res.summary())"
   ]
  },
  {
   "cell_type": "code",
   "execution_count": 31,
   "metadata": {},
   "outputs": [
    {
     "name": "stdout",
     "output_type": "stream",
     "text": [
      "                               SimLogit Results                               \n",
      "==============================================================================\n",
      "Dep. Variable:                      y   Log-Likelihood:                -362.44\n",
      "Model:                       SimLogit   AIC:                             728.9\n",
      "Method:            Maximum Likelihood   BIC:                             738.7\n",
      "Date:                Thu, 02 Jul 2020                                         \n",
      "Time:                        10:50:34                                         \n",
      "No. Observations:                1000                                         \n",
      "Df Residuals:                     998                                         \n",
      "Df Model:                           1                                         \n",
      "==============================================================================\n",
      "                 coef    std err          z      P>|z|      [0.025      0.975]\n",
      "------------------------------------------------------------------------------\n",
      "const          1.0802      0.002    574.324      0.000       1.076       1.084\n",
      "x1             2.9610      0.005    591.084      0.000       2.951       2.971\n",
      "==============================================================================\n"
     ]
    }
   ],
   "source": [
    "class SimLogit(GenericLikelihoodModel):\n",
    "    \n",
    "    \n",
    "    def __init__(self,*args, **kwargs):\n",
    "        \n",
    "        super(SimLogit, self).__init__(*args, **kwargs)\n",
    "        #do the simulation 1x instead of on every step\n",
    "        nsim = 2000\n",
    "        np.random.seed(0)\n",
    "        e = np.random.logistic(size=nsim)\n",
    "        e = np.repeat(e, self.endog.shape[0])\n",
    "        self.sims = e.reshape((nsim,self.endog.shape[0]))\n",
    "        \n",
    "    \n",
    "    def loglike(self, params):\n",
    "        \n",
    "        exog = self.exog\n",
    "        endog = self.endog\n",
    "        u = np.dot(exog, params)\n",
    "        \n",
    "        #generate simulations\n",
    "        e = self.sims\n",
    "        \n",
    "        #compare to each sim\n",
    "        u = np.tile(u,(e.shape[0],1))\n",
    "        u = u.reshape((e.shape[0],endog.shape[0]))\n",
    "               \n",
    "        #compute likelihood\n",
    "        p0, p1 = (u<=e).mean(axis=0), (u >= e).mean(axis=0)\n",
    "        p = (1-endog)*p0 +  endog*p1\n",
    "        ll = np.log( np.maximum(p,.0001) )#help with numerical zeros\n",
    "        \n",
    "        return ll.sum() \n",
    "\n",
    "    \n",
    "model2 = SimLogit(yn,sm.add_constant(xn))\n",
    "model2_res = model2.fit(disp=False)\n",
    "print(model2_res.summary())"
   ]
  },
  {
   "cell_type": "code",
   "execution_count": 32,
   "metadata": {},
   "outputs": [
    {
     "data": {
      "text/plain": [
       "(array([476., 331., 131.,  40.,  16.,   2.,   2.,   1.,   0.,   1.]),\n",
       " array([   26978.81293857,  1028440.64891747,  2029902.48489637,\n",
       "         3031364.32087527,  4032826.15685418,  5034287.99283308,\n",
       "         6035749.82881198,  7037211.66479088,  8038673.50076978,\n",
       "         9040135.33674868, 10041597.17272758]),\n",
       " <a list of 10 Patch objects>)"
      ]
     },
     "execution_count": 32,
     "metadata": {},
     "output_type": "execute_result"
    },
    {
     "data": {
      "image/png": "[encoded data removed]",
      "text/plain": [
       "<Figure size 432x288 with 1 Axes>"
      ]
     },
     "metadata": {
      "needs_background": "light"
     },
     "output_type": "display_data"
    }
   ],
   "source": [
    "#comapre test distributions\n",
    "\n",
    "hessian = np.linalg.inv( model2_res.normalized_cov_params)\n",
    "values, vectors = np.linalg.eig(hessian)\n",
    "np.random.seed(0)\n",
    "sample  = np.random.chisquare(3, size=(1000,2) )\n",
    "sample = np.dot(sample,values)\n",
    "\n",
    "\n",
    "hessian = np.linalg.inv( model1_res.normalized_cov_params)\n",
    "values, vectors = np.linalg.eig(hessian)\n",
    "np.random.seed(0)\n",
    "sample  = np.random.chisquare(3, size=(1000,2) )\n",
    "sample = np.dot(sample,values)\n",
    "\n",
    "plt.hist(sample)\n",
    "\n",
    "\n",
    "plt.hist(sample,label=\"sim\")"
   ]
  },
  {
   "cell_type": "code",
   "execution_count": null,
   "metadata": {},
   "outputs": [],
   "source": []
  },
  {
   "cell_type": "code",
   "execution_count": null,
   "metadata": {},
   "outputs": [],
   "source": []
  }
 ],
 "metadata": {
  "kernelspec": {
   "display_name": "Python 3",
   "language": "python",
   "name": "python3"
  },
  "language_info": {
   "codemirror_mode": {
    "name": "ipython",
    "version": 3
   },
   "file_extension": ".py",
   "mimetype": "text/x-python",
   "name": "python",
   "nbconvert_exporter": "python",
   "pygments_lexer": "ipython3",
   "version": "3.7.4"
  }
 },
 "nbformat": 4,
 "nbformat_minor": 2
}
