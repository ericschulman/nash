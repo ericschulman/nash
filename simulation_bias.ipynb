{
 "cells": [
  {
   "cell_type": "code",
   "execution_count": 35,
   "metadata": {},
   "outputs": [],
   "source": [
    "import numpy as np\n",
    "import matplotlib.pyplot as plt\n",
    "import statsmodels.api as sm\n",
    "from statsmodels.base.model import GenericLikelihoodModel"
   ]
  },
  {
   "cell_type": "code",
   "execution_count": 36,
   "metadata": {},
   "outputs": [],
   "source": [
    "#generate the sample\n",
    "def gen_data():\n",
    "    N = 1000\n",
    "    beta = 3\n",
    "    x = np.random.normal(loc=0, scale=1, size=N)\n",
    "    e = np.random.logistic(size=N)\n",
    "    y = 1*(1 + beta * x + e >= 0) \n",
    "    return y,x,N"
   ]
  },
  {
   "cell_type": "code",
   "execution_count": 37,
   "metadata": {},
   "outputs": [],
   "source": [
    "class SimulatedLikelihood(GenericLikelihoodModel):\n",
    "    \n",
    "    def __init__(self,*args,  sim_function=np.random.logistic, **kwargs):\n",
    "        super(SimulatedLikelihood, self).__init__(*args, **kwargs)\n",
    "        #do the simulation 1x instead of on every step\n",
    "        nsim = 2000\n",
    "        np.random.seed(0)\n",
    "        e = sim_function(size=nsim)\n",
    "        e = np.repeat(e, self.endog.shape[0])\n",
    "        self.sims = e.reshape((nsim,self.endog.shape[0]))\n",
    "        \n",
    "    \n",
    "    def loglike(self, params):\n",
    "        \n",
    "        exog = self.exog\n",
    "        endog = self.endog\n",
    "        u = np.dot(exog, params)\n",
    "        \n",
    "        #generate simulations\n",
    "        e = self.sims\n",
    "        \n",
    "        #compare to each sim\n",
    "        u = np.tile(u,(e.shape[0],1))\n",
    "        u = u.reshape((e.shape[0],endog.shape[0]))\n",
    "               \n",
    "        #compute likelihood\n",
    "        p0, p1 = (u<=e).mean(axis=0), (u >= e).mean(axis=0)\n",
    "        p = (1-endog)*p0 +  endog*p1\n",
    "        ll = np.log( np.maximum(p,.0001) )#help with numerical zeros\n",
    "        \n",
    "        return ll.sum() "
   ]
  },
  {
   "cell_type": "code",
   "execution_count": 38,
   "metadata": {},
   "outputs": [
    {
     "name": "stdout",
     "output_type": "stream",
     "text": [
      "                          Probit Regression Results                           \n",
      "==============================================================================\n",
      "Dep. Variable:                      y   No. Observations:                 1000\n",
      "Model:                         Probit   Df Residuals:                      998\n",
      "Method:                           MLE   Df Model:                            1\n",
      "Date:                Thu, 09 Jul 2020   Pseudo R-squ.:                  0.4889\n",
      "Time:                        16:34:56   Log-Likelihood:                -345.40\n",
      "converged:                       True   LL-Null:                       -675.75\n",
      "Covariance Type:            nonrobust   LLR p-value:                1.052e-145\n",
      "==============================================================================\n",
      "                 coef    std err          z      P>|z|      [0.025      0.975]\n",
      "------------------------------------------------------------------------------\n",
      "const          0.5067      0.058      8.746      0.000       0.393       0.620\n",
      "x1             1.7286      0.098     17.701      0.000       1.537       1.920\n",
      "==============================================================================\n",
      "                          SimulatedLikelihood Results                          \n",
      "===============================================================================\n",
      "Dep. Variable:                       y   Log-Likelihood:                -345.37\n",
      "Model:             SimulatedLikelihood   AIC:                             694.7\n",
      "Method:             Maximum Likelihood   BIC:                             704.6\n",
      "Date:                 Thu, 09 Jul 2020                                         \n",
      "Time:                         16:34:58                                         \n",
      "No. Observations:                 1000                                         \n",
      "Df Residuals:                      998                                         \n",
      "Df Model:                            1                                         \n",
      "==============================================================================\n",
      "                 coef    std err          z      P>|z|      [0.025      0.975]\n",
      "------------------------------------------------------------------------------\n",
      "const          0.4803        nan        nan        nan         nan         nan\n",
      "x1             1.6807        nan        nan        nan         nan         nan\n",
      "==============================================================================\n"
     ]
    },
    {
     "name": "stderr",
     "output_type": "stream",
     "text": [
      "/home/erichschulman/anaconda3/lib/python3.7/site-packages/statsmodels/base/model.py:492: HessianInversionWarning: Inverting hessian failed, no bse or cov_params available\n",
      "  'available', HessianInversionWarning)\n"
     ]
    }
   ],
   "source": [
    "yn,xn, N = gen_data()\n",
    "model1 = sm.Probit(yn,sm.add_constant(xn))\n",
    "model1_res = model1.fit(disp=False)\n",
    "print(model1_res.summary())\n",
    "    \n",
    "model2 = SimulatedLikelihood(yn,sm.add_constant(xn),sim_function=np.random.normal)\n",
    "model2_res = model2.fit(disp=False)\n",
    "print(model2_res.summary())"
   ]
  },
  {
   "cell_type": "code",
   "execution_count": 39,
   "metadata": {},
   "outputs": [
    {
     "name": "stdout",
     "output_type": "stream",
     "text": [
      "                           Logit Regression Results                           \n",
      "==============================================================================\n",
      "Dep. Variable:                      y   No. Observations:                 1000\n",
      "Model:                          Logit   Df Residuals:                      998\n",
      "Method:                           MLE   Df Model:                            1\n",
      "Date:                Thu, 09 Jul 2020   Pseudo R-squ.:                  0.5102\n",
      "Time:                        16:34:58   Log-Likelihood:                -333.86\n",
      "converged:                       True   LL-Null:                       -681.55\n",
      "Covariance Type:            nonrobust   LLR p-value:                3.008e-153\n",
      "==============================================================================\n",
      "                 coef    std err          z      P>|z|      [0.025      0.975]\n",
      "------------------------------------------------------------------------------\n",
      "const          0.8413      0.107      7.879      0.000       0.632       1.051\n",
      "x1             3.2670      0.206     15.890      0.000       2.864       3.670\n",
      "==============================================================================\n",
      "                          SimulatedLikelihood Results                          \n",
      "===============================================================================\n",
      "Dep. Variable:                       y   Log-Likelihood:                -333.45\n",
      "Model:             SimulatedLikelihood   AIC:                             670.9\n",
      "Method:             Maximum Likelihood   BIC:                             680.7\n",
      "Date:                 Thu, 09 Jul 2020                                         \n",
      "Time:                         16:34:59                                         \n",
      "No. Observations:                 1000                                         \n",
      "Df Residuals:                      998                                         \n",
      "Df Model:                            1                                         \n",
      "==============================================================================\n",
      "                 coef    std err          z      P>|z|      [0.025      0.975]\n",
      "------------------------------------------------------------------------------\n",
      "const          0.9140      0.002    601.644      0.000       0.911       0.917\n",
      "x1             3.4729      0.005    748.596      0.000       3.464       3.482\n",
      "==============================================================================\n"
     ]
    }
   ],
   "source": [
    "yn,xn, N = gen_data()\n",
    "model1 = sm.Logit(yn,sm.add_constant(xn))\n",
    "model1_res = model1.fit(disp=False)\n",
    "print(model1_res.summary())\n",
    "    \n",
    "model2 = SimulatedLikelihood(yn,sm.add_constant(xn))\n",
    "model2_res = model2.fit(disp=False)\n",
    "print(model2_res.summary())"
   ]
  },
  {
   "cell_type": "code",
   "execution_count": 40,
   "metadata": {},
   "outputs": [
    {
     "name": "stdout",
     "output_type": "stream",
     "text": [
      "[482547.80372472  45959.88264448]\n"
     ]
    },
    {
     "data": {
      "image/png": "[encoded data removed]",
      "text/plain": [
       "<Figure size 432x288 with 1 Axes>"
      ]
     },
     "metadata": {
      "needs_background": "light"
     },
     "output_type": "display_data"
    }
   ],
   "source": [
    "# next sampling\n",
    "sample = np.random.chisquare(3, size=(1000,2) )\n",
    "\n",
    "hessian2 = np.linalg.inv( model2_res.normalized_cov_params)\n",
    "values2, vectors = np.linalg.eig(hessian2)\n",
    "print(values2)\n",
    "np.random.seed(0)\n",
    "sample2 = np.dot(sample,values2)\n",
    "plt.hist(sample2,alpha=0.5,label=\"sim\")\n",
    "\n",
    "plt.legend()\n",
    "plt.show()"
   ]
  },
  {
   "cell_type": "code",
   "execution_count": 41,
   "metadata": {},
   "outputs": [
    {
     "name": "stdout",
     "output_type": "stream",
     "text": [
      "[111.05007752  22.38814935]\n"
     ]
    },
    {
     "data": {
      "image/png": "[encoded data removed]",
      "text/plain": [
       "<Figure size 432x288 with 1 Axes>"
      ]
     },
     "metadata": {
      "needs_background": "light"
     },
     "output_type": "display_data"
    }
   ],
   "source": [
    "#comapre test distributions\n",
    "hessian1 = np.linalg.inv( model1_res.normalized_cov_params)\n",
    "values1, vectors = np.linalg.eig(hessian1)\n",
    "print(values1)\n",
    "np.random.seed(0)\n",
    "sample1 = np.dot(sample,values1)\n",
    "plt.hist(sample1,alpha=0.5,label=\"explicit\")\n",
    "\n",
    "\n",
    "plt.legend()\n",
    "plt.show()"
   ]
  },
  {
   "cell_type": "code",
   "execution_count": null,
   "metadata": {},
   "outputs": [],
   "source": []
  },
  {
   "cell_type": "code",
   "execution_count": null,
   "metadata": {},
   "outputs": [],
   "source": []
  }
 ],
 "metadata": {
  "kernelspec": {
   "display_name": "Python 3",
   "language": "python",
   "name": "python3"
  },
  "language_info": {
   "codemirror_mode": {
    "name": "ipython",
    "version": 3
   },
   "file_extension": ".py",
   "mimetype": "text/x-python",
   "name": "python",
   "nbconvert_exporter": "python",
   "pygments_lexer": "ipython3",
   "version": "3.7.4"
  }
 },
 "nbformat": 4,
 "nbformat_minor": 2
}
