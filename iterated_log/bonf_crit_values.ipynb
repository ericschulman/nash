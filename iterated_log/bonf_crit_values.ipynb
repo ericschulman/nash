{
 "cells": [
  {
   "cell_type": "code",
   "execution_count": 18,
   "metadata": {},
   "outputs": [
    {
     "name": "stdout",
     "output_type": "stream",
     "text": [
      "0.0004847867261699301 42.81241251787538 62.21968714026237"
     ]
    }
   ],
   "source": [
    "cv(n) = (6+2*n*log(log(n)))^.5\n",
    "\n",
    "p_step(n) = 2*exp(-2*cv(n)^2/n)\n",
    "\n",
    "print( p_step(n) ,\" \", cv(500), \" \", cv(1000))"
   ]
  },
  {
   "cell_type": "code",
   "execution_count": 35,
   "metadata": {},
   "outputs": [
    {
     "name": "stdout",
     "output_type": "stream",
     "text": [
      "1.987677811045869 3.6587285170014856 3.2631148360120834"
     ]
    }
   ],
   "source": [
    "m=500\n",
    "a = 6\n",
    "cv(n) = ((n+m)*(a + log(n/m+1))/n)^.5\n",
    "\n",
    "p_step(n) = 2*exp(-2*cv(n)^2/n)\n",
    "p = 0\n",
    "for i =1:3000\n",
    "    p = p_step(i)\n",
    "end\n",
    "print(p,\" \", cv(500), \" \", cv(1000))"
   ]
  },
  {
   "cell_type": "code",
   "execution_count": 60,
   "metadata": {},
   "outputs": [
    {
     "name": "stdout",
     "output_type": "stream",
     "text": [
      "0.049787068367863944\n",
      "3.0841201971620085\n"
     ]
    }
   ],
   "source": [
    "m = 250\n",
    "a = 6\n",
    "cv(n) = ((n+m)*(a + log(n/m+1))/n)^.5\n",
    "\n",
    "println(exp(-.5*(a) ))\n",
    "println(cv(1000))"
   ]
  },
  {
   "cell_type": "code",
   "execution_count": 65,
   "metadata": {},
   "outputs": [
    {
     "name": "stdout",
     "output_type": "stream",
     "text": [
      "0.049787068367863944\n",
      "2.7499182753703897\n"
     ]
    }
   ],
   "source": [
    "m = 100\n",
    "a = 6\n",
    "cv(n) = ((n+m)*(a + log(log(n/m+1)))/n)^.5\n",
    "\n",
    "println(exp(-.5*(a) ))\n",
    "println(cv(1000))"
   ]
  },
  {
   "cell_type": "code",
   "execution_count": null,
   "metadata": {},
   "outputs": [],
   "source": []
  }
 ],
 "metadata": {
  "kernelspec": {
   "display_name": "Julia 1.0.3",
   "language": "julia",
   "name": "julia-1.0"
  },
  "language_info": {
   "file_extension": ".jl",
   "mimetype": "application/julia",
   "name": "julia",
   "version": "1.0.3"
  }
 },
 "nbformat": 4,
 "nbformat_minor": 2
}
