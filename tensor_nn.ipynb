{
 "cells": [
  {
   "cell_type": "code",
   "execution_count": 1,
   "metadata": {},
   "outputs": [],
   "source": [
    "#https://www.tensorflow.org/tutorials/keras/regression\n",
    "import tensorflow as tf\n",
    "from tensorflow import keras\n",
    "import numpy as np\n",
    "import pandas as pd"
   ]
  },
  {
   "cell_type": "code",
   "execution_count": 50,
   "metadata": {},
   "outputs": [
    {
     "name": "stdout",
     "output_type": "stream",
     "text": [
      "WARNING:tensorflow:Layer dense_24 is casting an input tensor from dtype float64 to the layer's dtype of float32, which is new behavior in TensorFlow 2.  The layer has dtype float32 because it's dtype defaults to floatx.\n",
      "\n",
      "If you intended to run this layer in float32, you can safely ignore this warning. If in doubt, this warning is likely only an issue if you are porting a TensorFlow 1.X model to TensorFlow 2.\n",
      "\n",
      "To change all layers to have dtype float64 by default, call `tf.keras.backend.set_floatx('float64')`. To change just this layer, pass dtype='float64' to the layer constructor. If you are the author of this layer, you can disable autocasting by passing autocast=False to the base Layer constructor.\n",
      "\n",
      "tf.Tensor(0.6931461, shape=(), dtype=float32)\n",
      "tf.Tensor(\n",
      "[[0.01497645 0.9850235 ]\n",
      " [0.01497645 0.9850235 ]\n",
      " [0.01497645 0.9850235 ]\n",
      " ...\n",
      " [0.97598994 0.02401008]\n",
      " [0.97598994 0.02401008]\n",
      " [0.97598994 0.02401008]], shape=(1000, 2), dtype=float32)\n",
      "tf.Tensor(0.01969636, shape=(), dtype=float32)\n"
     ]
    }
   ],
   "source": [
    "batch = 1000\n",
    "half_batch = int(batch/2)\n",
    "k = 1 #number of covariates\n",
    "n = 2 #number of hidden nodes\n",
    "c = 2 #number of classes\n",
    "\n",
    "example_batch = np.concatenate((np.ones((half_batch,1)),np.zeros((half_batch,1)))) \n",
    "example_classify =  np.concatenate((np.ones((half_batch,1)),np.zeros((half_batch,1)))) \n",
    "#print(example_batch)\n",
    "\n",
    "hidden_layer = tf.keras.layers.Dense(n, kernel_initializer='ones',\n",
    "                          bias_initializer='ones', activation='sigmoid', input_shape=(k,))\n",
    "\n",
    "\n",
    "linear_activation = lambda x: tf.keras.activations.relu(x, alpha=1.0)\n",
    "log_odds = tf.keras.layers.Dense(c, kernel_initializer='ones',\n",
    "                          bias_initializer='ones', activation=linear_activation, input_shape=(n,))\n",
    "\n",
    "\n",
    "model = tf.keras.Sequential([hidden_layer, log_odds, tf.keras.layers.Softmax()])\n",
    "\n",
    "\n",
    "scce = tf.keras.losses.SparseCategoricalCrossentropy()\n",
    "pred = model.apply(example_batch) #note calculated using natural log...\n",
    "print(scce(example_classify,pred))\n",
    "\n",
    "#train model\n",
    "sgd_fast = tf.keras.optimizers.SGD(learning_rate=0.5)\n",
    "\n",
    "model.compile(loss=scce, optimizer=sgd_fast)\n",
    "model.fit(example_classify, example_batch, verbose=0, epochs=10)\n",
    "\n",
    "\n",
    "#predict\n",
    "pred = model.apply(example_batch) #note calculated using natural log...\n",
    "print(pred)\n",
    "print(scce(example_classify,pred))\n"
   ]
  },
  {
   "cell_type": "code",
   "execution_count": null,
   "metadata": {},
   "outputs": [],
   "source": [
    "\n",
    "tf.keras.backend.clear_session()"
   ]
  },
  {
   "cell_type": "code",
   "execution_count": null,
   "metadata": {},
   "outputs": [],
   "source": []
  },
  {
   "cell_type": "code",
   "execution_count": null,
   "metadata": {},
   "outputs": [],
   "source": []
  },
  {
   "cell_type": "code",
   "execution_count": null,
   "metadata": {},
   "outputs": [],
   "source": [
    "\n"
   ]
  }
 ],
 "metadata": {
  "kernelspec": {
   "display_name": "Python 3",
   "language": "python",
   "name": "python3"
  },
  "language_info": {
   "codemirror_mode": {
    "name": "ipython",
    "version": 3
   },
   "file_extension": ".py",
   "mimetype": "text/x-python",
   "name": "python",
   "nbconvert_exporter": "python",
   "pygments_lexer": "ipython3",
   "version": "3.7.4"
  }
 },
 "nbformat": 4,
 "nbformat_minor": 2
}
