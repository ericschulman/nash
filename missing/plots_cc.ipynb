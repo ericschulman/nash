{
 "cells": [
  {
   "cell_type": "code",
   "execution_count": 1,
   "metadata": {},
   "outputs": [],
   "source": [
    "#math\n",
    "import numpy as np\n",
    "import scipy.stats as stats\n",
    "import scipy.special\n",
    "#graphing\n",
    "import matplotlib.pyplot as plt\n",
    "#stats\n",
    "import statsmodels.api as sm\n",
    "from statsmodels.base.model import GenericLikelihoodModel"
   ]
  },
  {
   "cell_type": "code",
   "execution_count": 2,
   "metadata": {},
   "outputs": [
    {
     "name": "stdout",
     "output_type": "stream",
     "text": [
      "(1000,)\n",
      "(1000, 2)\n",
      "ModeResult(mode=array([0.]), count=array([81]))\n"
     ]
    }
   ],
   "source": [
    "beta0 = 1.\n",
    "beta1 = .25\n",
    "\n",
    "def gen_data(beta0=beta0,beta1=beta1):\n",
    "    nobs = 1000\n",
    "    #parameters\n",
    "    sigma = 1\n",
    "    \n",
    "    epsilon = stats.norm.rvs(loc=0,scale=sigma,size=nobs)\n",
    "    #censor data below x<0?\n",
    "    x = stats.norm.rvs(loc=5,scale=5,size=nobs)\n",
    "    y = beta0+ beta1*x + epsilon\n",
    "    \n",
    "    #censor\n",
    "    y[y<=0] = 0\n",
    "    return y,x,nobs\n",
    "\n",
    "\n",
    "yn,xn,nobs = gen_data()\n",
    "print(xn.shape)\n",
    "print(sm.add_constant(xn).shape)\n",
    "print(scipy.stats.mode(yn))"
   ]
  },
  {
   "cell_type": "code",
   "execution_count": 3,
   "metadata": {},
   "outputs": [],
   "source": [
    "np.random.seed()\n",
    "yn,xn,nobs = gen_data()"
   ]
  },
  {
   "cell_type": "code",
   "execution_count": 4,
   "metadata": {},
   "outputs": [
    {
     "data": {
      "text/html": [
       "<table class=\"simpletable\">\n",
       "<caption>Tobit Results</caption>\n",
       "<tr>\n",
       "  <th>Dep. Variable:</th>             <td>y</td>         <th>  Log-Likelihood:    </th> <td> -1392.2</td>\n",
       "</tr>\n",
       "<tr>\n",
       "  <th>Model:</th>                   <td>Tobit</td>       <th>  AIC:               </th> <td>   2788.</td>\n",
       "</tr>\n",
       "<tr>\n",
       "  <th>Method:</th>           <td>Maximum Likelihood</td> <th>  BIC:               </th> <td>   2798.</td>\n",
       "</tr>\n",
       "<tr>\n",
       "  <th>Date:</th>              <td>Wed, 09 Dec 2020</td>  <th>                     </th>     <td> </td>   \n",
       "</tr>\n",
       "<tr>\n",
       "  <th>Time:</th>                  <td>19:05:29</td>      <th>                     </th>     <td> </td>   \n",
       "</tr>\n",
       "<tr>\n",
       "  <th>No. Observations:</th>       <td>  1000</td>       <th>                     </th>     <td> </td>   \n",
       "</tr>\n",
       "<tr>\n",
       "  <th>Df Residuals:</th>           <td>   998</td>       <th>                     </th>     <td> </td>   \n",
       "</tr>\n",
       "<tr>\n",
       "  <th>Df Model:</th>               <td>     1</td>       <th>                     </th>     <td> </td>   \n",
       "</tr>\n",
       "</table>\n",
       "<table class=\"simpletable\">\n",
       "<tr>\n",
       "    <td></td>       <th>coef</th>     <th>std err</th>      <th>z</th>      <th>P>|z|</th>  <th>[0.025</th>    <th>0.975]</th>  \n",
       "</tr>\n",
       "<tr>\n",
       "  <th>const</th> <td>    0.9892</td> <td>    0.049</td> <td>   20.117</td> <td> 0.000</td> <td>    0.893</td> <td>    1.086</td>\n",
       "</tr>\n",
       "<tr>\n",
       "  <th>x1</th>    <td>    0.2519</td> <td>    0.007</td> <td>   37.066</td> <td> 0.000</td> <td>    0.239</td> <td>    0.265</td>\n",
       "</tr>\n",
       "<tr>\n",
       "  <th>var</th>   <td>    1.0228</td> <td>    0.048</td> <td>   21.362</td> <td> 0.000</td> <td>    0.929</td> <td>    1.117</td>\n",
       "</tr>\n",
       "</table>"
      ],
      "text/plain": [
       "<class 'statsmodels.iolib.summary.Summary'>\n",
       "\"\"\"\n",
       "                                Tobit Results                                 \n",
       "==============================================================================\n",
       "Dep. Variable:                      y   Log-Likelihood:                -1392.2\n",
       "Model:                          Tobit   AIC:                             2788.\n",
       "Method:            Maximum Likelihood   BIC:                             2798.\n",
       "Date:                Wed, 09 Dec 2020                                         \n",
       "Time:                        19:05:29                                         \n",
       "No. Observations:                1000                                         \n",
       "Df Residuals:                     998                                         \n",
       "Df Model:                           1                                         \n",
       "==============================================================================\n",
       "                 coef    std err          z      P>|z|      [0.025      0.975]\n",
       "------------------------------------------------------------------------------\n",
       "const          0.9892      0.049     20.117      0.000       0.893       1.086\n",
       "x1             0.2519      0.007     37.066      0.000       0.239       0.265\n",
       "var            1.0228      0.048     21.362      0.000       0.929       1.117\n",
       "==============================================================================\n",
       "\"\"\""
      ]
     },
     "execution_count": 4,
     "metadata": {},
     "output_type": "execute_result"
    }
   ],
   "source": [
    "class Tobit(GenericLikelihoodModel):\n",
    "    \n",
    "    def __init__(self, *args,cc=False,ols=False, **kwargs):\n",
    "        super(Tobit,self).__init__(*args,**kwargs)\n",
    "        self._set_extra_params_names(['var'])\n",
    "        self.start_params = np.array([1]*(self.exog.shape[1]+1))\n",
    "        self.cc = cc\n",
    "        self.ols = ols\n",
    "        #self.start_params = np.array( range(1, (2*self.exog.shape[1]+2)))\n",
    "        #2 sets of params for z, 1 for x, 2 variances...\n",
    "    \n",
    "    def loglikeobs(self, params):\n",
    "        y = self.endog\n",
    "        x = self.exog\n",
    "        m = 1*(self.endog == 0) #missingness\n",
    "        \n",
    "        beta = params[0:-1]\n",
    "        sigma2 = max(params[-1],1e-3)\n",
    "        \n",
    "        mu_y = np.matmul(x,beta)\n",
    "        \n",
    "        pr_y = stats.norm.logpdf( y, loc = mu_y, scale=np.sqrt(sigma2))\n",
    "        \n",
    "       \n",
    "        #if complete case, assign pr missing to all observations...\n",
    "        pr_m = np.log(max(m.mean(),1e-4))\n",
    "        if not self.cc:\n",
    "            pr_m = stats.norm.logcdf( y, loc = mu_y, scale=np.sqrt(sigma2))\n",
    "        \n",
    "        #we're done if ols\n",
    "        if self.ols:\n",
    "            return pr_y\n",
    "        else:\n",
    "            ll = (1-m)*pr_y + m*pr_m\n",
    "            return ll\n",
    "        \n",
    "    def score(self, params):\n",
    "        y = self.endog\n",
    "        x = self.exog\n",
    "        m = 1*(self.endog == 0) #missingness\n",
    "        m_x = np.repeat(m,x.shape[1]).reshape(x.shape)\n",
    "        \n",
    "        if ols: #if OLS use all the data...\n",
    "            m, m_x = np.ones(y.shape), np.ones(x.shape)\n",
    "        \n",
    "        \n",
    "        b = params[0:-1]\n",
    "        sigma2 = max(params[-1],1e-3)\n",
    "        s =  np.sqrt(sigma2)\n",
    "\n",
    "        beta_jac = np.zeros(len(b))\n",
    "        sigma_jac = 0\n",
    "        \n",
    "        #for censored\n",
    "        if not cc and not ols: \n",
    "            left_stats = (y - np.dot(x, b)) / s\n",
    "            l_pdf = scipy.stats.norm.logpdf(left_stats)\n",
    "            l_cdf = scipy.stats.norm.logcdf(left_stats)\n",
    "            left_frac = np.exp(l_pdf - l_cdf)\n",
    "            beta_left = np.dot(left_frac*m, x*m_x / s)\n",
    "            beta_jac -= beta_left\n",
    "            left_sigma = np.dot(left_frac*m, left_stats*m)\n",
    "            sigma_jac -= left_sigma\n",
    "        \n",
    "        #for non-censored\n",
    "        mid_stats = (y - np.dot(x, b)) / s\n",
    "        beta_mid = np.dot(mid_stats*(1-m), x*(1-m_x) / s)\n",
    "        beta_jac += beta_mid\n",
    "        mid_sigma = ((np.square(mid_stats) - 1)*(1-m)).sum()\n",
    "        sigma_jac += mid_sigma\n",
    "        \n",
    "        combo_jac = np.append(beta_jac, sigma_jac / (2*s) )  # by chain rule, since the expression above is dloglik/dlogsigma\n",
    "        return combo_jac\n",
    "\n",
    "\n",
    "model1 =  Tobit(yn,sm.add_constant(xn))\n",
    "model1_fit = model1.fit(disp=False)\n",
    "model1_fit.summary()"
   ]
  },
  {
   "cell_type": "code",
   "execution_count": 5,
   "metadata": {},
   "outputs": [
    {
     "name": "stdout",
     "output_type": "stream",
     "text": [
      "                            OLS Regression Results                            \n",
      "==============================================================================\n",
      "Dep. Variable:                      y   R-squared:                       0.588\n",
      "Model:                            OLS   Adj. R-squared:                  0.587\n",
      "Method:                 Least Squares   F-statistic:                     1423.\n",
      "Date:                Wed, 09 Dec 2020   Prob (F-statistic):          2.69e-194\n",
      "Time:                        19:05:30   Log-Likelihood:                -1382.3\n",
      "No. Observations:                1000   AIC:                             2769.\n",
      "Df Residuals:                     998   BIC:                             2778.\n",
      "Df Model:                           1                                         \n",
      "Covariance Type:            nonrobust                                         \n",
      "==============================================================================\n",
      "                 coef    std err          t      P>|t|      [0.025      0.975]\n",
      "------------------------------------------------------------------------------\n",
      "const          1.1245      0.045     25.088      0.000       1.037       1.212\n",
      "x1             0.2354      0.006     37.729      0.000       0.223       0.248\n",
      "==============================================================================\n",
      "Omnibus:                        1.441   Durbin-Watson:                   1.908\n",
      "Prob(Omnibus):                  0.486   Jarque-Bera (JB):                1.518\n",
      "Skew:                           0.077   Prob(JB):                        0.468\n",
      "Kurtosis:                       2.888   Cond. No.                         10.7\n",
      "==============================================================================\n",
      "\n",
      "Warnings:\n",
      "[1] Standard Errors assume that the covariance matrix of the errors is correctly specified.\n",
      "                                Tobit Results                                 \n",
      "==============================================================================\n",
      "Dep. Variable:                      y   Log-Likelihood:                -1382.3\n",
      "Model:                          Tobit   AIC:                             2769.\n",
      "Method:            Maximum Likelihood   BIC:                             2778.\n",
      "Date:                Wed, 09 Dec 2020                                         \n",
      "Time:                        19:05:30                                         \n",
      "No. Observations:                1000                                         \n",
      "Df Residuals:                     998                                         \n",
      "Df Model:                           1                                         \n",
      "==============================================================================\n",
      "                 coef    std err          z      P>|z|      [0.025      0.975]\n",
      "------------------------------------------------------------------------------\n",
      "const          1.1245      0.045     25.113      0.000       1.037       1.212\n",
      "x1             0.2354      0.006     37.766      0.000       0.223       0.248\n",
      "var            0.9294      0.042     22.361      0.000       0.848       1.011\n",
      "==============================================================================\n"
     ]
    }
   ],
   "source": [
    "model3 = sm.OLS(yn,sm.add_constant(xn))\n",
    "model3_fit = model3.fit()\n",
    "print(model3_fit.summary())\n",
    "\n",
    "model3 =  Tobit(yn,sm.add_constant(xn),ols=True)\n",
    "model3_fit = model3.fit(disp=False)\n",
    "print(model3_fit.summary())"
   ]
  },
  {
   "cell_type": "code",
   "execution_count": 9,
   "metadata": {},
   "outputs": [
    {
     "data": {
      "image/png": "[encoded data removed]",
      "text/plain": [
       "<Figure size 432x288 with 1 Axes>"
      ]
     },
     "metadata": {
      "needs_background": "light"
     },
     "output_type": "display_data"
    },
    {
     "data": {
      "image/png": "[encoded data removed]",
      "text/plain": [
       "<Figure size 432x288 with 1 Axes>"
      ]
     },
     "metadata": {
      "needs_background": "light"
     },
     "output_type": "display_data"
    }
   ],
   "source": [
    "#create plot for true\n",
    "plt.scatter(xn,yn,marker='.')\n",
    "support_x = np.arange(xn.min(),xn.max(),.05)\n",
    "\n",
    "#truth\n",
    "plt.plot(support_x, np.maximum(beta0+beta1*support_x,0) ,label=\"truth\",\n",
    "         color='black')\n",
    "\n",
    "#tobit\n",
    "plt.plot(support_x, np.maximum(0,model1_fit.params[0] + model1_fit.params[1]*support_x) ,label=\"tobit\",\n",
    "         color='green',linestyle='--')\n",
    "\n",
    "#ols\n",
    "plt.plot(support_x, model3_fit.params[0] + model3_fit.params[1]*support_x ,label=\"ols\",\n",
    "         color='red',linestyle='--')\n",
    "\n",
    "\n",
    "\n",
    "#create plot for normal\n",
    "plt.ylabel(\"Outcome 'y'\")\n",
    "plt.xlabel(\"Covariate 'x'\")\n",
    "plt.legend()\n",
    "plt.savefig('../figs/tobit_plot1.png')\n",
    "plt.show()\n",
    "\n",
    "plt.hist(yn,density=True)\n",
    "plt.show()"
   ]
  },
  {
   "cell_type": "code",
   "execution_count": 7,
   "metadata": {},
   "outputs": [
    {
     "name": "stdout",
     "output_type": "stream",
     "text": [
      "-9.92567631165291\n",
      "0.019231772128320144\n",
      "1.341490827301651\n",
      "-0.6216144154480103\n"
     ]
    }
   ],
   "source": [
    "print( (model1.loglikeobs(model1_fit.params)- model3.loglikeobs(model3_fit.params)).sum() )\n",
    "print( (model1.loglikeobs(model1_fit.params)- model3.loglikeobs(model3_fit.params)).var() )\n",
    "print( (model1.loglikeobs(model1_fit.params)- model3.loglikeobs(model3_fit.params)).max() )\n",
    "print( (model1.loglikeobs(model1_fit.params)- model3.loglikeobs(model3_fit.params)).min() )"
   ]
  },
  {
   "cell_type": "code",
   "execution_count": 115,
   "metadata": {},
   "outputs": [
    {
     "name": "stdout",
     "output_type": "stream",
     "text": [
      "                            OLS Regression Results                            \n",
      "==============================================================================\n",
      "Dep. Variable:                      y   R-squared:                       0.540\n",
      "Model:                            OLS   Adj. R-squared:                  0.539\n",
      "Method:                 Least Squares   F-statistic:                     1069.\n",
      "Date:                Mon, 07 Dec 2020   Prob (F-statistic):          9.78e-156\n",
      "Time:                        16:27:25   Log-Likelihood:                -1235.6\n",
      "No. Observations:                 913   AIC:                             2475.\n",
      "Df Residuals:                     911   BIC:                             2485.\n",
      "Df Model:                           1                                         \n",
      "Covariance Type:            nonrobust                                         \n",
      "==============================================================================\n",
      "                 coef    std err          t      P>|t|      [0.025      0.975]\n",
      "------------------------------------------------------------------------------\n",
      "const          1.2440      0.051     24.242      0.000       1.143       1.345\n",
      "x1             0.2304      0.007     32.695      0.000       0.217       0.244\n",
      "==============================================================================\n",
      "Omnibus:                        5.182   Durbin-Watson:                   1.987\n",
      "Prob(Omnibus):                  0.075   Jarque-Bera (JB):                5.195\n",
      "Skew:                           0.164   Prob(JB):                       0.0745\n",
      "Kurtosis:                       2.831   Cond. No.                         12.2\n",
      "==============================================================================\n",
      "\n",
      "Warnings:\n",
      "[1] Standard Errors assume that the covariance matrix of the errors is correctly specified.\n",
      "                                Tobit Results                                 \n",
      "==============================================================================\n",
      "Dep. Variable:                      y   Log-Likelihood:                -1448.0\n",
      "Model:                          Tobit   AIC:                             2900.\n",
      "Method:            Maximum Likelihood   BIC:                             2910.\n",
      "Date:                Mon, 07 Dec 2020                                         \n",
      "Time:                        16:27:26                                         \n",
      "No. Observations:                1000                                         \n",
      "Df Residuals:                     998                                         \n",
      "Df Model:                           1                                         \n",
      "==============================================================================\n",
      "                 coef    std err          z      P>|z|      [0.025      0.975]\n",
      "------------------------------------------------------------------------------\n",
      "const          1.2440      0.051     24.269      0.000       1.144       1.344\n",
      "x1             0.2304      0.007     32.730      0.000       0.217       0.244\n",
      "var            0.8769      0.041     21.367      0.000       0.796       0.957\n",
      "==============================================================================\n",
      "-212.44070294849715\n"
     ]
    }
   ],
   "source": [
    "y_cens, x_cens = yn[yn!=0],xn[yn!=0]\n",
    "model2 = sm.OLS(y_cens,sm.add_constant(x_cens))\n",
    "model2_fit = model2.fit()\n",
    "print(model2_fit.summary())\n",
    "\n",
    "model2 =  Tobit(yn,sm.add_constant(xn),cc=True)\n",
    "model2_fit = model2.fit(disp=False)\n",
    "print(model2_fit.summary())\n",
    "\n",
    "print(np.log(yn[yn==0].shape[0]/1000)*yn[yn==0].shape[0] )"
   ]
  },
  {
   "cell_type": "code",
   "execution_count": 116,
   "metadata": {},
   "outputs": [
    {
     "name": "stdout",
     "output_type": "stream",
     "text": [
      "92.25641047193231\n",
      "0.21491574493852755\n",
      "2.429940716035291\n",
      "-0.9781412652300245\n"
     ]
    }
   ],
   "source": [
    "print( (model1.loglikeobs(model1_fit.params)- model2.loglikeobs(model2_fit.params)).sum() )\n",
    "print( (model1.loglikeobs(model1_fit.params)- model2.loglikeobs(model2_fit.params)).var() )\n",
    "print( (model1.loglikeobs(model1_fit.params)- model2.loglikeobs(model2_fit.params)).max() )\n",
    "print( (model1.loglikeobs(model1_fit.params)- model2.loglikeobs(model2_fit.params)).min() )"
   ]
  },
  {
   "cell_type": "code",
   "execution_count": null,
   "metadata": {},
   "outputs": [],
   "source": []
  },
  {
   "cell_type": "code",
   "execution_count": null,
   "metadata": {},
   "outputs": [],
   "source": []
  }
 ],
 "metadata": {
  "kernelspec": {
   "display_name": "Python 3",
   "language": "python",
   "name": "python3"
  },
  "language_info": {
   "codemirror_mode": {
    "name": "ipython",
    "version": 3
   },
   "file_extension": ".py",
   "mimetype": "text/x-python",
   "name": "python",
   "nbconvert_exporter": "python",
   "pygments_lexer": "ipython3",
   "version": "3.7.4"
  }
 },
 "nbformat": 4,
 "nbformat_minor": 2
}
