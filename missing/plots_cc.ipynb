{
 "cells": [
  {
   "cell_type": "code",
   "execution_count": 16,
   "metadata": {},
   "outputs": [],
   "source": [
    "#math\n",
    "import numpy as np\n",
    "import scipy.stats as stats\n",
    "import scipy.special\n",
    "#graphing\n",
    "import matplotlib.pyplot as plt\n",
    "#stats\n",
    "import statsmodels.api as sm\n",
    "from statsmodels.base.model import GenericLikelihoodModel"
   ]
  },
  {
   "cell_type": "code",
   "execution_count": 17,
   "metadata": {},
   "outputs": [
    {
     "name": "stdout",
     "output_type": "stream",
     "text": [
      "(1000,)\n",
      "(1000, 2)\n",
      "ModeResult(mode=array([0.]), count=array([75]))\n"
     ]
    }
   ],
   "source": [
    "beta0 = 1.\n",
    "beta1 = .25\n",
    "\n",
    "def gen_data(beta0=beta0,beta1=beta1):\n",
    "    nobs = 1000\n",
    "    #parameters\n",
    "    sigma = 1\n",
    "    \n",
    "    epsilon = stats.norm.rvs(loc=0,scale=sigma,size=nobs)\n",
    "    #censor data below x<0?\n",
    "    x = stats.norm.rvs(loc=5,scale=5,size=nobs)\n",
    "    y = beta0+ beta1*x + epsilon\n",
    "    \n",
    "    #censor\n",
    "    y[y<=0] = 0\n",
    "    return y,x,nobs\n",
    "\n",
    "\n",
    "yn,xn,nobs = gen_data()\n",
    "print(xn.shape)\n",
    "print(sm.add_constant(xn).shape)\n",
    "print(scipy.stats.mode(yn))"
   ]
  },
  {
   "cell_type": "code",
   "execution_count": 18,
   "metadata": {},
   "outputs": [],
   "source": [
    "np.random.seed()\n",
    "yn,xn,nobs = gen_data()"
   ]
  },
  {
   "cell_type": "code",
   "execution_count": 19,
   "metadata": {},
   "outputs": [
    {
     "data": {
      "text/html": [
       "<table class=\"simpletable\">\n",
       "<caption>Tobit Results</caption>\n",
       "<tr>\n",
       "  <th>Dep. Variable:</th>             <td>y</td>         <th>  Log-Likelihood:    </th> <td> -1328.3</td>\n",
       "</tr>\n",
       "<tr>\n",
       "  <th>Model:</th>                   <td>Tobit</td>       <th>  AIC:               </th> <td>   2661.</td>\n",
       "</tr>\n",
       "<tr>\n",
       "  <th>Method:</th>           <td>Maximum Likelihood</td> <th>  BIC:               </th> <td>   2670.</td>\n",
       "</tr>\n",
       "<tr>\n",
       "  <th>Date:</th>              <td>Tue, 22 Dec 2020</td>  <th>                     </th>     <td> </td>   \n",
       "</tr>\n",
       "<tr>\n",
       "  <th>Time:</th>                  <td>18:51:36</td>      <th>                     </th>     <td> </td>   \n",
       "</tr>\n",
       "<tr>\n",
       "  <th>No. Observations:</th>       <td>  1000</td>       <th>                     </th>     <td> </td>   \n",
       "</tr>\n",
       "<tr>\n",
       "  <th>Df Residuals:</th>           <td>   998</td>       <th>                     </th>     <td> </td>   \n",
       "</tr>\n",
       "<tr>\n",
       "  <th>Df Model:</th>               <td>     1</td>       <th>                     </th>     <td> </td>   \n",
       "</tr>\n",
       "</table>\n",
       "<table class=\"simpletable\">\n",
       "<tr>\n",
       "    <td></td>       <th>coef</th>     <th>std err</th>      <th>z</th>      <th>P>|z|</th>  <th>[0.025</th>    <th>0.975]</th>  \n",
       "</tr>\n",
       "<tr>\n",
       "  <th>const</th> <td>    0.9170</td> <td>    0.046</td> <td>   19.921</td> <td> 0.000</td> <td>    0.827</td> <td>    1.007</td>\n",
       "</tr>\n",
       "<tr>\n",
       "  <th>x1</th>    <td>    0.2660</td> <td>    0.007</td> <td>   40.692</td> <td> 0.000</td> <td>    0.253</td> <td>    0.279</td>\n",
       "</tr>\n",
       "<tr>\n",
       "  <th>var</th>   <td>    0.9254</td> <td>    0.044</td> <td>   21.104</td> <td> 0.000</td> <td>    0.839</td> <td>    1.011</td>\n",
       "</tr>\n",
       "</table>"
      ],
      "text/plain": [
       "<class 'statsmodels.iolib.summary.Summary'>\n",
       "\"\"\"\n",
       "                                Tobit Results                                 \n",
       "==============================================================================\n",
       "Dep. Variable:                      y   Log-Likelihood:                -1328.3\n",
       "Model:                          Tobit   AIC:                             2661.\n",
       "Method:            Maximum Likelihood   BIC:                             2670.\n",
       "Date:                Tue, 22 Dec 2020                                         \n",
       "Time:                        18:51:36                                         \n",
       "No. Observations:                1000                                         \n",
       "Df Residuals:                     998                                         \n",
       "Df Model:                           1                                         \n",
       "==============================================================================\n",
       "                 coef    std err          z      P>|z|      [0.025      0.975]\n",
       "------------------------------------------------------------------------------\n",
       "const          0.9170      0.046     19.921      0.000       0.827       1.007\n",
       "x1             0.2660      0.007     40.692      0.000       0.253       0.279\n",
       "var            0.9254      0.044     21.104      0.000       0.839       1.011\n",
       "==============================================================================\n",
       "\"\"\""
      ]
     },
     "execution_count": 19,
     "metadata": {},
     "output_type": "execute_result"
    }
   ],
   "source": [
    "class Tobit(GenericLikelihoodModel):\n",
    "    \n",
    "    def __init__(self, *args,cc=False,ols=False, **kwargs):\n",
    "        super(Tobit,self).__init__(*args,**kwargs)\n",
    "        self._set_extra_params_names(['var'])\n",
    "        self.start_params = np.array([1]*(self.exog.shape[1]+1))\n",
    "        self.cc = cc\n",
    "        self.ols = ols\n",
    "        #self.start_params = np.array( range(1, (2*self.exog.shape[1]+2)))\n",
    "        #2 sets of params for z, 1 for x, 2 variances...\n",
    "    \n",
    "    def loglikeobs(self, params):\n",
    "        y = self.endog\n",
    "        x = self.exog\n",
    "        m = 1*(self.endog == 0) #missingness\n",
    "        \n",
    "        beta = params[0:-1]\n",
    "        sigma2 = max(params[-1],1e-3)\n",
    "        \n",
    "        mu_y = np.matmul(x,beta)\n",
    "        \n",
    "        pr_y = stats.norm.logpdf( y, loc = mu_y, scale=np.sqrt(sigma2))\n",
    "        \n",
    "       \n",
    "        #if complete case, assign pr missing to all observations...\n",
    "        pr_m = np.log(max(m.mean(),1e-4))\n",
    "        if not self.cc:\n",
    "            pr_m = stats.norm.logcdf( y, loc = mu_y, scale=np.sqrt(sigma2))\n",
    "        \n",
    "        #we're done if ols\n",
    "        if self.ols:\n",
    "            return pr_y\n",
    "        else:\n",
    "            ll = (1-m)*pr_y + m*pr_m\n",
    "            return ll\n",
    "        \n",
    "    def score(self, params):\n",
    "        y = self.endog\n",
    "        x = self.exog\n",
    "        m = 1*(self.endog == 0) #missingness\n",
    "        m_x = np.repeat(m,x.shape[1]).reshape(x.shape)\n",
    "        \n",
    "        if ols: #if OLS use all the data...\n",
    "            m, m_x = np.ones(y.shape), np.ones(x.shape)\n",
    "        \n",
    "        \n",
    "        b = params[0:-1]\n",
    "        sigma2 = max(params[-1],1e-3)\n",
    "        s =  np.sqrt(sigma2)\n",
    "\n",
    "        beta_jac = np.zeros(len(b))\n",
    "        sigma_jac = 0\n",
    "        \n",
    "        #for censored\n",
    "        if not cc and not ols: \n",
    "            left_stats = (y - np.dot(x, b)) / s\n",
    "            l_pdf = scipy.stats.norm.logpdf(left_stats)\n",
    "            l_cdf = scipy.stats.norm.logcdf(left_stats)\n",
    "            left_frac = np.exp(l_pdf - l_cdf)\n",
    "            beta_left = np.dot(left_frac*m, x*m_x / s)\n",
    "            beta_jac -= beta_left\n",
    "            left_sigma = np.dot(left_frac*m, left_stats*m)\n",
    "            sigma_jac -= left_sigma\n",
    "        \n",
    "        #for non-censored\n",
    "        mid_stats = (y - np.dot(x, b)) / s\n",
    "        beta_mid = np.dot(mid_stats*(1-m), x*(1-m_x) / s)\n",
    "        beta_jac += beta_mid\n",
    "        mid_sigma = ((np.square(mid_stats) - 1)*(1-m)).sum()\n",
    "        sigma_jac += mid_sigma\n",
    "        \n",
    "        combo_jac = np.append(beta_jac, sigma_jac / (2*s) )  # by chain rule, since the expression above is dloglik/dlogsigma\n",
    "        return combo_jac\n",
    "\n",
    "\n",
    "model1 =  Tobit(yn,sm.add_constant(xn))\n",
    "model1_fit = model1.fit(disp=False)\n",
    "model1_fit.summary()"
   ]
  },
  {
   "cell_type": "code",
   "execution_count": 20,
   "metadata": {},
   "outputs": [
    {
     "name": "stdout",
     "output_type": "stream",
     "text": [
      "                            OLS Regression Results                            \n",
      "==============================================================================\n",
      "Dep. Variable:                      y   R-squared:                       0.636\n",
      "Model:                            OLS   Adj. R-squared:                  0.636\n",
      "Method:                 Least Squares   F-statistic:                     1747.\n",
      "Date:                Tue, 22 Dec 2020   Prob (F-statistic):          1.59e-221\n",
      "Time:                        18:51:36   Log-Likelihood:                -1322.5\n",
      "No. Observations:                1000   AIC:                             2649.\n",
      "Df Residuals:                     998   BIC:                             2659.\n",
      "Df Model:                           1                                         \n",
      "Covariance Type:            nonrobust                                         \n",
      "==============================================================================\n",
      "                 coef    std err          t      P>|t|      [0.025      0.975]\n",
      "------------------------------------------------------------------------------\n",
      "const          1.0971      0.041     27.051      0.000       1.017       1.177\n",
      "x1             0.2430      0.006     41.802      0.000       0.232       0.254\n",
      "==============================================================================\n",
      "Omnibus:                        1.798   Durbin-Watson:                   1.993\n",
      "Prob(Omnibus):                  0.407   Jarque-Bera (JB):                1.708\n",
      "Skew:                           0.051   Prob(JB):                        0.426\n",
      "Kurtosis:                       3.175   Cond. No.                         9.94\n",
      "==============================================================================\n",
      "\n",
      "Warnings:\n",
      "[1] Standard Errors assume that the covariance matrix of the errors is correctly specified.\n",
      "                                Tobit Results                                 \n",
      "==============================================================================\n",
      "Dep. Variable:                      y   Log-Likelihood:                -1322.5\n",
      "Model:                          Tobit   AIC:                             2649.\n",
      "Method:            Maximum Likelihood   BIC:                             2659.\n",
      "Date:                Tue, 22 Dec 2020                                         \n",
      "Time:                        18:51:36                                         \n",
      "No. Observations:                1000                                         \n",
      "Df Residuals:                     998                                         \n",
      "Df Model:                           1                                         \n",
      "==============================================================================\n",
      "                 coef    std err          z      P>|z|      [0.025      0.975]\n",
      "------------------------------------------------------------------------------\n",
      "const          1.0968      0.041     27.068      0.000       1.017       1.176\n",
      "x1             0.2431      0.006     41.842      0.000       0.232       0.254\n",
      "var            0.8248      0.037     22.356      0.000       0.753       0.897\n",
      "==============================================================================\n"
     ]
    }
   ],
   "source": [
    "model3 = sm.OLS(yn,sm.add_constant(xn))\n",
    "model3_fit = model3.fit()\n",
    "print(model3_fit.summary())\n",
    "\n",
    "model3 =  Tobit(yn,sm.add_constant(xn),ols=True)\n",
    "model3_fit = model3.fit(disp=False)\n",
    "print(model3_fit.summary())"
   ]
  },
  {
   "cell_type": "code",
   "execution_count": 21,
   "metadata": {},
   "outputs": [
    {
     "data": {
      "image/png": "[encoded data removed]",
      "text/plain": [
       "<Figure size 432x288 with 1 Axes>"
      ]
     },
     "metadata": {
      "needs_background": "light"
     },
     "output_type": "display_data"
    },
    {
     "data": {
      "image/png": "[encoded data removed]",
      "text/plain": [
       "<Figure size 432x288 with 1 Axes>"
      ]
     },
     "metadata": {
      "needs_background": "light"
     },
     "output_type": "display_data"
    }
   ],
   "source": [
    "#create plot for true\n",
    "plt.scatter(xn,yn,marker='.')\n",
    "support_x = np.arange(xn.min(),xn.max(),.05)\n",
    "\n",
    "#truth\n",
    "pr_obs_true = stats.norm.cdf( beta0+beta1*support_x)\n",
    "plt.plot(support_x, (beta0+beta1*support_x)*pr_obs_true ,label=\"truth\",\n",
    "         color='black')\n",
    "\n",
    "#tobit\n",
    "pr_obs_1 = stats.norm.cdf( model1_fit.params[0]+model1_fit.params[1]*support_x)\n",
    "plt.plot(support_x, (model1_fit.params[0] + model1_fit.params[1]*support_x)*pr_obs_1 ,label=\"tobit\",\n",
    "         color='green',linestyle='--')\n",
    "\n",
    "#ols\n",
    "plt.plot(support_x, model3_fit.params[0] + model3_fit.params[1]*support_x ,label=\"ols\",\n",
    "         color='red',linestyle='--')\n",
    "\n",
    "\n",
    "\n",
    "#create plot for normal\n",
    "plt.ylabel(\"Outcome 'y'\")\n",
    "plt.xlabel(\"Covariate 'x'\")\n",
    "plt.legend()\n",
    "plt.savefig('../figs/tobit_noover.png')\n",
    "plt.show()\n",
    "\n",
    "plt.hist(yn,density=True)\n",
    "plt.show()"
   ]
  },
  {
   "cell_type": "code",
   "execution_count": 15,
   "metadata": {},
   "outputs": [
    {
     "name": "stdout",
     "output_type": "stream",
     "text": [
      "-4.057000439819852\n",
      "0.03311890222324504\n",
      "2.7608326651437154\n",
      "-0.6485318717589559\n"
     ]
    }
   ],
   "source": [
    "print( (model1.loglikeobs(model1_fit.params)- model3.loglikeobs(model3_fit.params)).sum() )\n",
    "print( (model1.loglikeobs(model1_fit.params)- model3.loglikeobs(model3_fit.params)).var() )\n",
    "print( (model1.loglikeobs(model1_fit.params)- model3.loglikeobs(model3_fit.params)).max() )\n",
    "print( (model1.loglikeobs(model1_fit.params)- model3.loglikeobs(model3_fit.params)).min() )"
   ]
  },
  {
   "cell_type": "code",
   "execution_count": 8,
   "metadata": {},
   "outputs": [
    {
     "name": "stdout",
     "output_type": "stream",
     "text": [
      "                            OLS Regression Results                            \n",
      "==============================================================================\n",
      "Dep. Variable:                      y   R-squared:                       0.500\n",
      "Model:                            OLS   Adj. R-squared:                  0.499\n",
      "Method:                 Least Squares   F-statistic:                     924.9\n",
      "Date:                Tue, 22 Dec 2020   Prob (F-statistic):          2.07e-141\n",
      "Time:                        18:51:12   Log-Likelihood:                -1283.7\n",
      "No. Observations:                 928   AIC:                             2571.\n",
      "Df Residuals:                     926   BIC:                             2581.\n",
      "Df Model:                           1                                         \n",
      "Covariance Type:            nonrobust                                         \n",
      "==============================================================================\n",
      "                 coef    std err          t      P>|t|      [0.025      0.975]\n",
      "------------------------------------------------------------------------------\n",
      "const          1.2531      0.050     24.873      0.000       1.154       1.352\n",
      "x1             0.2169      0.007     30.411      0.000       0.203       0.231\n",
      "==============================================================================\n",
      "Omnibus:                        9.153   Durbin-Watson:                   2.026\n",
      "Prob(Omnibus):                  0.010   Jarque-Bera (JB):                9.334\n",
      "Skew:                           0.244   Prob(JB):                      0.00940\n",
      "Kurtosis:                       2.937   Cond. No.                         11.4\n",
      "==============================================================================\n",
      "\n",
      "Warnings:\n",
      "[1] Standard Errors assume that the covariance matrix of the errors is correctly specified.\n",
      "                                Tobit Results                                 \n",
      "==============================================================================\n",
      "Dep. Variable:                      y   Log-Likelihood:                -1473.2\n",
      "Model:                          Tobit   AIC:                             2950.\n",
      "Method:            Maximum Likelihood   BIC:                             2960.\n",
      "Date:                Tue, 22 Dec 2020                                         \n",
      "Time:                        18:51:12                                         \n",
      "No. Observations:                1000                                         \n",
      "Df Residuals:                     998                                         \n",
      "Df Model:                           1                                         \n",
      "==============================================================================\n",
      "                 coef    std err          z      P>|z|      [0.025      0.975]\n",
      "------------------------------------------------------------------------------\n",
      "const          1.2531      0.050     24.900      0.000       1.154       1.352\n",
      "x1             0.2169      0.007     30.444      0.000       0.203       0.231\n",
      "var            0.9313      0.043     21.541      0.000       0.847       1.016\n",
      "==============================================================================\n",
      "-189.4384195175579\n"
     ]
    }
   ],
   "source": [
    "y_cens, x_cens = yn[yn!=0],xn[yn!=0]\n",
    "model2 = sm.OLS(y_cens,sm.add_constant(x_cens))\n",
    "model2_fit = model2.fit()\n",
    "print(model2_fit.summary())\n",
    "\n",
    "model2 =  Tobit(yn,sm.add_constant(xn),cc=True)\n",
    "model2_fit = model2.fit(disp=False)\n",
    "print(model2_fit.summary())\n",
    "\n",
    "print(np.log(yn[yn==0].shape[0]/1000)*yn[yn==0].shape[0] )"
   ]
  },
  {
   "cell_type": "code",
   "execution_count": 55,
   "metadata": {},
   "outputs": [
    {
     "name": "stdout",
     "output_type": "stream",
     "text": [
      "97.94222597393491\n",
      "0.23132633253742962\n",
      "2.4176295363602085\n",
      "-2.1944342279575197\n"
     ]
    }
   ],
   "source": [
    "print( (model1.loglikeobs(model1_fit.params)- model2.loglikeobs(model2_fit.params)).sum() )\n",
    "print( (model1.loglikeobs(model1_fit.params)- model2.loglikeobs(model2_fit.params)).var() )\n",
    "print( (model1.loglikeobs(model1_fit.params)- model2.loglikeobs(model2_fit.params)).max() )\n",
    "print( (model1.loglikeobs(model1_fit.params)- model2.loglikeobs(model2_fit.params)).min() )"
   ]
  },
  {
   "cell_type": "code",
   "execution_count": null,
   "metadata": {},
   "outputs": [],
   "source": []
  },
  {
   "cell_type": "code",
   "execution_count": null,
   "metadata": {},
   "outputs": [],
   "source": []
  }
 ],
 "metadata": {
  "kernelspec": {
   "display_name": "Python 3",
   "language": "python",
   "name": "python3"
  },
  "language_info": {
   "codemirror_mode": {
    "name": "ipython",
    "version": 3
   },
   "file_extension": ".py",
   "mimetype": "text/x-python",
   "name": "python",
   "nbconvert_exporter": "python",
   "pygments_lexer": "ipython3",
   "version": "3.7.4"
  }
 },
 "nbformat": 4,
 "nbformat_minor": 2
}
