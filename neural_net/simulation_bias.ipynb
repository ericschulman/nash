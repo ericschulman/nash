{
 "cells": [
  {
   "cell_type": "code",
   "execution_count": 1,
   "metadata": {},
   "outputs": [],
   "source": [
    "import numpy as np\n",
    "import matplotlib.pyplot as plt\n",
    "import statsmodels.api as sm\n",
    "from statsmodels.base.model import GenericLikelihoodModel"
   ]
  },
  {
   "cell_type": "code",
   "execution_count": 10,
   "metadata": {},
   "outputs": [],
   "source": [
    "#generate the sample\n",
    "def gen_data():\n",
    "    nobs = 1000\n",
    "    beta = 3\n",
    "    x = np.random.normal(loc=0, scale=1, size=nobs)\n",
    "    e = np.random.logistic(size=nobs)\n",
    "    y = 1*(1 + beta * x + e >= 0) \n",
    "    return y,x,nobs"
   ]
  },
  {
   "cell_type": "code",
   "execution_count": 11,
   "metadata": {},
   "outputs": [],
   "source": [
    "class SimulatedLikelihood(GenericLikelihoodModel):\n",
    "    \n",
    "    def __init__(self,*args,  sim_function=np.random.logistic, **kwargs):\n",
    "        super(SimulatedLikelihood, self).__init__(*args, **kwargs)\n",
    "        #do the simulation 1x instead of on every step\n",
    "        nsim = 2000\n",
    "        np.random.seed(0)\n",
    "        e = sim_function(size=nsim)\n",
    "        e = np.repeat(e, self.endog.shape[0])\n",
    "        self.sims = e.reshape((nsim,self.endog.shape[0]))\n",
    "        \n",
    "    \n",
    "    def nloglikeobs(self, params):\n",
    "        \n",
    "        exog = self.exog\n",
    "        endog = self.endog\n",
    "        u = np.dot(exog, params)\n",
    "        \n",
    "        #generate simulations\n",
    "        e = self.sims\n",
    "        \n",
    "        #compare to each sim\n",
    "        u = np.tile(u,(e.shape[0],1))\n",
    "        u = u.reshape((e.shape[0],endog.shape[0]))\n",
    "               \n",
    "        #compute likelihood\n",
    "        p0, p1 = (u<=e).mean(axis=0), (u >= e).mean(axis=0)\n",
    "        p = (1-endog)*p0 +  endog*p1\n",
    "        ll = np.log( np.maximum(p,.0001) )#help with numerical zeros\n",
    "        \n",
    "        return -ll"
   ]
  },
  {
   "cell_type": "code",
   "execution_count": 12,
   "metadata": {},
   "outputs": [
    {
     "name": "stdout",
     "output_type": "stream",
     "text": [
      "                          Probit Regression Results                           \n",
      "==============================================================================\n",
      "Dep. Variable:                      y   No. Observations:                 1000\n",
      "Model:                         Probit   Df Residuals:                      998\n",
      "Method:                           MLE   Df Model:                            1\n",
      "Date:                Fri, 10 Jul 2020   Pseudo R-squ.:                  0.4868\n",
      "Time:                        10:45:00   Log-Likelihood:                -350.38\n",
      "converged:                       True   LL-Null:                       -682.74\n",
      "Covariance Type:            nonrobust   LLR p-value:                1.407e-146\n",
      "==============================================================================\n",
      "                 coef    std err          z      P>|z|      [0.025      0.975]\n",
      "------------------------------------------------------------------------------\n",
      "const          0.4810      0.059      8.125      0.000       0.365       0.597\n",
      "x1             1.7597      0.103     17.160      0.000       1.559       1.961\n",
      "==============================================================================\n",
      "                          SimulatedLikelihood Results                          \n",
      "===============================================================================\n",
      "Dep. Variable:                       y   Log-Likelihood:                -351.23\n",
      "Model:             SimulatedLikelihood   AIC:                             706.5\n",
      "Method:             Maximum Likelihood   BIC:                             716.3\n",
      "Date:                 Fri, 10 Jul 2020                                         \n",
      "Time:                         10:45:01                                         \n",
      "No. Observations:                 1000                                         \n",
      "Df Residuals:                      998                                         \n",
      "Df Model:                            1                                         \n",
      "==============================================================================\n",
      "                 coef    std err          z      P>|z|      [0.025      0.975]\n",
      "------------------------------------------------------------------------------\n",
      "const          0.4749      0.001    571.474      0.000       0.473       0.477\n",
      "x1             1.7862      0.002    748.246      0.000       1.781       1.791\n",
      "==============================================================================\n"
     ]
    }
   ],
   "source": [
    "yn,xn, nobs = gen_data()\n",
    "model1 = sm.Probit(yn,sm.add_constant(xn))\n",
    "model1_res = model1.fit(disp=False)\n",
    "print(model1_res.summary())\n",
    "    \n",
    "model2 = SimulatedLikelihood(yn,sm.add_constant(xn),sim_function=np.random.normal)\n",
    "model2_res = model2.fit(disp=False)\n",
    "print(model2_res.summary())"
   ]
  },
  {
   "cell_type": "code",
   "execution_count": 13,
   "metadata": {},
   "outputs": [
    {
     "name": "stdout",
     "output_type": "stream",
     "text": [
      "                           Logit Regression Results                           \n",
      "==============================================================================\n",
      "Dep. Variable:                      y   No. Observations:                 1000\n",
      "Model:                          Logit   Df Residuals:                      998\n",
      "Method:                           MLE   Df Model:                            1\n",
      "Date:                Fri, 10 Jul 2020   Pseudo R-squ.:                  0.5102\n",
      "Time:                        10:45:25   Log-Likelihood:                -333.86\n",
      "converged:                       True   LL-Null:                       -681.55\n",
      "Covariance Type:            nonrobust   LLR p-value:                3.008e-153\n",
      "==============================================================================\n",
      "                 coef    std err          z      P>|z|      [0.025      0.975]\n",
      "------------------------------------------------------------------------------\n",
      "const          0.8413      0.107      7.879      0.000       0.632       1.051\n",
      "x1             3.2670      0.206     15.890      0.000       2.864       3.670\n",
      "==============================================================================\n",
      "                          SimulatedLikelihood Results                          \n",
      "===============================================================================\n",
      "Dep. Variable:                       y   Log-Likelihood:                -333.45\n",
      "Model:             SimulatedLikelihood   AIC:                             670.9\n",
      "Method:             Maximum Likelihood   BIC:                             680.7\n",
      "Date:                 Fri, 10 Jul 2020                                         \n",
      "Time:                         10:45:26                                         \n",
      "No. Observations:                 1000                                         \n",
      "Df Residuals:                      998                                         \n",
      "Df Model:                            1                                         \n",
      "==============================================================================\n",
      "                 coef    std err          z      P>|z|      [0.025      0.975]\n",
      "------------------------------------------------------------------------------\n",
      "const          0.9140      0.002    601.644      0.000       0.911       0.917\n",
      "x1             3.4729      0.005    748.596      0.000       3.464       3.482\n",
      "==============================================================================\n"
     ]
    }
   ],
   "source": [
    "yn,xn, nobs = gen_data()\n",
    "model1 = sm.Logit(yn,sm.add_constant(xn))\n",
    "model1_res = model1.fit(disp=False)\n",
    "print(model1_res.summary())\n",
    "    \n",
    "model2 = SimulatedLikelihood(yn,sm.add_constant(xn))\n",
    "model2_res = model2.fit(disp=False)\n",
    "print(model2_res.summary())"
   ]
  },
  {
   "cell_type": "code",
   "execution_count": null,
   "metadata": {},
   "outputs": [],
   "source": [
    "def compute_llr(yn,xn):\n",
    "    \n",
    "    model1 = SimulatedLikelihood(yn,sm.add_constant(xn))\n",
    "    model1_fit = model1.fit(disp=False)\n",
    "    ll1 = model1.loglikeobs(model1_fit.params)\n",
    "    \n",
    "    model2 = SimulatedLikelihood(yn,sm.add_constant(xn),sim_function=np.random.normal)\n",
    "    model2_fit = model2.fit(disp=False)\n",
    "    ll2 = model2.loglikeobs(model2_fit.params)\n",
    "    \n",
    "    llr = ll1.sum() - ll2.sum()\n",
    "    omega = ( (ll1- ll2)**2 ).mean()\n",
    "    return llr/omega\n",
    "\n",
    "\n",
    "yn,xn,nobs = gen_data()\n",
    "print(compute_llr(yn,xn))"
   ]
  },
  {
   "cell_type": "code",
   "execution_count": 19,
   "metadata": {
    "scrolled": true
   },
   "outputs": [
    {
     "name": "stderr",
     "output_type": "stream",
     "text": [
      "/home/erichschulman/anaconda3/lib/python3.7/site-packages/statsmodels/base/model.py:492: HessianInversionWarning: Inverting hessian failed, no bse or cov_params available\n",
      "  'available', HessianInversionWarning)\n",
      "/home/erichschulman/anaconda3/lib/python3.7/site-packages/statsmodels/base/model.py:492: HessianInversionWarning: Inverting hessian failed, no bse or cov_params available\n",
      "  'available', HessianInversionWarning)\n",
      "/home/erichschulman/anaconda3/lib/python3.7/site-packages/statsmodels/base/model.py:492: HessianInversionWarning: Inverting hessian failed, no bse or cov_params available\n",
      "  'available', HessianInversionWarning)\n",
      "/home/erichschulman/anaconda3/lib/python3.7/site-packages/statsmodels/base/model.py:492: HessianInversionWarning: Inverting hessian failed, no bse or cov_params available\n",
      "  'available', HessianInversionWarning)\n",
      "/home/erichschulman/anaconda3/lib/python3.7/site-packages/statsmodels/base/model.py:492: HessianInversionWarning: Inverting hessian failed, no bse or cov_params available\n",
      "  'available', HessianInversionWarning)\n",
      "/home/erichschulman/anaconda3/lib/python3.7/site-packages/statsmodels/base/model.py:492: HessianInversionWarning: Inverting hessian failed, no bse or cov_params available\n",
      "  'available', HessianInversionWarning)\n",
      "/home/erichschulman/anaconda3/lib/python3.7/site-packages/statsmodels/base/model.py:492: HessianInversionWarning: Inverting hessian failed, no bse or cov_params available\n",
      "  'available', HessianInversionWarning)\n",
      "/home/erichschulman/anaconda3/lib/python3.7/site-packages/statsmodels/base/model.py:492: HessianInversionWarning: Inverting hessian failed, no bse or cov_params available\n",
      "  'available', HessianInversionWarning)\n",
      "/home/erichschulman/anaconda3/lib/python3.7/site-packages/statsmodels/base/model.py:492: HessianInversionWarning: Inverting hessian failed, no bse or cov_params available\n",
      "  'available', HessianInversionWarning)\n",
      "/home/erichschulman/anaconda3/lib/python3.7/site-packages/statsmodels/base/model.py:492: HessianInversionWarning: Inverting hessian failed, no bse or cov_params available\n",
      "  'available', HessianInversionWarning)\n",
      "/home/erichschulman/anaconda3/lib/python3.7/site-packages/statsmodels/base/model.py:492: HessianInversionWarning: Inverting hessian failed, no bse or cov_params available\n",
      "  'available', HessianInversionWarning)\n",
      "/home/erichschulman/anaconda3/lib/python3.7/site-packages/statsmodels/base/model.py:492: HessianInversionWarning: Inverting hessian failed, no bse or cov_params available\n",
      "  'available', HessianInversionWarning)\n",
      "/home/erichschulman/anaconda3/lib/python3.7/site-packages/statsmodels/base/model.py:492: HessianInversionWarning: Inverting hessian failed, no bse or cov_params available\n",
      "  'available', HessianInversionWarning)\n",
      "/home/erichschulman/anaconda3/lib/python3.7/site-packages/statsmodels/base/model.py:492: HessianInversionWarning: Inverting hessian failed, no bse or cov_params available\n",
      "  'available', HessianInversionWarning)\n",
      "/home/erichschulman/anaconda3/lib/python3.7/site-packages/statsmodels/base/model.py:492: HessianInversionWarning: Inverting hessian failed, no bse or cov_params available\n",
      "  'available', HessianInversionWarning)\n",
      "/home/erichschulman/anaconda3/lib/python3.7/site-packages/statsmodels/base/model.py:492: HessianInversionWarning: Inverting hessian failed, no bse or cov_params available\n",
      "  'available', HessianInversionWarning)\n",
      "/home/erichschulman/anaconda3/lib/python3.7/site-packages/statsmodels/base/model.py:492: HessianInversionWarning: Inverting hessian failed, no bse or cov_params available\n",
      "  'available', HessianInversionWarning)\n",
      "/home/erichschulman/anaconda3/lib/python3.7/site-packages/statsmodels/base/model.py:492: HessianInversionWarning: Inverting hessian failed, no bse or cov_params available\n",
      "  'available', HessianInversionWarning)\n",
      "/home/erichschulman/anaconda3/lib/python3.7/site-packages/statsmodels/base/model.py:492: HessianInversionWarning: Inverting hessian failed, no bse or cov_params available\n",
      "  'available', HessianInversionWarning)\n",
      "/home/erichschulman/anaconda3/lib/python3.7/site-packages/statsmodels/base/model.py:492: HessianInversionWarning: Inverting hessian failed, no bse or cov_params available\n",
      "  'available', HessianInversionWarning)\n",
      "/home/erichschulman/anaconda3/lib/python3.7/site-packages/statsmodels/base/model.py:492: HessianInversionWarning: Inverting hessian failed, no bse or cov_params available\n",
      "  'available', HessianInversionWarning)\n",
      "/home/erichschulman/anaconda3/lib/python3.7/site-packages/statsmodels/base/model.py:492: HessianInversionWarning: Inverting hessian failed, no bse or cov_params available\n",
      "  'available', HessianInversionWarning)\n",
      "/home/erichschulman/anaconda3/lib/python3.7/site-packages/statsmodels/base/model.py:492: HessianInversionWarning: Inverting hessian failed, no bse or cov_params available\n",
      "  'available', HessianInversionWarning)\n",
      "/home/erichschulman/anaconda3/lib/python3.7/site-packages/statsmodels/base/model.py:492: HessianInversionWarning: Inverting hessian failed, no bse or cov_params available\n",
      "  'available', HessianInversionWarning)\n",
      "/home/erichschulman/anaconda3/lib/python3.7/site-packages/statsmodels/base/model.py:492: HessianInversionWarning: Inverting hessian failed, no bse or cov_params available\n",
      "  'available', HessianInversionWarning)\n",
      "/home/erichschulman/anaconda3/lib/python3.7/site-packages/statsmodels/base/model.py:492: HessianInversionWarning: Inverting hessian failed, no bse or cov_params available\n",
      "  'available', HessianInversionWarning)\n",
      "/home/erichschulman/anaconda3/lib/python3.7/site-packages/statsmodels/base/model.py:492: HessianInversionWarning: Inverting hessian failed, no bse or cov_params available\n",
      "  'available', HessianInversionWarning)\n",
      "/home/erichschulman/anaconda3/lib/python3.7/site-packages/statsmodels/base/model.py:492: HessianInversionWarning: Inverting hessian failed, no bse or cov_params available\n",
      "  'available', HessianInversionWarning)\n"
     ]
    },
    {
     "name": "stdout",
     "output_type": "stream",
     "text": [
      "[160.24259786358473, -729.4929203636041, -54.678115497719745, -127.02247096491716, 6.933187997041706, 200.53375406874878, 127.3432142140581, 275.6641571972966, -19.620142573845396, 4.618979269023662, -79.5093335222444, -3497.6729787900063, 77.53832142281387, 146.60762071397858, -140.234367493629, -77.97280388196147, 35.18303976728896, 176.18032107934417, 189.19761231749789, 210.6444902378089, -129.847853658734, 274.92833681126166, -2.669493427412065, 259.1598031503696, 137.31402801032985, 185.75579274596888, 52.26845744674858, 277.92539847113994, 310.2478404931855, 92.19763680489538, 102.54990632448656, 32.72168441968735, -313.82459241923647, 54.566066499508544, -299.0883177456318, 137.82331158300022, 321.8916391754789, -727.0230167237145, 73.29183229112422, -48.49811251665932, -40.47546172881125, 80.58019217962097, -39.45663691605165, 264.81952445049916, 179.32541991786903, 214.90928159595188, 276.17162664720297, 168.19255040688714, -336.4780618459885, 209.9063598181118, 208.1940259928121, 154.49523572463588, 65.40097890529937, 453.2329429965418, -537.2582031190966, 128.4865230175023, 252.20459920274854, 126.74751476757126, -1014.0826336794861, 48.42546489513462, 130.11380315073532, -216.01502408922585, -85.78402131457968, 171.76505140835133, 150.7313808435488, 98.58049089525052, -137.59459803442803, 118.66851361892475, -47.00119710557445, -500.8620699799516, 43.86146215290247, -2247.905726465306, 124.13008003569661, 64.82017784362303, -185.33334920396285, 153.20520832446383, 45.34003105985353, 54.88463889636987, -789.9487186151096, 122.85496035617297, 88.54240609346878, 100.6965500741669, 271.78530498465534, 79.26283700571184, 227.4438097661975, -814.8342491624683, 116.9016082937961, -1838.2724013591715, 110.86626059480217, 253.19899185167452, -194.1341787021105, 2.09830068127764, 77.83967279492876, 159.06700196809413, 252.44505114214917, 44.12326049570126, 72.00402207965523, 280.7776060256067, 78.12067190575746, 157.7953686655709]\n",
      "True\n"
     ]
    }
   ],
   "source": [
    "def regular_test(yn,xn):\n",
    "    test_stat = compute_llr(yn,xn)\n",
    "    return np.abs(test_stat) >= 1.96\n",
    "\n",
    "\n",
    "def bootstrap_test(xn,yn):\n",
    "    test_stats = []\n",
    "    yn,xn,nobs = gen_data()\n",
    "    trials = 10\n",
    "    for i in range(trials):\n",
    "        subn = 200\n",
    "        np.random.seed()\n",
    "        sample  = np.random.choice(np.arange(0,nobs),subn,replace=False)\n",
    "        ys,xs = yn[sample],xn[sample]\n",
    "        test_stat = compute_llr(ys,xs)\n",
    "        test_stats.append(test_stat)\n",
    "\n",
    "    cv_upper = np.percentile(test_stats, 97.5, axis=0)\n",
    "    cv_lower = np.percentile(test_stats, 2.5, axis=0)\n",
    "    print(test_stats)\n",
    "    return 0 <= cv_upper or 0 >= cv_lower\n",
    "    \n",
    "\n",
    "yn,xn,nobs = gen_data()\n",
    "print(bootstrap_test(yn,xn))"
   ]
  },
  {
   "cell_type": "code",
   "execution_count": null,
   "metadata": {},
   "outputs": [],
   "source": []
  },
  {
   "cell_type": "code",
   "execution_count": null,
   "metadata": {},
   "outputs": [],
   "source": []
  },
  {
   "cell_type": "code",
   "execution_count": null,
   "metadata": {},
   "outputs": [],
   "source": []
  }
 ],
 "metadata": {
  "kernelspec": {
   "display_name": "Python 3",
   "language": "python",
   "name": "python3"
  },
  "language_info": {
   "codemirror_mode": {
    "name": "ipython",
    "version": 3
   },
   "file_extension": ".py",
   "mimetype": "text/x-python",
   "name": "python",
   "nbconvert_exporter": "python",
   "pygments_lexer": "ipython3",
   "version": "3.7.4"
  }
 },
 "nbformat": 4,
 "nbformat_minor": 2
}
