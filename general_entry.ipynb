{
 "cells": [
  {
   "cell_type": "code",
   "execution_count": 1,
   "metadata": {},
   "outputs": [],
   "source": [
    "using Distributions\n",
    "using Optim\n",
    "using PyPlot"
   ]
  },
  {
   "cell_type": "code",
   "execution_count": 2,
   "metadata": {},
   "outputs": [
    {
     "data": {
      "text/plain": [
       "enum_eq (generic function with 1 method)"
      ]
     },
     "execution_count": 2,
     "metadata": {},
     "output_type": "execute_result"
    }
   ],
   "source": [
    "function enum_eq(eq,i,m)\n",
    "    #enumerate all rationalizable equilibrium...\n",
    "    new_eq = []\n",
    "    if i==0\n",
    "        return eq\n",
    "    end\n",
    "    \n",
    "    for e=eq\n",
    "        for as = 0:1:(m-1)\n",
    "            new_e = append!(copy(e),as)\n",
    "            append!(new_eq,[new_e])\n",
    "        end\n",
    "    end\n",
    "    return enum_eq(new_eq,i-1,m)\n",
    "end"
   ]
  },
  {
   "cell_type": "code",
   "execution_count": 3,
   "metadata": {},
   "outputs": [
    {
     "name": "stdout",
     "output_type": "stream",
     "text": [
      "Any[0, 0] [0.0; 0.0] // [1, 1] [2.4; 2.4] // [2, 2] [2.8; 2.8]\n",
      "Bool[false; false] Bool[false; false] false\n",
      "Any[0, 1] [0.0; 2.4] // [1, 2] [0.9; 2.8] // [2, 0] [-0.2; 0.0]\n",
      "Bool[false; false] Bool[true; true] false\n",
      "Any[0, 2] [0.0; 2.8] // [1, 0] [-0.6; 0.0] // [2, 1] [-3.2; 2.4]\n",
      "Bool[true; true] Bool[true; true] true\n",
      "Any[1, 0] [2.4; 0.0] // [2, 1] [2.8; 0.9] // [0, 2] [0.0; -0.2]\n",
      "Bool[false; false] Bool[true; true] false\n",
      "Any[1, 1] [0.9; 0.9] // [2, 2] [-0.2; -0.2] // [0, 0] [0.0; 0.0]\n",
      "Bool[true; true] Bool[true; true] true\n",
      "Any[1, 2] [-0.6; -0.2] // [2, 0] [-3.2; 0.0] // [0, 1] [0.0; 0.9]\n",
      "Bool[true; false] Bool[false; false] false\n",
      "Any[2, 0] [2.8; 0.0] // [0, 1] [0.0; -0.6] // [1, 2] [2.4; -3.2]\n",
      "Bool[true; true] Bool[true; true] true\n",
      "Any[2, 1] [-0.2; -0.6] // [0, 2] [0.0; -3.2] // [1, 0] [0.9; 0.0]\n",
      "Bool[false; true] Bool[false; false] false\n",
      "Any[2, 2] [-3.2; -3.2] // [0, 0] [0.0; 0.0] // [1, 1] [-0.6; -0.6]\n",
      "Bool[false; false] Bool[false; false] false\n"
     ]
    },
    {
     "data": {
      "text/plain": [
       "3-element Array{Any,1}:\n",
       " Any[0, 2]\n",
       " Any[1, 1]\n",
       " Any[2, 0]"
      ]
     },
     "execution_count": 3,
     "metadata": {},
     "output_type": "execute_result"
    }
   ],
   "source": [
    "function calc_loss(n, delta, eq)\n",
    "    u = zeros(n)\n",
    "    for i=1:n\n",
    "        for j=1:(n-1)\n",
    "            j_index = mod(i+j-1,n)+1\n",
    "            u[i] =  u[i] + delta[i]*eq[j_index]\n",
    "        end\n",
    "    end\n",
    "    return u\n",
    "end\n",
    "\n",
    "function utility(n, m, params, a, a_not, e, x)\n",
    "    #set up params\n",
    "    delta = params[1:n]\n",
    "    beta = params[n+1:2*n]\n",
    "    u = calc_loss(n, delta, a_not)\n",
    "    x_re = reshape(x,(n,1))\n",
    "    u = (u .+ beta.*x_re .-  a).* a\n",
    "    for i=1:n #add the correct error term\n",
    "        u[i] = u[i]+ e[i,a[i]+1]\n",
    "    end\n",
    "    return u\n",
    "end\n",
    "\n",
    "\n",
    "function calc_eq(n, m, params, x, e; verbose = false)\n",
    "    #set up solutions\n",
    "    rational = enum_eq([[]],n,m)\n",
    "    nash = []\n",
    "    \n",
    "    for ind=1:length(rational)\n",
    "        #set up helpful variables\n",
    "        \n",
    "        eq = rational[ind]\n",
    "        dev_above = mod.(eq .+1,m)\n",
    "        dev_below = mod.(eq .-1,m)\n",
    "        \n",
    "        #look for deviation for player i\n",
    "        u = utility(n, m, params, eq, eq, e, x)\n",
    "        u_above = utility(n, m, params, dev_above, eq, e, x)\n",
    "        u_below = utility(n, m, params, dev_below, eq, e, x)\n",
    "        nash_true = prod( (u .>= u_above) .& (u .>= u_below) )\n",
    "        \n",
    "        if verbose\n",
    "            println(eq,\" \",u, \" // \", dev_above, \" \", u_above ,\" // \", dev_below, \" \", u_below  )\n",
    "            println((u .>= u_above), \" \", (u .>= u_below), \" \", nash_true)\n",
    "        end\n",
    "        \n",
    "        #append nash\n",
    "        if nash_true\n",
    "            append!(nash, [eq] )\n",
    "        end\n",
    "\n",
    "    end\n",
    "    return nash\n",
    "end\n",
    "\n",
    "\n",
    "calc_eq(2,3,[-1.5,-1.5, 3.4, 3.4], [1. 1.], [0. 0. 0. ; 0. 0. 0.];verbose=true)"
   ]
  },
  {
   "cell_type": "code",
   "execution_count": 4,
   "metadata": {},
   "outputs": [
    {
     "name": "stdout",
     "output_type": "stream",
     "text": [
      "1 2 [1, 1] [0, 2]\n",
      "[1, 1] // 0.99 [0.9; 0.9] [0.0; -0.2]\n",
      "[0, 2] // 0.24 [0.0; 2.8] [-0.6; 2.4]\n",
      "----\n",
      "1 3 [1, 1] [2, 0]\n",
      "[1, 1] // 0.99 [0.9; 0.9] [-0.2; 0.0]\n",
      "[2, 0] // 0.24 [2.8; 0.0] [2.4; -0.6]\n",
      "----\n",
      "2 1 [0, 2] [1, 1]\n",
      "[0, 2] // 0.24 [0.0; 2.8] [-0.6; 2.4]\n",
      "[1, 1] // 0.99 [0.9; 0.9] [0.0; -0.2]\n",
      "----\n",
      "2 3 [0, 2] [2, 0]\n",
      "[0, 2] // 8.959999999999999 [0.0; 2.8] [-3.2; 0.0]\n",
      "[2, 0] // 8.959999999999999 [2.8; 0.0] [0.0; -3.2]\n",
      "----\n",
      "3 1 [2, 0] [1, 1]\n",
      "[2, 0] // 0.24 [2.8; 0.0] [2.4; -0.6]\n",
      "[1, 1] // 0.99 [0.9; 0.9] [-0.2; 0.0]\n",
      "----\n",
      "3 2 [2, 0] [0, 2]\n",
      "[2, 0] // 8.959999999999999 [2.8; 0.0] [0.0; -3.2]\n",
      "[0, 2] // 8.959999999999999 [0.0; 2.8] [-3.2; 0.0]\n",
      "----\n",
      "[1, 1] \n",
      "<---------->\n"
     ]
    }
   ],
   "source": [
    "function risk_dom(n, m, params, cand_eq, x, e;verbose=false)\n",
    "    \n",
    "    #set up params\n",
    "    delta = params[1:n]\n",
    "    beta = params[n+1:2*n] \n",
    "    \n",
    "    num_eq = length(cand_eq)\n",
    "    risk_dom_eq = ones(num_eq)\n",
    "    \n",
    "    \n",
    "    for i=1:num_eq\n",
    "        eq = cand_eq[i]\n",
    "        u = calc_loss(n, delta, eq)\n",
    "        \n",
    "        for  j=1:num_eq\n",
    "            if i!=j\n",
    "                eq_not = cand_eq[j]\n",
    "    \n",
    "                u_not = calc_loss(n, delta, eq_not)\n",
    "                \n",
    "                #calc size of attracting basins\n",
    "                u_nash = utility(n, m, params, eq, eq, e, x) \n",
    "                u_dev =  utility(n, m, params, eq_not, eq, e, x)\n",
    "                basin = prod( u_dev .- u_nash .+ (eq_not .== eq) )\n",
    "\n",
    "                #calc size of attracting basins for competitor\n",
    "                u_nash_not =  utility(n, m, params, eq_not, eq_not, e, x)\n",
    "                u_dev_not =  utility(n, m, params, eq, eq_not, e, x)\n",
    "                \n",
    "                basin_not = prod( u_dev_not .- u_nash_not .+ (eq_not .== eq) )\n",
    "                \n",
    "                if verbose\n",
    "                    println(i,\" \", j, \" \", eq, \" \", eq_not)\n",
    "                    println(eq,\" // \", basin, \" \", u_nash,\" \", u_dev)\n",
    "                    println(eq_not,\" // \", basin_not, \" \", u_nash_not,\" \", u_dev_not)\n",
    "                    println(\"----\")\n",
    "                end\n",
    "                \n",
    "                if (basin_not - basin) >= 1e-10\n",
    "                    risk_dom_eq[i] = 0\n",
    "                end\n",
    "            end\n",
    "        end\n",
    "        \n",
    "    end\n",
    "    \n",
    "    \n",
    "    if maximum(risk_dom_eq) == 0\n",
    "        risk_dom_eq = ones(num_eq)\n",
    "    end\n",
    "    tie_breaker =  Categorical(risk_dom_eq ./ sum(risk_dom_eq))\n",
    "    ind = rand(tie_breaker,1)[1]\n",
    "    \n",
    "    return cand_eq[ind]\n",
    "end\n",
    "\n",
    "\n",
    "\n",
    "a = risk_dom(2, 3, [-1.5,-1.5, 3.4, 3.4], [ [1, 1] ,[0 ,2]  ,[2 ,0] ], [1.,1.],  [0. 0. 0. ; 0. 0. 0.]; verbose=true )\n",
    "print(a, \" \\n\" , \"<---------->\\n\")"
   ]
  },
  {
   "cell_type": "code",
   "execution_count": 5,
   "metadata": {},
   "outputs": [
    {
     "data": {
      "text/plain": [
       "2-element Array{Int64,1}:\n",
       " 2\n",
       " 0"
      ]
     },
     "execution_count": 5,
     "metadata": {},
     "output_type": "execute_result"
    }
   ],
   "source": [
    "function pareto_opt(n, m, params, cand_eq, x, e)\n",
    "    \n",
    "    #set up params\n",
    "    delta = params[1:n]\n",
    "    beta = params[n+1:2*n] \n",
    "    \n",
    "    num_eq = length(cand_eq)\n",
    "    risk_dom_eq = ones(num_eq)\n",
    "    \n",
    "    u = zeros(num_eq,n)\n",
    "    for i=1:num_eq\n",
    "        eq = cand_eq[i]\n",
    "        u[i,:] =  utility(n, m, params, eq, eq, e, x) \n",
    "    end\n",
    "    \n",
    "    pareto_opt_eq = sum(u,dims=2)\n",
    "    ties = (pareto_opt_eq .== maximum(pareto_opt_eq))\n",
    "    ties = reshape(ties ./ sum(ties), (num_eq))\n",
    "    tie_breaker =  Categorical(ties)\n",
    "    ind = rand(tie_breaker,1)[1]\n",
    "    \n",
    "    \n",
    "    return cand_eq[ind]\n",
    "end\n",
    "\n",
    "pareto_opt(2, 3, [-1.5,-1.5, 3.4, 3.4], [ [1, 1] ,[0 ,2]  ,[2 ,0] ], [1.,1.],  [0. 0. 0. ; 0. 0. 0.])"
   ]
  },
  {
   "cell_type": "code",
   "execution_count": 6,
   "metadata": {},
   "outputs": [
    {
     "data": {
      "text/plain": [
       "gen_data (generic function with 1 method)"
      ]
     },
     "execution_count": 6,
     "metadata": {},
     "output_type": "execute_result"
    }
   ],
   "source": [
    "function gen_data(N;n=2,m=3,select_eq=risk_dom,params= [-2.5,-2.4, 1.3, 1.2],verbose=false,rand_x=true)\n",
    "    Y = zeros(n,N)\n",
    "    X = zeros(n,N)\n",
    "    for i=1:N\n",
    "        x = ones(n)\n",
    "        if rand_x\n",
    "            x = x .+ rand(Normal(0.0, 2.0),n)\n",
    "        end\n",
    "        e = rand(Weibull(),(n,m) )\n",
    "        eq = calc_eq(n, m, params, x, e)\n",
    "        y = select_eq(n, m, params, eq, x, e)\n",
    "        if (length(eq) > 0) & verbose\n",
    "            println(eq, \" \", y, \" \", e)\n",
    "        end\n",
    "        Y[:,i] = y\n",
    "        X[:,i] = x\n",
    "    end\n",
    "    return Y,X\n",
    "end\n"
   ]
  },
  {
   "cell_type": "code",
   "execution_count": 7,
   "metadata": {},
   "outputs": [
    {
     "data": {
      "text/plain": [
       "([7.0, 3.0, 3.0, 7.0, 7.0, 3.0, 2.0, 3.0, 9.0, 3.0  …  9.0, 3.0, 3.0, 9.0, 3.0, 8.0, 9.0, 9.0, 7.0, 3.0], [2.0 0.0 … 2.0 0.0; 0.0 2.0 … 0.0 2.0], [2.31647 0.00707257 … 0.982383 -1.73807; 0.771298 4.36513 … -0.770636 2.68481])"
      ]
     },
     "execution_count": 7,
     "metadata": {},
     "output_type": "execute_result"
    }
   ],
   "source": [
    "function write_data(N,n,m,select_eq,params; fname=\"data.csv\")\n",
    "    \n",
    "    #set up empty data\n",
    "    io = open(fname, \"w\") #save file name\n",
    "    Y = zeros(n,N)\n",
    "    X = zeros(n,N)\n",
    "    y_labels = zeros(N)\n",
    "    \n",
    "    #setup labels\n",
    "    labels = enum_eq([[]],n,m)\n",
    "    no_labels = length(labels)\n",
    "    \n",
    "    print(io,\"label,\")\n",
    "    \n",
    "    for i=1:n\n",
    "        print(io,\"y$(i),\")\n",
    "    end\n",
    "    \n",
    "    for i=1:n\n",
    "        print(io,\"x$(i),\")\n",
    "    end\n",
    "    print(io,\"\\n\")\n",
    "\n",
    "    for j=1:N\n",
    "        y,x = gen_data(1;n=n,m=m, select_eq=select_eq, params=params)\n",
    "        \n",
    "        \n",
    "        for i=1:no_labels\n",
    "            label = reshape(labels[i],(n,1))\n",
    "            label = convert(Array{Float64},label)\n",
    "            if label == y\n",
    "                y_labels[j] = i\n",
    "                print(io,\"$(i),\")\n",
    "            end\n",
    "        end\n",
    "        \n",
    "        for i=1:n\n",
    "            print(io,\"$(y[i]),\")\n",
    "        end\n",
    "    \n",
    "        for i=1:n\n",
    "            print(io,\"$(x[i]),\")\n",
    "        end\n",
    "        \n",
    "        print(io,\"\\n\")\n",
    "        Y[:,j] = y\n",
    "        X[:,j] = x\n",
    "    end\n",
    "    close(io)\n",
    "    return y_labels,Y,X\n",
    "end\n",
    "\n",
    "write_data(1000,2,3,risk_dom,[-1.5,-1.5, 3.5, 3.5];fname=\"data_rd.csv\")\n",
    "write_data(1000,2,3,pareto_opt,[-1.5,-1.5, 3.5, 3.5];fname=\"data_po.csv\")"
   ]
  },
  {
   "cell_type": "code",
   "execution_count": 8,
   "metadata": {},
   "outputs": [
    {
     "data": {
      "image/png": "[encoded data removed]",
      "text/plain": [
       "Figure(PyObject <Figure size 640x480 with 1 Axes>)"
      ]
     },
     "metadata": {},
     "output_type": "display_data"
    },
    {
     "data": {
      "text/plain": [
       "PyObject <matplotlib.legend.Legend object at 0x7f890b35cbe0>"
      ]
     },
     "execution_count": 8,
     "metadata": {},
     "output_type": "execute_result"
    }
   ],
   "source": [
    "function gen_plots(N,n,m,params)\n",
    "        \n",
    "    y_rd, x_rd = gen_data(N;n=n,m=m,params=params,select_eq=risk_dom,rand_x=false)\n",
    "    y_po, x_po = gen_data(N;n=n,m=m,params=params,select_eq=pareto_opt,rand_x=false)\n",
    "    \n",
    "    labels = enum_eq([[]],n,m)\n",
    "\n",
    "    no_labels = length(labels)\n",
    "    pr_po = zeros(no_labels)\n",
    "    pr_rd = zeros(no_labels)\n",
    "\n",
    "    for i=1:no_labels\n",
    "        for j=1:N\n",
    "            if labels[i] == y_rd[:,j]\n",
    "                pr_rd[i] = pr_rd[i]+1\n",
    "            end\n",
    "            if labels[i] == y_po[:,j]\n",
    "                pr_po[i] = pr_po[i]+1\n",
    "            end\n",
    "        end\n",
    "    end\n",
    "\n",
    "    bar(collect(1:no_labels).+ .2, pr_rd,label=\"RD\",width=.4)\n",
    "    bar(collect(1:no_labels).- .2, pr_po,label=\"PO\",width=.4)\n",
    "    xticks(collect(1:no_labels),labels)\n",
    "    legend()\n",
    "end\n",
    "\n",
    "gen_plots(3000,2,3,[-1.5,-1.5, 3.5, 3.5])"
   ]
  },
  {
   "cell_type": "code",
   "execution_count": 9,
   "metadata": {},
   "outputs": [
    {
     "data": {
      "image/png": "[encoded data removed]",
      "text/plain": [
       "Figure(PyObject <Figure size 640x480 with 1 Axes>)"
      ]
     },
     "metadata": {},
     "output_type": "display_data"
    },
    {
     "data": {
      "text/plain": [
       "PyObject <matplotlib.legend.Legend object at 0x7f890aac1320>"
      ]
     },
     "execution_count": 9,
     "metadata": {},
     "output_type": "execute_result"
    }
   ],
   "source": [
    "gen_plots(3000,2,3,[-1.5,-1.5, 2.5, 2.5])"
   ]
  },
  {
   "cell_type": "code",
   "execution_count": 10,
   "metadata": {},
   "outputs": [
    {
     "data": {
      "image/png": "[encoded data removed]",
      "text/plain": [
       "Figure(PyObject <Figure size 640x480 with 1 Axes>)"
      ]
     },
     "metadata": {},
     "output_type": "display_data"
    },
    {
     "data": {
      "text/plain": [
       "PyObject <matplotlib.legend.Legend object at 0x7f890a9cb358>"
      ]
     },
     "execution_count": 10,
     "metadata": {},
     "output_type": "execute_result"
    }
   ],
   "source": [
    "gen_plots(10000,2,2,[-2.2,-.9, 2.7, 1.7])"
   ]
  },
  {
   "cell_type": "code",
   "execution_count": null,
   "metadata": {},
   "outputs": [],
   "source": []
  }
 ],
 "metadata": {
  "kernelspec": {
   "display_name": "Julia 1.0.3",
   "language": "julia",
   "name": "julia-1.0"
  },
  "language_info": {
   "file_extension": ".jl",
   "mimetype": "application/julia",
   "name": "julia",
   "version": "1.0.3"
  }
 },
 "nbformat": 4,
 "nbformat_minor": 2
}
