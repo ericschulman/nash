{
 "cells": [
  {
   "cell_type": "code",
   "execution_count": 16,
   "metadata": {},
   "outputs": [],
   "source": [
    "using Distributions\n",
    "using Optim"
   ]
  },
  {
   "cell_type": "code",
   "execution_count": 17,
   "metadata": {},
   "outputs": [
    {
     "data": {
      "text/plain": [
       "([1.0 0.0; 0.0 1.0; … ; 1.0 0.0; 1.0 0.0], [0.435235 -1.44519; -1.3337 0.513071; … ; 0.89657 -1.08501; 1.05755 0.32544])"
      ]
     },
     "execution_count": 17,
     "metadata": {},
     "output_type": "execute_result"
    }
   ],
   "source": [
    "function generate_data(N)\n",
    "    delta1, delta2 = -3 , -2\n",
    "    beta1, beta2 = 5, 4\n",
    "    rho = [.5 .5]\n",
    "    \n",
    "\n",
    "    Y = zeros(N,2)\n",
    "    X = zeros(N,2)\n",
    "    \n",
    "    for i=1:N\n",
    "        x1,x2 = rand(Normal(0.0, 1.0),2)\n",
    "        e1,e2 = rand(Logistic(),2)\n",
    "        \n",
    "        odds_lambda = sum(rho .* [x1 x2])\n",
    "        lambda = exp(odds_lambda)/(1+exp( odds_lambda ))\n",
    "\n",
    "        select = rand(Categorical([lambda, (1-lambda)]))\n",
    "\n",
    "        #see logit response i.e. definitely 11\n",
    "        eq = []\n",
    "        for y_init=[[0 0],[1 1],[0 1],[1 0]]\n",
    "            y1,y2 = beta1 * x1 + delta1*y_init[2] + e1 >= 0, beta2 * x2 +delta2*y_init[1] + e2 >= 0\n",
    "\n",
    "            if (y1==y_init[1]) & (y2==y_init[2])\n",
    "                append!(eq,[y_init])\n",
    "            end\n",
    "        end\n",
    "        \n",
    "        y1, y2 = eq[1]\n",
    "        if size(eq)[1] >= 2\n",
    "            y1, y2 = eq[select]\n",
    "        end\n",
    "        Y[i,:] =[y1 y2]\n",
    "        X[i,:] =[x1 x2]\n",
    "    end\n",
    "    return Y,X\n",
    "end\n",
    "\n",
    "Y,X = generate_data(200)"
   ]
  },
  {
   "cell_type": "code",
   "execution_count": 20,
   "metadata": {
    "scrolled": true
   },
   "outputs": [
    {
     "data": {
      "text/plain": [
       "486.2653001427401"
      ]
     },
     "execution_count": 20,
     "metadata": {},
     "output_type": "execute_result"
    }
   ],
   "source": [
    "function ll_obj(params;xs=0,ys=0)\n",
    "    n = size(xs)[1]\n",
    "    k = Integer(size(X)[2]/2) + 1\n",
    "    p = zeros(2,2,n)\n",
    "\n",
    "    #solve for the conditional probability firm i does not enter\n",
    "    #index 1- firm, index2 - firm -i's action\n",
    "    for a_j=0:1\n",
    "        util1 =  xs[:,1].*params[1]  .+ a_j.*params[2]\n",
    "        util2 =  xs[:,2].*params[3]  .+ a_j.*params[4]\n",
    "        p[1,a_j+1,:] = 1 ./(1 .+ exp.(util1))\n",
    "        p[2,a_j+1,:] = 1 ./(1 .+ exp.(util2))\n",
    "    end\n",
    "\n",
    "    lambda_odds = xs[:,1].*params[5] .+ xs[:,2].*params[6]\n",
    "    lambda = exp.(lambda_odds ) ./(1. .+ exp.(lambda_odds))\n",
    " \n",
    "    #solve for probablity of nash\n",
    "    mult_eq = max.(( p[1,2,:]  .- p[1,1,:] ) .* (  p[2,2,:] .- p[2,1,:] ),0)\n",
    "    prob01 = ( p[1,2,:] ) .* ( 1 .- p[2,1,:] ) - (1 .-lambda).*mult_eq\n",
    "    prob10 = ( 1 .- p[1,1,:] ) .* ( p[2,2,:] ) - (lambda).*mult_eq\n",
    "    prob00 = p[1,1,:] .* p[2,1,:]\n",
    "    prob11 = ( 1 .- p[1,2,:] ) .* ( 1 .- p[2,2,:] )\n",
    "    \n",
    "    #compute empirical likelihood\n",
    "    p00 = (1 .- ys[:,1]).*(1 .- ys[:,2])\n",
    "    p11 = ys[:,1].*ys[:,2]\n",
    "    p10 = ys[:,1].* (1 .- ys[:,2])\n",
    "    p01 = (1 .- ys[:,1]) .* ys[:,2]\n",
    "    \n",
    "    ll = p00 .* prob00 + p11 .*prob11 .+ p01 .* prob01 .+ p10 .* prob10\n",
    "\n",
    "    return -sum(log.(max.(ll,0)))    \n",
    "end\n",
    "\n",
    "Y,X = generate_data(1000)\n",
    "ll_obj([5 -3 4 -2 .5 .5];xs=X,ys=Y)"
   ]
  },
  {
   "cell_type": "code",
   "execution_count": 21,
   "metadata": {},
   "outputs": [
    {
     "name": "stdout",
     "output_type": "stream",
     "text": [
      "[5.40914 -3.28762 4.17223 -2.17112 3.63776 8.9162]\n",
      "482.31969922781485\n"
     ]
    }
   ],
   "source": [
    "function maximum_likelihood(params;xs=0,ys=0)\n",
    "    ll_trial(params) = ll_obj(params;xs=xs,ys=ys)\n",
    "    return optimize(ll_trial, params, LBFGS())\n",
    "end\n",
    "\n",
    "result =  maximum_likelihood([5. -3. 4. -2. .5 .5];xs=X,ys=Y)\n",
    "println(result.minimizer)\n",
    "println(result.minimum)"
   ]
  },
  {
   "cell_type": "code",
   "execution_count": 5,
   "metadata": {},
   "outputs": [
    {
     "ename": "UndefVarError",
     "evalue": "UndefVarError: Normal not defined",
     "output_type": "error",
     "traceback": [
      "UndefVarError: Normal not defined",
      "",
      "Stacktrace:",
      " [1] generate_data(::Int64) at ./In[2]:11",
      " [2] monte_carlo() at ./In[5]:6",
      " [3] top-level scope at In[5]:17"
     ]
    }
   ],
   "source": [
    "function monte_carlo()\n",
    "    trials = 400\n",
    "    params_200 = zeros((7,trials))\n",
    "    params_1000 = zeros((7,trials))\n",
    "    for i =1:trials\n",
    "        Y_200, X_200 = generate_data(200)\n",
    "        trial_200 = maximum_likelihood([5. -3. 4. -2. -2. -2.];xs=X_200,ys=Y_200)\n",
    "        params_200[:,i] = trial_200.minimizer\n",
    "\n",
    "        \n",
    "        Y_1000, X_1000 = generate_data(1000)\n",
    "        trial_1000 = maximum_likelihood([5. -3. 4. -2. -2. -2.];xs=X_1000,ys=Y_1000)\n",
    "        params_1000[:,i] = trial_1000.minimizer\n",
    "    end\n",
    "    return params_200,params_1000\n",
    "end\n",
    "\n",
    "results_200,results_1000 = monte_carlo()"
   ]
  },
  {
   "cell_type": "code",
   "execution_count": 6,
   "metadata": {},
   "outputs": [
    {
     "ename": "UndefVarError",
     "evalue": "UndefVarError: results_200 not defined",
     "output_type": "error",
     "traceback": [
      "UndefVarError: results_200 not defined",
      "",
      "Stacktrace:",
      " [1] top-level scope at In[6]:34"
     ]
    }
   ],
   "source": [
    "function print_results(params_200, params_1000)\n",
    "       \n",
    "    params_200[7,:] = exp.(params_200[7,:])./(1 .+ exp.(params_200[7,:]))\n",
    "    params_1000[7,:] = exp.(params_1000[7,:])./(1 .+ exp.(params_1000[7,:]))\n",
    "    \n",
    "    println(\"\\\\begin{center}\")\n",
    "    println(\"\\\\begin{table}\")\n",
    "    println(\"\\\\normalsize\")\n",
    "    println(\"\\\\begin{tabular}{c|c|c|c|c|c}\")\n",
    "    print(\"& True & Mean & SD  &  Mean  & SD  \\\\\\\\\\n\")\n",
    "    print(\"& &  (200 obs) &  (200 obs) &  (1000 obs) &  (1000 obs)  \\\\\\\\\\n\")\n",
    "    println(\"\\\\hline \\\\hline\")\n",
    "    param_names = [\"\\$ \\\\alpha_1 \\$\",\"\\$ \\\\beta_1 \\$\", \"\\$ \\\\Delta_1 \\$\", \n",
    "        \"\\$ \\\\alpha_2 \\$\", \"\\$ \\\\beta_2 \\$\", \"\\$ \\\\Delta_2 \\$\",\"\\$ \\\\lambda \\$\" ]\n",
    "    true_param = [\"1\", \"4\", \"-3\", \"2\", \"3\", \"-2\", \".25\"]\n",
    "    for i=1:7\n",
    "        print(\"$(param_names[i]) &\")\n",
    "        print(\"$(true_param[i]) &\")\n",
    "        print(\" $(round(mean(params_200[i,:]), digits=4)) &\")\n",
    "        print(\" $(round(std(params_200[i,:]), digits=3)) &\")\n",
    "        print(\" $(round(mean(params_1000[i,:]), digits=4)) &\")\n",
    "        print(\" $(round(std(params_1000[i,:]), digits=3)) \\\\\\\\\\n\")\n",
    "        if (i ==3) | (i==6)\n",
    "            println( \"\\\\hline \\\\hline\")\n",
    "        else\n",
    "            println( \"\\\\hline\")\n",
    "        end\n",
    "        \n",
    "    end\n",
    "    println(\"\\\\end{tabular}\")\n",
    "    println(\"\\\\end{table}\")\n",
    "    println(\"\\\\end{center}\")\n",
    "end\n",
    "\n",
    "print_results(results_200[:,:], results_1000[:,:])"
   ]
  },
  {
   "cell_type": "code",
   "execution_count": null,
   "metadata": {},
   "outputs": [],
   "source": []
  }
 ],
 "metadata": {
  "kernelspec": {
   "display_name": "Julia 1.0.3",
   "language": "julia",
   "name": "julia-1.0"
  },
  "language_info": {
   "file_extension": ".jl",
   "mimetype": "application/julia",
   "name": "julia",
   "version": "1.0.3"
  }
 },
 "nbformat": 4,
 "nbformat_minor": 2
}
