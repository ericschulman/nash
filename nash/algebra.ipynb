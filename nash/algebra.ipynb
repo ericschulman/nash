{
 "cells": [
  {
   "cell_type": "code",
   "execution_count": 5,
   "metadata": {},
   "outputs": [],
   "source": [
    "from sympy import *"
   ]
  },
  {
   "cell_type": "code",
   "execution_count": 8,
   "metadata": {},
   "outputs": [
    {
     "name": "stdout",
     "output_type": "stream",
     "text": [
      "-l*p1*y1*y2 + l*p1*y2 - l*p2*y1*y2 + l*p2*y2 - 2*l*p3*y1*y2 + l*p3*y1 + l*p3*y2 - l*p4*y1 + l*p4*y2 + l*y1*y2 - l*y2 + 2*p1*y1*y2 - p1*y2 + 2*p2*y1*y2 - p2*y1 - 2*p2*y2 + p2 + p3*y1*y2 - p3*y2 - p4*y1*y2 + p4*y1 - y1*y2 + y2\n"
     ]
    }
   ],
   "source": [
    "p1 = Symbol(\"p1\")\n",
    "p2 = Symbol(\"p2\")\n",
    "p3 = Symbol(\"p3\")\n",
    "p4 = Symbol(\"p4\")\n",
    "p5 = 1-p1-p2-p3\n",
    "p6 = 1-p1-p2-p4\n",
    "lambd = Symbol(\"l\")\n",
    "\n",
    "y1= Symbol(\"y1\")\n",
    "y2= Symbol(\"y2\")\n",
    "\n",
    "\n",
    "expr = y1*y2*p1 + (1-y1)*(1-y2)*p2 + y1*(1-y2)*(lambd*p3 + (1-lambd)*p4) + (1-y1)*y2*(lambd*p4 + (1-lambd)*p5)\n",
    "print(simplify(expand(expr)))"
   ]
  },
  {
   "cell_type": "code",
   "execution_count": null,
   "metadata": {},
   "outputs": [],
   "source": []
  }
 ],
 "metadata": {
  "kernelspec": {
   "display_name": "Python 3",
   "language": "python",
   "name": "python3"
  },
  "language_info": {
   "codemirror_mode": {
    "name": "ipython",
    "version": 3
   },
   "file_extension": ".py",
   "mimetype": "text/x-python",
   "name": "python",
   "nbconvert_exporter": "python",
   "pygments_lexer": "ipython3",
   "version": "3.7.4"
  }
 },
 "nbformat": 4,
 "nbformat_minor": 2
}
