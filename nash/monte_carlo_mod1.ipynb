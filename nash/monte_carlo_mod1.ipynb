{
 "cells": [
  {
   "cell_type": "code",
   "execution_count": 1,
   "metadata": {},
   "outputs": [],
   "source": [
    "using Distributions\n",
    "using Optim"
   ]
  },
  {
   "cell_type": "code",
   "execution_count": 26,
   "metadata": {},
   "outputs": [
    {
     "name": "stdout",
     "output_type": "stream",
     "text": [
      "([0.0 1.0; 1.0 0.0; 1.0 1.0; 0.0 1.0; 1.0 1.0; 0.0 1.0; 0.0 1.0; 1.0 0.0; 0.0 0.0; 1.0 0.0], [-1.18899 1.17363; 1.16994 0.0065057; 0.420236 -0.195954; -0.853918 0.812693; 1.39561 0.786815; -0.359698 -0.691882; -1.11737 -0.292443; -0.188876 -0.317492; -1.05202 -0.832048; 0.986766 -1.37374])"
     ]
    }
   ],
   "source": [
    "function generate_data(N)\n",
    "    delta1, delta2 = -3 , -2\n",
    "    beta1, beta2 = [1 4], [2 3]\n",
    "    rho = -2\n",
    "    \n",
    "\n",
    "    Y = zeros(N,2)\n",
    "    X = zeros(N,2)\n",
    "\n",
    "    for i=1:N\n",
    "        x1,x2 = rand(Normal(0.0, 1.0),2)\n",
    "        e1,e2 = rand(Logistic(),2)\n",
    "        lambda = exp(rho*x1)/(1+exp(rho*x1))\n",
    "        select = rand(Categorical([lambda, (1-lambda)]))\n",
    "\n",
    "        #see logit response i.e. definitely 11\n",
    "        eq = []\n",
    "        for y_init=[[0 0],[1 1],[0 1],[1 0]]\n",
    "            y1,y2 = sum(beta1.*[1 x1]) + delta1*y_init[2] + e1 >= 0, sum(beta2.*[1 x2]) +delta2*y_init[1] + e2 >= 0\n",
    "\n",
    "            if false\n",
    "                println( \"$(1*y1) $(1*y2),$(y_init)\" )\n",
    "                println(sum(beta1.*[1 x1]) + delta1*y_init[2] + e1,\" \", sum(beta2.*[1 x2]) +delta2*y_init[1] + e2)\n",
    "                println(\"-----\")\n",
    "            end\n",
    "\n",
    "            if (y1==y_init[1]) & (y2==y_init[2])\n",
    "                append!(eq,[y_init])\n",
    "            end\n",
    "        end\n",
    "        \n",
    "        y1, y2 = eq[1]\n",
    "        if size(eq)[1] >= 2\n",
    "            y1, y2 = eq[select]\n",
    "        end\n",
    "        Y[i,:] =[y1 y2]\n",
    "        X[i,:] =[x1 x2]\n",
    "    end\n",
    "    return Y,X\n",
    "end\n",
    "\n",
    "print(generate_data(10))"
   ]
  },
  {
   "cell_type": "code",
   "execution_count": 22,
   "metadata": {
    "scrolled": false
   },
   "outputs": [
    {
     "data": {
      "text/plain": [
       "576.4129316056142"
      ]
     },
     "execution_count": 22,
     "metadata": {},
     "output_type": "execute_result"
    }
   ],
   "source": [
    "function ll_obj(params;xs=0,ys=0)\n",
    "    n = size(X)[1]\n",
    "    k = Integer(size(X)[2]/2) + 1\n",
    "    \n",
    "    p = []\n",
    "    \n",
    "    for bound=[[0,0],[1,1],[0,1],[1,0]]\n",
    "        util1 = params[1] .+ xs[:,1].*params[2]  .+ bound[2].*params[3]\n",
    "        util2 = params[4] .+ xs[:,2].*params[5]  .+ bound[1].*params[6]\n",
    "        prob = exp.(util1).^(bound[1])./(1 .+ exp.(util1))\n",
    "        prob = prob .* exp.(util2).^(bound[2])./(1 .+ exp.(util2))\n",
    "        append!(p,[prob])\n",
    "    end\n",
    "    \n",
    "    p00 = (1 .- ys[:,1]).*(1 .- ys[:,2])\n",
    "    p11 = ys[:,1].*ys[:,2]\n",
    "    p10 = ys[:,1].* (1 .- ys[:,2])\n",
    "    p01 = (1 .- ys[:,1]) .* ys[:,2]\n",
    "    \n",
    "    lambda = exp.(xs[:,1].*params[7])./(1 .+exp.(xs[:,1].*params[7]))\n",
    "    ll = p00 .* p[1] + p11 .*p[2]\n",
    "    ll = ll .+ p01 .* ( lambda .* p[3] .+ (1 .-lambda) .*(1 .- p[1] .- p[2] .- p[4] ) )\n",
    "    ll = ll .+ p10 .* ( (1 .-lambda) .* p[4] .+ lambda .*(1 .- p[1] .- p[2] .- p[3] ) )\n",
    "\n",
    "    return -sum(log.(max.(ll,0)))    \n",
    "end\n",
    "\n",
    "Y,X = generate_data(1000)\n",
    "ll_obj([1 4 -3 2 3 -2 -2];xs=X,ys=Y)"
   ]
  },
  {
   "cell_type": "code",
   "execution_count": 23,
   "metadata": {},
   "outputs": [
    {
     "name": "stdout",
     "output_type": "stream",
     "text": [
      "[1.11192 3.85689 -3.15267 2.11803 3.06966 -2.25419 -4.70891]574.4496439733674"
     ]
    }
   ],
   "source": [
    "function maximum_likelihood(params;xs=0,ys=0)\n",
    "    ll_trial(params) = ll_obj(params;xs=xs,ys=ys)\n",
    "    return optimize(ll_trial, params, LBFGS())\n",
    "end\n",
    "\n",
    "result =  maximum_likelihood([1 4 -3 2 3 -2 -1.];xs=X,ys=Y)\n",
    "print(result.minimizer)\n",
    "print(result.minimum)"
   ]
  },
  {
   "cell_type": "code",
   "execution_count": 8,
   "metadata": {},
   "outputs": [
    {
     "data": {
      "text/plain": [
       "([0.865373 1.00586 … 0.672723 2.15223; 4.17021 3.98829 … 4.5247 5.47953; … ; -2.4779 -1.56307 … -2.46137 -1.99946; -0.446059 -4.99168 … 8.89485 -1.62844], [0.897724 0.892906 … 1.0693 0.662592; 4.03238 4.03177 … 3.17235 4.12833; … ; -2.11274 -2.23521 … -1.98561 -2.241; -0.911577 0.167653 … -9.15942 -1.80102])"
      ]
     },
     "execution_count": 8,
     "metadata": {},
     "output_type": "execute_result"
    }
   ],
   "source": [
    "function monte_carlo()\n",
    "    trials = 400\n",
    "    params_200 = zeros((7,trials))\n",
    "    params_1000 = zeros((7,trials))\n",
    "    for i =1:trials\n",
    "        Y_200, X_200 = generate_data(200)\n",
    "        trial_200 = maximum_likelihood([1 4 -3 2 3 -2 -1.];xs=X_200,ys=Y_200)\n",
    "        params_200[:,i] = trial_200.minimizer\n",
    "        \n",
    "        Y_1000, X_1000 = generate_data(1000)\n",
    "        trial_1000 = maximum_likelihood([1 4 -3 2 3 -2 -1.];xs=X_1000,ys=Y_1000)\n",
    "        params_1000[:,i] = trial_1000.minimizer\n",
    "    end\n",
    "    return params_200,params_1000\n",
    "end\n",
    "\n",
    "results_200,results_1000 = monte_carlo()"
   ]
  },
  {
   "cell_type": "code",
   "execution_count": 9,
   "metadata": {},
   "outputs": [
    {
     "name": "stdout",
     "output_type": "stream",
     "text": [
      "-8.829886832405863\n",
      "0.0001462733953413008\n"
     ]
    },
    {
     "data": {
      "text/plain": [
       "0.009018144775602026"
      ]
     },
     "execution_count": 9,
     "metadata": {},
     "output_type": "execute_result"
    }
   ],
   "source": [
    "println(mean(results_200[7,:]))\n",
    "lambda_200 = exp(mean(results_200[7,:]))/(1 + exp(mean(results_200[7,:])))\n",
    "println(lambda_200)\n",
    "var_200 = std(results_200[7,:]) *exp(mean(results_200[7,:]))/(1 + exp(mean(results_200[7,:])))^2"
   ]
  },
  {
   "cell_type": "code",
   "execution_count": 10,
   "metadata": {},
   "outputs": [
    {
     "name": "stdout",
     "output_type": "stream",
     "text": [
      "-4.748891346514224\n",
      "0.008586918443880025\n"
     ]
    },
    {
     "data": {
      "text/plain": [
       "0.14389294761101162"
      ]
     },
     "execution_count": 10,
     "metadata": {},
     "output_type": "execute_result"
    }
   ],
   "source": [
    "println(mean(results_1000[7,:]))\n",
    "lambda_1000 = exp(mean(results_1000[7,:]))/(1 + exp(mean(results_1000[7,:])))\n",
    "println(lambda_1000)\n",
    "var_200 = std(results_1000[7,:]) *exp(mean(results_1000[7,:]))/(1 + exp(mean(results_1000[7,:])))^2"
   ]
  },
  {
   "cell_type": "code",
   "execution_count": 25,
   "metadata": {},
   "outputs": [
    {
     "name": "stdout",
     "output_type": "stream",
     "text": [
      "\\begin{center}\n",
      "\\begin{table}\n",
      "\\normalsize\n",
      "\\begin{tabular}{c|c|c|c|c|c}\n",
      "& True & Mean & SD  &  Mean  & SD  \\\\\n",
      "& &  (200 obs) &  (200 obs) &  (1000 obs) &  (1000 obs)  \\\\\n",
      "\\hline \\hline\n",
      "$ \\alpha_1 $ &1 & 1.0803 & 0.525 & 1.0154 & 0.231 \\\\\n",
      "\\hline\n",
      "$ \\beta_1 $ &4 & 4.3191 & 0.83 & 4.0614 & 0.358 \\\\\n",
      "\\hline\n",
      "$ \\Delta_1 $ &-3 & -3.2075 & 0.873 & -3.035 & 0.359 \\\\\n",
      "\\hline \\hline\n",
      "$ \\alpha_2 $ &2 & 2.0882 & 0.484 & 2.0179 & 0.201 \\\\\n",
      "\\hline\n",
      "$ \\beta_2 $ &3 & 3.1708 & 0.516 & 3.028 & 0.21 \\\\\n",
      "\\hline\n",
      "$ \\Delta_2 $ &-2 & -2.1247 & 0.637 & -2.0225 & 0.273 \\\\\n",
      "\\hline \\hline\n",
      "$ \\lambda $ &-2 & -8.8299 & 61.662 & -4.7489 & 16.902 \\\\\n",
      "\\hline\n",
      "\\end{tabular}\n",
      "\\end{table}\n",
      "\\end{center}\n"
     ]
    }
   ],
   "source": [
    "function print_results(params_200, params_1000)\n",
    "       \n",
    "    #params_200[7,:] = exp.(params_200[7,:])./(1 .+ exp.(params_200[7,:]))\n",
    "    #params_1000[7,:] = exp.(params_1000[7,:])./(1 .+ exp.(params_1000[7,:]))\n",
    "    \n",
    "    println(\"\\\\begin{center}\")\n",
    "    println(\"\\\\begin{table}\")\n",
    "    println(\"\\\\normalsize\")\n",
    "    println(\"\\\\begin{tabular}{c|c|c|c|c|c}\")\n",
    "    print(\"& True & Mean & SD  &  Mean  & SD  \\\\\\\\\\n\")\n",
    "    print(\"& &  (200 obs) &  (200 obs) &  (1000 obs) &  (1000 obs)  \\\\\\\\\\n\")\n",
    "    println(\"\\\\hline \\\\hline\")\n",
    "    param_names = [\"\\$ \\\\alpha_1 \\$\",\"\\$ \\\\beta_1 \\$\", \"\\$ \\\\Delta_1 \\$\", \n",
    "        \"\\$ \\\\alpha_2 \\$\", \"\\$ \\\\beta_2 \\$\", \"\\$ \\\\Delta_2 \\$\",\"\\$ \\\\lambda \\$\" ]\n",
    "    true_param = [\"1\", \"4\", \"-3\", \"2\", \"3\", \"-2\", \"-2\"]\n",
    "    for i=1:7\n",
    "        print(\"$(param_names[i]) &\")\n",
    "        print(\"$(true_param[i]) &\")\n",
    "        print(\" $(round(mean(params_200[i,:]), digits=4)) &\")\n",
    "        print(\" $(round(std(params_200[i,:]), digits=3)) &\")\n",
    "        print(\" $(round(mean(params_1000[i,:]), digits=4)) &\")\n",
    "        print(\" $(round(std(params_1000[i,:]), digits=3)) \\\\\\\\\\n\")\n",
    "        if (i ==3) | (i==6)\n",
    "            println( \"\\\\hline \\\\hline\")\n",
    "        else\n",
    "            println( \"\\\\hline\")\n",
    "        end\n",
    "        \n",
    "    end\n",
    "    println(\"\\\\end{tabular}\")\n",
    "    println(\"\\\\end{table}\")\n",
    "    println(\"\\\\end{center}\")\n",
    "end\n",
    "\n",
    "print_results(results_200[:,:], results_1000[:,:])"
   ]
  },
  {
   "cell_type": "code",
   "execution_count": null,
   "metadata": {},
   "outputs": [],
   "source": []
  }
 ],
 "metadata": {
  "kernelspec": {
   "display_name": "Julia 1.0.5",
   "language": "julia",
   "name": "julia-1.0"
  },
  "language_info": {
   "file_extension": ".jl",
   "mimetype": "application/julia",
   "name": "julia",
   "version": "1.0.5"
  }
 },
 "nbformat": 4,
 "nbformat_minor": 2
}
