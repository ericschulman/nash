{
 "cells": [
  {
   "cell_type": "code",
   "execution_count": 1,
   "metadata": {},
   "outputs": [],
   "source": [
    "using Distributions\n",
    "using Optim"
   ]
  },
  {
   "cell_type": "code",
   "execution_count": 11,
   "metadata": {},
   "outputs": [
    {
     "data": {
      "text/plain": [
       "([0.0 1.0; 1.0 0.0; … ; 0.0 1.0; 0.0 1.0], [0.0908777 1.45112; 1.63152 -0.227304; … ; -0.926591 0.533604; 0.191804 1.28394])"
      ]
     },
     "execution_count": 11,
     "metadata": {},
     "output_type": "execute_result"
    }
   ],
   "source": [
    "function generate_data(N)\n",
    "    delta1, delta2 = -3 , -2\n",
    "    beta1, beta2 = [1 4], [2 3]\n",
    "    rho = -1\n",
    "    lambda = exp(rho)/(1+exp(rho))\n",
    "    \n",
    "    Y = zeros(N,2)\n",
    "    X = zeros(N,2)\n",
    "\n",
    "    for i=1:N\n",
    "        x1,x2 = rand(Normal(0.0, 1.0),2)\n",
    "        e1,e2 = rand(Logistic(),2)\n",
    "        select = rand(Categorical([lambda, (1-lambda)]))\n",
    "\n",
    "        #see logit response i.e. definitely 11\n",
    "        eq = []\n",
    "        for y_init=[[0 0],[1 1],[0 1],[1 0]]\n",
    "            y1,y2 = sum(beta1.*[1 x1]) + delta1*y_init[2] + e1 >= 0, sum(beta2.*[1 x2]) +delta2*y_init[1] + e2 >= 0\n",
    "\n",
    "            if false\n",
    "                println( \"$(1*y1) $(1*y2),$(y_init)\" )\n",
    "                println(sum(beta1.*[1 x1]) + delta1*y_init[2] + e1,\" \", sum(beta2.*[1 x2]) +delta2*y_init[1] + e2)\n",
    "                println(\"-----\")\n",
    "            end\n",
    "\n",
    "            if (y1==y_init[1]) & (y2==y_init[2])\n",
    "                append!(eq,[y_init])\n",
    "            end\n",
    "        end\n",
    "        \n",
    "        y1, y2 = eq[1]\n",
    "        if size(eq)[1] >= 2\n",
    "            y1, y2 = eq[select]\n",
    "        end\n",
    "        Y[i,:] =[y1 y2]\n",
    "        X[i,:] =[x1 x2]\n",
    "    end\n",
    "    return Y,X\n",
    "end\n",
    "\n",
    "Y,X = generate_data(200)"
   ]
  },
  {
   "cell_type": "code",
   "execution_count": 3,
   "metadata": {
    "scrolled": true
   },
   "outputs": [
    {
     "data": {
      "text/plain": [
       "120.19288391476788"
      ]
     },
     "execution_count": 3,
     "metadata": {},
     "output_type": "execute_result"
    }
   ],
   "source": [
    "function ll_obj(params;xs=0,ys=0)\n",
    "    n = size(xs)[1]\n",
    "    k = Integer(size(X)[2]/2) + 1\n",
    "    p = zeros(2,2,n)\n",
    "\n",
    "    #solve for the conditional probability firm i does not enter\n",
    "    #index 1- firm, index2 - firm -i's action\n",
    "    for a_j=0:1\n",
    "        util1 = params[1] .+ xs[:,1].*params[2]  .+ a_j.*params[3]\n",
    "        util2 = params[4] .+ xs[:,2].*params[5]  .+ a_j.*params[6]\n",
    "        p[1,a_j+1,:] = 1 ./(1 .+ exp.(util1))\n",
    "        p[2,a_j+1,:] = 1 ./(1 .+ exp.(util2))\n",
    "    end\n",
    "    \n",
    "    lambda = exp(params[7])/(1+exp(params[7]))\n",
    " \n",
    "    #solve for probablity of nash\n",
    "    mult_eq = max.(( p[1,2,:]  .- p[1,1,:] ) .* (  p[2,2,:] .- p[2,1,:] ),0)\n",
    "    prob01 = ( p[1,2,:] ) .* ( 1 .- p[2,1,:] ) - (1-lambda).*mult_eq\n",
    "    prob10 = ( 1 .- p[1,1,:] ) .* ( p[2,2,:] ) - (lambda).*mult_eq\n",
    "    prob00 = p[1,1,:] .* p[2,1,:]\n",
    "    prob11 = ( 1 .- p[1,2,:] ) .* ( 1 .- p[2,2,:] )\n",
    "    \n",
    "    #compute empirical likelihood\n",
    "    p00 = (1 .- ys[:,1]).*(1 .- ys[:,2])\n",
    "    p11 = ys[:,1].*ys[:,2]\n",
    "    p10 = ys[:,1].* (1 .- ys[:,2])\n",
    "    p01 = (1 .- ys[:,1]) .* ys[:,2]\n",
    "    \n",
    "    ll = p00 .* prob00 + p11 .*prob11 .+ p01 .* prob01 .+ p10 .* prob10\n",
    "\n",
    "    return -sum(log.(max.(ll,0)))    \n",
    "end\n",
    "\n",
    "Y,X = generate_data(200)\n",
    "ll_obj([1 4 -3 2 3 -2 -2];xs=X,ys=Y)"
   ]
  },
  {
   "cell_type": "code",
   "execution_count": 4,
   "metadata": {},
   "outputs": [
    {
     "name": "stdout",
     "output_type": "stream",
     "text": [
      "[1.57478 3.59867 -3.43091 3.10359 3.78387 -3.07493 -24.4613]115.09593954251719"
     ]
    }
   ],
   "source": [
    "function maximum_likelihood(params;xs=0,ys=0)\n",
    "    ll_trial(params) = ll_obj(params;xs=xs,ys=ys)\n",
    "    return optimize(ll_trial, params, LBFGS())\n",
    "end\n",
    "\n",
    "result =  maximum_likelihood([1 4 -3 2 3 -2 -2.];xs=X,ys=Y)\n",
    "print(result.minimizer)\n",
    "print(result.minimum)"
   ]
  },
  {
   "cell_type": "code",
   "execution_count": 5,
   "metadata": {},
   "outputs": [
    {
     "data": {
      "text/plain": [
       "([0.861731 1.03247 … 0.934577 1.02724; 3.44587 3.70457 … 4.26136 5.32979; … ; -1.40316 -1.52616 … -1.03161 -2.83952; -24.3615 -2.48054 … -1.33113 -24.5821], [1.1919 1.05565 … 1.1175 0.784667; 3.82232 4.50251 … 3.83395 3.74923; … ; -2.00019 -2.32804 … -1.74511 -1.90338; -0.415832 -0.465755 … -1.70772 -1.45484])"
      ]
     },
     "execution_count": 5,
     "metadata": {},
     "output_type": "execute_result"
    }
   ],
   "source": [
    "function monte_carlo()\n",
    "    trials = 400\n",
    "    params_200 = zeros((7,trials))\n",
    "    params_1000 = zeros((7,trials))\n",
    "    for i =1:trials\n",
    "        Y_200, X_200 = generate_data(200)\n",
    "        trial_200 = maximum_likelihood([1 4 -3 2 3 -2 -1.];xs=X_200,ys=Y_200)\n",
    "        params_200[:,i] = trial_200.minimizer\n",
    "\n",
    "        \n",
    "        Y_1000, X_1000 = generate_data(1000)\n",
    "        trial_1000 = maximum_likelihood([1 4 -3 2 3 -2 -1.];xs=X_1000,ys=Y_1000)\n",
    "        params_1000[:,i] = trial_1000.minimizer\n",
    "    end\n",
    "    return params_200,params_1000\n",
    "end\n",
    "\n",
    "results_200,results_1000 = monte_carlo()"
   ]
  },
  {
   "cell_type": "code",
   "execution_count": 6,
   "metadata": {},
   "outputs": [
    {
     "name": "stdout",
     "output_type": "stream",
     "text": [
      "-5.825306419295321\n",
      "0.002943211430480432\n"
     ]
    },
    {
     "data": {
      "text/plain": [
       "0.03854232712757239"
      ]
     },
     "execution_count": 6,
     "metadata": {},
     "output_type": "execute_result"
    }
   ],
   "source": [
    "println(mean(results_200[7,:]))\n",
    "lambda_200 = exp(mean(results_200[7,:]))/(1 + exp(mean(results_200[7,:])))\n",
    "println(lambda_200)\n",
    "var_200 = std(results_200[7,:]) *exp(mean(results_200[7,:]))/(1 + exp(mean(results_200[7,:])))^2"
   ]
  },
  {
   "cell_type": "code",
   "execution_count": 7,
   "metadata": {},
   "outputs": [
    {
     "name": "stdout",
     "output_type": "stream",
     "text": [
      "-3.1620927322257213\n",
      "0.04061742626874054\n"
     ]
    },
    {
     "data": {
      "text/plain": [
       "0.25581424042030115"
      ]
     },
     "execution_count": 7,
     "metadata": {},
     "output_type": "execute_result"
    }
   ],
   "source": [
    "println(mean(results_1000[7,:]))\n",
    "lambda_1000 = exp(mean(results_1000[7,:]))/(1 + exp(mean(results_1000[7,:])))\n",
    "println(lambda_1000)\n",
    "var_200 = std(results_1000[7,:]) *exp(mean(results_1000[7,:]))/(1 + exp(mean(results_1000[7,:])))^2"
   ]
  },
  {
   "cell_type": "code",
   "execution_count": 13,
   "metadata": {},
   "outputs": [
    {
     "name": "stdout",
     "output_type": "stream",
     "text": [
      "\\begin{center}\n",
      "\\begin{table}\n",
      "\\normalsize\n",
      "\\begin{tabular}{c|c|c|c|c|c}\n",
      "& True & Mean & SD  &  Mean  & SD  \\\\\n",
      "& &  (200 obs) &  (200 obs) &  (1000 obs) &  (1000 obs)  \\\\\n",
      "\\hline \\hline\n",
      "$ \\alpha_1 $ &1 & 1.0805 & 0.525 & 1.0109 & 0.204 \\\\\n",
      "\\hline\n",
      "$ \\beta_1 $ &4 & 4.2217 & 0.804 & 4.0242 & 0.275 \\\\\n",
      "\\hline\n",
      "$ \\Delta_1 $ &-3 & -3.1663 & 0.854 & -3.0288 & 0.315 \\\\\n",
      "\\hline \\hline\n",
      "$ \\alpha_2 $ &2 & 2.0789 & 0.482 & 2.003 & 0.207 \\\\\n",
      "\\hline\n",
      "$ \\beta_2 $ &3 & 3.1749 & 0.521 & 3.0125 & 0.204 \\\\\n",
      "\\hline\n",
      "$ \\Delta_2 $ &-2 & -2.1757 & 0.686 & -2.0205 & 0.277 \\\\\n",
      "\\hline \\hline\n",
      "$ \\lambda $ &0.2689 & 0.3345 & 0.321 & 0.2699 & 0.171 \\\\\n",
      "\\hline\n",
      "\\end{tabular}\n",
      "\\end{table}\n",
      "\\end{center}\n"
     ]
    }
   ],
   "source": [
    "function print_results(params_200, params_1000)\n",
    "       \n",
    "    params_200[7,:] = exp.(params_200[7,:])./(1 .+ exp.(params_200[7,:]))\n",
    "    params_1000[7,:] = exp.(params_1000[7,:])./(1 .+ exp.(params_1000[7,:]))\n",
    "    \n",
    "    \n",
    "    println(\"\\\\begin{center}\")\n",
    "    println(\"\\\\begin{table}\")\n",
    "    println(\"\\\\normalsize\")\n",
    "    println(\"\\\\begin{tabular}{c|c|c|c|c|c}\")\n",
    "    print(\"& True & Mean & SD  &  Mean  & SD  \\\\\\\\\\n\")\n",
    "    print(\"& &  (200 obs) &  (200 obs) &  (1000 obs) &  (1000 obs)  \\\\\\\\\\n\")\n",
    "    println(\"\\\\hline \\\\hline\")\n",
    "    param_names = [\"\\$ \\\\alpha_1 \\$\",\"\\$ \\\\beta_1 \\$\", \"\\$ \\\\Delta_1 \\$\", \n",
    "        \"\\$ \\\\alpha_2 \\$\", \"\\$ \\\\beta_2 \\$\", \"\\$ \\\\Delta_2 \\$\",\"\\$ \\\\lambda \\$\" ]\n",
    "    true_param = [\"1\", \"4\", \"-3\", \"2\", \"3\", \"-2\", \"0.2689\"]\n",
    "    for i=1:7\n",
    "        print(\"$(param_names[i]) &\")\n",
    "        print(\"$(true_param[i]) &\")\n",
    "        print(\" $(round(mean(params_200[i,:]), digits=4)) &\")\n",
    "        print(\" $(round(std(params_200[i,:]), digits=3)) &\")\n",
    "        print(\" $(round(mean(params_1000[i,:]), digits=4)) &\")\n",
    "        print(\" $(round(std(params_1000[i,:]), digits=3)) \\\\\\\\\\n\")\n",
    "        if (i ==3) | (i==6)\n",
    "            println( \"\\\\hline \\\\hline\")\n",
    "        else\n",
    "            println( \"\\\\hline\")\n",
    "        end\n",
    "        \n",
    "    end\n",
    "    println(\"\\\\end{tabular}\")\n",
    "    println(\"\\\\end{table}\")\n",
    "    println(\"\\\\end{center}\")\n",
    "end\n",
    "\n",
    "print_results(results_200[:,:], results_1000[:,:])"
   ]
  },
  {
   "cell_type": "code",
   "execution_count": null,
   "metadata": {},
   "outputs": [],
   "source": []
  }
 ],
 "metadata": {
  "kernelspec": {
   "display_name": "Julia 1.0.3",
   "language": "julia",
   "name": "julia-1.0"
  },
  "language_info": {
   "file_extension": ".jl",
   "mimetype": "application/julia",
   "name": "julia",
   "version": "1.0.3"
  }
 },
 "nbformat": 4,
 "nbformat_minor": 2
}
