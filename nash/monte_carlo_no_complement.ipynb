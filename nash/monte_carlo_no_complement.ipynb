{
 "cells": [
  {
   "cell_type": "code",
   "execution_count": 1,
   "metadata": {},
   "outputs": [],
   "source": [
    "using Distributions\n",
    "using Optim"
   ]
  },
  {
   "cell_type": "code",
   "execution_count": 2,
   "metadata": {
    "scrolled": false
   },
   "outputs": [
    {
     "name": "stdout",
     "output_type": "stream",
     "text": [
      "1 1,[0 0]\n",
      "5.177318781689965 3.4095719154521937\n",
      "-----\n",
      "1 1,[1 1]\n",
      "8.177318781689966 1.4095719154521935\n",
      "-----\n",
      "1 1,[0 1]\n",
      "8.177318781689966 3.4095719154521937\n",
      "-----\n",
      "1 1,[1 0]\n",
      "5.177318781689965 1.4095719154521935\n",
      "-----\n",
      "1 1,[0 0]\n",
      "2.4861278958927513 3.8514732562526066\n",
      "-----\n",
      "1 1,[1 1]\n",
      "5.486127895892751 1.8514732562526066\n",
      "-----\n",
      "1 1,[0 1]\n",
      "5.486127895892751 3.8514732562526066\n",
      "-----\n",
      "1 1,[1 0]\n",
      "2.4861278958927513 1.8514732562526066\n",
      "-----\n",
      "0 1,[0 0]\n",
      "-3.0011739421116213 3.201450598421754\n",
      "-----\n",
      "0 1,[1 1]\n",
      "-0.0011739421116212512 1.2014505984217538\n",
      "-----\n",
      "0 1,[0 1]\n",
      "-0.0011739421116212512 3.201450598421754\n",
      "-----\n",
      "0 1,[1 0]\n",
      "-3.0011739421116213 1.2014505984217538\n",
      "-----\n",
      "0 0,[0 0]\n",
      "-4.716191175324796 -0.6080154132822213\n",
      "-----\n",
      "0 0,[1 1]\n",
      "-1.716191175324796 -2.6080154132822213\n",
      "-----\n",
      "0 0,[0 1]\n",
      "-1.716191175324796 -0.6080154132822213\n",
      "-----\n",
      "0 0,[1 0]\n",
      "-4.716191175324796 -2.6080154132822213\n",
      "-----\n",
      "1 0,[0 0]\n",
      "5.535235623329365 -0.39544693962463184\n",
      "-----\n",
      "1 0,[1 1]\n",
      "8.535235623329365 -2.395446939624632\n",
      "-----\n",
      "1 0,[0 1]\n",
      "8.535235623329365 -0.39544693962463184\n",
      "-----\n",
      "1 0,[1 0]\n",
      "5.535235623329365 -2.395446939624632\n",
      "-----\n",
      "0 1,[0 0]\n",
      "-8.018656401736152 8.86469193406725\n",
      "-----\n",
      "0 1,[1 1]\n",
      "-5.018656401736151 6.864691934067251\n",
      "-----\n",
      "0 1,[0 1]\n",
      "-5.018656401736151 8.86469193406725\n",
      "-----\n",
      "0 1,[1 0]\n",
      "-8.018656401736152 6.864691934067251\n",
      "-----\n",
      "1 1,[0 0]\n",
      "2.4065227112284657 4.885530928103291\n",
      "-----\n",
      "1 1,[1 1]\n",
      "5.406522711228466 2.8855309281032913\n",
      "-----\n",
      "1 1,[0 1]\n",
      "5.406522711228466 4.885530928103291\n",
      "-----\n",
      "1 1,[1 0]\n",
      "2.4065227112284657 2.8855309281032913\n",
      "-----\n",
      "0 1,[0 0]\n",
      "-5.2963973959712956 1.3251631862653541\n",
      "-----\n",
      "0 0,[1 1]\n",
      "-2.2963973959712956 -0.6748368137346458\n",
      "-----\n",
      "0 1,[0 1]\n",
      "-2.2963973959712956 1.3251631862653541\n",
      "-----\n",
      "0 0,[1 0]\n",
      "-5.2963973959712956 -0.6748368137346458\n",
      "-----\n",
      "1 1,[0 0]\n",
      "5.264791303655797 2.1826422142664814\n",
      "-----\n",
      "1 1,[1 1]\n",
      "8.264791303655796 0.18264221426648142\n",
      "-----\n",
      "1 1,[0 1]\n",
      "8.264791303655796 2.1826422142664814\n",
      "-----\n",
      "1 1,[1 0]\n",
      "5.264791303655797 0.18264221426648142\n",
      "-----\n",
      "1 0,[0 0]\n",
      "2.3630748766073895 -2.4405876770450052\n",
      "-----\n",
      "1 0,[1 1]\n",
      "5.363074876607389 -4.440587677045005\n",
      "-----\n",
      "1 0,[0 1]\n",
      "5.363074876607389 -2.4405876770450052\n",
      "-----\n",
      "1 0,[1 0]\n",
      "2.3630748766073895 -4.440587677045005\n",
      "-----\n",
      "0 1,[0 0]\n",
      "-0.9713363455954789 8.05714474136164\n",
      "-----\n",
      "1 1,[1 1]\n",
      "2.028663654404521 6.057144741361639\n",
      "-----\n",
      "1 1,[0 1]\n",
      "2.028663654404521 8.05714474136164\n",
      "-----\n",
      "0 1,[1 0]\n",
      "-0.9713363455954789 6.057144741361639\n",
      "-----\n",
      "0 1,[0 0]\n",
      "-2.4938367051317303 2.496592760946492\n",
      "-----\n",
      "1 1,[1 1]\n",
      "0.5061632948682697 0.49659276094649196\n",
      "-----\n",
      "1 1,[0 1]\n",
      "0.5061632948682697 2.496592760946492\n",
      "-----\n",
      "0 1,[1 0]\n",
      "-2.4938367051317303 0.49659276094649196\n",
      "-----\n",
      "0 1,[0 0]\n",
      "-0.8375867579560379 0.21989221881864207\n",
      "-----\n",
      "1 0,[1 1]\n",
      "2.162413242043962 -1.780107781181358\n",
      "-----\n",
      "1 1,[0 1]\n",
      "2.162413242043962 0.21989221881864207\n",
      "-----\n",
      "0 0,[1 0]\n",
      "-0.8375867579560379 -1.780107781181358\n",
      "-----\n"
     ]
    },
    {
     "ename": "BoundsError",
     "evalue": "BoundsError: attempt to access 0-element Array{Any,1} at index [1]",
     "output_type": "error",
     "traceback": [
      "BoundsError: attempt to access 0-element Array{Any,1} at index [1]",
      "",
      "Stacktrace:",
      " [1] getindex at ./array.jl:731 [inlined]",
      " [2] generate_data(::Int64) at ./In[2]:31",
      " [3] top-level scope at In[2]:40"
     ]
    }
   ],
   "source": [
    "function generate_data(N)\n",
    "    delta1, delta2 = 3 , -2\n",
    "    beta1, beta2 = [1 4], [2 3]\n",
    "    rho = -2\n",
    "    lambda = exp(rho)/(1+exp(rho))\n",
    "\n",
    "    Y = zeros(N,2)\n",
    "    X = zeros(N,2)\n",
    "\n",
    "    for i=1:N\n",
    "        x1,x2 = rand(Normal(0.0, 1.0),3)\n",
    "        e1,e2 = rand(Logistic(),2)\n",
    "        select = rand(Categorical([lambda, (1-lambda)]))\n",
    "\n",
    "        #see logit response i.e. definitely 11\n",
    "        eq = []\n",
    "        for y_init=[[0 0],[1 1],[0 1],[1 0]]\n",
    "            y1,y2 = sum(beta1.*[1 x1]) + delta1*y_init[2] + e1 >= 0, sum(beta2.*[1 x2]) +delta2*y_init[1] + e2 >= 0\n",
    "\n",
    "            if true\n",
    "                println( \"$(1*y1) $(1*y2),$(y_init)\" )\n",
    "                println(sum(beta1.*[1 x1]) + delta1*y_init[2] + e1,\" \", sum(beta2.*[1 x2]) +delta2*y_init[1] + e2)\n",
    "                println(\"-----\")\n",
    "            end\n",
    "\n",
    "            if (y1==y_init[1]) & (y2==y_init[2])\n",
    "                append!(eq,[y_init])\n",
    "            end\n",
    "        end\n",
    "        \n",
    "        y1, y2 = eq[1]\n",
    "        if size(eq)[1] >= 2\n",
    "            y1, y2 = eq[select]\n",
    "        end\n",
    "        Y[i,:] =[y1 y2]\n",
    "        X[i,:] =[x1 x2]\n",
    "    end\n",
    "    return Y,X\n",
    "end\n",
    "\n",
    "Y,X = generate_data(200)"
   ]
  },
  {
   "cell_type": "code",
   "execution_count": 11,
   "metadata": {
    "scrolled": false
   },
   "outputs": [
    {
     "ename": "BoundsError",
     "evalue": "BoundsError: attempt to access 0-element Array{Any,1} at index [1]",
     "output_type": "error",
     "traceback": [
      "BoundsError: attempt to access 0-element Array{Any,1} at index [1]",
      "",
      "Stacktrace:",
      " [1] getindex at ./array.jl:731 [inlined]",
      " [2] generate_data(::Int64) at ./In[8]:31",
      " [3] top-level scope at In[11]:29"
     ]
    }
   ],
   "source": [
    "function ll_obj(params;xs=0,ys=0)\n",
    "    n = size(X)[1]\n",
    "    k = Integer(size(X)[2]/2) + 1\n",
    "    p = []\n",
    "    \n",
    "    for bound=[[0,0],[1,1],[0,1],[1,0]]\n",
    "        util1 = params[1] .+ xs[:,1].*params[2]  .+ bound[2].*params[3]\n",
    "        util2 = params[4] .+ xs[:,2].*params[5]  .+ bound[1].*params[6]\n",
    "        prob = exp.(util1).^(bound[1])./(1 .+ exp.(util1))\n",
    "        prob = prob .* exp.(util2).^(bound[2])./(1 .+ exp.(util2))\n",
    "        append!(p,[prob])\n",
    "    end\n",
    "    \n",
    "    p00 = (1 .- ys[:,1]).*(1 .- ys[:,2])\n",
    "    p11 = ys[:,1].*ys[:,2]\n",
    "    p10 = ys[:,1].* (1 .- ys[:,2])\n",
    "    p01 = (1 .- ys[:,1]) .* ys[:,2]\n",
    "    \n",
    "    #lambda = exp(params[7])/(1+exp(params[7]))\n",
    "    lambda = 1\n",
    "    \n",
    "    ll = p00 .* p[1] + p11 .*p[2]\n",
    "    ll = ll .+ p01 .* ( lambda .* p[3] + (1-lambda).*(1 .- p[1] .- p[2] .- p[4] ) )\n",
    "    ll = ll .+ p10 .* ( (1-lambda) .* p[4] + lambda.*(1 .- p[1] .- p[2] .- p[3] ) )\n",
    "\n",
    "    return -sum(log.(max.(ll,0)))    \n",
    "end\n",
    "\n",
    "Y,X = generate_data(200)\n",
    "print(X,Y)\n",
    "ll_obj([1 4 -3 2 3 2 -1];xs=X,ys=Y)"
   ]
  },
  {
   "cell_type": "code",
   "execution_count": 6,
   "metadata": {},
   "outputs": [
    {
     "ename": "UndefVarError",
     "evalue": "UndefVarError: X not defined",
     "output_type": "error",
     "traceback": [
      "UndefVarError: X not defined",
      "",
      "Stacktrace:",
      " [1] top-level scope at In[6]:5"
     ]
    }
   ],
   "source": [
    "function maximum_likelihood(params;xs=0,ys=0)\n",
    "    ll_trial(params) = ll_obj(params;xs=xs,ys=ys)\n",
    "    return optimize(ll_trial, params, LBFGS())\n",
    "end\n",
    "\n",
    "result =  maximum_likelihood([1 4 -3 2 3 -2 -1.];xs=X,ys=Y)\n",
    "print(result.minimizer)\n",
    "print(result.minimum)"
   ]
  },
  {
   "cell_type": "code",
   "execution_count": 5,
   "metadata": {},
   "outputs": [
    {
     "data": {
      "text/plain": [
       "([1.04422 1.73388 … 1.4266 0.965539; 5.14216 4.23158 … 3.6236 3.33035; … ; -2.19754 -2.04235 … -1.59631 -2.62597; -25.1336 -0.617818 … -24.2954 -1.24622], [1.09906 0.909652 … 1.53894 0.88531; 3.86996 3.84547 … 4.85064 4.08251; … ; -2.36363 -2.13283 … -1.81146 -1.82162; -2.04263 -3.05238 … -2.00537 -23.5485])"
      ]
     },
     "execution_count": 5,
     "metadata": {},
     "output_type": "execute_result"
    }
   ],
   "source": [
    "function monte_carlo()\n",
    "    trials = 400\n",
    "    params_200 = zeros((7,trials))\n",
    "    params_1000 = zeros((7,trials))\n",
    "    for i =1:trials\n",
    "        Y_200, X_200 = generate_data(200)\n",
    "        trial_200 = maximum_likelihood([1 4 -3 2 3 -2 -1.];xs=X_200,ys=Y_200)\n",
    "        params_200[:,i] = trial_200.minimizer\n",
    "        \n",
    "        Y_1000, X_1000 = generate_data(1000)\n",
    "        trial_1000 = maximum_likelihood([1 4 -3 2 3 -2 -1.];xs=X_1000,ys=Y_1000)\n",
    "        params_1000[:,i] = trial_1000.minimizer\n",
    "    end\n",
    "    return params_200,params_1000\n",
    "end\n",
    "\n",
    "results_200,results_1000 = monte_carlo()"
   ]
  },
  {
   "cell_type": "code",
   "execution_count": 15,
   "metadata": {},
   "outputs": [
    {
     "name": "stdout",
     "output_type": "stream",
     "text": [
      "-9.456451128415672\n",
      "7.817745048836213e-5\n"
     ]
    },
    {
     "data": {
      "text/plain": [
       "0.0010853947270296244"
      ]
     },
     "execution_count": 15,
     "metadata": {},
     "output_type": "execute_result"
    }
   ],
   "source": [
    "println(mean(results_200[7,:]))\n",
    "lambda_200 = exp(mean(results_200[7,:]))/(1 + exp(mean(results_200[7,:])))\n",
    "println(lambda_200)\n",
    "var_200 = std(results_200[7,:]) *exp(mean(results_200[7,:]))/(1 + exp(mean(results_200[7,:])))^2"
   ]
  },
  {
   "cell_type": "code",
   "execution_count": 16,
   "metadata": {},
   "outputs": [
    {
     "name": "stdout",
     "output_type": "stream",
     "text": [
      "-7.367289431055386\n",
      "0.0006311791574525345\n"
     ]
    },
    {
     "data": {
      "text/plain": [
       "0.006119240674747745"
      ]
     },
     "execution_count": 16,
     "metadata": {},
     "output_type": "execute_result"
    }
   ],
   "source": [
    "println(mean(results_1000[7,:]))\n",
    "lambda_1000 = exp(mean(results_1000[7,:]))/(1 + exp(mean(results_1000[7,:])))\n",
    "println(lambda_1000)\n",
    "var_200 = std(results_1000[7,:]) *exp(mean(results_1000[7,:]))/(1 + exp(mean(results_1000[7,:])))^2"
   ]
  },
  {
   "cell_type": "code",
   "execution_count": 17,
   "metadata": {},
   "outputs": [
    {
     "name": "stdout",
     "output_type": "stream",
     "text": [
      "\\begin{center}\n",
      "\\begin{table}\n",
      "\\normalsize\n",
      "\\begin{tabular}{c|c|c|c|c|c}\n",
      "& True & Mean & SD  &  Mean  & SD  \\\\\n",
      "& &  (200 obs) &  (200 obs) &  (1000 obs) &  (1000 obs)  \\\\\n",
      "\\hline \\hline\n",
      "$ \\alpha_1 $ &1 & 1.1764 & 0.536 & 1.0412 & 0.224 \\\\\n",
      "\\hline\n",
      "$ \\beta_1 $ &4 & 4.3211 & 0.815 & 4.0567 & 0.28 \\\\\n",
      "\\hline\n",
      "$ \\Delta_1 $ &-3 & -3.2811 & 0.867 & -3.0593 & 0.349 \\\\\n",
      "\\hline \\hline\n",
      "$ \\alpha_2 $ &2 & 2.0197 & 0.462 & 2.0189 & 0.211 \\\\\n",
      "\\hline\n",
      "$ \\beta_2 $ &3 & 3.1135 & 0.53 & 3.0438 & 0.209 \\\\\n",
      "\\hline\n",
      "$ \\Delta_2 $ &-2 & -2.0867 & 0.606 & -2.0502 & 0.252 \\\\\n",
      "\\hline \\hline\n",
      "$ \\lambda $ &.25 & 0.2447 & 0.301 & 0.149 & 0.15 \\\\\n",
      "\\hline\n",
      "\\end{tabular}\n",
      "\\end{table}\n",
      "\\end{center}\n"
     ]
    }
   ],
   "source": [
    "function print_results(params_200, params_1000)\n",
    "       \n",
    "    params_200[7,:] = exp.(params_200[7,:])./(1 .+ exp.(params_200[7,:]))\n",
    "    params_1000[7,:] = exp.(params_1000[7,:])./(1 .+ exp.(params_1000[7,:]))\n",
    "    \n",
    "    println(\"\\\\begin{center}\")\n",
    "    println(\"\\\\begin{table}\")\n",
    "    println(\"\\\\normalsize\")\n",
    "    println(\"\\\\begin{tabular}{c|c|c|c|c|c}\")\n",
    "    print(\"& True & Mean & SD  &  Mean  & SD  \\\\\\\\\\n\")\n",
    "    print(\"& &  (200 obs) &  (200 obs) &  (1000 obs) &  (1000 obs)  \\\\\\\\\\n\")\n",
    "    println(\"\\\\hline \\\\hline\")\n",
    "    param_names = [\"\\$ \\\\alpha_1 \\$\",\"\\$ \\\\beta_1 \\$\", \"\\$ \\\\Delta_1 \\$\", \n",
    "        \"\\$ \\\\alpha_2 \\$\", \"\\$ \\\\beta_2 \\$\", \"\\$ \\\\Delta_2 \\$\",\"\\$ \\\\lambda \\$\" ]\n",
    "    true_param = [\"1\", \"4\", \"-3\", \"2\", \"3\", \"-2\", \".25\"]\n",
    "    for i=1:7\n",
    "        print(\"$(param_names[i]) &\")\n",
    "        print(\"$(true_param[i]) &\")\n",
    "        print(\" $(round(mean(params_200[i,:]), digits=4)) &\")\n",
    "        print(\" $(round(std(params_200[i,:]), digits=3)) &\")\n",
    "        print(\" $(round(mean(params_1000[i,:]), digits=4)) &\")\n",
    "        print(\" $(round(std(params_1000[i,:]), digits=3)) \\\\\\\\\\n\")\n",
    "        if (i ==3) | (i==6)\n",
    "            println( \"\\\\hline \\\\hline\")\n",
    "        else\n",
    "            println( \"\\\\hline\")\n",
    "        end\n",
    "        \n",
    "    end\n",
    "    println(\"\\\\end{tabular}\")\n",
    "    println(\"\\\\end{table}\")\n",
    "    println(\"\\\\end{center}\")\n",
    "end\n",
    "\n",
    "print_results(results_200[:,:], results_1000[:,:])"
   ]
  },
  {
   "cell_type": "code",
   "execution_count": null,
   "metadata": {},
   "outputs": [],
   "source": []
  }
 ],
 "metadata": {
  "kernelspec": {
   "display_name": "Julia 1.0.5",
   "language": "julia",
   "name": "julia-1.0"
  },
  "language_info": {
   "file_extension": ".jl",
   "mimetype": "application/julia",
   "name": "julia",
   "version": "1.0.5"
  }
 },
 "nbformat": 4,
 "nbformat_minor": 2
}
