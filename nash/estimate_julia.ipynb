{
 "cells": [
  {
   "cell_type": "code",
   "execution_count": 3,
   "metadata": {},
   "outputs": [
    {
     "name": "stdout",
     "output_type": "stream",
     "text": [
      "\u001b[32m\u001b[1m Resolving\u001b[22m\u001b[39m package versions...\n",
      "\u001b[32m\u001b[1m  Updating\u001b[22m\u001b[39m `~/.julia/environments/v1.0/Project.toml`\n",
      "\u001b[90m [no changes]\u001b[39m\n",
      "\u001b[32m\u001b[1m  Updating\u001b[22m\u001b[39m `~/.julia/environments/v1.0/Manifest.toml`\n",
      "\u001b[90m [no changes]\u001b[39m\n",
      "\u001b[32m\u001b[1m Resolving\u001b[22m\u001b[39m package versions...\n",
      "\u001b[32m\u001b[1m Installed\u001b[22m\u001b[39m WeakRefStrings ─ v0.6.2\n",
      "\u001b[32m\u001b[1m Installed\u001b[22m\u001b[39m FilePathsBase ── v0.7.0\n",
      "\u001b[32m\u001b[1m Installed\u001b[22m\u001b[39m CSV ──────────── v0.6.0\n",
      "\u001b[32m\u001b[1m  Updating\u001b[22m\u001b[39m `~/.julia/environments/v1.0/Project.toml`\n",
      " \u001b[90m [336ed68f]\u001b[39m\u001b[92m + CSV v0.6.0\u001b[39m\n",
      "\u001b[32m\u001b[1m  Updating\u001b[22m\u001b[39m `~/.julia/environments/v1.0/Manifest.toml`\n",
      " \u001b[90m [336ed68f]\u001b[39m\u001b[92m + CSV v0.6.0\u001b[39m\n",
      " \u001b[90m [48062228]\u001b[39m\u001b[92m + FilePathsBase v0.7.0\u001b[39m\n",
      " \u001b[90m [ea10d353]\u001b[39m\u001b[92m + WeakRefStrings v0.6.2\u001b[39m\n"
     ]
    },
    {
     "name": "stderr",
     "output_type": "stream",
     "text": [
      "┌ Info: Precompiling CSV [336ed68f-0bac-5ca0-87d4-7b16caf5d00b]\n",
      "└ @ Base loading.jl:1192\n",
      "┌ Warning: Module Parsers with build ID 809019240130 is missing from the cache.\n",
      "│ This may mean Parsers [69de0a69-1ddd-5017-9359-2bf0b02dc9f0] does not support precompilation but is imported by a module that does.\n",
      "└ @ Base loading.jl:947\n",
      "┌ Info: Precompiling WeakRefStrings [ea10d353-3f73-51f8-a26c-33c1cb351aa5]\n",
      "└ @ Base loading.jl:1192\n",
      "┌ Info: Precompiling FilePathsBase [48062228-2e41-5def-b9a4-89aafe57970f]\n",
      "└ @ Base loading.jl:1192\n"
     ]
    }
   ],
   "source": [
    "using Pkg\n",
    "using Random, Distributions\n",
    "using PyPlot\n",
    "using Optim\n",
    "Pkg.add(\"DataFrames\")\n",
    "using DataFrames\n",
    "Pkg.add(\"CSV\")\n",
    "using CSV"
   ]
  },
  {
   "cell_type": "code",
   "execution_count": 6,
   "metadata": {},
   "outputs": [
    {
     "ename": "MethodError",
     "evalue": "MethodError: no method matching Parsers.Options(::Missing, ::UInt8, ::UInt8, ::UInt8, ::UInt8, ::UInt8, ::UInt8, ::UInt8, ::Nothing, ::Nothing, ::Nothing, ::Bool, ::Bool, ::Nothing, ::Bool, ::Bool, ::Bool, ::Bool)\nClosest candidates are:\n  Parsers.Options(::Union{Missing, Nothing, Array{String,1}}, ::Union{Char, UInt8}, ::Union{Char, UInt8}, ::Union{Char, UInt8}, ::Union{Char, UInt8}, ::Union{Char, UInt8}, ::Union{Nothing, Char, UInt8, String}, ::Union{Char, UInt8}, ::Union{Nothing, Array{String,1}}, ::Union{Nothing, Array{String,1}}, ::Union{Nothing, String, DateFormat}, ::Any, ::Any, ::Any, ::Any, ::Any) at /home/erichschulman/.julia/packages/Parsers/GLY4Q/src/Parsers.jl:60\n  Parsers.Options(::Union{Missing, Nothing, Array{String,1}}, ::Union{Char, UInt8}, ::Union{Char, UInt8}, ::Union{Char, UInt8}, ::Union{Char, UInt8}, ::Union{Char, UInt8}, ::Union{Nothing, Char, UInt8, String}, ::Union{Char, UInt8}, ::Union{Nothing, Array{String,1}}, ::Union{Nothing, Array{String,1}}, ::Union{Nothing, String, DateFormat}, ::Any, ::Any, ::Any, ::Any) at /home/erichschulman/.julia/packages/Parsers/GLY4Q/src/Parsers.jl:60\n  Parsers.Options(::Union{Missing, Nothing, Array{String,1}}, ::Union{Char, UInt8}, ::Union{Char, UInt8}, ::Union{Char, UInt8}, ::Union{Char, UInt8}, ::Union{Char, UInt8}, ::Union{Nothing, Char, UInt8, String}, ::Union{Char, UInt8}, ::Union{Nothing, Array{String,1}}, ::Union{Nothing, Array{String,1}}, ::Union{Nothing, String, DateFormat}, ::Any, ::Any, ::Any) at /home/erichschulman/.julia/packages/Parsers/GLY4Q/src/Parsers.jl:60",
     "output_type": "error",
     "traceback": [
      "MethodError: no method matching Parsers.Options(::Missing, ::UInt8, ::UInt8, ::UInt8, ::UInt8, ::UInt8, ::UInt8, ::UInt8, ::Nothing, ::Nothing, ::Nothing, ::Bool, ::Bool, ::Nothing, ::Bool, ::Bool, ::Bool, ::Bool)\nClosest candidates are:\n  Parsers.Options(::Union{Missing, Nothing, Array{String,1}}, ::Union{Char, UInt8}, ::Union{Char, UInt8}, ::Union{Char, UInt8}, ::Union{Char, UInt8}, ::Union{Char, UInt8}, ::Union{Nothing, Char, UInt8, String}, ::Union{Char, UInt8}, ::Union{Nothing, Array{String,1}}, ::Union{Nothing, Array{String,1}}, ::Union{Nothing, String, DateFormat}, ::Any, ::Any, ::Any, ::Any, ::Any) at /home/erichschulman/.julia/packages/Parsers/GLY4Q/src/Parsers.jl:60\n  Parsers.Options(::Union{Missing, Nothing, Array{String,1}}, ::Union{Char, UInt8}, ::Union{Char, UInt8}, ::Union{Char, UInt8}, ::Union{Char, UInt8}, ::Union{Char, UInt8}, ::Union{Nothing, Char, UInt8, String}, ::Union{Char, UInt8}, ::Union{Nothing, Array{String,1}}, ::Union{Nothing, Array{String,1}}, ::Union{Nothing, String, DateFormat}, ::Any, ::Any, ::Any, ::Any) at /home/erichschulman/.julia/packages/Parsers/GLY4Q/src/Parsers.jl:60\n  Parsers.Options(::Union{Missing, Nothing, Array{String,1}}, ::Union{Char, UInt8}, ::Union{Char, UInt8}, ::Union{Char, UInt8}, ::Union{Char, UInt8}, ::Union{Char, UInt8}, ::Union{Nothing, Char, UInt8, String}, ::Union{Char, UInt8}, ::Union{Nothing, Array{String,1}}, ::Union{Nothing, Array{String,1}}, ::Union{Nothing, String, DateFormat}, ::Any, ::Any, ::Any) at /home/erichschulman/.julia/packages/Parsers/GLY4Q/src/Parsers.jl:60",
      "",
      "Stacktrace:",
      " [1] file(::String, ::Int64, ::Bool, ::Int64, ::Nothing, ::Int64, ::Int64, ::Bool, ::Nothing, ::Bool, ::Bool, ::Nothing, ::Nothing, ::Nothing, ::Array{String,1}, ::String, ::Nothing, ::Bool, ::Char, ::Nothing, ::Nothing, ::Char, ::Nothing, ::UInt8, ::Nothing, ::Nothing, ::Nothing, ::Nothing, ::Dict{Int8,Int8}, ::Bool, ::Float64, ::Bool, ::Bool, ::Bool, ::Bool, ::Nothing) at /home/erichschulman/.julia/packages/CSV/7Dav7/src/CSV.jl:388",
      " [2] #File#15(::Int64, ::Bool, ::Int64, ::Nothing, ::Int64, ::Int64, ::Bool, ::Nothing, ::Bool, ::Bool, ::Nothing, ::Nothing, ::Nothing, ::Array{String,1}, ::String, ::Nothing, ::Bool, ::Char, ::Nothing, ::Nothing, ::Char, ::Nothing, ::UInt8, ::Nothing, ::Nothing, ::Nothing, ::Nothing, ::Dict{Int8,Int8}, ::Bool, ::Float64, ::Bool, ::Bool, ::Bool, ::Bool, ::Nothing, ::Type, ::String) at /home/erichschulman/.julia/packages/CSV/7Dav7/src/CSV.jl:262",
      " [3] CSV.File(::String) at /home/erichschulman/.julia/packages/CSV/7Dav7/src/CSV.jl:262",
      " [4] #read#68(::Bool, ::Base.Iterators.Pairs{Union{},Union{},Tuple{},NamedTuple{(),Tuple{}}}, ::Function, ::String) at /home/erichschulman/.julia/packages/CSV/7Dav7/src/CSV.jl:1150",
      " [5] read(::String) at /home/erichschulman/.julia/packages/CSV/7Dav7/src/CSV.jl:1150",
      " [6] top-level scope at In[6]:1"
     ]
    }
   ],
   "source": [
    "data = CSV.read(\"monte_carlo.csv\");\n",
    "head(data)"
   ]
  },
  {
   "cell_type": "code",
   "execution_count": null,
   "metadata": {},
   "outputs": [],
   "source": [
    "function ll_obj(params)\n",
    "    n = self.exog.shape[0]\n",
    "    k = int(self.exog.shape[1]/2)\n",
    "\n",
    "    #calculate the utility from each action\n",
    "    u1 = np.dot(self.exog[:,0:k], params[0:k])  + params[k]*self.endog[:,1]\n",
    "    u2 = np.dot(self.exog[:,k:], params[k+1:2*k+1]) + params[2*k+1]*self.endog[:,0]\n",
    "        \n",
    "    #calculate the log-likelihood\n",
    "    ll = self.endog[:,0]*(u1) + self.endog[:,1]*(u2)\n",
    "    ll = ll - np.log(1.+np.exp(u1)) - np.log(1.+np.exp(u2))\n",
    "                                      \n",
    "    #adjust for eq selection\n",
    "    mult1 = self.endog[:,0]*(1-self.endog[:,1])\n",
    "    mult = self.endog[:,0]*(1-self.endog[:,1]) + self.endog[:,1]*(1-self.endog[:,0])\n",
    "        \n",
    "    ll = mult1*params[2*k+2] - mult*np.log( 1+ np.exp(params[2*k+2]) )\n",
    "    print(ll.sum()/n)\n",
    "        \n",
    "    return - ll.sum()/n\n",
    "end"
   ]
  }
 ],
 "metadata": {
  "kernelspec": {
   "display_name": "Julia 1.0.3",
   "language": "julia",
   "name": "julia-1.0"
  },
  "language_info": {
   "file_extension": ".jl",
   "mimetype": "application/julia",
   "name": "julia",
   "version": "1.0.3"
  }
 },
 "nbformat": 4,
 "nbformat_minor": 2
}
