{
 "cells": [
  {
   "cell_type": "code",
   "execution_count": null,
   "metadata": {},
   "outputs": [],
   "source": [
    "using Distributions\n",
    "using Optim"
   ]
  },
  {
   "cell_type": "code",
   "execution_count": null,
   "metadata": {},
   "outputs": [],
   "source": [
    "function generate_data(N)\n",
    "    delta1, delta2 = -3 , -2\n",
    "    beta1, beta2 = [1 4], [2 3]\n",
    "    rho = -2\n",
    "    lambda = exp(rho)/(1+exp(rho))\n",
    "\n",
    "    Y = zeros(N,3)\n",
    "    X = zeros(N,3)\n",
    "\n",
    "    for i=1:N\n",
    "        x1,x2 = rand(Normal(0.0, 1.0),3)\n",
    "        e1,e2 = rand(Logistic(),2)\n",
    "        select = rand(Categorical([lambda, (1-lambda)]))\n",
    "\n",
    "        #see logit response i.e. definitely 11\n",
    "        eq = []\n",
    "        for y_init=[[0 0],[1 1],[0 1],[1 0]]\n",
    "            y1,y2 = sum(beta1.*[1 x1]) + delta1*y_init[2] + e1 >= 0, sum(beta2.*[1 x2]) +delta2*y_init[1] + e2 >= 0\n",
    "\n",
    "            if false\n",
    "                println( \"$(1*y1) $(1*y2),$(y_init)\" )\n",
    "                println(sum(beta1.*[1 x1]) + delta1*y_init[2] + e1,\" \", sum(beta2.*[1 x2]) +delta2*y_init[1] + e2)\n",
    "                println(\"-----\")\n",
    "            end\n",
    "\n",
    "            if (y1==y_init[1]) & (y2==y_init[2])\n",
    "                append!(eq,[y_init])\n",
    "            end\n",
    "        end\n",
    "        \n",
    "        y1, y2 = eq[1]\n",
    "        if size(eq)[1] >= 2\n",
    "            y1, y2 = eq[select]\n",
    "        end\n",
    "        Y[i,:] =[y1 y2]\n",
    "        X[i,:] =[x1 x2]\n",
    "    end\n",
    "    return Y,X\n",
    "end\n"
   ]
  }
 ],
 "metadata": {
  "kernelspec": {
   "display_name": "Julia 1.0.3",
   "language": "julia",
   "name": "julia-1.0"
  },
  "language_info": {
   "file_extension": ".jl",
   "mimetype": "application/julia",
   "name": "julia",
   "version": "1.0.3"
  }
 },
 "nbformat": 4,
 "nbformat_minor": 2
}
