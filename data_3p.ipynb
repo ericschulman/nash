{
 "cells": [
  {
   "cell_type": "code",
   "execution_count": 6,
   "metadata": {},
   "outputs": [],
   "source": [
    "using Distributions\n",
    "using Optim"
   ]
  },
  {
   "cell_type": "code",
   "execution_count": 15,
   "metadata": {
    "scrolled": false
   },
   "outputs": [
    {
     "name": "stdout",
     "output_type": "stream",
     "text": [
      "[0.6, 0.7, 0.8][-3.0, -3.5, -4.0]\n",
      "Any[[0, 1], [0, 1], [0, 1]] Any[Any[], Any[], Any[]]"
     ]
    },
    {
     "data": {
      "text/plain": [
       "([1.0; 1.0; 0.0], [0.160328; -0.419196; 0.962927])"
      ]
     },
     "execution_count": 15,
     "metadata": {},
     "output_type": "execute_result"
    }
   ],
   "source": [
    "function generate_obs(n, params; rho = -2, verbose=false)\n",
    "    \n",
    "    delta = params[1:n]\n",
    "    beta = params[n+1:2*n]    \n",
    "    lambda = exp(rho)/(1+exp(rho))\n",
    "    \n",
    "    x= rand(Normal(0.0, 1.0),n)\n",
    "    e = rand(Logistic(),n)\n",
    "    \n",
    "    a = []\n",
    "    a_next = []\n",
    "    for i=1:n\n",
    "        append!(a_next,[[]])\n",
    "        append!(a,[[0,1]])\n",
    "    end\n",
    "    eq = false\n",
    "    \n",
    "    u_lower = zeros(n)\n",
    "    u_upper = zeros(n)\n",
    "    \n",
    "    print(a, \" \", a_next)\n",
    "    #iterative best responses\n",
    "    while !eq\n",
    "        eq = true\n",
    "        #compute upper and lower bounds on utility...\n",
    "        u_lower = beta.*x .+ e\n",
    "        u_upper = u_lower[:]\n",
    "        \n",
    "        #compute correct bounds for each player\n",
    "        for i=1:n\n",
    "            for j=1:(n-1)\n",
    "                j_index = mod(i+j-1,n)+1\n",
    "                u_upper[i] = u_upper[i] + delta[i]*maximum(a[j_index])\n",
    "                u_lower[i] = u_lower[i] + delta[i]*minimum(a[j_index])\n",
    "            end\n",
    "            \n",
    "            #check to see if 0 or 1 is undominated\n",
    "            if u_lower[i] <=0\n",
    "                a_next[i] = append!(a_next[i],0)\n",
    "            end\n",
    "                \n",
    "            if u_upper[i] >=0\n",
    "                a_next[i] = append!(a_next[i],1)\n",
    "            end\n",
    "            if verbose\n",
    "                println(i,\" \", a[i],\" \", a_next[i],\" \", (a_next[i] == a[i]),  \" \", eq)\n",
    "            end\n",
    "            eq = eq & (a_next[i] == a[i])\n",
    "        end\n",
    "        if verbose\n",
    "            println(\"----\")\n",
    "        end\n",
    "        a =  a_next\n",
    "        a_next = []\n",
    "        for i=1:n\n",
    "            append!(a_next,[[]])\n",
    "        end\n",
    "    end\n",
    "    \n",
    "    #reshape a correctly/select equilibria if mult\n",
    "    a_return = zeros(n)\n",
    "    select = rand(Categorical([lambda, (1-lambda)]))\n",
    "    \n",
    "    for i=1:n\n",
    "        a_return[i] = a[i][1]\n",
    "        #multiple eq\n",
    "        if length(a[i])>1\n",
    "            if verbose\n",
    "                println(u_upper,u_lower)\n",
    "                println(a)\n",
    "            end\n",
    "            a_return[i] = a[i][select]\n",
    "            if verbose\n",
    "                println(select,\" \", a_return)\n",
    "                println(\"----\")\n",
    "            end\n",
    "        end\n",
    "        \n",
    "    end\n",
    "    \n",
    "    return a_return,x\n",
    "end\n",
    "\n",
    "\n",
    "function gen_data(N;n=3,params= [.6, .7, .8, -3,-3.5,-4])\n",
    "    Y = zeros(n,N)\n",
    "    X = zeros(n,N)\n",
    "    for i=1:N\n",
    "        y,x = generate_obs(n,params)\n",
    "        Y[:,i] = y\n",
    "        X[:,i] = x\n",
    "    end\n",
    "    return Y,X\n",
    "end\n",
    "\n",
    "gen_data(1;n=2,params=[])"
   ]
  },
  {
   "cell_type": "code",
   "execution_count": 5,
   "metadata": {},
   "outputs": [
    {
     "name": "stdout",
     "output_type": "stream",
     "text": [
      "Any[Any[], Any[], Any[]]\n"
     ]
    }
   ],
   "source": []
  },
  {
   "cell_type": "code",
   "execution_count": null,
   "metadata": {},
   "outputs": [],
   "source": []
  }
 ],
 "metadata": {
  "kernelspec": {
   "display_name": "Julia 1.0.3",
   "language": "julia",
   "name": "julia-1.0"
  },
  "language_info": {
   "file_extension": ".jl",
   "mimetype": "application/julia",
   "name": "julia",
   "version": "1.0.3"
  }
 },
 "nbformat": 4,
 "nbformat_minor": 2
}
